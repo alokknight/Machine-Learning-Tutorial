{
 "cells": [
  {
   "cell_type": "code",
   "execution_count": 28,
   "metadata": {},
   "outputs": [
    {
     "name": "stdout",
     "output_type": "stream",
     "text": [
      "estimate estimated coefficents:\n",
      "\n",
      "slope m = 0.8505154639175257\n",
      "y-intercept c=  2.772680412371134\n",
      "y= 0.8505154639175257 *x+ 2.772680412371134\n"
     ]
    },
    {
     "data": {
      "image/png": "[encoded data removed]",
      "text/plain": [
       "<Figure size 432x288 with 1 Axes>"
      ]
     },
     "metadata": {
      "needs_background": "light"
     },
     "output_type": "display_data"
    }
   ],
   "source": [
    "import numpy as np\n",
    "import matplotlib.pyplot as plt\n",
    "def estimate_coef(x,y):\n",
    "    #number of observations/points\n",
    "    n=np.size(x)\n",
    "\n",
    "    # mean of x and y vector\n",
    "    m_x=np.mean(x)\n",
    "    m_y=np.mean(y)\n",
    "\n",
    "    # calculatin cross-deviation and deviation about\n",
    "    ss_xx=np.sum(x*y)-n*m_x*m_y\n",
    "    ss_xy=np.sum(x*x)-n*m_x*m_x\n",
    "\n",
    "\n",
    "    m=ss_xy/ss_xx\n",
    "    c=  m_y - m*m_x\n",
    "    return[m,c]      #hipothesis_parameters\n",
    "\n",
    "def plot_regression_line(x,y,b):\n",
    "    plt.scatter(x,y,color=\"m\",marker=\"o\",s=30)\n",
    "    y_pred=b[0]+b[1]*x\n",
    "\n",
    "    #plotting response vector\n",
    "    plt.scatter(x,y_pred,color=\"g\")\n",
    "    plt.plot(x,y_pred,color=\"b\")\n",
    "\n",
    "    #putting the regression line\n",
    "    plt.xlabel('----x--->')\n",
    "    plt.ylabel('----y---->')\n",
    "\n",
    "    #function to show plot\n",
    "    plt.show()\n",
    "\n",
    "def startAIAlgorithm():\n",
    "    #observations\n",
    "    x=np.array([0,1,2,3,4,5,6,7,8,9])\n",
    "    y=np.array([1,3,2,5,7,8,9,10,9,12])\n",
    "    #estimating_coefficents\n",
    "    m,c=estimate_coef(x,y)  #sender Values\n",
    "    print('estimate estimated coefficents:\\n')\n",
    "    print(\"slope m =\",m)\n",
    "    print('y-intercept c= ',c)\n",
    "    print(\"y=\",m,\"*x+\",c)\n",
    "    #plotting regression_line\n",
    "    plot_regression_line(x,y,[c,m])\n",
    "\n",
    "if __name__==\"__main__\":\n",
    "    startAIAlgorithm()\n"
   ]
  },
  {
   "cell_type": "markdown",
   "metadata": {},
   "source": [
    "#### numpy support operation operation broadcasting but normal python list does not"
   ]
  },
  {
   "cell_type": "code",
   "execution_count": 29,
   "metadata": {},
   "outputs": [
    {
     "name": "stdout",
     "output_type": "stream",
     "text": [
      "list*4 [1, 2, 3, 1, 2, 3, 1, 2, 3, 1, 2, 3]\n",
      "[1 2 3]\n",
      "nparr*4= [ 4  8 12]\n",
      "nparr+4= [5 6 7]\n"
     ]
    }
   ],
   "source": [
    "\n",
    "list1=[1,2,3]\n",
    "\n",
    "#do not support operation operation broadcasting\n",
    "print(\"list*4\",list1*4)\n",
    "\n",
    "import numpy  as np\n",
    "nparr=np.array([1,2,3])\n",
    "print(nparr)\n",
    "print(\"nparr*4=\",nparr*4)\n",
    "print(\"nparr+4=\",nparr+4)"
   ]
  },
  {
   "cell_type": "code",
   "execution_count": 30,
   "metadata": {},
   "outputs": [
    {
     "name": "stdout",
     "output_type": "stream",
     "text": [
      "<class 'int'>\n",
      "<class 'float'>\n",
      "<class 'numpy.ndarray'>\n",
      "nparr.dtype float64\n",
      "nparr.size= 3\n",
      "nparr.shape= (3,)\n"
     ]
    }
   ],
   "source": [
    "a=10\n",
    "print(type(a))\n",
    "\n",
    "a=12.5\n",
    "print(type(a))\n",
    "\n",
    "import numpy as np\n",
    "nparr=np.array([1,2.0,3])\n",
    "\n",
    "print(type(nparr))\n",
    "print(\"nparr.dtype\",nparr.dtype)\n",
    "\n",
    "print(\"nparr.size=\",nparr.size)#for one dementional\n",
    "print(\"nparr.shape=\",nparr.shape)#for others"
   ]
  },
  {
   "cell_type": "code",
   "execution_count": 31,
   "metadata": {},
   "outputs": [
    {
     "name": "stdout",
     "output_type": "stream",
     "text": [
      "------------------------------------------------------------\n",
      "ddarr.ndim= 2\n",
      "ddarr.shape= (3, 3)\n",
      "ddarr.size= 9\n",
      "len(ddarr)= 3\n",
      "ddarr.dtype= object\n",
      "[[1 2 3]\n",
      " [4 5 6]\n",
      " [list([1, 2]) list([3, 4]) list([5, 6])]]\n"
     ]
    },
    {
     "name": "stderr",
     "output_type": "stream",
     "text": [
      "<ipython-input-31-f4b24c521ba8>:3: VisibleDeprecationWarning: Creating an ndarray from ragged nested sequences (which is a list-or-tuple of lists-or-tuples-or ndarrays with different lengths or shapes) is deprecated. If you meant to do this, you must specify 'dtype=object' when creating the ndarray\n",
      "  ddarr=np.array([[1,2,3],[4,5,6],[[1,2],[3,4],[5,6]]])\n"
     ]
    }
   ],
   "source": [
    "import numpy as np\n",
    "print(\"-\"*60)\n",
    "ddarr=np.array([[1,2,3],[4,5,6],[[1,2],[3,4],[5,6]]])\n",
    "\n",
    "print(\"ddarr.ndim=\",ddarr.ndim)\n",
    "\n",
    "print(\"ddarr.shape=\",ddarr.shape)#tuple wala array\n",
    "#ddarr.shape=(2L, 3L)\n",
    "print(\"ddarr.size=\" ,ddarr.size)#scalar value\n",
    "print(\"len(ddarr)=\",len(ddarr))\n",
    "\n",
    "print(\"ddarr.dtype=\",ddarr.dtype)\n",
    "\n",
    "print(ddarr)\n"
   ]
  },
  {
   "cell_type": "code",
   "execution_count": 32,
   "metadata": {},
   "outputs": [
    {
     "name": "stdout",
     "output_type": "stream",
     "text": [
      "888888888888888888888888888888888888888888888888888888888888888888888888888888888888888888888888888888888888888888888888\n",
      "ddarr[0,1]= 2\n",
      "ddarr[0]= [1 2 3]\n",
      "ddarr[2,2] [5, 6]\n",
      "888888888888888888888888888888888888888888888888888888888888888888888888888888888888888888888888888888888888888888888888\n"
     ]
    }
   ],
   "source": [
    "\n",
    "print(\"8\"*120)\n",
    "print(\"ddarr[0,1]=\",ddarr[0,1])\n",
    "print(\"ddarr[0]=\",ddarr[0])\n",
    "print(\"ddarr[2,2]\",ddarr[2,2])\n",
    "print(\"8\"*120)\n"
   ]
  },
  {
   "cell_type": "code",
   "execution_count": 33,
   "metadata": {},
   "outputs": [
    {
     "name": "stdout",
     "output_type": "stream",
     "text": [
      "ddarr[:,0]      [4 list([1, 2])]\n",
      "ddarr[1,:]=     [4 5 6]\n",
      "ddarr[0:,2]     [3 6 list([5, 6])]\n",
      "ddarr[0:2,0:3]  \n",
      " [[6]\n",
      " [list([5, 6])]]\n",
      "len(ddarr)=     3\n"
     ]
    }
   ],
   "source": [
    "\n",
    "print(\"ddarr[:,0]     \",ddarr[1:,0])\n",
    "\n",
    "print(\"ddarr[1,:]=    \",ddarr[1,:])\n",
    "print(\"ddarr[0:,2]    \",ddarr[0:,2])\n",
    "print(\"ddarr[0:2,0:3] \",\"\\n\",ddarr[1:3,2:3])\n",
    "print(\"len(ddarr)=    \",len(ddarr))"
   ]
  },
  {
   "cell_type": "code",
   "execution_count": 34,
   "metadata": {},
   "outputs": [
    {
     "name": "stdout",
     "output_type": "stream",
     "text": [
      "[[ 1  2]\n",
      " [ 3  4]\n",
      " [ 5  6]\n",
      " [ 7  8]\n",
      " [ 9 10]\n",
      " [11 12]\n",
      " [13 14]]\n",
      "shape (7, 2)\n",
      "ndim 2\n",
      "len(d1) 7\n"
     ]
    }
   ],
   "source": [
    "import numpy as np\n",
    "d1=np.array([[1,2],[3,4],[5,6],[7,8],[9,10],[11,12],[13,14]])\n",
    "print(d1)\n",
    "print(\"shape\",d1.shape)\n",
    "print('ndim',d1.ndim)\n",
    "print(\"len(d1)\",len(d1))\n"
   ]
  },
  {
   "cell_type": "code",
   "execution_count": 35,
   "metadata": {},
   "outputs": [
    {
     "name": "stdout",
     "output_type": "stream",
     "text": [
      "[[ 1  2]\n",
      " [ 3  4]\n",
      " [ 5  6]\n",
      " [ 7  8]\n",
      " [ 9 10]\n",
      " [11 12]\n",
      " [13 14]] \n",
      "\n",
      "d1[::2,0]= [ 1  5  9 13] \n",
      "\n",
      "d1[::2]=\n",
      " [[ 1  2]\n",
      " [ 5  6]\n",
      " [ 9 10]\n",
      " [13 14]] \n",
      "\n",
      "[ 4  6  8 10 12 14]\n"
     ]
    }
   ],
   "source": [
    "import numpy as np\n",
    "d1=np.array([[1,2],[3,4],[5,6],[7,8],[9,10],[11,12],[13,14]])\n",
    "print(d1,'\\n')\n",
    "\n",
    "print(\"d1[::2,0]=\",d1[::2,0],'\\n')\n",
    "\n",
    "print(\"d1[::2]=\\n\",d1[::2],'\\n')\n",
    "print(d1[1::,1])"
   ]
  },
  {
   "cell_type": "code",
   "execution_count": 36,
   "metadata": {},
   "outputs": [
    {
     "name": "stdout",
     "output_type": "stream",
     "text": [
      "Zero field array zr=\n",
      " [[0. 0. 0. 0.]\n",
      " [0. 0. 0. 0.]\n",
      " [0. 0. 0. 0.]]\n",
      "1's field array ones=\n",
      " [[1. 1. 1. 1.]\n",
      " [1. 1. 1. 1.]\n",
      " [1. 1. 1. 1.]\n",
      " [1. 1. 1. 1.]]\n",
      "1's field array threes [[3. 3. 3. 3. 3.]\n",
      " [3. 3. 3. 3. 3.]\n",
      " [3. 3. 3. 3. 3.]\n",
      " [3. 3. 3. 3. 3.]\n",
      " [3. 3. 3. 3. 3.]]\n",
      "\n",
      "zeros field array zeros+4\n",
      " [[4. 4. 4. 4. 4. 4. 4. 4. 4. 4. 4. 4.]\n",
      " [4. 4. 4. 4. 4. 4. 4. 4. 4. 4. 4. 4.]\n",
      " [4. 4. 4. 4. 4. 4. 4. 4. 4. 4. 4. 4.]]\n",
      "float64\n",
      "[[4. 4. 4. 4.]\n",
      " [4. 4. 4. 4.]\n",
      " [4. 4. 4. 4.]\n",
      " [4. 4. 4. 4.]]\n",
      "float64\n",
      "ar= [1 2 3 4 5]\n",
      "after updating  [ 1  2  3 16  5]\n"
     ]
    }
   ],
   "source": [
    "import numpy as np\n",
    "zr=np.zeros([3,4])\n",
    "print(\"Zero field array zr=\\n\",zr)\n",
    "\n",
    "ar=np.ones([4,4])\n",
    "print(\"1's field array ones=\\n\",ar)\n",
    "\n",
    "arr=np.ones([5,5])\n",
    "print(\"1's field array threes\",arr*3)\n",
    "\n",
    "arrr=np.zeros([3,12])\n",
    "print(\"\\nzeros field array zeros+4\\n\",arrr+4)\n",
    "print(arrr.dtype)\n",
    "\n",
    "print(ar*4)\n",
    "print(ar.dtype)\n",
    "#we can create numpy array from range\n",
    "ar=np.arange(1,6)\n",
    "print(\"ar=\",ar)\n",
    "\n",
    "ar[3]=16\n",
    "print(\"after updating \",ar)\n"
   ]
  },
  {
   "cell_type": "code",
   "execution_count": 37,
   "metadata": {},
   "outputs": [
    {
     "name": "stdout",
     "output_type": "stream",
     "text": [
      "arr.sum() 183.0\n",
      "arr.std() 18.092931400595834\n",
      "arr.mean() 15.25\n",
      "arr.max() 55.0\n",
      "arr.min() 0.0\n",
      "arr.size 12\n",
      "arr.shape (2, 6)\n",
      "arr.nonzero() (array([0, 0, 0, 0, 0, 1, 1, 1, 1, 1, 1], dtype=int64), array([0, 1, 2, 4, 5, 0, 1, 2, 3, 4, 5], dtype=int64))\n",
      "arr.dtype= float64\n",
      "True\n",
      "False\n",
      "True\n",
      "True\n",
      "False\n",
      "True\n"
     ]
    }
   ],
   "source": [
    "import numpy as np\n",
    "arr=np.array([[11,22,33,0.,44,55],[1,2,3,4,5,3]])\n",
    "print(\"arr.sum()\",arr.sum())\n",
    "print(\"arr.std()\",arr.std())\n",
    "print(\"arr.mean()\",arr.mean())\n",
    "print(\"arr.max()\",arr.max())\n",
    "print(\"arr.min()\",arr.min())\n",
    "print('arr.size',arr.size)\n",
    "print(\"arr.shape\",arr.shape)\n",
    "\n",
    "\n",
    "#following will print index of nonzero\n",
    "print(\"arr.nonzero()\",arr.nonzero())\n",
    "print(\"arr.dtype=\",arr.dtype)\n",
    "\n",
    "#are all element greater than zero\n",
    "print(np.all([1,2,3,4]))#True\n",
    "print(np.all([1,2,0,3,4]))#False\n",
    "\n",
    "# is any element greater than zero\n",
    "print(np.any([1,2,3,4]))#True\n",
    "print(np.any([1,2,0,3,4]))#True\n",
    "print(np.any([0,0,0,0.,0]))#False\n",
    "print(np.any([0,0,0,0.,1]))#True"
   ]
  },
  {
   "cell_type": "code",
   "execution_count": 38,
   "metadata": {},
   "outputs": [
    {
     "name": "stdout",
     "output_type": "stream",
     "text": [
      "\n",
      "\n",
      "\n",
      "n1= [4 5 6]\n",
      "n2= [1 2 3]\n",
      "n1+n2= [5 7 9]\n",
      "n1-n2= [3 3 3]\n"
     ]
    }
   ],
   "source": [
    "import numpy as np\n",
    "n1=np.array([4,5,6])\n",
    "n2=np.array([1,2,3])\n",
    "\n",
    "print(\"\\n\\n\")\n",
    "print(\"n1=\",n1)#[4,5,6]\n",
    "print(\"n2=\",n2)#[1,2,3]\n",
    "print(\"n1+n2=\",n1+n2)\n",
    "print(\"n1-n2=\",n1-n2)\n",
    "\n",
    "n3=np.array([4,5,6,7])\n",
    "#print(n1+n3)"
   ]
  },
  {
   "cell_type": "code",
   "execution_count": 39,
   "metadata": {},
   "outputs": [
    {
     "name": "stdout",
     "output_type": "stream",
     "text": [
      "before: [ 10  -1   0  90 300   3  -6   2]\n",
      "[-6, -1, 0, 2, 3, 10, 90, 300]\n",
      "after: [ 10  -1   0  90 300   3  -6   2]\n",
      "None\n",
      "after n4.sort()= [ -6  -1   0   2   3  10  90 300]\n"
     ]
    }
   ],
   "source": [
    "import numpy as np\n",
    "n4=np.array([10,-1,0,90,300,3,-6,2])\n",
    "print(\"before:\",n4)\n",
    "print(sorted(n4))#external sorting does not effect original sorting,,,it gives new array\n",
    "print(\"after:\",n4)\n",
    "print(n4.sort())#In-place sorting\n",
    "print(\"after n4.sort()=\",n4 )"
   ]
  },
  {
   "cell_type": "code",
   "execution_count": 40,
   "metadata": {},
   "outputs": [
    {
     "name": "stdout",
     "output_type": "stream",
     "text": [
      "n4= [777 555 222 111 999 666]\n",
      "n4.argsort(): [3 2 1 5 0 4]\n",
      "n4= [777 555 222 111 999 666]\n",
      "max: 999\n",
      "min 111\n",
      "[111 222 555]\n",
      "max: 999\n",
      "[111 222 555]\n",
      "111 222 555 666 777 999 [3 2 1 5 0 4]\n",
      "n4= [777 555 222 111 999 666]\n"
     ]
    }
   ],
   "source": [
    "import numpy as np\n",
    "n4=np.array([777,555,222,111,999,666])\n",
    "\n",
    "print(\"n4=\",n4)\n",
    "print(\"n4.argsort():\",n4.argsort())#[3 2 1 5 0 4]#external fun()\n",
    "print(\"n4=\",n4)\n",
    "\n",
    "indexarr=n4.argsort()\n",
    "print(\"max:\",n4[n4.argsort()[len(indexarr)-1]])\n",
    "print(\"min\",n4[indexarr[0]])\n",
    "print(n4[n4.argsort()[0:3]])\n",
    "print(\"max:\",n4[n4.argsort()[-1]])\n",
    "\n",
    "print(n4[indexarr[:3]])\n",
    "\n",
    "\n",
    "#trick one to print array insorted order\n",
    "for i in n4.argsort():\n",
    "    print(n4[i],end=\" \")\n",
    "\n",
    "#trick two to print array insorted order\n",
    "print(n4.argsort())\n",
    "print(\"n4=\",n4)"
   ]
  },
  {
   "cell_type": "code",
   "execution_count": 41,
   "metadata": {},
   "outputs": [
    {
     "name": "stdout",
     "output_type": "stream",
     "text": [
      "a+1=  [2 3 4 5]\n",
      "a=  [1 2 3 4]\n",
      "a**2=  [ 1  4  9 16]\n",
      "[1 2 3 4]\n",
      "[2. 2. 2. 2.]\n",
      "a-b: [-1.  0.  1.  2.]\n",
      "a*b: [2. 4. 6. 8.]\n",
      "2.449489742783178\n",
      "[100 101 102 103 104 105 106 107 108 109]\n",
      "[10.         10.04987562 10.09950494 10.14889157 10.19803903 10.24695077\n",
      " 10.29563014 10.34408043 10.39230485 10.44030651]\n",
      "[ 2  3  6 13 28]\n"
     ]
    }
   ],
   "source": [
    "import numpy as np\n",
    "a=np.array([1,2,3,4])\n",
    "print('a+1= ',a+1)\n",
    "print(\"a= \",a)\n",
    "print(\"a**2= \",a**2)\n",
    "\n",
    "\n",
    "#all arithmatic operates elementwise:\n",
    "a=np.array([1,2,3,4])\n",
    "b=np.ones(4)+1\n",
    "print(a)\n",
    "print(b)\n",
    "print(\"a-b:\",a-b)\n",
    "print(\"a*b:\",a*b)\n",
    "\n",
    "print(6**(1/2))\n",
    "aa=np.arange(100,110);\n",
    "print(aa)\n",
    "print(aa**.5)\n",
    "j=np.arange(5)\n",
    "print(2**(j+1)-j)"
   ]
  },
  {
   "cell_type": "code",
   "execution_count": 42,
   "metadata": {},
   "outputs": [
    {
     "name": "stdout",
     "output_type": "stream",
     "text": [
      "na=\n",
      " [[1 2 3]\n",
      " [4 5 6]]\n",
      "na.transpose()=\n",
      " [[1 4]\n",
      " [2 5]\n",
      " [3 6]]\n",
      "na=\n",
      " [[1 2 3]\n",
      " [4 5 6]]\n",
      "np.eye=\n",
      " [[1. 0. 0. 0. 0. 0.]\n",
      " [0. 1. 0. 0. 0. 0.]\n",
      " [0. 0. 1. 0. 0. 0.]\n",
      " [0. 0. 0. 1. 0. 0.]\n",
      " [0. 0. 0. 0. 1. 0.]\n",
      " [0. 0. 0. 0. 0. 1.]]\n",
      "[[3. 3. 3.]\n",
      " [3. 3. 3.]\n",
      " [3. 3. 4.]]\n",
      "\n",
      "[[1. 0. 0.]\n",
      " [0. 1. 0.]\n",
      " [0. 0. 1.]]\n",
      "\n",
      "[[3. 3. 3.]\n",
      " [3. 3. 3.]\n",
      " [3. 3. 4.]]\n",
      "na=\n",
      " [[1 2]\n",
      " [5 6]]\n",
      "* 50\n",
      "np.dat(na,na\n",
      " [[11 14]\n",
      " [35 46]]\n"
     ]
    }
   ],
   "source": [
    "import numpy as np\n",
    "na = np.array([[1,2,3],[4,5,6]])\n",
    "print(\"na=\\n\",na)\n",
    "print(\"na.transpose()=\\n\",na.transpose())\n",
    "print(\"na=\\n\",na)\n",
    "\n",
    "print(\"np.eye=\\n\",np.eye(6))\n",
    "a=np.ones([3,3])\n",
    "a=a*3\n",
    "a[2,2]=4\n",
    "I=np.eye(3)\n",
    "b=np.dot(a,I)\n",
    "print(a)\n",
    "print()\n",
    "print(I)\n",
    "print()\n",
    "print(b)\n",
    "\n",
    "na=np.array([[1,2],[5,6]])\n",
    "print(\"na=\\n\",na)\n",
    "print(\"*\",50)\n",
    "print(\"np.dat(na,na\\n\",np.dot(na,na))\n"
   ]
  },
  {
   "cell_type": "code",
   "execution_count": 43,
   "metadata": {},
   "outputs": [
    {
     "name": "stdout",
     "output_type": "stream",
     "text": [
      "-- element wise Comparisions:--\n",
      "np.array_equal(a,b): False\n",
      "np.array_equal(a,c): True\n"
     ]
    }
   ],
   "source": [
    "import numpy as np\n",
    "print(\"-- element wise Comparisions:--\")\n",
    "\n",
    "a=np.array([1,2,3,4])\n",
    "b=np.array([4,2,2,4])\n",
    "c=np.array([1,2,3,4])\n",
    "print(\"np.array_equal(a,b):\",np.array_equal(a,b))\n",
    "print(\"np.array_equal(a,c):\",np.array_equal(a,c))\n"
   ]
  },
  {
   "cell_type": "code",
   "execution_count": 44,
   "metadata": {},
   "outputs": [
    {
     "name": "stdout",
     "output_type": "stream",
     "text": [
      "logical operations:\n",
      "a= [ True  True False False]\n",
      "b= [ True False  True False]\n",
      "[ True  True  True False]\n",
      "[ True False False False]\n"
     ]
    }
   ],
   "source": [
    "import numpy as np\n",
    "print(\"logical operations:\")\n",
    "a=np.array([1,1,0,0],dtype=bool)\n",
    "b=np.array([1,0,9,0],dtype=bool)\n",
    "print(\"a=\",a)\n",
    "print(\"b=\",b)\n",
    "print(np.logical_or(a,b))\n",
    "print(np.logical_and(a,b))"
   ]
  },
  {
   "cell_type": "code",
   "execution_count": 45,
   "metadata": {},
   "outputs": [
    {
     "name": "stdout",
     "output_type": "stream",
     "text": [
      "3.141592653589793\n",
      "[-5. -4. -3. -2. -1.  0.  1.  2.  3.  4.  5.]\n",
      "[-3.14159265 -3.11695271 -3.09231277 -3.06767283 -3.04303288 -3.01839294\n",
      " -2.993753   -2.96911306 -2.94447311 -2.91983317 -2.89519323 -2.87055329\n",
      " -2.84591335 -2.8212734  -2.79663346 -2.77199352 -2.74735358 -2.72271363\n",
      " -2.69807369 -2.67343375 -2.64879381 -2.62415386 -2.59951392 -2.57487398\n",
      " -2.55023404 -2.52559409 -2.50095415 -2.47631421 -2.45167427 -2.42703432\n",
      " -2.40239438 -2.37775444 -2.3531145  -2.32847456 -2.30383461 -2.27919467\n",
      " -2.25455473 -2.22991479 -2.20527484 -2.1806349  -2.15599496 -2.13135502\n",
      " -2.10671507 -2.08207513 -2.05743519 -2.03279525 -2.0081553  -1.98351536\n",
      " -1.95887542 -1.93423548 -1.90959553 -1.88495559 -1.86031565 -1.83567571\n",
      " -1.81103577 -1.78639582 -1.76175588 -1.73711594 -1.712476   -1.68783605\n",
      " -1.66319611 -1.63855617 -1.61391623 -1.58927628 -1.56463634 -1.5399964\n",
      " -1.51535646 -1.49071651 -1.46607657 -1.44143663 -1.41679669 -1.39215674\n",
      " -1.3675168  -1.34287686 -1.31823692 -1.29359698 -1.26895703 -1.24431709\n",
      " -1.21967715 -1.19503721 -1.17039726 -1.14575732 -1.12111738 -1.09647744\n",
      " -1.07183749 -1.04719755 -1.02255761 -0.99791767 -0.97327772 -0.94863778\n",
      " -0.92399784 -0.8993579  -0.87471795 -0.85007801 -0.82543807 -0.80079813\n",
      " -0.77615819 -0.75151824 -0.7268783  -0.70223836 -0.67759842 -0.65295847\n",
      " -0.62831853 -0.60367859 -0.57903865 -0.5543987  -0.52975876 -0.50511882\n",
      " -0.48047888 -0.45583893 -0.43119899 -0.40655905 -0.38191911 -0.35727916\n",
      " -0.33263922 -0.30799928 -0.28335934 -0.2587194  -0.23407945 -0.20943951\n",
      " -0.18479957 -0.16015963 -0.13551968 -0.11087974 -0.0862398  -0.06159986\n",
      " -0.03695991 -0.01231997  0.01231997  0.03695991  0.06159986  0.0862398\n",
      "  0.11087974  0.13551968  0.16015963  0.18479957  0.20943951  0.23407945\n",
      "  0.2587194   0.28335934  0.30799928  0.33263922  0.35727916  0.38191911\n",
      "  0.40655905  0.43119899  0.45583893  0.48047888  0.50511882  0.52975876\n",
      "  0.5543987   0.57903865  0.60367859  0.62831853  0.65295847  0.67759842\n",
      "  0.70223836  0.7268783   0.75151824  0.77615819  0.80079813  0.82543807\n",
      "  0.85007801  0.87471795  0.8993579   0.92399784  0.94863778  0.97327772\n",
      "  0.99791767  1.02255761  1.04719755  1.07183749  1.09647744  1.12111738\n",
      "  1.14575732  1.17039726  1.19503721  1.21967715  1.24431709  1.26895703\n",
      "  1.29359698  1.31823692  1.34287686  1.3675168   1.39215674  1.41679669\n",
      "  1.44143663  1.46607657  1.49071651  1.51535646  1.5399964   1.56463634\n",
      "  1.58927628  1.61391623  1.63855617  1.66319611  1.68783605  1.712476\n",
      "  1.73711594  1.76175588  1.78639582  1.81103577  1.83567571  1.86031565\n",
      "  1.88495559  1.90959553  1.93423548  1.95887542  1.98351536  2.0081553\n",
      "  2.03279525  2.05743519  2.08207513  2.10671507  2.13135502  2.15599496\n",
      "  2.1806349   2.20527484  2.22991479  2.25455473  2.27919467  2.30383461\n",
      "  2.32847456  2.3531145   2.37775444  2.40239438  2.42703432  2.45167427\n",
      "  2.47631421  2.50095415  2.52559409  2.55023404  2.57487398  2.59951392\n",
      "  2.62415386  2.64879381  2.67343375  2.69807369  2.72271363  2.74735358\n",
      "  2.77199352  2.79663346  2.8212734   2.84591335  2.87055329  2.89519323\n",
      "  2.91983317  2.94447311  2.96911306  2.993753    3.01839294  3.04303288\n",
      "  3.06767283  3.09231277  3.11695271  3.14159265]\n",
      "[1.         1.21666667 1.43333333 1.65       1.86666667 2.08333333\n",
      " 2.3       ]\n"
     ]
    }
   ],
   "source": [
    "import numpy as np\n",
    "print(np.pi)\n",
    "print(np.linspace(-5,5,11))\n",
    "print(np.linspace(-np.pi,np.pi,256))\n",
    "print(np.linspace(1,2.3,7))"
   ]
  },
  {
   "cell_type": "code",
   "execution_count": 46,
   "metadata": {},
   "outputs": [
    {
     "name": "stdout",
     "output_type": "stream",
     "text": [
      "_transcendental functions:__\n",
      "[ 0.          0.84147098  0.90929743  0.14112001 -0.7568025  -0.95892427]\n",
      "[      -inf 0.         0.69314718 1.09861229 1.38629436 1.60943791]\n",
      "[  1.           2.71828183   7.3890561   20.08553692  54.59815003\n",
      " 148.4131591 ]\n"
     ]
    },
    {
     "name": "stderr",
     "output_type": "stream",
     "text": [
      "<ipython-input-46-1f7252c578e7>:6: RuntimeWarning: divide by zero encountered in log\n",
      "  print(np.log(a))\n"
     ]
    },
    {
     "ename": "ValueError",
     "evalue": "operands could not be broadcast together with shapes (4,) (2,) ",
     "output_type": "error",
     "traceback": [
      "\u001b[1;31m---------------------------------------------------------------------------\u001b[0m",
      "\u001b[1;31mValueError\u001b[0m                                Traceback (most recent call last)",
      "\u001b[1;32m<ipython-input-46-1f7252c578e7>\u001b[0m in \u001b[0;36m<module>\u001b[1;34m\u001b[0m\n\u001b[0;32m     10\u001b[0m \u001b[1;31m#shape mismatches :error\u001b[0m\u001b[1;33m\u001b[0m\u001b[1;33m\u001b[0m\u001b[1;33m\u001b[0m\u001b[0m\n\u001b[0;32m     11\u001b[0m \u001b[0ma\u001b[0m\u001b[1;33m=\u001b[0m\u001b[0mnp\u001b[0m\u001b[1;33m.\u001b[0m\u001b[0marange\u001b[0m\u001b[1;33m(\u001b[0m\u001b[1;36m4\u001b[0m\u001b[1;33m)\u001b[0m\u001b[1;33m\u001b[0m\u001b[1;33m\u001b[0m\u001b[0m\n\u001b[1;32m---> 12\u001b[1;33m \u001b[0mprint\u001b[0m\u001b[1;33m(\u001b[0m\u001b[0ma\u001b[0m\u001b[1;33m+\u001b[0m\u001b[0mnp\u001b[0m\u001b[1;33m.\u001b[0m\u001b[0marray\u001b[0m\u001b[1;33m(\u001b[0m\u001b[1;33m[\u001b[0m\u001b[1;36m1\u001b[0m\u001b[1;33m,\u001b[0m\u001b[1;36m2\u001b[0m\u001b[1;33m]\u001b[0m\u001b[1;33m)\u001b[0m\u001b[1;33m)\u001b[0m  \u001b[1;31m##will give erroe\u001b[0m\u001b[1;33m\u001b[0m\u001b[1;33m\u001b[0m\u001b[0m\n\u001b[0m",
      "\u001b[1;31mValueError\u001b[0m: operands could not be broadcast together with shapes (4,) (2,) "
     ]
    }
   ],
   "source": [
    "import numpy as np\n",
    "print(\"_transcendental functions:__\")\n",
    "a=np.arange(0,6)\n",
    "\n",
    "print(np.sin(a))\n",
    "print(np.log(a))\n",
    "print(np.exp(a))\n",
    "\n",
    "\n",
    "#shape mismatches :error\n",
    "a=np.arange(4)\n",
    "print(a+np.array([1,2]))  ##will give erroe"
   ]
  },
  {
   "cell_type": "code",
   "execution_count": 48,
   "metadata": {},
   "outputs": [
    {
     "name": "stdout",
     "output_type": "stream",
     "text": [
      "np.sum(x): 10\n",
      "x.sum(): 10\n",
      "__Sum by rows and by columns:__\n",
      "x=\n",
      " [[1 2]\n",
      " [3 4]]\n",
      "10\n",
      "[4 6]\n",
      "4 6 \n",
      "\n",
      "\n",
      "3 [3 4]\n"
     ]
    }
   ],
   "source": [
    "#basic reductions\n",
    "#----------------------\n",
    "#computing sums\n",
    "\n",
    "import numpy as np\n",
    "x=np.array([1,2,3,4])\n",
    "\n",
    "print(\"np.sum(x):\",np.sum(x))\n",
    "print(\"x.sum():\",x.sum())\n",
    "\n",
    "print(\"__Sum by rows and by columns:__\")\n",
    "\n",
    "x=np.array([[1,2],[3,4]])\n",
    "print(\"x=\\n\",x)\n",
    "\n",
    "#aaray([[1,2],\n",
    "#       [3,4]])\n",
    "print(x.sum())\n",
    "print(x.sum(axis=0))#columns\n",
    "\n",
    "print(x[:,0].sum(),x[:,1].sum(),\"\\n\\n\")\n",
    "\n",
    "print(x[0,:].sum(),x[1,:])\n",
    "#import matplolib.pyplot as plt\n",
    "#def estimate_coef(X,y):\n",
    "    #number of"
   ]
  },
  {
   "cell_type": "code",
   "execution_count": 49,
   "metadata": {},
   "outputs": [
    {
     "name": "stdout",
     "output_type": "stream",
     "text": [
      "(768, 9)\n",
      "276660.701\n"
     ]
    }
   ],
   "source": [
    "import numpy as np\n",
    "filename=\"indians-diabetes.data.csv\"\n",
    "data=np.loadtxt(filename,delimiter=\",\")\n",
    "print(data.shape)\n",
    "\n",
    "\n",
    "\n",
    "i=np.arange(0,9)\n",
    "print(data[:,i].sum())"
   ]
  },
  {
   "cell_type": "code",
   "execution_count": 50,
   "metadata": {},
   "outputs": [
    {
     "name": "stdout",
     "output_type": "stream",
     "text": [
      "mean of x = 1.8\n",
      "x.mean() 1.8\n",
      "np.madian(x) 2.0\n",
      "x.std() 0.7483314773547883\n"
     ]
    }
   ],
   "source": [
    "import numpy as np\n",
    "x=np.array([1,2,3,2,1])\n",
    "m_x=np.mean(x)\n",
    "print(\"mean of x =\",m_x)\n",
    "print(\"x.mean()\",x.mean())\n",
    "print(\"np.madian(x)\",np.median(x))##median can not be calculated internally\n",
    "print(\"x.std()\",x.std())\n",
    "\n"
   ]
  },
  {
   "cell_type": "code",
   "execution_count": 52,
   "metadata": {},
   "outputs": [
    {
     "data": {
      "image/png": "[encoded data removed]",
      "text/plain": [
       "<Figure size 640x480 with 1 Axes>"
      ]
     },
     "metadata": {
      "needs_background": "light"
     },
     "output_type": "display_data"
    }
   ],
   "source": [
    "import numpy as np\n",
    "from matplotlib import pyplot as plt\n",
    "#create a figure of size\n",
    "plt.figure(figsize=(8,6),dpi=80)\n",
    "\n",
    "x=np.linspace(-np.pi,np.pi,256,endpoint=True)\n",
    "s=np.sin(x)\n",
    "c=np.cos(x)\n",
    "\n",
    "\n",
    "plt.plot(x,s,color=\"red\",linewidth=5.0,linestyle=\"--\",label=\"sine curve\")\n",
    "\n",
    "#plot cosine with a blue continuous line of width 5 (pixels\n",
    "plt.plot(x,c,color=\"blue\",linewidth=7.0,linestyle=\"-\",label=\"cosine curve\")\n",
    "\n",
    "#location of legends\n",
    "plt.legend(loc='upper left')\n",
    "\n",
    "#set x limits\n",
    "plt.xlim(-4.0,4.0)\n",
    "#set x ticks\n",
    "plt.xticks(np.linspace(-4,4,9,endpoint=True))\n",
    "\n",
    "#set y limits\n",
    "plt.ylim(-1.0,1.0)\n",
    "#set y ticks\n",
    "plt.yticks(np.linspace(-1,1,9,endpoint=True))\n",
    "plt.grid()\n",
    "plt.show()\n",
    "\n"
   ]
  },
  {
   "cell_type": "code",
   "execution_count": 54,
   "metadata": {},
   "outputs": [
    {
     "name": "stdout",
     "output_type": "stream",
     "text": [
      "n= [4.91229816 5.91338335 4.62880176 4.58919328 6.42730429 5.39099751\n",
      " 4.23182994 5.51028177 4.5306676  3.90381703 5.31662251 4.83738621\n",
      " 4.42622486 4.73437026 5.17731908 5.17088194 4.44662768 5.52216019\n",
      " 4.60999674 4.38304387 4.48382645 4.46349159 4.39715879 3.72510753\n",
      " 5.50275875 4.77420276 3.25402545 5.56404329 5.1853225  5.31272745\n",
      " 4.95067058 6.79790713 4.92719206 4.41641827 4.91380848 6.20985451\n",
      " 4.75973002 3.18368038 4.28848073 5.69563536 5.04244984 4.59797089\n",
      " 2.71702874 7.18312347 3.99929242 6.05876361 6.45469111 3.52414076\n",
      " 6.62440042 4.22502028 4.8922476  4.40431677 4.85362437 5.34244066\n",
      " 3.54311748 4.61818228 5.41665835 6.46283469 6.02760117 5.10261415\n",
      " 6.39675265 5.29820739 6.43918243 5.31321092 4.34747329 5.28121337\n",
      " 6.42139365 6.46482485 5.80407553 4.51727571 5.31151164 5.25373772\n",
      " 4.42428536 5.44968659 5.03478811 7.40023374 4.28157488 4.80563307\n",
      " 3.37601678 4.28071972 4.28054253 4.20606125 4.02465332 5.53106223\n",
      " 4.12261022 3.91433203 5.75223477 5.6019194  4.6588357  4.08129693\n",
      " 5.07759736 3.92922178 3.98037317 6.44362761 5.16624632 3.3397904\n",
      " 4.85922664 3.59382462 5.55199802 5.7763124  4.64599014 6.46674135\n",
      " 3.32242052 4.46762345 5.05096468 6.1585557  3.73190559 5.45314116\n",
      " 5.18583256 5.02129364 4.57083907 4.27790485 7.16383085 6.74151154\n",
      " 4.6041294  2.95190812 6.29785184 3.9818127  5.71616729 5.00579786\n",
      " 4.20911885 5.94642283 5.88359085 4.17954652 4.90132654 4.21210568\n",
      " 6.71237989 6.94085663 5.55705066 4.6688225  5.47675576 5.1018653\n",
      " 3.95425562 4.12336435 4.95696018 4.68673595 4.98958878 4.71813514\n",
      " 4.54404925 4.33973378 6.63199445 5.65584178 5.18639366 6.23145242\n",
      " 4.98877036 5.45408723 4.90275516 3.75750453 4.85415497 5.00925304\n",
      " 5.10317479 5.31053114 4.10496088 4.58570679 4.77419441 3.80209918\n",
      " 4.17192898 4.97651659 5.60694038 6.39883932 5.36707146 5.58254312\n",
      " 3.82506357 5.17228022 6.30936402 5.00923367 4.83458443 3.4840063\n",
      " 4.86814156 3.74014836 4.61920577 3.07152479 5.32997488 5.85162607\n",
      " 4.76279038 4.80826562 4.07298439 6.15975866 3.6187842  5.08297294\n",
      " 5.35213434 4.86477445 2.16879765 5.4604512  4.97833217 3.74224733\n",
      " 5.65303505 4.48706243 3.88510701 3.58774399 4.76676927 5.37235609\n",
      " 4.38514006 5.03244433 5.01285447 5.2338886  6.10045086 4.41255218\n",
      " 4.23176707 5.20013276 3.67382612 3.06577344 3.13360062 4.73425203\n",
      " 6.43646371 3.94354488 5.74259554 5.02594299 5.10216901 3.64390043\n",
      " 4.82788227 4.81412932 5.27346147 4.4717852  5.96834919 5.1045553\n",
      " 5.80652356 6.0404551  4.81200269 5.18797076 7.79737066 4.13785731\n",
      " 4.00793417 5.1189238  5.19936839 3.35936803 4.4119983  4.72850958\n",
      " 4.85627166 4.69536395 6.18794861 6.52371451 4.20438305 6.04637795\n",
      " 5.25094573 6.89128253 6.46929146 4.02543046 5.33273647 4.79724187\n",
      " 5.89728754 7.27616679 5.96552676 4.19777127 4.64196764 4.11961793\n",
      " 3.50067391 4.75987707 5.53612577 4.75198706 4.53315047 5.33387246\n",
      " 7.38843165 5.61919179 5.90530641 6.56540734 3.93214988 4.75147572\n",
      " 3.72792375 5.01889133 4.81830118 6.93639805 6.13736262 3.78275844\n",
      " 5.54279956 4.33304092 6.29637526 4.02983228 6.95509122 3.56655247\n",
      " 3.85241645 4.63159226 3.07984475 6.21737141 1.94526955 4.20489196\n",
      " 3.48689778 4.21588423 5.56960459 6.49547662 6.80579122 5.65805198\n",
      " 5.15473637 2.68652333 3.67725678 3.25826475 4.19421231 4.47186227\n",
      " 4.67079717 4.43078764 6.96955954 5.52003817 5.39304801 7.28050385\n",
      " 5.71913307 5.5715445  5.84805669 6.05663934 4.36731829 3.23355431\n",
      " 4.52076665 4.51417049 5.6622123  3.84717369 3.96614434 3.64872755\n",
      " 6.11077425 5.70761557 4.75952942 3.35033572 5.36176571 4.60422748\n",
      " 3.12548344 5.66725886 2.84872365 6.2673792  5.46107459 5.57798931\n",
      " 6.13710629 6.5020138  5.57644352 3.93441403 4.40745199 5.01788679\n",
      " 4.07909347 7.09036349 3.62766005 4.55375678 4.34977304 4.88078878\n",
      " 4.65815096 3.94890392 6.21488902 5.98495445 5.52216706 5.51546235\n",
      " 5.49189618 4.64727522 7.02757516 7.41047131 4.50887492 3.65597581\n",
      " 4.97859069 4.66528355 6.40964274 5.41493486 5.0028005  4.67312018\n",
      " 5.1435379  6.97948879 6.90697665 4.68272743 4.44421757 5.85835519\n",
      " 3.63909401 4.54384459 4.03026437 3.78665267 4.06935533 4.04710528\n",
      " 3.06151797 6.11608498 4.86639888 5.5631591  4.33301696 5.15928654\n",
      " 3.66825427 5.93205931 5.8619938  4.56450842 4.8538942  5.68693598\n",
      " 4.30174595 5.32816267 4.90443359 4.22187607 4.13364613 6.20851184\n",
      " 5.03235454 3.23533339 5.48940367 6.27500659 3.77799106 2.26348356\n",
      " 5.79123844 5.1388141  3.42266659 6.29072524 5.26456582 3.74164302\n",
      " 1.52772341 3.90977703 4.69072101 4.7889081  5.79318541 5.02698145\n",
      " 5.28113546 4.70032184 4.13939059 4.52982704 6.55295682 5.3596989\n",
      " 4.84395918 5.88349984 5.00521923 3.45603901 5.6682454  4.16000657\n",
      " 4.83837383 5.88620791 5.59652389 6.00815686 4.21426704 2.93060465\n",
      " 4.45871311 5.03800472 4.43528504 5.87908139 4.62702782 5.09206886\n",
      " 4.16727872 6.45317253 5.88773928 4.7311073  4.84846028 5.69414258\n",
      " 5.90708131 5.26712953 3.86975907 4.03493993 6.19949327 6.14347854\n",
      " 7.76031213 3.94131488 3.35432711 5.28489221 6.44049236 5.40726062\n",
      " 5.11085754 3.58662183 5.79817442 4.61548356 5.67105193 3.83995509\n",
      " 7.547789   4.82627603 5.25393227 4.45763181 5.09813674 4.81032092\n",
      " 4.19704538 4.88290294 4.96775519 4.6371225  2.98275954 5.60231645\n",
      " 6.23099852 4.81775008 5.1905779  6.0510613  3.25544402 5.48366474\n",
      " 4.3403666  5.33897748 4.7894772  5.99939104 4.78607292 4.48154856\n",
      " 4.13281797 5.79550915 4.13913155 5.52656125 5.73473688 6.12288764\n",
      " 5.3384167  5.38950562 4.04177652 4.91382392 3.8883533  4.02145924\n",
      " 5.76886417 4.79378644 5.90560266 5.86351361 5.14839578 3.63790526\n",
      " 6.51244118 6.21431152 4.70586645 6.06048645 4.61011581 5.59368988\n",
      " 6.69896511 3.89481815 5.01662415 3.48069657 4.70906049 5.58161635\n",
      " 3.96114128 4.39825193 6.14446908 4.09429013 4.39946374 4.5102972\n",
      " 3.90650906 4.92622156 6.33027882 6.60541311 5.58791438 3.72388019\n",
      " 4.95420703 4.35945831 3.95889066 5.66513405 5.46279525 5.47127298\n",
      " 5.5520919  3.44122801 3.68676951 4.30819669 4.19370305 4.80510683\n",
      " 7.56222757 5.03553731 4.00658553 3.75602739 5.75888172 4.81786705\n",
      " 4.05146786 5.37625458 4.44642154 4.73338636 6.05660896 3.24911454\n",
      " 4.91905271 5.90419422 5.1434391  3.2757546  4.39141097 5.85520231\n",
      " 4.9455549  4.16775182 4.03891328 5.56161836 4.23984119 4.98316605\n",
      " 3.56618827 4.87193993 6.07171624 7.57298103 6.00576881 4.75025799\n",
      " 6.63381605 6.37291574 4.38646508 4.28499237 3.82490625 6.68449578\n",
      " 5.86681467 6.90979009 4.31314802 5.56687661 4.78268053 4.95691606\n",
      " 3.91146501 5.89902824 3.7128541  4.37767216 4.6247245  3.41844406\n",
      " 3.18917125 4.9669104  4.51268799 4.77910278 4.49018444 4.30030642\n",
      " 6.89862683 5.21938565 7.44241089 6.30160574 5.95146534 4.88163565\n",
      " 4.86449462 5.93378071 4.13863866 5.52374151 5.84658634 3.88043908\n",
      " 5.17801465 4.01924211 4.69585583 2.78975816 4.56142905 6.40480869\n",
      " 6.076949   4.01853097 4.04529274 5.09735256 4.8902554  4.79167742\n",
      " 6.014842   4.54950481 5.08260447 5.37237111 4.81332395 4.30494704\n",
      " 5.07691783 5.13296522 5.04710235 4.10430699 4.50537186 7.35940639\n",
      " 5.41999459 3.14529541 3.8827035  5.79879851 5.7788599  6.80387609\n",
      " 3.23875774 5.62090883 6.09610372 4.49093047 4.91587962 5.28922366\n",
      " 6.13853821 4.51842805 6.36958787 5.06268436 4.69186282 5.74846235\n",
      " 6.18119211 5.60240321 3.58761307 4.66698427 4.09447171 4.35693181\n",
      " 5.24484261 5.16206608 5.68088988 5.01388401 4.71256513 5.11228751\n",
      " 4.71292081 3.68208032 4.91852444 5.05588441 7.18102061 4.70732929\n",
      " 6.06849701 6.77948314 3.48826421 4.64632639 5.52361799 4.21227595\n",
      " 6.54638563 5.74186106 4.57584123 5.07639416 4.28424707 3.7731936\n",
      " 6.11601198 5.17489149 4.11609589 6.34219734 5.63024585 5.14202498\n",
      " 3.88680765 3.27922441 4.63320115 4.3513086  5.81267124 3.04959428\n",
      " 4.63453588 4.40032755 4.75044016 3.72914258 7.3236285  6.34843167\n",
      " 3.69346847 5.4392162  4.9568949  4.69873044 3.60127922 5.56596559\n",
      " 5.18811417 5.76596244 5.24270727 4.25832597 5.58937718 4.79509861\n",
      " 4.53832287 4.04309731 5.58547457 5.91396326 5.01847898 6.87564229\n",
      " 7.51090722 4.41744553 3.66609568 4.5474164  4.16330061 4.41194637\n",
      " 6.04746666 4.54097326 3.95578022 4.81003505 5.71415687 3.75186166\n",
      " 5.51878175 5.72092774 5.86154431 6.13008243 4.67028715 4.64933966\n",
      " 6.37573384 5.34824529 3.89155791 5.17188868 5.93861149 5.22129537\n",
      " 5.25412774 4.4226828  4.69376308 4.57903752 6.22571791 5.13228783\n",
      " 4.27844088 5.16731829 6.46995624 5.43170421 5.39509647 4.6615988\n",
      " 5.02540299 6.53257199 4.2844346  4.74537037 3.23602087 6.13749819\n",
      " 5.29019365 4.95616731 3.96053657 5.07168179 3.68420621 5.47613894\n",
      " 4.66630362 4.57870069 6.1683055  5.01961965 6.84954351 4.27924046\n",
      " 4.97157854 4.76993579 4.51955445 4.50890459 5.19547081 5.01057445\n",
      " 4.9875205  4.65399361 6.58482392 2.74659182 2.88719547 4.2931411\n",
      " 5.04862145 5.17866469 5.29612097 4.87732049 5.48722562 4.15775123\n",
      " 5.19789118 4.43013772 4.78141514 3.80398937 5.52318878 6.40650943\n",
      " 4.78417449 3.92197268 5.29047856 5.31632127 2.1605133  4.21206621\n",
      " 3.28749741 6.13588172 4.26762974 5.68700383 4.09360669 4.38930472\n",
      " 4.73018039 4.56949873 5.10148188 4.47719232 4.30426286 6.09144717\n",
      " 4.61542873 4.96924061 5.70963207 4.09749399 4.57917593 6.44175758\n",
      " 4.65449551 3.18539428 6.05472216 5.79812065 7.04308219 5.0724133\n",
      " 6.06486429 6.55937107 6.24567196 5.27331356 5.45566187 4.02768237\n",
      " 5.4143526  5.65783908 5.4483775  5.45705677 4.95746779 5.07120329\n",
      " 5.65093096 5.37238401 6.41871896 6.30586637 5.79077453 4.6526054\n",
      " 5.13415099 5.25910039 5.25422178 3.90679589 6.16798059 5.63218646\n",
      " 2.67154539 5.76860863 5.94431341 5.56406859 5.5105958  6.87760761\n",
      " 5.88774623 4.71567503 4.86069762 6.50086845 3.88326943 4.91386245\n",
      " 4.20183205 5.60837412 6.26792589 7.04096175 5.17181208 5.86094912\n",
      " 4.08126247 4.37005207 3.55141695 7.19179471 3.81527695 4.1246207\n",
      " 4.28282552 4.22500124 6.05772958 6.33989193 5.75987532 4.53320477\n",
      " 5.27356594 5.23236874 5.15215809 4.6246702  4.00012469 5.32844293\n",
      " 5.52977653 5.90450755 5.63145319 3.15625335 4.54259886 5.11186233\n",
      " 3.58338463 4.96203551 2.15982517 4.14919995 4.98002577 4.93534668\n",
      " 5.82888979 4.75872282 4.35054615 6.49170833 4.49926049 5.28972295\n",
      " 5.7583617  5.28546853 5.65407765 4.32484413 5.65749083 5.25252866\n",
      " 2.87374283 3.95857081 5.40744255 6.03134389 2.81346678 5.43027885\n",
      " 6.46899311 4.68551568 6.22437044 5.00182352 4.48944287 5.24975632\n",
      " 5.07674255 5.99277299 3.70604548 3.68923221 4.2582145  4.86419225\n",
      " 5.62895695 5.46164401 3.78479652 5.60522406 5.73216613 4.96709111\n",
      " 2.92797974 5.12416849 4.76580411 6.35718092 6.11890002 5.70138613\n",
      " 5.91895092 4.66941641 4.07008738 4.96347489 6.36089182 3.96143853\n",
      " 3.64556332 4.31261155 4.33716491 4.86913719 4.52770866 4.43820648\n",
      " 4.46294422 6.5773522  4.74537139 4.95084203 5.68110134 6.03037528\n",
      " 4.8359944  4.04625253 5.59435981 3.9839638  5.00215235 4.57509855\n",
      " 7.30937461 6.31080661 5.2721631  3.93106167 5.6959151  6.16272236\n",
      " 6.45635436 5.33824899 3.98240646 5.6346755  3.8960396  6.36076207\n",
      " 3.94915438 8.10692747 6.68594592 4.8947909  6.20043117 3.75051813\n",
      " 4.64036217 4.52108576 6.8562318  5.26205732 5.25678713 5.08958431\n",
      " 6.61578826 4.24518889 4.19538725 5.08993459 5.42428972 4.83197991\n",
      " 4.91663151 5.4708854  6.32806595 4.48907501 5.07264199 6.05600673\n",
      " 4.07378367 6.82036039 4.43046153 4.57773266 5.67023798 4.62830006\n",
      " 4.70846208 5.56836234 4.27944757 5.33870983 4.57398522 7.04020112\n",
      " 6.01919542 4.60686657 5.68744624 4.94416697 5.20510899 5.64640401\n",
      " 4.58742141 5.15641952 5.06247501 5.03396039]\n",
      "m= [0, 1, 2, 3, 4, 5, 6, 7, 8, 9, 10, 11, 12, 13, 14, 15, 16, 17, 18, 19, 20, 21, 22, 23, 24, 25, 26, 27, 28, 29, 30, 31, 32, 33, 34, 35, 36, 37, 38, 39, 40, 41, 42, 43, 44, 45, 46, 47, 48, 49, 50, 51, 52, 53, 54, 55, 56, 57, 58, 59, 60, 61, 62, 63, 64, 65, 66, 67, 68, 69, 70, 71, 72, 73, 74, 75, 76, 77, 78, 79, 80, 81, 82, 83, 84, 85, 86, 87, 88, 89, 90, 91, 92, 93, 94, 95, 96, 97, 98, 99, 100, 101, 102, 103, 104, 105, 106, 107, 108, 109, 110, 111, 112, 113, 114, 115, 116, 117, 118, 119, 120, 121, 122, 123, 124, 125, 126, 127, 128, 129, 130, 131, 132, 133, 134, 135, 136, 137, 138, 139, 140, 141, 142, 143, 144, 145, 146, 147, 148, 149, 150, 151, 152, 153, 154, 155, 156, 157, 158, 159, 160, 161, 162, 163, 164, 165, 166, 167, 168, 169, 170, 171, 172, 173, 174, 175, 176, 177, 178, 179, 180, 181, 182, 183, 184, 185, 186, 187, 188, 189, 190, 191, 192, 193, 194, 195, 196, 197, 198, 199, 200, 201, 202, 203, 204, 205, 206, 207, 208, 209, 210, 211, 212, 213, 214, 215, 216, 217, 218, 219, 220, 221, 222, 223, 224, 225, 226, 227, 228, 229, 230, 231, 232, 233, 234, 235, 236, 237, 238, 239, 240, 241, 242, 243, 244, 245, 246, 247, 248, 249, 250, 251, 252, 253, 254, 255, 256, 257, 258, 259, 260, 261, 262, 263, 264, 265, 266, 267, 268, 269, 270, 271, 272, 273, 274, 275, 276, 277, 278, 279, 280, 281, 282, 283, 284, 285, 286, 287, 288, 289, 290, 291, 292, 293, 294, 295, 296, 297, 298, 299, 300, 301, 302, 303, 304, 305, 306, 307, 308, 309, 310, 311, 312, 313, 314, 315, 316, 317, 318, 319, 320, 321, 322, 323, 324, 325, 326, 327, 328, 329, 330, 331, 332, 333, 334, 335, 336, 337, 338, 339, 340, 341, 342, 343, 344, 345, 346, 347, 348, 349, 350, 351, 352, 353, 354, 355, 356, 357, 358, 359, 360, 361, 362, 363, 364, 365, 366, 367, 368, 369, 370, 371, 372, 373, 374, 375, 376, 377, 378, 379, 380, 381, 382, 383, 384, 385, 386, 387, 388, 389, 390, 391, 392, 393, 394, 395, 396, 397, 398, 399, 400, 401, 402, 403, 404, 405, 406, 407, 408, 409, 410, 411, 412, 413, 414, 415, 416, 417, 418, 419, 420, 421, 422, 423, 424, 425, 426, 427, 428, 429, 430, 431, 432, 433, 434, 435, 436, 437, 438, 439, 440, 441, 442, 443, 444, 445, 446, 447, 448, 449, 450, 451, 452, 453, 454, 455, 456, 457, 458, 459, 460, 461, 462, 463, 464, 465, 466, 467, 468, 469, 470, 471, 472, 473, 474, 475, 476, 477, 478, 479, 480, 481, 482, 483, 484, 485, 486, 487, 488, 489, 490, 491, 492, 493, 494, 495, 496, 497, 498, 499, 500, 501, 502, 503, 504, 505, 506, 507, 508, 509, 510, 511, 512, 513, 514, 515, 516, 517, 518, 519, 520, 521, 522, 523, 524, 525, 526, 527, 528, 529, 530, 531, 532, 533, 534, 535, 536, 537, 538, 539, 540, 541, 542, 543, 544, 545, 546, 547, 548, 549, 550, 551, 552, 553, 554, 555, 556, 557, 558, 559, 560, 561, 562, 563, 564, 565, 566, 567, 568, 569, 570, 571, 572, 573, 574, 575, 576, 577, 578, 579, 580, 581, 582, 583, 584, 585, 586, 587, 588, 589, 590, 591, 592, 593, 594, 595, 596, 597, 598, 599, 600, 601, 602, 603, 604, 605, 606, 607, 608, 609, 610, 611, 612, 613, 614, 615, 616, 617, 618, 619, 620, 621, 622, 623, 624, 625, 626, 627, 628, 629, 630, 631, 632, 633, 634, 635, 636, 637, 638, 639, 640, 641, 642, 643, 644, 645, 646, 647, 648, 649, 650, 651, 652, 653, 654, 655, 656, 657, 658, 659, 660, 661, 662, 663, 664, 665, 666, 667, 668, 669, 670, 671, 672, 673, 674, 675, 676, 677, 678, 679, 680, 681, 682, 683, 684, 685, 686, 687, 688, 689, 690, 691, 692, 693, 694, 695, 696, 697, 698, 699, 700, 701, 702, 703, 704, 705, 706, 707, 708, 709, 710, 711, 712, 713, 714, 715, 716, 717, 718, 719, 720, 721, 722, 723, 724, 725, 726, 727, 728, 729, 730, 731, 732, 733, 734, 735, 736, 737, 738, 739, 740, 741, 742, 743, 744, 745, 746, 747, 748, 749, 750, 751, 752, 753, 754, 755, 756, 757, 758, 759, 760, 761, 762, 763, 764, 765, 766, 767, 768, 769, 770, 771, 772, 773, 774, 775, 776, 777, 778, 779, 780, 781, 782, 783, 784, 785, 786, 787, 788, 789, 790, 791, 792, 793, 794, 795, 796, 797, 798, 799, 800, 801, 802, 803, 804, 805, 806, 807, 808, 809, 810, 811, 812, 813, 814, 815, 816, 817, 818, 819, 820, 821, 822, 823, 824, 825, 826, 827, 828, 829, 830, 831, 832, 833, 834, 835, 836, 837, 838, 839, 840, 841, 842, 843, 844, 845, 846, 847, 848, 849, 850, 851, 852, 853, 854, 855, 856, 857, 858, 859, 860, 861, 862, 863, 864, 865, 866, 867, 868, 869, 870, 871, 872, 873, 874, 875, 876, 877, 878, 879, 880, 881, 882, 883, 884, 885, 886, 887, 888, 889, 890, 891, 892, 893, 894, 895, 896, 897, 898, 899, 900, 901, 902, 903, 904, 905, 906, 907, 908, 909, 910, 911, 912, 913, 914, 915, 916, 917, 918, 919, 920, 921, 922, 923, 924, 925, 926, 927, 928, 929, 930, 931, 932, 933, 934, 935, 936, 937, 938, 939, 940, 941, 942, 943, 944, 945, 946, 947, 948, 949, 950, 951, 952, 953, 954, 955, 956, 957, 958, 959, 960, 961, 962, 963, 964, 965, 966, 967, 968, 969, 970, 971, 972, 973, 974, 975, 976, 977, 978, 979, 980, 981, 982, 983, 984, 985, 986, 987, 988, 989, 990, 991, 992, 993, 994, 995, 996, 997, 998, 999]\n",
      "[0, 1, 2, 3, 4, 5, 6, 7, 8, 9, 10, 11, 12, 13, 14, 15, 16, 17, 18, 19, 20, 21, 22, 23, 24, 25, 26, 27, 28, 29, 30, 31, 32, 33, 34, 35, 36, 37, 38, 39, 40, 41, 42, 43, 44, 45, 46, 47, 48, 49, 50, 51, 52, 53, 54, 55, 56, 57, 58, 59, 60, 61, 62, 63, 64, 65, 66, 67, 68, 69, 70, 71, 72, 73, 74, 75, 76, 77, 78, 79, 80, 81, 82, 83, 84, 85, 86, 87, 88, 89, 90, 91, 92, 93, 94, 95, 96, 97, 98, 99, 100, 101, 102, 103, 104, 105, 106, 107, 108, 109, 110, 111, 112, 113, 114, 115, 116, 117, 118, 119, 120, 121, 122, 123, 124, 125, 126, 127, 128, 129, 130, 131, 132, 133, 134, 135, 136, 137, 138, 139, 140, 141, 142, 143, 144, 145, 146, 147, 148, 149, 150, 151, 152, 153, 154, 155, 156, 157, 158, 159, 160, 161, 162, 163, 164, 165, 166, 167, 168, 169, 170, 171, 172, 173, 174, 175, 176, 177, 178, 179, 180, 181, 182, 183, 184, 185, 186, 187, 188, 189, 190, 191, 192, 193, 194, 195, 196, 197, 198, 199, 200, 201, 202, 203, 204, 205, 206, 207, 208, 209, 210, 211, 212, 213, 214, 215, 216, 217, 218, 219, 220, 221, 222, 223, 224, 225, 226, 227, 228, 229, 230, 231, 232, 233, 234, 235, 236, 237, 238, 239, 240, 241, 242, 243, 244, 245, 246, 247, 248, 249, 250, 251, 252, 253, 254, 255, 256, 257, 258, 259, 260, 261, 262, 263, 264, 265, 266, 267, 268, 269, 270, 271, 272, 273, 274, 275, 276, 277, 278, 279, 280, 281, 282, 283, 284, 285, 286, 287, 288, 289, 290, 291, 292, 293, 294, 295, 296, 297, 298, 299, 300, 301, 302, 303, 304, 305, 306, 307, 308, 309, 310, 311, 312, 313, 314, 315, 316, 317, 318, 319, 320, 321, 322, 323, 324, 325, 326, 327, 328, 329, 330, 331, 332, 333, 334, 335, 336, 337, 338, 339, 340, 341, 342, 343, 344, 345, 346, 347, 348, 349, 350, 351, 352, 353, 354, 355, 356, 357, 358, 359, 360, 361, 362, 363, 364, 365, 366, 367, 368, 369, 370, 371, 372, 373, 374, 375, 376, 377, 378, 379, 380, 381, 382, 383, 384, 385, 386, 387, 388, 389, 390, 391, 392, 393, 394, 395, 396, 397, 398, 399, 400, 401, 402, 403, 404, 405, 406, 407, 408, 409, 410, 411, 412, 413, 414, 415, 416, 417, 418, 419, 420, 421, 422, 423, 424, 425, 426, 427, 428, 429, 430, 431, 432, 433, 434, 435, 436, 437, 438, 439, 440, 441, 442, 443, 444, 445, 446, 447, 448, 449, 450, 451, 452, 453, 454, 455, 456, 457, 458, 459, 460, 461, 462, 463, 464, 465, 466, 467, 468, 469, 470, 471, 472, 473, 474, 475, 476, 477, 478, 479, 480, 481, 482, 483, 484, 485, 486, 487, 488, 489, 490, 491, 492, 493, 494, 495, 496, 497, 498, 499, 500, 501, 502, 503, 504, 505, 506, 507, 508, 509, 510, 511, 512, 513, 514, 515, 516, 517, 518, 519, 520, 521, 522, 523, 524, 525, 526, 527, 528, 529, 530, 531, 532, 533, 534, 535, 536, 537, 538, 539, 540, 541, 542, 543, 544, 545, 546, 547, 548, 549, 550, 551, 552, 553, 554, 555, 556, 557, 558, 559, 560, 561, 562, 563, 564, 565, 566, 567, 568, 569, 570, 571, 572, 573, 574, 575, 576, 577, 578, 579, 580, 581, 582, 583, 584, 585, 586, 587, 588, 589, 590, 591, 592, 593, 594, 595, 596, 597, 598, 599, 600, 601, 602, 603, 604, 605, 606, 607, 608, 609, 610, 611, 612, 613, 614, 615, 616, 617, 618, 619, 620, 621, 622, 623, 624, 625, 626, 627, 628, 629, 630, 631, 632, 633, 634, 635, 636, 637, 638, 639, 640, 641, 642, 643, 644, 645, 646, 647, 648, 649, 650, 651, 652, 653, 654, 655, 656, 657, 658, 659, 660, 661, 662, 663, 664, 665, 666, 667, 668, 669, 670, 671, 672, 673, 674, 675, 676, 677, 678, 679, 680, 681, 682, 683, 684, 685, 686, 687, 688, 689, 690, 691, 692, 693, 694, 695, 696, 697, 698, 699, 700, 701, 702, 703, 704, 705, 706, 707, 708, 709, 710, 711, 712, 713, 714, 715, 716, 717, 718, 719, 720, 721, 722, 723, 724, 725, 726, 727, 728, 729, 730, 731, 732, 733, 734, 735, 736, 737, 738, 739, 740, 741, 742, 743, 744, 745, 746, 747, 748, 749, 750, 751, 752, 753, 754, 755, 756, 757, 758, 759, 760, 761, 762, 763, 764, 765, 766, 767, 768, 769, 770, 771, 772, 773, 774, 775, 776, 777, 778, 779, 780, 781, 782, 783, 784, 785, 786, 787, 788, 789, 790, 791, 792, 793, 794, 795, 796, 797, 798, 799, 800, 801, 802, 803, 804, 805, 806, 807, 808, 809, 810, 811, 812, 813, 814, 815, 816, 817, 818, 819, 820, 821, 822, 823, 824, 825, 826, 827, 828, 829, 830, 831, 832, 833, 834, 835, 836, 837, 838, 839, 840, 841, 842, 843, 844, 845, 846, 847, 848, 849, 850, 851, 852, 853, 854, 855, 856, 857, 858, 859, 860, 861, 862, 863, 864, 865, 866, 867, 868, 869, 870, 871, 872, 873, 874, 875, 876, 877, 878, 879, 880, 881, 882, 883, 884, 885, 886, 887, 888, 889, 890, 891, 892, 893, 894, 895, 896, 897, 898, 899, 900, 901, 902, 903, 904, 905, 906, 907, 908, 909, 910, 911, 912, 913, 914, 915, 916, 917, 918, 919, 920, 921, 922, 923, 924, 925, 926, 927, 928, 929, 930, 931, 932, 933, 934, 935, 936, 937, 938, 939, 940, 941, 942, 943, 944, 945, 946, 947, 948, 949, 950, 951, 952, 953, 954, 955, 956, 957, 958, 959, 960, 961, 962, 963, 964, 965, 966, 967, 968, 969, 970, 971, 972, 973, 974, 975, 976, 977, 978, 979, 980, 981, 982, 983, 984, 985, 986, 987, 988, 989, 990, 991, 992, 993, 994, 995, 996, 997, 998, 999] [4.91229816 5.91338335 4.62880176 4.58919328 6.42730429 5.39099751\n",
      " 4.23182994 5.51028177 4.5306676  3.90381703 5.31662251 4.83738621\n",
      " 4.42622486 4.73437026 5.17731908 5.17088194 4.44662768 5.52216019\n",
      " 4.60999674 4.38304387 4.48382645 4.46349159 4.39715879 3.72510753\n",
      " 5.50275875 4.77420276 3.25402545 5.56404329 5.1853225  5.31272745\n",
      " 4.95067058 6.79790713 4.92719206 4.41641827 4.91380848 6.20985451\n",
      " 4.75973002 3.18368038 4.28848073 5.69563536 5.04244984 4.59797089\n",
      " 2.71702874 7.18312347 3.99929242 6.05876361 6.45469111 3.52414076\n",
      " 6.62440042 4.22502028 4.8922476  4.40431677 4.85362437 5.34244066\n",
      " 3.54311748 4.61818228 5.41665835 6.46283469 6.02760117 5.10261415\n",
      " 6.39675265 5.29820739 6.43918243 5.31321092 4.34747329 5.28121337\n",
      " 6.42139365 6.46482485 5.80407553 4.51727571 5.31151164 5.25373772\n",
      " 4.42428536 5.44968659 5.03478811 7.40023374 4.28157488 4.80563307\n",
      " 3.37601678 4.28071972 4.28054253 4.20606125 4.02465332 5.53106223\n",
      " 4.12261022 3.91433203 5.75223477 5.6019194  4.6588357  4.08129693\n",
      " 5.07759736 3.92922178 3.98037317 6.44362761 5.16624632 3.3397904\n",
      " 4.85922664 3.59382462 5.55199802 5.7763124  4.64599014 6.46674135\n",
      " 3.32242052 4.46762345 5.05096468 6.1585557  3.73190559 5.45314116\n",
      " 5.18583256 5.02129364 4.57083907 4.27790485 7.16383085 6.74151154\n",
      " 4.6041294  2.95190812 6.29785184 3.9818127  5.71616729 5.00579786\n",
      " 4.20911885 5.94642283 5.88359085 4.17954652 4.90132654 4.21210568\n",
      " 6.71237989 6.94085663 5.55705066 4.6688225  5.47675576 5.1018653\n",
      " 3.95425562 4.12336435 4.95696018 4.68673595 4.98958878 4.71813514\n",
      " 4.54404925 4.33973378 6.63199445 5.65584178 5.18639366 6.23145242\n",
      " 4.98877036 5.45408723 4.90275516 3.75750453 4.85415497 5.00925304\n",
      " 5.10317479 5.31053114 4.10496088 4.58570679 4.77419441 3.80209918\n",
      " 4.17192898 4.97651659 5.60694038 6.39883932 5.36707146 5.58254312\n",
      " 3.82506357 5.17228022 6.30936402 5.00923367 4.83458443 3.4840063\n",
      " 4.86814156 3.74014836 4.61920577 3.07152479 5.32997488 5.85162607\n",
      " 4.76279038 4.80826562 4.07298439 6.15975866 3.6187842  5.08297294\n",
      " 5.35213434 4.86477445 2.16879765 5.4604512  4.97833217 3.74224733\n",
      " 5.65303505 4.48706243 3.88510701 3.58774399 4.76676927 5.37235609\n",
      " 4.38514006 5.03244433 5.01285447 5.2338886  6.10045086 4.41255218\n",
      " 4.23176707 5.20013276 3.67382612 3.06577344 3.13360062 4.73425203\n",
      " 6.43646371 3.94354488 5.74259554 5.02594299 5.10216901 3.64390043\n",
      " 4.82788227 4.81412932 5.27346147 4.4717852  5.96834919 5.1045553\n",
      " 5.80652356 6.0404551  4.81200269 5.18797076 7.79737066 4.13785731\n",
      " 4.00793417 5.1189238  5.19936839 3.35936803 4.4119983  4.72850958\n",
      " 4.85627166 4.69536395 6.18794861 6.52371451 4.20438305 6.04637795\n",
      " 5.25094573 6.89128253 6.46929146 4.02543046 5.33273647 4.79724187\n",
      " 5.89728754 7.27616679 5.96552676 4.19777127 4.64196764 4.11961793\n",
      " 3.50067391 4.75987707 5.53612577 4.75198706 4.53315047 5.33387246\n",
      " 7.38843165 5.61919179 5.90530641 6.56540734 3.93214988 4.75147572\n",
      " 3.72792375 5.01889133 4.81830118 6.93639805 6.13736262 3.78275844\n",
      " 5.54279956 4.33304092 6.29637526 4.02983228 6.95509122 3.56655247\n",
      " 3.85241645 4.63159226 3.07984475 6.21737141 1.94526955 4.20489196\n",
      " 3.48689778 4.21588423 5.56960459 6.49547662 6.80579122 5.65805198\n",
      " 5.15473637 2.68652333 3.67725678 3.25826475 4.19421231 4.47186227\n",
      " 4.67079717 4.43078764 6.96955954 5.52003817 5.39304801 7.28050385\n",
      " 5.71913307 5.5715445  5.84805669 6.05663934 4.36731829 3.23355431\n",
      " 4.52076665 4.51417049 5.6622123  3.84717369 3.96614434 3.64872755\n",
      " 6.11077425 5.70761557 4.75952942 3.35033572 5.36176571 4.60422748\n",
      " 3.12548344 5.66725886 2.84872365 6.2673792  5.46107459 5.57798931\n",
      " 6.13710629 6.5020138  5.57644352 3.93441403 4.40745199 5.01788679\n",
      " 4.07909347 7.09036349 3.62766005 4.55375678 4.34977304 4.88078878\n",
      " 4.65815096 3.94890392 6.21488902 5.98495445 5.52216706 5.51546235\n",
      " 5.49189618 4.64727522 7.02757516 7.41047131 4.50887492 3.65597581\n",
      " 4.97859069 4.66528355 6.40964274 5.41493486 5.0028005  4.67312018\n",
      " 5.1435379  6.97948879 6.90697665 4.68272743 4.44421757 5.85835519\n",
      " 3.63909401 4.54384459 4.03026437 3.78665267 4.06935533 4.04710528\n",
      " 3.06151797 6.11608498 4.86639888 5.5631591  4.33301696 5.15928654\n",
      " 3.66825427 5.93205931 5.8619938  4.56450842 4.8538942  5.68693598\n",
      " 4.30174595 5.32816267 4.90443359 4.22187607 4.13364613 6.20851184\n",
      " 5.03235454 3.23533339 5.48940367 6.27500659 3.77799106 2.26348356\n",
      " 5.79123844 5.1388141  3.42266659 6.29072524 5.26456582 3.74164302\n",
      " 1.52772341 3.90977703 4.69072101 4.7889081  5.79318541 5.02698145\n",
      " 5.28113546 4.70032184 4.13939059 4.52982704 6.55295682 5.3596989\n",
      " 4.84395918 5.88349984 5.00521923 3.45603901 5.6682454  4.16000657\n",
      " 4.83837383 5.88620791 5.59652389 6.00815686 4.21426704 2.93060465\n",
      " 4.45871311 5.03800472 4.43528504 5.87908139 4.62702782 5.09206886\n",
      " 4.16727872 6.45317253 5.88773928 4.7311073  4.84846028 5.69414258\n",
      " 5.90708131 5.26712953 3.86975907 4.03493993 6.19949327 6.14347854\n",
      " 7.76031213 3.94131488 3.35432711 5.28489221 6.44049236 5.40726062\n",
      " 5.11085754 3.58662183 5.79817442 4.61548356 5.67105193 3.83995509\n",
      " 7.547789   4.82627603 5.25393227 4.45763181 5.09813674 4.81032092\n",
      " 4.19704538 4.88290294 4.96775519 4.6371225  2.98275954 5.60231645\n",
      " 6.23099852 4.81775008 5.1905779  6.0510613  3.25544402 5.48366474\n",
      " 4.3403666  5.33897748 4.7894772  5.99939104 4.78607292 4.48154856\n",
      " 4.13281797 5.79550915 4.13913155 5.52656125 5.73473688 6.12288764\n",
      " 5.3384167  5.38950562 4.04177652 4.91382392 3.8883533  4.02145924\n",
      " 5.76886417 4.79378644 5.90560266 5.86351361 5.14839578 3.63790526\n",
      " 6.51244118 6.21431152 4.70586645 6.06048645 4.61011581 5.59368988\n",
      " 6.69896511 3.89481815 5.01662415 3.48069657 4.70906049 5.58161635\n",
      " 3.96114128 4.39825193 6.14446908 4.09429013 4.39946374 4.5102972\n",
      " 3.90650906 4.92622156 6.33027882 6.60541311 5.58791438 3.72388019\n",
      " 4.95420703 4.35945831 3.95889066 5.66513405 5.46279525 5.47127298\n",
      " 5.5520919  3.44122801 3.68676951 4.30819669 4.19370305 4.80510683\n",
      " 7.56222757 5.03553731 4.00658553 3.75602739 5.75888172 4.81786705\n",
      " 4.05146786 5.37625458 4.44642154 4.73338636 6.05660896 3.24911454\n",
      " 4.91905271 5.90419422 5.1434391  3.2757546  4.39141097 5.85520231\n",
      " 4.9455549  4.16775182 4.03891328 5.56161836 4.23984119 4.98316605\n",
      " 3.56618827 4.87193993 6.07171624 7.57298103 6.00576881 4.75025799\n",
      " 6.63381605 6.37291574 4.38646508 4.28499237 3.82490625 6.68449578\n",
      " 5.86681467 6.90979009 4.31314802 5.56687661 4.78268053 4.95691606\n",
      " 3.91146501 5.89902824 3.7128541  4.37767216 4.6247245  3.41844406\n",
      " 3.18917125 4.9669104  4.51268799 4.77910278 4.49018444 4.30030642\n",
      " 6.89862683 5.21938565 7.44241089 6.30160574 5.95146534 4.88163565\n",
      " 4.86449462 5.93378071 4.13863866 5.52374151 5.84658634 3.88043908\n",
      " 5.17801465 4.01924211 4.69585583 2.78975816 4.56142905 6.40480869\n",
      " 6.076949   4.01853097 4.04529274 5.09735256 4.8902554  4.79167742\n",
      " 6.014842   4.54950481 5.08260447 5.37237111 4.81332395 4.30494704\n",
      " 5.07691783 5.13296522 5.04710235 4.10430699 4.50537186 7.35940639\n",
      " 5.41999459 3.14529541 3.8827035  5.79879851 5.7788599  6.80387609\n",
      " 3.23875774 5.62090883 6.09610372 4.49093047 4.91587962 5.28922366\n",
      " 6.13853821 4.51842805 6.36958787 5.06268436 4.69186282 5.74846235\n",
      " 6.18119211 5.60240321 3.58761307 4.66698427 4.09447171 4.35693181\n",
      " 5.24484261 5.16206608 5.68088988 5.01388401 4.71256513 5.11228751\n",
      " 4.71292081 3.68208032 4.91852444 5.05588441 7.18102061 4.70732929\n",
      " 6.06849701 6.77948314 3.48826421 4.64632639 5.52361799 4.21227595\n",
      " 6.54638563 5.74186106 4.57584123 5.07639416 4.28424707 3.7731936\n",
      " 6.11601198 5.17489149 4.11609589 6.34219734 5.63024585 5.14202498\n",
      " 3.88680765 3.27922441 4.63320115 4.3513086  5.81267124 3.04959428\n",
      " 4.63453588 4.40032755 4.75044016 3.72914258 7.3236285  6.34843167\n",
      " 3.69346847 5.4392162  4.9568949  4.69873044 3.60127922 5.56596559\n",
      " 5.18811417 5.76596244 5.24270727 4.25832597 5.58937718 4.79509861\n",
      " 4.53832287 4.04309731 5.58547457 5.91396326 5.01847898 6.87564229\n",
      " 7.51090722 4.41744553 3.66609568 4.5474164  4.16330061 4.41194637\n",
      " 6.04746666 4.54097326 3.95578022 4.81003505 5.71415687 3.75186166\n",
      " 5.51878175 5.72092774 5.86154431 6.13008243 4.67028715 4.64933966\n",
      " 6.37573384 5.34824529 3.89155791 5.17188868 5.93861149 5.22129537\n",
      " 5.25412774 4.4226828  4.69376308 4.57903752 6.22571791 5.13228783\n",
      " 4.27844088 5.16731829 6.46995624 5.43170421 5.39509647 4.6615988\n",
      " 5.02540299 6.53257199 4.2844346  4.74537037 3.23602087 6.13749819\n",
      " 5.29019365 4.95616731 3.96053657 5.07168179 3.68420621 5.47613894\n",
      " 4.66630362 4.57870069 6.1683055  5.01961965 6.84954351 4.27924046\n",
      " 4.97157854 4.76993579 4.51955445 4.50890459 5.19547081 5.01057445\n",
      " 4.9875205  4.65399361 6.58482392 2.74659182 2.88719547 4.2931411\n",
      " 5.04862145 5.17866469 5.29612097 4.87732049 5.48722562 4.15775123\n",
      " 5.19789118 4.43013772 4.78141514 3.80398937 5.52318878 6.40650943\n",
      " 4.78417449 3.92197268 5.29047856 5.31632127 2.1605133  4.21206621\n",
      " 3.28749741 6.13588172 4.26762974 5.68700383 4.09360669 4.38930472\n",
      " 4.73018039 4.56949873 5.10148188 4.47719232 4.30426286 6.09144717\n",
      " 4.61542873 4.96924061 5.70963207 4.09749399 4.57917593 6.44175758\n",
      " 4.65449551 3.18539428 6.05472216 5.79812065 7.04308219 5.0724133\n",
      " 6.06486429 6.55937107 6.24567196 5.27331356 5.45566187 4.02768237\n",
      " 5.4143526  5.65783908 5.4483775  5.45705677 4.95746779 5.07120329\n",
      " 5.65093096 5.37238401 6.41871896 6.30586637 5.79077453 4.6526054\n",
      " 5.13415099 5.25910039 5.25422178 3.90679589 6.16798059 5.63218646\n",
      " 2.67154539 5.76860863 5.94431341 5.56406859 5.5105958  6.87760761\n",
      " 5.88774623 4.71567503 4.86069762 6.50086845 3.88326943 4.91386245\n",
      " 4.20183205 5.60837412 6.26792589 7.04096175 5.17181208 5.86094912\n",
      " 4.08126247 4.37005207 3.55141695 7.19179471 3.81527695 4.1246207\n",
      " 4.28282552 4.22500124 6.05772958 6.33989193 5.75987532 4.53320477\n",
      " 5.27356594 5.23236874 5.15215809 4.6246702  4.00012469 5.32844293\n",
      " 5.52977653 5.90450755 5.63145319 3.15625335 4.54259886 5.11186233\n",
      " 3.58338463 4.96203551 2.15982517 4.14919995 4.98002577 4.93534668\n",
      " 5.82888979 4.75872282 4.35054615 6.49170833 4.49926049 5.28972295\n",
      " 5.7583617  5.28546853 5.65407765 4.32484413 5.65749083 5.25252866\n",
      " 2.87374283 3.95857081 5.40744255 6.03134389 2.81346678 5.43027885\n",
      " 6.46899311 4.68551568 6.22437044 5.00182352 4.48944287 5.24975632\n",
      " 5.07674255 5.99277299 3.70604548 3.68923221 4.2582145  4.86419225\n",
      " 5.62895695 5.46164401 3.78479652 5.60522406 5.73216613 4.96709111\n",
      " 2.92797974 5.12416849 4.76580411 6.35718092 6.11890002 5.70138613\n",
      " 5.91895092 4.66941641 4.07008738 4.96347489 6.36089182 3.96143853\n",
      " 3.64556332 4.31261155 4.33716491 4.86913719 4.52770866 4.43820648\n",
      " 4.46294422 6.5773522  4.74537139 4.95084203 5.68110134 6.03037528\n",
      " 4.8359944  4.04625253 5.59435981 3.9839638  5.00215235 4.57509855\n",
      " 7.30937461 6.31080661 5.2721631  3.93106167 5.6959151  6.16272236\n",
      " 6.45635436 5.33824899 3.98240646 5.6346755  3.8960396  6.36076207\n",
      " 3.94915438 8.10692747 6.68594592 4.8947909  6.20043117 3.75051813\n",
      " 4.64036217 4.52108576 6.8562318  5.26205732 5.25678713 5.08958431\n",
      " 6.61578826 4.24518889 4.19538725 5.08993459 5.42428972 4.83197991\n",
      " 4.91663151 5.4708854  6.32806595 4.48907501 5.07264199 6.05600673\n",
      " 4.07378367 6.82036039 4.43046153 4.57773266 5.67023798 4.62830006\n",
      " 4.70846208 5.56836234 4.27944757 5.33870983 4.57398522 7.04020112\n",
      " 6.01919542 4.60686657 5.68744624 4.94416697 5.20510899 5.64640401\n",
      " 4.58742141 5.15641952 5.06247501 5.03396039]\n"
     ]
    },
    {
     "data": {
      "image/png": "[encoded data removed]",
      "text/plain": [
       "<Figure size 432x288 with 1 Axes>"
      ]
     },
     "metadata": {
      "needs_background": "light"
     },
     "output_type": "display_data"
    },
    {
     "data": {
      "image/png": "[encoded data removed]",
      "text/plain": [
       "<Figure size 432x288 with 1 Axes>"
      ]
     },
     "metadata": {
      "needs_background": "light"
     },
     "output_type": "display_data"
    }
   ],
   "source": [
    "import numpy as np\n",
    "import matplotlib.pyplot as plt\n",
    "\n",
    "n=5+np.random.randn(1000)\n",
    "print(\"n=\",n)\n",
    "\n",
    "#m=[m for m in range (len(n))]\n",
    "\n",
    "m=list(range(len(n)))\n",
    "print(\"m=\",m)\n",
    "print(m,n)\n",
    "plt.bar(m,n)\n",
    "plt.title(\"raw data\")\n",
    "plt.show()\n",
    "\n",
    "plt.hist(n,bins=2)\n",
    "plt.title(\"histogram\")\n",
    "plt.show()"
   ]
  },
  {
   "cell_type": "code",
   "execution_count": 55,
   "metadata": {},
   "outputs": [
    {
     "name": "stdout",
     "output_type": "stream",
     "text": [
      "[-0.06255193 -0.62649647 -0.60520028 -0.10374065  1.13795598  0.11089058\n",
      "  0.99831781  0.44698409 -2.04591677 -0.89369087]\n",
      "[4.93744807 4.37350353 4.39479972 4.89625935 6.13795598 5.11089058\n",
      " 5.99831781 5.44698409 2.95408323 4.10630913]\n"
     ]
    }
   ],
   "source": [
    "import numpy as np\n",
    "x=np.random.randn(10)\n",
    "print(x)\n",
    "print(x+5)\n"
   ]
  },
  {
   "cell_type": "code",
   "execution_count": 57,
   "metadata": {},
   "outputs": [
    {
     "name": "stdout",
     "output_type": "stream",
     "text": [
      "[6 4 8 7 2 1 0 7 6 2]\n",
      "<class 'numpy.ndarray'>\n",
      "[-22  -7 -28  -8  -2 -24 -11  -6  -5 -15]\n"
     ]
    }
   ],
   "source": [
    "import numpy as np\n",
    "\n",
    "a=np.random.randint(10,size=10)\n",
    "print(a)\n",
    "print(type(a))\n",
    "b=np.random.randint(-30,0,size=10)\n",
    "print(b)"
   ]
  },
  {
   "cell_type": "code",
   "execution_count": 56,
   "metadata": {},
   "outputs": [
    {
     "data": {
      "image/png": "[encoded data removed]",
      "text/plain": [
       "<Figure size 432x288 with 1 Axes>"
      ]
     },
     "metadata": {
      "needs_background": "light"
     },
     "output_type": "display_data"
    }
   ],
   "source": [
    "from  matplotlib import pyplot as plt\n",
    "import numpy as np\n",
    "from mpl_toolkits.mplot3d import axes3d\n",
    "\n",
    "fig=plt.figure()\n",
    "ax= fig.add_subplot(111,projection='3d')\n",
    "\n",
    "x1=[1,2,3,4,5,6,7,8,9,10]\n",
    "y1=np.random.randint(10,size=10)\n",
    "z1=np.random.randint(10,size=10)\n",
    "x2=[-1,-2,-3,-4,-5,-6,-7,-8,-9,-10]\n",
    "y2=np.random.randint(-10,0,size=10)\n",
    "z2=np.random.randint(10,size=10)\n",
    "\n",
    "ax.scatter(x1,y1,z1,c='b',marker='o',label='blue')\n",
    "ax.scatter(x2,y2,z2,c='r',marker='D',label='green')\n",
    "\n",
    "ax.set_xlabel('x axis')\n",
    "ax.set_ylabel('y axis')\n",
    "ax.set_zlabel(\"z axis\")\n",
    "plt.title(\"3d scatter plot example hahaha\")\n",
    "plt.legend()\n",
    "plt.tight_layout()\n",
    "plt.show()\n",
    "\n"
   ]
  },
  {
   "cell_type": "code",
   "execution_count": 58,
   "metadata": {},
   "outputs": [
    {
     "name": "stdout",
     "output_type": "stream",
     "text": [
      "           preg      plas      pres      skin      test      mass      pedi       age     class\n",
      "preg   1.000000  0.129459  0.141282 -0.081672 -0.073535  0.017683 -0.033523  0.544341  0.221898\n",
      "plas   0.129459  1.000000  0.152590  0.057328  0.331357  0.221071  0.137337  0.263514  0.466581\n",
      "pres   0.141282  0.152590  1.000000  0.207371  0.088933  0.281805  0.041265  0.239528  0.065068\n",
      "skin  -0.081672  0.057328  0.207371  1.000000  0.436783  0.392573  0.183928 -0.113970  0.074752\n",
      "test  -0.073535  0.331357  0.088933  0.436783  1.000000  0.197859  0.185071 -0.042163  0.130548\n",
      "mass   0.017683  0.221071  0.281805  0.392573  0.197859  1.000000  0.140647  0.036242  0.292695\n",
      "pedi  -0.033523  0.137337  0.041265  0.183928  0.185071  0.140647  1.000000  0.033561  0.173844\n",
      "age    0.544341  0.263514  0.239528 -0.113970 -0.042163  0.036242  0.033561  1.000000  0.238356\n",
      "class  0.221898  0.466581  0.065068  0.074752  0.130548  0.292695  0.173844  0.238356  1.000000\n"
     ]
    },
    {
     "data": {
      "image/png": "[encoded data removed]",
      "text/plain": [
       "<Figure size 432x288 with 2 Axes>"
      ]
     },
     "metadata": {
      "needs_background": "light"
     },
     "output_type": "display_data"
    }
   ],
   "source": [
    "import warnings\n",
    "warnings.filterwarnings(action=\"ignore\")\n",
    "\n",
    "from matplotlib import pyplot as plt\n",
    "import pandas as pd\n",
    "import numpy\n",
    "pd.set_option('display.width',1000)\n",
    "pd.set_option('display.max_column',9)\n",
    "\n",
    "hnames=['preg','plas','pres','skin','test','mass','pedi','age','class']\n",
    "\n",
    "dtaframe=pd.read_csv('indians-diabetes.data.csv',names=hnames)\n",
    "correlations=dtaframe.corr()\n",
    "print(correlations)\n",
    "#plot correlation matrix\n",
    "fig=plt.figure()\n",
    "#Follwing will add matrix and side bar in entire area\n",
    "subFig=fig.add_subplot(111)\n",
    "cax=subFig.matshow(correlations,vmin=-1,vmax=1)\n",
    "fig.colorbar(cax)\n",
    "#________________________\n",
    "ticks=numpy.arange(0,9)\n",
    "subFig.set_xticks(ticks)\n",
    "subFig.set_yticks(ticks)\n",
    "# subFig.set_xticklables(hnames)\n",
    "# subFig.set_yticklables(hnames)\n",
    "#---------------------------------\n",
    "plt.show()\n",
    "\n",
    "\n"
   ]
  },
  {
   "cell_type": "code",
   "execution_count": 59,
   "metadata": {},
   "outputs": [
    {
     "name": "stdout",
     "output_type": "stream",
     "text": [
      "0     1.0\n",
      "1     3.0\n",
      "2     NaN\n",
      "3    15.0\n",
      "4     7.0\n",
      "5     8.0\n",
      "dtype: float64\n",
      "DatetimeIndex(['2019-01-31', '2019-02-28', '2019-03-31', '2019-04-30', '2019-05-31', '2019-06-30'], dtype='datetime64[ns]', freq='M')\n",
      "2019-01-31 00:00:00\n",
      "[[-1.29305624 -0.83272944 -0.27600278 -0.79214514]\n",
      " [-0.0768216  -0.02628422 -0.0427568   0.92860066]\n",
      " [-0.28816721  0.61461392 -0.51275138 -0.07457535]\n",
      " [-0.19644166  0.17798555  1.6843408   0.06501823]\n",
      " [-1.08560813  1.31102875 -0.97715881  0.92434208]\n",
      " [-0.96150006 -0.93382711  1.57913978  0.97886548]]\n",
      "                   A         B         C         D\n",
      "2019-01-31  0.384799  0.552678  0.417939  0.366578\n",
      "2019-02-28  0.187698 -1.157481  0.067381  1.313943\n",
      "2019-03-31  0.846525  0.268623 -2.019305 -0.407789\n",
      "2019-04-30 -1.044590  0.854422  0.048138  0.109655\n",
      "2019-05-31  0.119519  1.651015 -0.704744  0.576659\n",
      "2019-06-30 -0.892938  0.320009  0.826019  2.218911\n",
      "_______________________________________\n",
      "headings  Index(['A', 'B', 'C', 'D'], dtype='object')\n",
      "----------------------------------------\n",
      "row headings in dataframe DatetimeIndex(['2019-01-31', '2019-02-28', '2019-03-31', '2019-04-30', '2019-05-31', '2019-06-30'], dtype='datetime64[ns]', freq='M')\n",
      "[[ 0.38479933  0.55267847  0.41793939  0.36657751]\n",
      " [ 0.18769753 -1.15748091  0.06738114  1.31394295]\n",
      " [ 0.84652456  0.26862288 -2.01930477 -0.40778876]\n",
      " [-1.04459006  0.85442176  0.04813754  0.10965495]\n",
      " [ 0.11951877  1.65101504 -0.70474358  0.57665942]\n",
      " [-0.89293779  0.3200094   0.82601934  2.21891051]]\n",
      "                   A         B         C         D  E   f\n",
      "2019-01-31  0.384799  0.552678  0.417939  0.366578  1   0\n",
      "2019-02-28  0.187698 -1.157481  0.067381  1.313943  1   0\n",
      "2019-03-31  0.846525  0.268623 -2.019305 -0.407789  1   0\n",
      "2019-04-30 -1.044590  0.854422  0.048138  0.109655  0  10\n",
      "2019-05-31  0.119519  1.651015 -0.704744  0.576659  1  10\n",
      "2019-06-30 -0.892938  0.320009  0.826019  2.218911  0   0\n",
      "A    float64\n",
      "B    float64\n",
      "C    float64\n",
      "D    float64\n",
      "E      int64\n",
      "f      int64\n",
      "dtype: object\n",
      "df.head(5)                    A         B         C         D  E   f\n",
      "2019-01-31  0.384799  0.552678  0.417939  0.366578  1   0\n",
      "2019-02-28  0.187698 -1.157481  0.067381  1.313943  1   0\n",
      "2019-03-31  0.846525  0.268623 -2.019305 -0.407789  1   0\n",
      "2019-04-30 -1.044590  0.854422  0.048138  0.109655  0  10\n",
      "2019-05-31  0.119519  1.651015 -0.704744  0.576659  1  10\n",
      "df.tail()                    A         B         C         D  E   f\n",
      "2019-02-28  0.187698 -1.157481  0.067381  1.313943  1   0\n",
      "2019-03-31  0.846525  0.268623 -2.019305 -0.407789  1   0\n",
      "2019-04-30 -1.044590  0.854422  0.048138  0.109655  0  10\n",
      "2019-05-31  0.119519  1.651015 -0.704744  0.576659  1  10\n",
      "2019-06-30 -0.892938  0.320009  0.826019  2.218911  0   0\n",
      "df.sample()                    A         B         C         D  E  f\n",
      "2019-03-31  0.846525  0.268623 -2.019305 -0.407789  1  0\n",
      "df.describe()               A         B         C         D         E          f\n",
      "count  6.000000  6.000000  6.000000  6.000000  6.000000   6.000000\n",
      "mean  -0.066498  0.414878 -0.227428  0.696326  0.666667   3.333333\n",
      "std    0.745139  0.921187  1.012695  0.936592  0.516398   5.163978\n",
      "min   -1.044590 -1.157481 -2.019305 -0.407789  0.000000   0.000000\n",
      "25%   -0.639824  0.281470 -0.516523  0.173886  0.250000   0.000000\n",
      "50%    0.153608  0.436344  0.057759  0.471618  1.000000   0.000000\n",
      "75%    0.335524  0.778986  0.330300  1.129622  1.000000   7.500000\n",
      "max    0.846525  1.651015  0.826019  2.218911  1.000000  10.000000\n",
      "              A         B         C         D         E          f\n",
      "count  6.000000  6.000000  6.000000  6.000000  6.000000   6.000000\n",
      "mean  -0.066498  0.414878 -0.227428  0.696326  0.666667   3.333333\n",
      "std    0.745139  0.921187  1.012695  0.936592  0.516398   5.163978\n",
      "min   -1.044590 -1.157481 -2.019305 -0.407789  0.000000   0.000000\n",
      "25%   -0.639824  0.281470 -0.516523  0.173886  0.250000   0.000000\n",
      "50%    0.153608  0.436344  0.057759  0.471618  1.000000   0.000000\n",
      "75%    0.335524  0.778986  0.330300  1.129622  1.000000   7.500000\n",
      "max    0.846525  1.651015  0.826019  2.218911  1.000000  10.000000\n",
      "original values : \n",
      "                    A         B         C         D  E   f\n",
      "2019-01-31  0.384799  0.552678  0.417939  0.366578  1   0\n",
      "2019-02-28  0.187698 -1.157481  0.067381  1.313943  1   0\n",
      "2019-03-31  0.846525  0.268623 -2.019305 -0.407789  1   0\n",
      "2019-04-30 -1.044590  0.854422  0.048138  0.109655  0  10\n",
      "2019-05-31  0.119519  1.651015 -0.704744  0.576659  1  10\n",
      "2019-06-30 -0.892938  0.320009  0.826019  2.218911  0   0\n",
      "sorted vales:\n",
      "\n",
      "                   A         B         C         D  E   f\n",
      "2019-02-28  0.187698 -1.157481  0.067381  1.313943  1   0\n",
      "2019-03-31  0.846525  0.268623 -2.019305 -0.407789  1   0\n",
      "2019-06-30 -0.892938  0.320009  0.826019  2.218911  0   0\n",
      "2019-01-31  0.384799  0.552678  0.417939  0.366578  1   0\n",
      "2019-04-30 -1.044590  0.854422  0.048138  0.109655  0  10\n",
      "2019-05-31  0.119519  1.651015 -0.704744  0.576659  1  10\n",
      "                   A         B         C         D  E\n",
      "2019-01-31  0.384799  0.552678  0.417939  0.366578  1\n",
      "2019-02-28  0.187698 -1.157481  0.067381  1.313943  1\n",
      "2019-03-31  0.846525  0.268623 -2.019305 -0.407789  1\n",
      "2019-04-30 -1.044590  0.854422  0.048138  0.109655  0\n",
      "2019-05-31  0.119519  1.651015 -0.704744  0.576659  1\n",
      "2019-06-30 -0.892938  0.320009  0.826019  2.218911  0\n"
     ]
    }
   ],
   "source": [
    "import numpy as np\n",
    "import pandas as pd\n",
    "s=pd.Series([1,3,np.nan,15,7,8])\n",
    "print(s)\n",
    "\n",
    "#\n",
    "dates=pd.date_range('20190101',periods=6,freq=\"M\")\n",
    "print(dates)\n",
    "print(dates[0])\n",
    "\n",
    "print(np.random.randn(6,4))\n",
    "\n",
    "df=pd.DataFrame(np.random.randn(6,4),index=dates,columns=['A','B','C',\"D\"])\n",
    "\n",
    "print(df)\n",
    "print('_______________________________________')\n",
    "print('headings ',df.columns)\n",
    "print(\"----------------------------------------\")\n",
    "print('row headings in dataframe',df.index)\n",
    "print(df.values)\n",
    "# featureEngineering & featurElimination\n",
    "df['E']=df['A'].apply(lambda x: 1 if (x>0) else 0)\n",
    "df['f']=df['B'].apply(lambda x: 10 if (x>.6)else 0)\n",
    "#df['G']=df['c'].apply(lambda z: 12 if (z<.3)else 2)\n",
    "print(df)\n",
    "\n",
    "print(df.dtypes)\n",
    "print('df.head(5)',df.head())\n",
    "print('df.tail()',df.tail())\n",
    "print('df.sample()',df.sample())\n",
    "print('df.describe()',df.describe())#does not print the report of extra columns\n",
    "print(df.describe(include=\"all\"))\n",
    "print(\"original values : \\n\",df)\n",
    "print('sorted vales:\\n')\n",
    "\n",
    "print(df.sort_values(by='B',ascending=True))\n",
    "\n",
    "del(df[\"f\"])\n",
    "print(df)"
   ]
  },
  {
   "cell_type": "code",
   "execution_count": null,
   "metadata": {},
   "outputs": [],
   "source": []
  }
 ],
 "metadata": {
  "interpreter": {
   "hash": "b3ba2566441a7c06988d0923437866b63cedc61552a5af99d1f4fb67d367b25f"
  },
  "kernelspec": {
   "display_name": "Python 3.8.8 64-bit ('base': conda)",
   "language": "python",
   "name": "python3"
  },
  "language_info": {
   "codemirror_mode": {
    "name": "ipython",
    "version": 3
   },
   "file_extension": ".py",
   "mimetype": "text/x-python",
   "name": "python",
   "nbconvert_exporter": "python",
   "pygments_lexer": "ipython3",
   "version": "3.8.8"
  },
  "orig_nbformat": 4
 },
 "nbformat": 4,
 "nbformat_minor": 2
}
