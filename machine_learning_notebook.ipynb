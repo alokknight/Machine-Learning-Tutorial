{
  "cells": [
    {
      "cell_type": "markdown",
      "metadata": {
        "id": "WAjhQTiCNdA-"
      },
      "source": [
        "importing file from web using urllib"
      ]
    },
    {
      "cell_type": "markdown",
      "metadata": {
        "id": "-MhK8eppugVC"
      },
      "source": [
        "A Computer program that is said to:\n",
        "learn from exprience E with respect to class of task T and\n",
        "\n",
        "\n",
        "\n",
        "steps::-----------------------------------------------------------------------------------------------------------------\n",
        "\n",
        "* 1.get the data\n",
        "\n",
        "* 2.prapare the input data-cleanse ,formate\n",
        "\n",
        "* 3.analyse the input data-plotting ,finding ,features.\n",
        "\n",
        "* 4.train the algorithm-\n",
        "\n",
        "\n",
        "\n",
        "\n",
        "\n",
        "4 ways to prepare the data for machine learning\n",
        "-----------------------------------------------------------------------------------------------------------------------\n",
        "* 1.Rescale data.\n",
        "* 2.Standardize data\n",
        "* 3.Normalize data\n",
        "* 4.binarize data\n",
        "\n",
        "\n",
        "--------------------------------------------------------------------------------------------------------------------\n",
        "\n",
        "## steps of transforms:-\n",
        "____________________\n",
        "\n",
        "* step1: load the datasets from a url.\n",
        "* step2: split the datasets into the input and output variables for machine learning.\n",
        "* step3: apply a pre-processing transformation technique to transform the input variables.\n",
        "* step4: summarize the data to show the change.\n",
        "\n",
        "-------------------------------------------------------------------------------------------------------------------\n",
        "machine learning data separation into training and test data for machine learning algoriothm evaluation (mathod:-4)\n",
        "~ 1)Train and Test Sets Split.\n",
        "~ 2)k-fold cross validation.\n",
        "~ 3)leave one out cross validation .\n",
        "~ 4)repeated random train-test splits.\n",
        "\n",
        "--------------------------------------------------------------------------------------------------------------------\n",
        "\n",
        "### machine learning algorithm performance evaluation MATRIX::-\n",
        "__________________________________________________________\n",
        "\n",
        "#### A)logistic regression Algorithm performance evaluation Metrics:-\n",
        "\n",
        "    * 1)CLASSIFICATION ACCURACY   #CA\n",
        "    * 2)LOGARITHMIC LOSS          #LL\n",
        "    * 3)AREA UNDER ROC CURVE(AUC) #AU(roc)C\n",
        "    * 4)CONFUSION MATRIX          #CM\n",
        "    * 5)CLASSIFICATION report     #CR\n",
        "\n",
        "#### B)Linear regression Algorithm performance evaluation Metrics:-\n",
        "    * 1)mean absolute error  #MAE\n",
        "    * 2)mean square error    #ASE\n",
        "    * 3)R2 error             #R2E\n",
        "===================================================================================================================\n",
        "-------------------------------------------------------------------------------------------------------------------\n",
        "\n",
        "preciosn(exactness)=\n",
        "    * how useful the search results are measure of exactnessor quality\n",
        "\n",
        "recall(completeness)=\n",
        "                    * how complete the results are measure of completeness or quantity\n",
        "                    * sensitivity\n",
        "\n",
        "\n",
        "-------------------------------------------------------------------------------------------------------------------\n",
        "* F1 score = is the hormonic mean of precision and sensitivity(=recall)\n",
        "* F1=2*((precision *recall)/(precision+recall))\n",
        "===================================================================================================================\n",
        "\n",
        "\n",
        "### spot-check of machine learning algorithm::-\n",
        "____________________________________________\n",
        "\n",
        "* 1)logistic regression\n",
        "* 2)linear discriminent  analysis(LDA)\n",
        "* 3)k-nearest neighbours(kNN)\n",
        "* 4)naive bayes\n",
        "* 5)classification and regression trees(CART)(also called decision tree)\n",
        "* 6)Support Vector Machines(SVM)\n",
        "====================================================================================================================\n",
        "\n"
      ]
    },
    {
      "cell_type": "code",
      "execution_count": 56,
      "metadata": {
        "colab": {
          "base_uri": "https://localhost:8080/",
          "height": 208,
          "resources": {
            "http://localhost:8080/nbextensions/google.colab/files.js": {
              "data": "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",
              "headers": [
                [
                  "content-type",
                  "application/javascript"
                ]
              ],
              "ok": true,
              "status": 200,
              "status_text": ""
            }
          }
        },
        "id": "d_ntl225JRHM",
        "outputId": "773a3f78-8268-4a14-d08e-b8d1965519e7"
      },
      "outputs": [
        {
          "data": {
            "text/html": [
              "\n",
              "     <input type=\"file\" id=\"files-970a8232-0740-44e4-9a32-015a80f59118\" name=\"files[]\" multiple disabled\n",
              "        style=\"border:none\" />\n",
              "     <output id=\"result-970a8232-0740-44e4-9a32-015a80f59118\">\n",
              "      Upload widget is only available when the cell has been executed in the\n",
              "      current browser session. Please rerun this cell to enable.\n",
              "      </output>\n",
              "      <script src=\"/nbextensions/google.colab/files.js\"></script> "
            ],
            "text/plain": [
              "<IPython.core.display.HTML object>"
            ]
          },
          "metadata": {},
          "output_type": "display_data"
        },
        {
          "name": "stdout",
          "output_type": "stream",
          "text": [
            "Saving BrainTumorData.csv to BrainTumorData.csv\n",
            "Saving housing.csv to housing.csv\n",
            "Saving KMeansData.csv to KMeansData.csv\n",
            "Saving LgR_Movies_kNN_classifier.csv to LgR_Movies_kNN_classifier.csv\n",
            "Saving LR_House_price.csv to LR_House_price.csv\n"
          ]
        }
      ],
      "source": [
        "from google.colab import files\n",
        "uploaded = files.upload()"
      ]
    },
    {
      "cell_type": "code",
      "execution_count": 3,
      "metadata": {
        "colab": {
          "base_uri": "https://localhost:8080/",
          "height": 309
        },
        "id": "vYWI7wU71vNV",
        "outputId": "e86a8294-3f52-422d-dc19-5559439ddeda"
      },
      "outputs": [
        {
          "name": "stdout",
          "output_type": "stream",
          "text": [
            "Collecting Pillow==7.1.2\n",
            "  Downloading Pillow-7.1.2-cp37-cp37m-manylinux1_x86_64.whl (2.1 MB)\n",
            "\u001b[K     |████████████████████████████████| 2.1 MB 12.2 MB/s \n",
            "\u001b[?25hInstalling collected packages: Pillow\n",
            "  Attempting uninstall: Pillow\n",
            "    Found existing installation: Pillow 5.3.0\n",
            "    Uninstalling Pillow-5.3.0:\n",
            "      Successfully uninstalled Pillow-5.3.0\n",
            "\u001b[31mERROR: pip's dependency resolver does not currently take into account all the packages that are installed. This behaviour is the source of the following dependency conflicts.\n",
            "albumentations 0.1.12 requires imgaug<0.2.7,>=0.2.5, but you have imgaug 0.2.9 which is incompatible.\u001b[0m\n",
            "Successfully installed Pillow-7.1.2\n"
          ]
        },
        {
          "data": {
            "application/vnd.colab-display-data+json": {
              "pip_warning": {
                "packages": [
                  "PIL"
                ]
              }
            }
          },
          "metadata": {},
          "output_type": "display_data"
        }
      ],
      "source": [
        "!pip install Pillow==7.1.2"
      ]
    },
    {
      "cell_type": "code",
      "execution_count": 5,
      "metadata": {
        "colab": {
          "base_uri": "https://localhost:8080/"
        },
        "id": "zkBfR1JRrRvv",
        "outputId": "240f8e55-bd75-4df2-ecde-1accb41d27c3"
      },
      "outputs": [
        {
          "name": "stdout",
          "output_type": "stream",
          "text": [
            "welcome to the world of machine learning\n",
            "numpy: 1.19.5\n",
            "scipy: 1.4.1\n",
            "matplotlib: 3.2.2\n"
          ]
        }
      ],
      "source": [
        "print(\"welcome to the world of machine learning\")\n",
        "import numpy\n",
        "print(\"numpy:\",numpy.__version__)\n",
        "import scipy\n",
        "print(\"scipy:\",scipy.__version__)\n",
        "import matplotlib\n",
        "print(\"matplotlib:\",matplotlib.__version__)\n",
        "# import Pillow\n",
        "# print(\"Pillow:\",Pillow.__version__)"
      ]
    },
    {
      "cell_type": "code",
      "execution_count": 6,
      "metadata": {
        "colab": {
          "base_uri": "https://localhost:8080/"
        },
        "id": "tHReoWeLrYaF",
        "outputId": "e2a3acef-c2ed-47fc-ee56-d33fb6946956"
      },
      "outputs": [
        {
          "name": "stdout",
          "output_type": "stream",
          "text": [
            "numpy loadtxt: (768, 9)\n",
            "\n",
            "\n",
            "\n",
            "\n",
            "[  6.    148.     72.     35.      0.     33.6     0.627  50.      1.   ]\n",
            "[ 1.    85.    66.    29.     0.    26.6    0.351 31.     0.   ]\n",
            "[  8.    183.     64.      0.      0.     23.3     0.672  32.      1.   ]\n",
            "[ 1.    89.    66.    23.    94.    28.1    0.167 21.     0.   ]\n",
            "[  0.    137.     40.     35.    168.     43.1     2.288  33.      1.   ]\n",
            "[  5.    116.     74.      0.      0.     25.6     0.201  30.      0.   ]\n",
            "[ 3.    78.    50.    32.    88.    31.     0.248 26.     1.   ]\n",
            "[ 10.    115.      0.      0.      0.     35.3     0.134  29.      0.   ]\n",
            "[2.00e+00 1.97e+02 7.00e+01 4.50e+01 5.43e+02 3.05e+01 1.58e-01 5.30e+01\n",
            " 1.00e+00]\n",
            "[  8.    125.     96.      0.      0.      0.      0.232  54.      1.   ]\n",
            "[  4.    110.     92.      0.      0.     37.6     0.191  30.      0.   ]\n",
            "[ 10.    168.     74.      0.      0.     38.      0.537  34.      1.   ]\n",
            "[ 10.    139.     80.      0.      0.     27.1     1.441  57.      0.   ]\n",
            "[1.00e+00 1.89e+02 6.00e+01 2.30e+01 8.46e+02 3.01e+01 3.98e-01 5.90e+01\n",
            " 1.00e+00]\n",
            "[  5.    166.     72.     19.    175.     25.8     0.587  51.      1.   ]\n",
            "[  7.    100.      0.      0.      0.     30.      0.484  32.      1.   ]\n",
            "[  0.    118.     84.     47.    230.     45.8     0.551  31.      1.   ]\n",
            "[  7.    107.     74.      0.      0.     29.6     0.254  31.      1.   ]\n",
            "[  1.    103.     30.     38.     83.     43.3     0.183  33.      0.   ]\n",
            "[  1.    115.     70.     30.     96.     34.6     0.529  32.      1.   ]\n",
            "[  3.    126.     88.     41.    235.     39.3     0.704  27.      0.   ]\n",
            "[ 8.    99.    84.     0.     0.    35.4    0.388 50.     0.   ]\n",
            "[  7.    196.     90.      0.      0.     39.8     0.451  41.      1.   ]\n",
            "[  9.    119.     80.     35.      0.     29.      0.263  29.      1.   ]\n",
            "[ 11.    143.     94.     33.    146.     36.6     0.254  51.      1.   ]\n",
            "[ 10.    125.     70.     26.    115.     31.1     0.205  41.      1.   ]\n",
            "[  7.    147.     76.      0.      0.     39.4     0.257  43.      1.   ]\n",
            "[  1.     97.     66.     15.    140.     23.2     0.487  22.      0.   ]\n",
            "[ 13.    145.     82.     19.    110.     22.2     0.245  57.      0.   ]\n",
            "[  5.    117.     92.      0.      0.     34.1     0.337  38.      0.   ]\n",
            "[  5.    109.     75.     26.      0.     36.      0.546  60.      0.   ]\n",
            "[  3.    158.     76.     36.    245.     31.6     0.851  28.      1.   ]\n",
            "[ 3.    88.    58.    11.    54.    24.8    0.267 22.     0.   ]\n",
            "[ 6.    92.    92.     0.     0.    19.9    0.188 28.     0.   ]\n",
            "[ 10.    122.     78.     31.      0.     27.6     0.512  45.      0.   ]\n",
            "[  4.    103.     60.     33.    192.     24.      0.966  33.      0.   ]\n",
            "[ 11.   138.    76.     0.     0.    33.2    0.42  35.     0.  ]\n",
            "[  9.    102.     76.     37.      0.     32.9     0.665  46.      1.   ]\n",
            "[ 2.    90.    68.    42.     0.    38.2    0.503 27.     1.   ]\n",
            "[  4.   111.    72.    47.   207.    37.1    1.39  56.     1.  ]\n",
            "[  3.    180.     64.     25.     70.     34.      0.271  26.      0.   ]\n",
            "[  7.    133.     84.      0.      0.     40.2     0.696  37.      0.   ]\n",
            "[  7.    106.     92.     18.      0.     22.7     0.235  48.      0.   ]\n",
            "[  9.    171.    110.     24.    240.     45.4     0.721  54.      1.   ]\n",
            "[  7.    159.     64.      0.      0.     27.4     0.294  40.      0.   ]\n",
            "[  0.    180.     66.     39.      0.     42.      1.893  25.      1.   ]\n",
            "[  1.    146.     56.      0.      0.     29.7     0.564  29.      0.   ]\n",
            "[ 2.    71.    70.    27.     0.    28.     0.586 22.     0.   ]\n",
            "[  7.    103.     66.     32.      0.     39.1     0.344  31.      1.   ]\n",
            "[  7.    105.      0.      0.      0.      0.      0.305  24.      0.   ]\n",
            "[  1.    103.     80.     11.     82.     19.4     0.491  22.      0.   ]\n",
            "[  1.    101.     50.     15.     36.     24.2     0.526  26.      0.   ]\n",
            "[ 5.    88.    66.    21.    23.    24.4    0.342 30.     0.   ]\n",
            "[  8.    176.     90.     34.    300.     33.7     0.467  58.      1.   ]\n",
            "[  7.    150.     66.     42.    342.     34.7     0.718  42.      0.   ]\n",
            "[ 1.    73.    50.    10.     0.    23.     0.248 21.     0.   ]\n",
            "[7.00e+00 1.87e+02 6.80e+01 3.90e+01 3.04e+02 3.77e+01 2.54e-01 4.10e+01\n",
            " 1.00e+00]\n",
            "[  0.    100.     88.     60.    110.     46.8     0.962  31.      0.   ]\n",
            "[  0.    146.     82.      0.      0.     40.5     1.781  44.      0.   ]\n",
            "[  0.    105.     64.     41.    142.     41.5     0.173  22.      0.   ]\n",
            "[ 2.    84.     0.     0.     0.     0.     0.304 21.     0.   ]\n",
            "[  8.   133.    72.     0.     0.    32.9    0.27  39.     1.  ]\n",
            "[ 5.    44.    62.     0.     0.    25.     0.587 36.     0.   ]\n",
            "[  2.    141.     58.     34.    128.     25.4     0.699  24.      0.   ]\n",
            "[  7.    114.     66.      0.      0.     32.8     0.258  42.      1.   ]\n",
            "[ 5.    99.    74.    27.     0.    29.     0.203 32.     0.   ]\n",
            "[  0.    109.     88.     30.      0.     32.5     0.855  38.      1.   ]\n",
            "[  2.    109.     92.      0.      0.     42.7     0.845  54.      0.   ]\n",
            "[ 1.    95.    66.    13.    38.    19.6    0.334 25.     0.   ]\n",
            "[  4.    146.     85.     27.    100.     28.9     0.189  27.      0.   ]\n",
            "[  2.    100.     66.     20.     90.     32.9     0.867  28.      1.   ]\n",
            "[  5.    139.     64.     35.    140.     28.6     0.411  26.      0.   ]\n",
            "[ 13.    126.     90.      0.      0.     43.4     0.583  42.      1.   ]\n",
            "[4.00e+00 1.29e+02 8.60e+01 2.00e+01 2.70e+02 3.51e+01 2.31e-01 2.30e+01\n",
            " 0.00e+00]\n",
            "[ 1.    79.    75.    30.     0.    32.     0.396 22.     0.   ]\n",
            "[ 1.    0.   48.   20.    0.   24.7   0.14 22.    0.  ]\n",
            "[ 7.    62.    78.     0.     0.    32.6    0.391 41.     0.   ]\n",
            "[ 5.   95.   72.   33.    0.   37.7   0.37 27.    0.  ]\n",
            "[  0.   131.     0.     0.     0.    43.2    0.27  26.     1.  ]\n",
            "[  2.    112.     66.     22.      0.     25.      0.307  24.      0.   ]\n",
            "[  3.   113.    44.    13.     0.    22.4    0.14  22.     0.  ]\n",
            "[ 2.    74.     0.     0.     0.     0.     0.102 22.     0.   ]\n",
            "[ 7.    83.    78.    26.    71.    29.3    0.767 36.     0.   ]\n",
            "[  0.    101.     65.     28.      0.     24.6     0.237  22.      0.   ]\n",
            "[  5.    137.    108.      0.      0.     48.8     0.227  37.      1.   ]\n",
            "[  2.    110.     74.     29.    125.     32.4     0.698  27.      0.   ]\n",
            "[ 13.    106.     72.     54.      0.     36.6     0.178  45.      0.   ]\n",
            "[  2.    100.     68.     25.     71.     38.5     0.324  26.      0.   ]\n",
            "[ 15.    136.     70.     32.    110.     37.1     0.153  43.      1.   ]\n",
            "[  1.    107.     68.     19.      0.     26.5     0.165  24.      0.   ]\n",
            "[ 1.    80.    55.     0.     0.    19.1    0.258 21.     0.   ]\n",
            "[  4.    123.     80.     15.    176.     32.      0.443  34.      0.   ]\n",
            "[ 7.    81.    78.    40.    48.    46.7    0.261 42.     0.   ]\n",
            "[  4.    134.     72.      0.      0.     23.8     0.277  60.      1.   ]\n",
            "[  2.    142.     82.     18.     64.     24.7     0.761  21.      0.   ]\n",
            "[  6.    144.     72.     27.    228.     33.9     0.255  40.      0.   ]\n",
            "[ 2.   92.   62.   28.    0.   31.6   0.13 24.    0.  ]\n",
            "[ 1.    71.    48.    18.    76.    20.4    0.323 22.     0.   ]\n",
            "[ 6.    93.    50.    30.    64.    28.7    0.356 23.     0.   ]\n",
            "[  1.    122.     90.     51.    220.     49.7     0.325  31.      1.   ]\n",
            "[  1.    163.     72.      0.      0.     39.      1.222  33.      1.   ]\n",
            "[  1.    151.     60.      0.      0.     26.1     0.179  22.      0.   ]\n",
            "[  0.    125.     96.      0.      0.     22.5     0.262  21.      0.   ]\n",
            "[ 1.    81.    72.    18.    40.    26.6    0.283 24.     0.   ]\n",
            "[ 2.   85.   65.    0.    0.   39.6   0.93 27.    0.  ]\n",
            "[  1.    126.     56.     29.    152.     28.7     0.801  21.      0.   ]\n",
            "[  1.     96.    122.      0.      0.     22.4     0.207  27.      0.   ]\n",
            "[  4.    144.     58.     28.    140.     29.5     0.287  37.      0.   ]\n",
            "[ 3.    83.    58.    31.    18.    34.3    0.336 25.     0.   ]\n",
            "[ 0.    95.    85.    25.    36.    37.4    0.247 24.     1.   ]\n",
            "[  3.    171.     72.     33.    135.     33.3     0.199  24.      1.   ]\n",
            "[  8.    155.     62.     26.    495.     34.      0.543  46.      1.   ]\n",
            "[ 1.    89.    76.    34.    37.    31.2    0.192 23.     0.   ]\n",
            "[ 4.    76.    62.     0.     0.    34.     0.391 25.     0.   ]\n",
            "[  7.    160.     54.     32.    175.     30.5     0.588  39.      1.   ]\n",
            "[  4.    146.     92.      0.      0.     31.2     0.539  61.      1.   ]\n",
            "[  5.   124.    74.     0.     0.    34.     0.22  38.     1.  ]\n",
            "[ 5.    78.    48.     0.     0.    33.7    0.654 25.     0.   ]\n",
            "[ 4.    97.    60.    23.     0.    28.2    0.443 22.     0.   ]\n",
            "[ 4.    99.    76.    15.    51.    23.2    0.223 21.     0.   ]\n",
            "[  0.    162.     76.     56.    100.     53.2     0.759  25.      1.   ]\n",
            "[  6.   111.    64.    39.     0.    34.2    0.26  24.     0.  ]\n",
            "[  2.    107.     74.     30.    100.     33.6     0.404  23.      0.   ]\n",
            "[  5.    132.     80.      0.      0.     26.8     0.186  69.      0.   ]\n",
            "[  0.    113.     76.      0.      0.     33.3     0.278  23.      1.   ]\n",
            "[ 1.    88.    30.    42.    99.    55.     0.496 26.     1.   ]\n",
            "[  3.    120.     70.     30.    135.     42.9     0.452  30.      0.   ]\n",
            "[  1.    118.     58.     36.     94.     33.3     0.261  23.      0.   ]\n",
            "[  1.    117.     88.     24.    145.     34.5     0.403  40.      1.   ]\n",
            "[  0.    105.     84.      0.      0.     27.9     0.741  62.      1.   ]\n",
            "[  4.    173.     70.     14.    168.     29.7     0.361  33.      1.   ]\n",
            "[  9.    122.     56.      0.      0.     33.3     1.114  33.      1.   ]\n",
            "[  3.    170.     64.     37.    225.     34.5     0.356  30.      1.   ]\n",
            "[ 8.    84.    74.    31.     0.    38.3    0.457 39.     0.   ]\n",
            "[ 2.    96.    68.    13.    49.    21.1    0.647 26.     0.   ]\n",
            "[2.00e+00 1.25e+02 6.00e+01 2.00e+01 1.40e+02 3.38e+01 8.80e-02 3.10e+01\n",
            " 0.00e+00]\n",
            "[  0.    100.     70.     26.     50.     30.8     0.597  21.      0.   ]\n",
            "[ 0.    93.    60.    25.    92.    28.7    0.532 22.     0.   ]\n",
            "[  0.    129.     80.      0.      0.     31.2     0.703  29.      0.   ]\n",
            "[5.00e+00 1.05e+02 7.20e+01 2.90e+01 3.25e+02 3.69e+01 1.59e-01 2.80e+01\n",
            " 0.00e+00]\n",
            "[  3.    128.     78.      0.      0.     21.1     0.268  55.      0.   ]\n",
            "[  5.    106.     82.     30.      0.     39.5     0.286  38.      0.   ]\n",
            "[  2.    108.     52.     26.     63.     32.5     0.318  22.      0.   ]\n",
            "[ 10.    108.     66.      0.      0.     32.4     0.272  42.      1.   ]\n",
            "[4.00e+00 1.54e+02 6.20e+01 3.10e+01 2.84e+02 3.28e+01 2.37e-01 2.30e+01\n",
            " 0.00e+00]\n",
            "[  0.    102.     75.     23.      0.      0.      0.572  21.      0.   ]\n",
            "[ 9.    57.    80.    37.     0.    32.8    0.096 41.     0.   ]\n",
            "[  2.  106.   64.   35.  119.   30.5   1.4  34.    0. ]\n",
            "[  5.    147.     78.      0.      0.     33.7     0.218  65.      0.   ]\n",
            "[2.00e+00 9.00e+01 7.00e+01 1.70e+01 0.00e+00 2.73e+01 8.50e-02 2.20e+01\n",
            " 0.00e+00]\n",
            "[  1.    136.     74.     50.    204.     37.4     0.399  24.      0.   ]\n",
            "[  4.    114.     65.      0.      0.     21.9     0.432  37.      0.   ]\n",
            "[  9.    156.     86.     28.    155.     34.3     1.189  42.      1.   ]\n",
            "[  1.    153.     82.     42.    485.     40.6     0.687  23.      0.   ]\n",
            "[8.00e+00 1.88e+02 7.80e+01 0.00e+00 0.00e+00 4.79e+01 1.37e-01 4.30e+01\n",
            " 1.00e+00]\n",
            "[  7.    152.     88.     44.      0.     50.      0.337  36.      1.   ]\n",
            "[ 2.    99.    52.    15.    94.    24.6    0.637 21.     0.   ]\n",
            "[  1.    109.     56.     21.    135.     25.2     0.833  23.      0.   ]\n",
            "[ 2.    88.    74.    19.    53.    29.     0.229 22.     0.   ]\n",
            "[ 17.    163.     72.     41.    114.     40.9     0.817  47.      1.   ]\n",
            "[  4.    151.     90.     38.      0.     29.7     0.294  36.      0.   ]\n",
            "[  7.    102.     74.     40.    105.     37.2     0.204  45.      0.   ]\n",
            "[0.00e+00 1.14e+02 8.00e+01 3.40e+01 2.85e+02 4.42e+01 1.67e-01 2.70e+01\n",
            " 0.00e+00]\n",
            "[  2.    100.     64.     23.      0.     29.7     0.368  21.      0.   ]\n",
            "[  0.    131.     88.      0.      0.     31.6     0.743  32.      1.   ]\n",
            "[  6.    104.     74.     18.    156.     29.9     0.722  41.      1.   ]\n",
            "[  3.    148.     66.     25.      0.     32.5     0.256  22.      0.   ]\n",
            "[  4.    120.     68.      0.      0.     29.6     0.709  34.      0.   ]\n",
            "[  4.    110.     66.      0.      0.     31.9     0.471  29.      0.   ]\n",
            "[  3.    111.     90.     12.     78.     28.4     0.495  29.      0.   ]\n",
            "[  6.   102.    82.     0.     0.    30.8    0.18  36.     1.  ]\n",
            "[  6.    134.     70.     23.    130.     35.4     0.542  29.      1.   ]\n",
            "[ 2.    87.     0.    23.     0.    28.9    0.773 25.     0.   ]\n",
            "[ 1.    79.    60.    42.    48.    43.5    0.678 23.     0.   ]\n",
            "[ 2.   75.   64.   24.   55.   29.7   0.37 33.    0.  ]\n",
            "[  8.    179.     72.     42.    130.     32.7     0.719  36.      1.   ]\n",
            "[ 6.    85.    78.     0.     0.    31.2    0.382 42.     0.   ]\n",
            "[  0.    129.    110.     46.    130.     67.1     0.319  26.      1.   ]\n",
            "[  5.   143.    78.     0.     0.    45.     0.19  47.     0.  ]\n",
            "[  5.    130.     82.      0.      0.     39.1     0.956  37.      1.   ]\n",
            "[6.00e+00 8.70e+01 8.00e+01 0.00e+00 0.00e+00 2.32e+01 8.40e-02 3.20e+01\n",
            " 0.00e+00]\n",
            "[  0.    119.     64.     18.     92.     34.9     0.725  23.      0.   ]\n",
            "[ 1.     0.    74.    20.    23.    27.7    0.299 21.     0.   ]\n",
            "[ 5.    73.    60.     0.     0.    26.8    0.268 27.     0.   ]\n",
            "[  4.    141.     74.      0.      0.     27.6     0.244  40.      0.   ]\n",
            "[  7.    194.     68.     28.      0.     35.9     0.745  41.      1.   ]\n",
            "[  8.    181.     68.     36.    495.     30.1     0.615  60.      1.   ]\n",
            "[  1.    128.     98.     41.     58.     32.      1.321  33.      1.   ]\n",
            "[  8.   109.    76.    39.   114.    27.9    0.64  31.     1.  ]\n",
            "[  5.    139.     80.     35.    160.     31.6     0.361  25.      1.   ]\n",
            "[  3.    111.     62.      0.      0.     22.6     0.142  21.      0.   ]\n",
            "[  9.    123.     70.     44.     94.     33.1     0.374  40.      0.   ]\n",
            "[  7.    159.     66.      0.      0.     30.4     0.383  36.      1.   ]\n",
            "[ 11.    135.      0.      0.      0.     52.3     0.578  40.      1.   ]\n",
            "[ 8.    85.    55.    20.     0.    24.4    0.136 42.     0.   ]\n",
            "[  5.    158.     84.     41.    210.     39.4     0.395  29.      1.   ]\n",
            "[  1.    105.     58.      0.      0.     24.3     0.187  21.      0.   ]\n",
            "[  3.    107.     62.     13.     48.     22.9     0.678  23.      1.   ]\n",
            "[  4.    109.     64.     44.     99.     34.8     0.905  26.      1.   ]\n",
            "[4.00e+00 1.48e+02 6.00e+01 2.70e+01 3.18e+02 3.09e+01 1.50e-01 2.90e+01\n",
            " 1.00e+00]\n",
            "[  0.    113.     80.     16.      0.     31.      0.874  21.      0.   ]\n",
            "[  1.    138.     82.      0.      0.     40.1     0.236  28.      0.   ]\n",
            "[  0.    108.     68.     20.      0.     27.3     0.787  32.      0.   ]\n",
            "[ 2.    99.    70.    16.    44.    20.4    0.235 27.     0.   ]\n",
            "[  6.    103.     72.     32.    190.     37.7     0.324  55.      0.   ]\n",
            "[  5.    111.     72.     28.      0.     23.9     0.407  27.      0.   ]\n",
            "[  8.    196.     76.     29.    280.     37.5     0.605  57.      1.   ]\n",
            "[5.00e+00 1.62e+02 1.04e+02 0.00e+00 0.00e+00 3.77e+01 1.51e-01 5.20e+01\n",
            " 1.00e+00]\n",
            "[ 1.    96.    64.    27.    87.    33.2    0.289 21.     0.   ]\n",
            "[  7.    184.     84.     33.      0.     35.5     0.355  41.      1.   ]\n",
            "[ 2.   81.   60.   22.    0.   27.7   0.29 25.    0.  ]\n",
            "[  0.    147.     85.     54.      0.     42.8     0.375  24.      0.   ]\n",
            "[7.00e+00 1.79e+02 9.50e+01 3.10e+01 0.00e+00 3.42e+01 1.64e-01 6.00e+01\n",
            " 0.00e+00]\n",
            "[  0.    140.     65.     26.    130.     42.6     0.431  24.      1.   ]\n",
            "[  9.   112.    82.    32.   175.    34.2    0.26  36.     1.  ]\n",
            "[ 12.    151.     70.     40.    271.     41.8     0.742  38.      1.   ]\n",
            "[  5.    109.     62.     41.    129.     35.8     0.514  25.      1.   ]\n",
            "[  6.    125.     68.     30.    120.     30.      0.464  32.      0.   ]\n",
            "[ 5.    85.    74.    22.     0.    29.     1.224 32.     1.   ]\n",
            "[  5.    112.     66.      0.      0.     37.8     0.261  41.      1.   ]\n",
            "[  0.    177.     60.     29.    478.     34.6     1.072  21.      1.   ]\n",
            "[  2.    158.     90.      0.      0.     31.6     0.805  66.      1.   ]\n",
            "[  7.    119.      0.      0.      0.     25.2     0.209  37.      0.   ]\n",
            "[  7.    142.     60.     33.    190.     28.8     0.687  61.      0.   ]\n",
            "[  1.    100.     66.     15.     56.     23.6     0.666  26.      0.   ]\n",
            "[ 1.    87.    78.    27.    32.    34.6    0.101 22.     0.   ]\n",
            "[  0.    101.     76.      0.      0.     35.7     0.198  26.      0.   ]\n",
            "[  3.    162.     52.     38.      0.     37.2     0.652  24.      1.   ]\n",
            "[  4.    197.     70.     39.    744.     36.7     2.329  31.      0.   ]\n",
            "[0.00e+00 1.17e+02 8.00e+01 3.10e+01 5.30e+01 4.52e+01 8.90e-02 2.40e+01\n",
            " 0.00e+00]\n",
            "[  4.    142.     86.      0.      0.     44.      0.645  22.      1.   ]\n",
            "[6.00e+00 1.34e+02 8.00e+01 3.70e+01 3.70e+02 4.62e+01 2.38e-01 4.60e+01\n",
            " 1.00e+00]\n",
            "[ 1.    79.    80.    25.    37.    25.4    0.583 22.     0.   ]\n",
            "[  4.    122.     68.      0.      0.     35.      0.394  29.      0.   ]\n",
            "[ 3.    74.    68.    28.    45.    29.7    0.293 23.     0.   ]\n",
            "[  4.    171.     72.      0.      0.     43.6     0.479  26.      1.   ]\n",
            "[  7.    181.     84.     21.    192.     35.9     0.586  51.      1.   ]\n",
            "[  0.    179.     90.     27.      0.     44.1     0.686  23.      1.   ]\n",
            "[  9.    164.     84.     21.      0.     30.8     0.831  32.      1.   ]\n",
            "[  0.    104.     76.      0.      0.     18.4     0.582  27.      0.   ]\n",
            "[ 1.    91.    64.    24.     0.    29.2    0.192 21.     0.   ]\n",
            "[ 4.    91.    70.    32.    88.    33.1    0.446 22.     0.   ]\n",
            "[  3.    139.     54.      0.      0.     25.6     0.402  22.      1.   ]\n",
            "[  6.    119.     50.     22.    176.     27.1     1.318  33.      1.   ]\n",
            "[  2.    146.     76.     35.    194.     38.2     0.329  29.      0.   ]\n",
            "[  9.    184.     85.     15.      0.     30.      1.213  49.      1.   ]\n",
            "[ 10.    122.     68.      0.      0.     31.2     0.258  41.      0.   ]\n",
            "[0.00e+00 1.65e+02 9.00e+01 3.30e+01 6.80e+02 5.23e+01 4.27e-01 2.30e+01\n",
            " 0.00e+00]\n",
            "[9.00e+00 1.24e+02 7.00e+01 3.30e+01 4.02e+02 3.54e+01 2.82e-01 3.40e+01\n",
            " 0.00e+00]\n",
            "[  1.    111.     86.     19.      0.     30.1     0.143  23.      0.   ]\n",
            "[  9.   106.    52.     0.     0.    31.2    0.38  42.     0.  ]\n",
            "[  2.    129.     84.      0.      0.     28.      0.284  27.      0.   ]\n",
            "[ 2.    90.    80.    14.    55.    24.4    0.249 24.     0.   ]\n",
            "[ 0.    86.    68.    32.     0.    35.8    0.238 25.     0.   ]\n",
            "[ 12.     92.     62.      7.    258.     27.6     0.926  44.      1.   ]\n",
            "[  1.    113.     64.     35.      0.     33.6     0.543  21.      1.   ]\n",
            "[  3.    111.     56.     39.      0.     30.1     0.557  30.      0.   ]\n",
            "[2.00e+00 1.14e+02 6.80e+01 2.20e+01 0.00e+00 2.87e+01 9.20e-02 2.50e+01\n",
            " 0.00e+00]\n",
            "[  1.    193.     50.     16.    375.     25.9     0.655  24.      0.   ]\n",
            "[ 11.    155.     76.     28.    150.     33.3     1.353  51.      1.   ]\n",
            "[  3.    191.     68.     15.    130.     30.9     0.299  34.      0.   ]\n",
            "[  3.    141.      0.      0.      0.     30.      0.761  27.      1.   ]\n",
            "[ 4.    95.    70.    32.     0.    32.1    0.612 24.     0.   ]\n",
            "[  3.  142.   80.   15.    0.   32.4   0.2  63.    0. ]\n",
            "[  4.    123.     62.      0.      0.     32.      0.226  35.      1.   ]\n",
            "[ 5.    96.    74.    18.    67.    33.6    0.997 43.     0.   ]\n",
            "[  0.    138.      0.      0.      0.     36.3     0.933  25.      1.   ]\n",
            "[  2.    128.     64.     42.      0.     40.      1.101  24.      0.   ]\n",
            "[0.00e+00 1.02e+02 5.20e+01 0.00e+00 0.00e+00 2.51e+01 7.80e-02 2.10e+01\n",
            " 0.00e+00]\n",
            "[  2.   146.     0.     0.     0.    27.5    0.24  28.     1.  ]\n",
            "[ 10.    101.     86.     37.      0.     45.6     1.136  38.      1.   ]\n",
            "[  2.    108.     62.     32.     56.     25.2     0.128  21.      0.   ]\n",
            "[  3.    122.     78.      0.      0.     23.      0.254  40.      0.   ]\n",
            "[ 1.    71.    78.    50.    45.    33.2    0.422 21.     0.   ]\n",
            "[ 13.    106.     70.      0.      0.     34.2     0.251  52.      0.   ]\n",
            "[  2.    100.     70.     52.     57.     40.5     0.677  25.      0.   ]\n",
            "[  7.    106.     60.     24.      0.     26.5     0.296  29.      1.   ]\n",
            "[  0.    104.     64.     23.    116.     27.8     0.454  23.      0.   ]\n",
            "[  5.    114.     74.      0.      0.     24.9     0.744  57.      0.   ]\n",
            "[  2.    108.     62.     10.    278.     25.3     0.881  22.      0.   ]\n",
            "[  0.    146.     70.      0.      0.     37.9     0.334  28.      1.   ]\n",
            "[ 10.   129.    76.    28.   122.    35.9    0.28  39.     0.  ]\n",
            "[  7.    133.     88.     15.    155.     32.4     0.262  37.      0.   ]\n",
            "[  7.    161.     86.      0.      0.     30.4     0.165  47.      1.   ]\n",
            "[  2.    108.     80.      0.      0.     27.      0.259  52.      1.   ]\n",
            "[  7.    136.     74.     26.    135.     26.      0.647  51.      0.   ]\n",
            "[  5.    155.     84.     44.    545.     38.7     0.619  34.      0.   ]\n",
            "[  1.    119.     86.     39.    220.     45.6     0.808  29.      1.   ]\n",
            "[ 4.   96.   56.   17.   49.   20.8   0.34 26.    0.  ]\n",
            "[  5.    108.     72.     43.     75.     36.1     0.263  33.      0.   ]\n",
            "[ 0.    78.    88.    29.    40.    36.9    0.434 21.     0.   ]\n",
            "[  0.    107.     62.     30.     74.     36.6     0.757  25.      1.   ]\n",
            "[  2.    128.     78.     37.    182.     43.3     1.224  31.      1.   ]\n",
            "[  1.    128.     48.     45.    194.     40.5     0.613  24.      1.   ]\n",
            "[  0.    161.     50.      0.      0.     21.9     0.254  65.      0.   ]\n",
            "[  6.    151.     62.     31.    120.     35.5     0.692  28.      0.   ]\n",
            "[2.00e+00 1.46e+02 7.00e+01 3.80e+01 3.60e+02 2.80e+01 3.37e-01 2.90e+01\n",
            " 1.00e+00]\n",
            "[  0.   126.    84.    29.   215.    30.7    0.52  24.     0.  ]\n",
            "[ 14.    100.     78.     25.    184.     36.6     0.412  46.      1.   ]\n",
            "[  8.   112.    72.     0.     0.    23.6    0.84  58.     0.  ]\n",
            "[  0.    167.      0.      0.      0.     32.3     0.839  30.      1.   ]\n",
            "[  2.    144.     58.     33.    135.     31.6     0.422  25.      1.   ]\n",
            "[ 5.    77.    82.    41.    42.    35.8    0.156 35.     0.   ]\n",
            "[  5.    115.     98.      0.      0.     52.9     0.209  28.      1.   ]\n",
            "[  3.    150.     76.      0.      0.     21.      0.207  37.      0.   ]\n",
            "[  2.    120.     76.     37.    105.     39.7     0.215  29.      0.   ]\n",
            "[ 10.    161.     68.     23.    132.     25.5     0.326  47.      1.   ]\n",
            "[0.00e+00 1.37e+02 6.80e+01 1.40e+01 1.48e+02 2.48e+01 1.43e-01 2.10e+01\n",
            " 0.00e+00]\n",
            "[  0.    128.     68.     19.    180.     30.5     1.391  25.      1.   ]\n",
            "[  2.    124.     68.     28.    205.     32.9     0.875  30.      1.   ]\n",
            "[ 6.    80.    66.    30.     0.    26.2    0.313 41.     0.   ]\n",
            "[  0.    106.     70.     37.    148.     39.4     0.605  22.      0.   ]\n",
            "[  2.    155.     74.     17.     96.     26.6     0.433  27.      1.   ]\n",
            "[  3.    113.     50.     10.     85.     29.5     0.626  25.      0.   ]\n",
            "[  7.    109.     80.     31.      0.     35.9     1.127  43.      1.   ]\n",
            "[  2.    112.     68.     22.     94.     34.1     0.315  26.      0.   ]\n",
            "[ 3.    99.    80.    11.    64.    19.3    0.284 30.     0.   ]\n",
            "[  3.    182.     74.      0.      0.     30.5     0.345  29.      1.   ]\n",
            "[  3.   115.    66.    39.   140.    38.1    0.15  28.     0.  ]\n",
            "[6.00e+00 1.94e+02 7.80e+01 0.00e+00 0.00e+00 2.35e+01 1.29e-01 5.90e+01\n",
            " 1.00e+00]\n",
            "[  4.    129.     60.     12.    231.     27.5     0.527  31.      0.   ]\n",
            "[  3.    112.     74.     30.      0.     31.6     0.197  25.      1.   ]\n",
            "[  0.    124.     70.     20.      0.     27.4     0.254  36.      1.   ]\n",
            "[ 13.    152.     90.     33.     29.     26.8     0.731  43.      1.   ]\n",
            "[  2.    112.     75.     32.      0.     35.7     0.148  21.      0.   ]\n",
            "[1.00e+00 1.57e+02 7.20e+01 2.10e+01 1.68e+02 2.56e+01 1.23e-01 2.40e+01\n",
            " 0.00e+00]\n",
            "[  1.    122.     64.     32.    156.     35.1     0.692  30.      1.   ]\n",
            "[ 10.  179.   70.    0.    0.   35.1   0.2  37.    0. ]\n",
            "[  2.    102.     86.     36.    120.     45.5     0.127  23.      1.   ]\n",
            "[  6.    105.     70.     32.     68.     30.8     0.122  37.      0.   ]\n",
            "[  8.    118.     72.     19.      0.     23.1     1.476  46.      0.   ]\n",
            "[ 2.    87.    58.    16.    52.    32.7    0.166 25.     0.   ]\n",
            "[  1.    180.      0.      0.      0.     43.3     0.282  41.      1.   ]\n",
            "[ 12.    106.     80.      0.      0.     23.6     0.137  44.      0.   ]\n",
            "[ 1.   95.   60.   18.   58.   23.9   0.26 22.    0.  ]\n",
            "[  0.    165.     76.     43.    255.     47.9     0.259  26.      0.   ]\n",
            "[  0.    117.      0.      0.      0.     33.8     0.932  44.      0.   ]\n",
            "[  5.    115.     76.      0.      0.     31.2     0.343  44.      1.   ]\n",
            "[  9.    152.     78.     34.    171.     34.2     0.893  33.      1.   ]\n",
            "[  7.    178.     84.      0.      0.     39.9     0.331  41.      1.   ]\n",
            "[  1.    130.     70.     13.    105.     25.9     0.472  22.      0.   ]\n",
            "[ 1.    95.    74.    21.    73.    25.9    0.673 36.     0.   ]\n",
            "[ 1.     0.    68.    35.     0.    32.     0.389 22.     0.   ]\n",
            "[  5.   122.    86.     0.     0.    34.7    0.29  33.     0.  ]\n",
            "[ 8.    95.    72.     0.     0.    36.8    0.485 57.     0.   ]\n",
            "[  8.    126.     88.     36.    108.     38.5     0.349  49.      0.   ]\n",
            "[  1.    139.     46.     19.     83.     28.7     0.654  22.      0.   ]\n",
            "[  3.    116.      0.      0.      0.     23.5     0.187  23.      0.   ]\n",
            "[ 3.    99.    62.    19.    74.    21.8    0.279 26.     0.   ]\n",
            "[ 5.     0.    80.    32.     0.    41.     0.346 37.     1.   ]\n",
            "[ 4.    92.    80.     0.     0.    42.2    0.237 29.     0.   ]\n",
            "[  4.    137.     84.      0.      0.     31.2     0.252  30.      0.   ]\n",
            "[ 3.    61.    82.    28.     0.    34.4    0.243 46.     0.   ]\n",
            "[ 1.   90.   62.   12.   43.   27.2   0.58 24.    0.  ]\n",
            "[ 3.    90.    78.     0.     0.    42.7    0.559 21.     0.   ]\n",
            "[  9.    165.     88.      0.      0.     30.4     0.302  49.      1.   ]\n",
            "[  1.    125.     50.     40.    167.     33.3     0.962  28.      1.   ]\n",
            "[ 13.    129.      0.     30.      0.     39.9     0.569  44.      1.   ]\n",
            "[12.    88.    74.    40.    54.    35.3    0.378 48.     0.   ]\n",
            "[  1.    196.     76.     36.    249.     36.5     0.875  29.      1.   ]\n",
            "[  5.    189.     64.     33.    325.     31.2     0.583  29.      1.   ]\n",
            "[  5.    158.     70.      0.      0.     29.8     0.207  63.      0.   ]\n",
            "[  5.    103.    108.     37.      0.     39.2     0.305  65.      0.   ]\n",
            "[  4.   146.    78.     0.     0.    38.5    0.52  67.     1.  ]\n",
            "[  4.    147.     74.     25.    293.     34.9     0.385  30.      0.   ]\n",
            "[ 5.    99.    54.    28.    83.    34.     0.499 30.     0.   ]\n",
            "[  6.    124.     72.      0.      0.     27.6     0.368  29.      1.   ]\n",
            "[  0.    101.     64.     17.      0.     21.      0.252  21.      0.   ]\n",
            "[ 3.    81.    86.    16.    66.    27.5    0.306 22.     0.   ]\n",
            "[  1.    133.    102.     28.    140.     32.8     0.234  45.      1.   ]\n",
            "[  3.    173.     82.     48.    465.     38.4     2.137  25.      1.   ]\n",
            "[  0.    118.     64.     23.     89.      0.      1.731  21.      0.   ]\n",
            "[ 0.    84.    64.    22.    66.    35.8    0.545 21.     0.   ]\n",
            "[  2.    105.     58.     40.     94.     34.9     0.225  25.      0.   ]\n",
            "[  2.    122.     52.     43.    158.     36.2     0.816  28.      0.   ]\n",
            "[ 12.    140.     82.     43.    325.     39.2     0.528  58.      1.   ]\n",
            "[ 0.    98.    82.    15.    84.    25.2    0.299 22.     0.   ]\n",
            "[ 1.    87.    60.    37.    75.    37.2    0.509 22.     0.   ]\n",
            "[  4.    156.     75.      0.      0.     48.3     0.238  32.      1.   ]\n",
            "[  0.     93.    100.     39.     72.     43.4     1.021  35.      0.   ]\n",
            "[  1.    107.     72.     30.     82.     30.8     0.821  24.      0.   ]\n",
            "[  0.    105.     68.     22.      0.     20.      0.236  22.      0.   ]\n",
            "[  1.    109.     60.      8.    182.     25.4     0.947  21.      0.   ]\n",
            "[ 1.    90.    62.    18.    59.    25.1    1.268 25.     0.   ]\n",
            "[  1.    125.     70.     24.    110.     24.3     0.221  25.      0.   ]\n",
            "[  1.    119.     54.     13.     50.     22.3     0.205  24.      0.   ]\n",
            "[  5.   116.    74.    29.     0.    32.3    0.66  35.     1.  ]\n",
            "[  8.    105.    100.     36.      0.     43.3     0.239  45.      1.   ]\n",
            "[  5.    144.     82.     26.    285.     32.      0.452  58.      1.   ]\n",
            "[  3.    100.     68.     23.     81.     31.6     0.949  28.      0.   ]\n",
            "[  1.    100.     66.     29.    196.     32.      0.444  42.      0.   ]\n",
            "[  5.   166.    76.     0.     0.    45.7    0.34  27.     1.  ]\n",
            "[1.00e+00 1.31e+02 6.40e+01 1.40e+01 4.15e+02 2.37e+01 3.89e-01 2.10e+01\n",
            " 0.00e+00]\n",
            "[  4.    116.     72.     12.     87.     22.1     0.463  37.      0.   ]\n",
            "[  4.    158.     78.      0.      0.     32.9     0.803  31.      1.   ]\n",
            "[  2.  127.   58.   24.  275.   27.7   1.6  25.    0. ]\n",
            "[  3.     96.     56.     34.    115.     24.7     0.944  39.      0.   ]\n",
            "[  0.    131.     66.     40.      0.     34.3     0.196  22.      1.   ]\n",
            "[ 3.    82.    70.     0.     0.    21.1    0.389 25.     0.   ]\n",
            "[  3.    193.     70.     31.      0.     34.9     0.241  25.      1.   ]\n",
            "[ 4.    95.    64.     0.     0.    32.     0.161 31.     1.   ]\n",
            "[  6.    137.     61.      0.      0.     24.2     0.151  55.      0.   ]\n",
            "[  5.    136.     84.     41.     88.     35.      0.286  35.      1.   ]\n",
            "[ 9.   72.   78.   25.    0.   31.6   0.28 38.    0.  ]\n",
            "[5.00e+00 1.68e+02 6.40e+01 0.00e+00 0.00e+00 3.29e+01 1.35e-01 4.10e+01\n",
            " 1.00e+00]\n",
            "[  2.   123.    48.    32.   165.    42.1    0.52  26.     0.  ]\n",
            "[  4.    115.     72.      0.      0.     28.9     0.376  46.      1.   ]\n",
            "[  0.    101.     62.      0.      0.     21.9     0.336  25.      0.   ]\n",
            "[  8.    197.     74.      0.      0.     25.9     1.191  39.      1.   ]\n",
            "[  1.    172.     68.     49.    579.     42.4     0.702  28.      1.   ]\n",
            "[  6.    102.     90.     39.      0.     35.7     0.674  28.      0.   ]\n",
            "[  1.    112.     72.     30.    176.     34.4     0.528  25.      0.   ]\n",
            "[  1.    143.     84.     23.    310.     42.4     1.076  22.      0.   ]\n",
            "[  1.    143.     74.     22.     61.     26.2     0.256  21.      0.   ]\n",
            "[  0.    138.     60.     35.    167.     34.6     0.534  21.      1.   ]\n",
            "[3.00e+00 1.73e+02 8.40e+01 3.30e+01 4.74e+02 3.57e+01 2.58e-01 2.20e+01\n",
            " 1.00e+00]\n",
            "[ 1.    97.    68.    21.     0.    27.2    1.095 22.     0.   ]\n",
            "[  4.    144.     82.     32.      0.     38.5     0.554  37.      1.   ]\n",
            "[ 1.    83.    68.     0.     0.    18.2    0.624 27.     0.   ]\n",
            "[  3.    129.     64.     29.    115.     26.4     0.219  28.      1.   ]\n",
            "[  1.    119.     88.     41.    170.     45.3     0.507  26.      0.   ]\n",
            "[ 2.    94.    68.    18.    76.    26.     0.561 21.     0.   ]\n",
            "[  0.    102.     64.     46.     78.     40.6     0.496  21.      0.   ]\n",
            "[  2.    115.     64.     22.      0.     30.8     0.421  21.      0.   ]\n",
            "[  8.    151.     78.     32.    210.     42.9     0.516  36.      1.   ]\n",
            "[4.00e+00 1.84e+02 7.80e+01 3.90e+01 2.77e+02 3.70e+01 2.64e-01 3.10e+01\n",
            " 1.00e+00]\n",
            "[ 0.    94.     0.     0.     0.     0.     0.256 25.     0.   ]\n",
            "[  1.    181.     64.     30.    180.     34.1     0.328  38.      1.   ]\n",
            "[  0.    135.     94.     46.    145.     40.6     0.284  26.      0.   ]\n",
            "[  1.     95.     82.     25.    180.     35.      0.233  43.      1.   ]\n",
            "[ 2.    99.     0.     0.     0.    22.2    0.108 23.     0.   ]\n",
            "[ 3.    89.    74.    16.    85.    30.4    0.551 38.     0.   ]\n",
            "[ 1.    80.    74.    11.    60.    30.     0.527 22.     0.   ]\n",
            "[  2.    139.     75.      0.      0.     25.6     0.167  29.      0.   ]\n",
            "[ 1.    90.    68.     8.     0.    24.5    1.138 36.     0.   ]\n",
            "[  0.    141.      0.      0.      0.     42.4     0.205  29.      1.   ]\n",
            "[ 12.    140.     85.     33.      0.     37.4     0.244  41.      0.   ]\n",
            "[  5.    147.     75.      0.      0.     29.9     0.434  28.      0.   ]\n",
            "[ 1.    97.    70.    15.     0.    18.2    0.147 21.     0.   ]\n",
            "[  6.    107.     88.      0.      0.     36.8     0.727  31.      0.   ]\n",
            "[  0.    189.    104.     25.      0.     34.3     0.435  41.      1.   ]\n",
            "[ 2.    83.    66.    23.    50.    32.2    0.497 22.     0.   ]\n",
            "[  4.   117.    64.    27.   120.    33.2    0.23  24.     0.  ]\n",
            "[  8.    108.     70.      0.      0.     30.5     0.955  33.      1.   ]\n",
            "[  4.   117.    62.    12.     0.    29.7    0.38  30.     1.  ]\n",
            "[  0.   180.    78.    63.    14.    59.4    2.42  25.     1.  ]\n",
            "[  1.    100.     72.     12.     70.     25.3     0.658  28.      0.   ]\n",
            "[ 0.   95.   80.   45.   92.   36.5   0.33 26.    0.  ]\n",
            "[  0.   104.    64.    37.    64.    33.6    0.51  22.     1.  ]\n",
            "[  0.    120.     74.     18.     63.     30.5     0.285  26.      0.   ]\n",
            "[ 1.    82.    64.    13.    95.    21.2    0.415 23.     0.   ]\n",
            "[  2.    134.     70.      0.      0.     28.9     0.542  23.      1.   ]\n",
            "[  0.     91.     68.     32.    210.     39.9     0.381  25.      0.   ]\n",
            "[  2.    119.      0.      0.      0.     19.6     0.832  72.      0.   ]\n",
            "[  2.    100.     54.     28.    105.     37.8     0.498  24.      0.   ]\n",
            "[ 14.    175.     62.     30.      0.     33.6     0.212  38.      1.   ]\n",
            "[  1.    135.     54.      0.      0.     26.7     0.687  62.      0.   ]\n",
            "[ 5.    86.    68.    28.    71.    30.2    0.364 24.     0.   ]\n",
            "[ 10.    148.     84.     48.    237.     37.6     1.001  51.      1.   ]\n",
            "[  9.   134.    74.    33.    60.    25.9    0.46  81.     0.  ]\n",
            "[  9.    120.     72.     22.     56.     20.8     0.733  48.      0.   ]\n",
            "[ 1.    71.    62.     0.     0.    21.8    0.416 26.     0.   ]\n",
            "[ 8.    74.    70.    40.    49.    35.3    0.705 39.     0.   ]\n",
            "[ 5.    88.    78.    30.     0.    27.6    0.258 37.     0.   ]\n",
            "[ 10.    115.     98.      0.      0.     24.      1.022  34.      0.   ]\n",
            "[  0.    124.     56.     13.    105.     21.8     0.452  21.      0.   ]\n",
            "[ 0.    74.    52.    10.    36.    27.8    0.269 22.     0.   ]\n",
            "[  0.   97.   64.   36.  100.   36.8   0.6  25.    0. ]\n",
            "[  8.    120.      0.      0.      0.     30.      0.183  38.      1.   ]\n",
            "[  6.    154.     78.     41.    140.     46.1     0.571  27.      0.   ]\n",
            "[  1.    144.     82.     40.      0.     41.3     0.607  28.      0.   ]\n",
            "[  0.   137.    70.    38.     0.    33.2    0.17  22.     0.  ]\n",
            "[  0.    119.     66.     27.      0.     38.8     0.259  22.      0.   ]\n",
            "[  7.   136.    90.     0.     0.    29.9    0.21  50.     0.  ]\n",
            "[  4.    114.     64.      0.      0.     28.9     0.126  24.      0.   ]\n",
            "[  0.    137.     84.     27.      0.     27.3     0.231  59.      0.   ]\n",
            "[  2.    105.     80.     45.    191.     33.7     0.711  29.      1.   ]\n",
            "[  7.    114.     76.     17.    110.     23.8     0.466  31.      0.   ]\n",
            "[  8.    126.     74.     38.     75.     25.9     0.162  39.      0.   ]\n",
            "[  4.    132.     86.     31.      0.     28.      0.419  63.      0.   ]\n",
            "[  3.    158.     70.     30.    328.     35.5     0.344  35.      1.   ]\n",
            "[  0.    123.     88.     37.      0.     35.2     0.197  29.      0.   ]\n",
            "[ 4.    85.    58.    22.    49.    27.8    0.306 28.     0.   ]\n",
            "[  0.     84.     82.     31.    125.     38.2     0.233  23.      0.   ]\n",
            "[  0.   145.     0.     0.     0.    44.2    0.63  31.     1.  ]\n",
            "[  0.    135.     68.     42.    250.     42.3     0.365  24.      1.   ]\n",
            "[  1.    139.     62.     41.    480.     40.7     0.536  21.      0.   ]\n",
            "[  0.    173.     78.     32.    265.     46.5     1.159  58.      0.   ]\n",
            "[ 4.    99.    72.    17.     0.    25.6    0.294 28.     0.   ]\n",
            "[  8.    194.     80.      0.      0.     26.1     0.551  67.      0.   ]\n",
            "[ 2.    83.    65.    28.    66.    36.8    0.629 24.     0.   ]\n",
            "[ 2.    89.    90.    30.     0.    33.5    0.292 42.     0.   ]\n",
            "[ 4.    99.    68.    38.     0.    32.8    0.145 33.     0.   ]\n",
            "[  4.    125.     70.     18.    122.     28.9     1.144  45.      1.   ]\n",
            "[ 3.    80.     0.     0.     0.     0.     0.174 22.     0.   ]\n",
            "[  6.    166.     74.      0.      0.     26.6     0.304  66.      0.   ]\n",
            "[  5.    110.     68.      0.      0.     26.      0.292  30.      0.   ]\n",
            "[ 2.    81.    72.    15.    76.    30.1    0.547 25.     0.   ]\n",
            "[7.00e+00 1.95e+02 7.00e+01 3.30e+01 1.45e+02 2.51e+01 1.63e-01 5.50e+01\n",
            " 1.00e+00]\n",
            "[  6.    154.     74.     32.    193.     29.3     0.839  39.      0.   ]\n",
            "[  2.    117.     90.     19.     71.     25.2     0.313  21.      0.   ]\n",
            "[ 3.    84.    72.    32.     0.    37.2    0.267 28.     0.   ]\n",
            "[ 6.     0.    68.    41.     0.    39.     0.727 41.     1.   ]\n",
            "[ 7.    94.    64.    25.    79.    33.3    0.738 41.     0.   ]\n",
            "[ 3.    96.    78.    39.     0.    37.3    0.238 40.     0.   ]\n",
            "[10.    75.    82.     0.     0.    33.3    0.263 38.     0.   ]\n",
            "[  0.    180.     90.     26.     90.     36.5     0.314  35.      1.   ]\n",
            "[  1.    130.     60.     23.    170.     28.6     0.692  21.      0.   ]\n",
            "[ 2.    84.    50.    23.    76.    30.4    0.968 21.     0.   ]\n",
            "[  8.    120.     78.      0.      0.     25.      0.409  64.      0.   ]\n",
            "[12.    84.    72.    31.     0.    29.7    0.297 46.     1.   ]\n",
            "[0.00e+00 1.39e+02 6.20e+01 1.70e+01 2.10e+02 2.21e+01 2.07e-01 2.10e+01\n",
            " 0.00e+00]\n",
            "[ 9.  91.  68.   0.   0.  24.2  0.2 58.   0. ]\n",
            "[ 2.    91.    62.     0.     0.    27.3    0.525 22.     0.   ]\n",
            "[ 3.    99.    54.    19.    86.    25.6    0.154 24.     0.   ]\n",
            "[  3.    163.     70.     18.    105.     31.6     0.268  28.      1.   ]\n",
            "[  9.    145.     88.     34.    165.     30.3     0.771  53.      1.   ]\n",
            "[  7.    125.     86.      0.      0.     37.6     0.304  51.      0.   ]\n",
            "[13.   76.   60.    0.    0.   32.8   0.18 41.    0.  ]\n",
            "[  6.    129.     90.      7.    326.     19.6     0.582  60.      0.   ]\n",
            "[ 2.    68.    70.    32.    66.    25.     0.187 25.     0.   ]\n",
            "[  3.    124.     80.     33.    130.     33.2     0.305  26.      0.   ]\n",
            "[  6.    114.      0.      0.      0.      0.      0.189  26.      0.   ]\n",
            "[  9.    130.     70.      0.      0.     34.2     0.652  45.      1.   ]\n",
            "[  3.    125.     58.      0.      0.     31.6     0.151  24.      0.   ]\n",
            "[ 3.    87.    60.    18.     0.    21.8    0.444 21.     0.   ]\n",
            "[ 1.    97.    64.    19.    82.    18.2    0.299 21.     0.   ]\n",
            "[3.00e+00 1.16e+02 7.40e+01 1.50e+01 1.05e+02 2.63e+01 1.07e-01 2.40e+01\n",
            " 0.00e+00]\n",
            "[  0.    117.     66.     31.    188.     30.8     0.493  22.      0.   ]\n",
            "[  0.   111.    65.     0.     0.    24.6    0.66  31.     0.  ]\n",
            "[  2.    122.     60.     18.    106.     29.8     0.717  22.      0.   ]\n",
            "[  0.    107.     76.      0.      0.     45.3     0.686  24.      0.   ]\n",
            "[ 1.    86.    66.    52.    65.    41.3    0.917 29.     0.   ]\n",
            "[ 6.    91.     0.     0.     0.    29.8    0.501 31.     0.   ]\n",
            "[ 1.    77.    56.    30.    56.    33.3    1.251 24.     0.   ]\n",
            "[  4.    132.      0.      0.      0.     32.9     0.302  23.      1.   ]\n",
            "[  0.    105.     90.      0.      0.     29.6     0.197  46.      0.   ]\n",
            "[ 0.    57.    60.     0.     0.    21.7    0.735 67.     0.   ]\n",
            "[  0.    127.     80.     37.    210.     36.3     0.804  23.      0.   ]\n",
            "[  3.    129.     92.     49.    155.     36.4     0.968  32.      1.   ]\n",
            "[  8.    100.     74.     40.    215.     39.4     0.661  43.      1.   ]\n",
            "[  3.    128.     72.     25.    190.     32.4     0.549  27.      1.   ]\n",
            "[10.    90.    85.    32.     0.    34.9    0.825 56.     1.   ]\n",
            "[ 4.    84.    90.    23.    56.    39.5    0.159 25.     0.   ]\n",
            "[ 1.    88.    78.    29.    76.    32.     0.365 29.     0.   ]\n",
            "[  8.    186.     90.     35.    225.     34.5     0.423  37.      1.   ]\n",
            "[  5.    187.     76.     27.    207.     43.6     1.034  53.      1.   ]\n",
            "[4.00e+00 1.31e+02 6.80e+01 2.10e+01 1.66e+02 3.31e+01 1.60e-01 2.80e+01\n",
            " 0.00e+00]\n",
            "[  1.    164.     82.     43.     67.     32.8     0.341  50.      0.   ]\n",
            "[  4.   189.   110.    31.     0.    28.5    0.68  37.     0.  ]\n",
            "[  1.    116.     70.     28.      0.     27.4     0.204  21.      0.   ]\n",
            "[  3.     84.     68.     30.    106.     31.9     0.591  25.      0.   ]\n",
            "[  6.    114.     88.      0.      0.     27.8     0.247  66.      0.   ]\n",
            "[ 1.    88.    62.    24.    44.    29.9    0.422 23.     0.   ]\n",
            "[  1.     84.     64.     23.    115.     36.9     0.471  28.      0.   ]\n",
            "[7.00e+00 1.24e+02 7.00e+01 3.30e+01 2.15e+02 2.55e+01 1.61e-01 3.70e+01\n",
            " 0.00e+00]\n",
            "[ 1.    97.    70.    40.     0.    38.1    0.218 30.     0.   ]\n",
            "[  8.    110.     76.      0.      0.     27.8     0.237  58.      0.   ]\n",
            "[ 11.    103.     68.     40.      0.     46.2     0.126  42.      0.   ]\n",
            "[11.  85.  74.   0.   0.  30.1  0.3 35.   0. ]\n",
            "[6.00e+00 1.25e+02 7.60e+01 0.00e+00 0.00e+00 3.38e+01 1.21e-01 5.40e+01\n",
            " 1.00e+00]\n",
            "[  0.    198.     66.     32.    274.     41.3     0.502  28.      1.   ]\n",
            "[ 1.    87.    68.    34.    77.    37.6    0.401 24.     0.   ]\n",
            "[ 6.    99.    60.    19.    54.    26.9    0.497 32.     0.   ]\n",
            "[ 0.    91.    80.     0.     0.    32.4    0.601 27.     0.   ]\n",
            "[ 2.    95.    54.    14.    88.    26.1    0.748 22.     0.   ]\n",
            "[ 1.    99.    72.    30.    18.    38.6    0.412 21.     0.   ]\n",
            "[6.00e+00 9.20e+01 6.20e+01 3.20e+01 1.26e+02 3.20e+01 8.50e-02 4.60e+01\n",
            " 0.00e+00]\n",
            "[  4.    154.     72.     29.    126.     31.3     0.338  37.      0.   ]\n",
            "[  0.    121.     66.     30.    165.     34.3     0.203  33.      1.   ]\n",
            "[ 3.   78.   70.    0.    0.   32.5   0.27 39.    0.  ]\n",
            "[  2.    130.     96.      0.      0.     22.6     0.268  21.      0.   ]\n",
            "[  3.   111.    58.    31.    44.    29.5    0.43  22.     0.  ]\n",
            "[  2.     98.     60.     17.    120.     34.7     0.198  22.      0.   ]\n",
            "[  1.    143.     86.     30.    330.     30.1     0.892  23.      0.   ]\n",
            "[  1.   119.    44.    47.    63.    35.5    0.28  25.     0.  ]\n",
            "[  6.    108.     44.     20.    130.     24.      0.813  35.      0.   ]\n",
            "[  2.    118.     80.      0.      0.     42.9     0.693  21.      1.   ]\n",
            "[ 10.    133.     68.      0.      0.     27.      0.245  36.      0.   ]\n",
            "[  2.    197.     70.     99.      0.     34.7     0.575  62.      1.   ]\n",
            "[  0.    151.     90.     46.      0.     42.1     0.371  21.      1.   ]\n",
            "[  6.    109.     60.     27.      0.     25.      0.206  27.      0.   ]\n",
            "[ 12.    121.     78.     17.      0.     26.5     0.259  62.      0.   ]\n",
            "[  8.   100.    76.     0.     0.    38.7    0.19  42.     0.  ]\n",
            "[  8.    124.     76.     24.    600.     28.7     0.687  52.      1.   ]\n",
            "[ 1.    93.    56.    11.     0.    22.5    0.417 22.     0.   ]\n",
            "[8.00e+00 1.43e+02 6.60e+01 0.00e+00 0.00e+00 3.49e+01 1.29e-01 4.10e+01\n",
            " 1.00e+00]\n",
            "[  6.    103.     66.      0.      0.     24.3     0.249  29.      0.   ]\n",
            "[  3.    176.     86.     27.    156.     33.3     1.154  52.      1.   ]\n",
            "[ 0.    73.     0.     0.     0.    21.1    0.342 25.     0.   ]\n",
            "[ 11.    111.     84.     40.      0.     46.8     0.925  45.      1.   ]\n",
            "[  2.    112.     78.     50.    140.     39.4     0.175  24.      0.   ]\n",
            "[  3.    132.     80.      0.      0.     34.4     0.402  44.      1.   ]\n",
            "[  2.     82.     52.     22.    115.     28.5     1.699  25.      0.   ]\n",
            "[  6.    123.     72.     45.    230.     33.6     0.733  34.      0.   ]\n",
            "[  0.    188.     82.     14.    185.     32.      0.682  22.      1.   ]\n",
            "[ 0.    67.    76.     0.     0.    45.3    0.194 46.     0.   ]\n",
            "[ 1.    89.    24.    19.    25.    27.8    0.559 21.     0.   ]\n",
            "[1.00e+00 1.73e+02 7.40e+01 0.00e+00 0.00e+00 3.68e+01 8.80e-02 3.80e+01\n",
            " 1.00e+00]\n",
            "[  1.    109.     38.     18.    120.     23.1     0.407  26.      0.   ]\n",
            "[  1.  108.   88.   19.    0.   27.1   0.4  24.    0. ]\n",
            "[ 6.   96.    0.    0.    0.   23.7   0.19 28.    0.  ]\n",
            "[1.00e+00 1.24e+02 7.40e+01 3.60e+01 0.00e+00 2.78e+01 1.00e-01 3.00e+01\n",
            " 0.00e+00]\n",
            "[  7.    150.     78.     29.    126.     35.2     0.692  54.      1.   ]\n",
            "[  4.    183.      0.      0.      0.     28.4     0.212  36.      1.   ]\n",
            "[  1.    124.     60.     32.      0.     35.8     0.514  21.      0.   ]\n",
            "[  1.    181.     78.     42.    293.     40.      1.258  22.      1.   ]\n",
            "[ 1.    92.    62.    25.    41.    19.5    0.482 25.     0.   ]\n",
            "[0.00e+00 1.52e+02 8.20e+01 3.90e+01 2.72e+02 4.15e+01 2.70e-01 2.70e+01\n",
            " 0.00e+00]\n",
            "[1.00e+00 1.11e+02 6.20e+01 1.30e+01 1.82e+02 2.40e+01 1.38e-01 2.30e+01\n",
            " 0.00e+00]\n",
            "[  3.    106.     54.     21.    158.     30.9     0.292  24.      0.   ]\n",
            "[  3.    174.     58.     22.    194.     32.9     0.593  36.      1.   ]\n",
            "[  7.    168.     88.     42.    321.     38.2     0.787  40.      1.   ]\n",
            "[  6.    105.     80.     28.      0.     32.5     0.878  26.      0.   ]\n",
            "[ 11.    138.     74.     26.    144.     36.1     0.557  50.      1.   ]\n",
            "[  3.    106.     72.      0.      0.     25.8     0.207  27.      0.   ]\n",
            "[  6.    117.     96.      0.      0.     28.7     0.157  30.      0.   ]\n",
            "[ 2.    68.    62.    13.    15.    20.1    0.257 23.     0.   ]\n",
            "[  9.    112.     82.     24.      0.     28.2     1.282  50.      1.   ]\n",
            "[  0.    119.      0.      0.      0.     32.4     0.141  24.      1.   ]\n",
            "[  2.    112.     86.     42.    160.     38.4     0.246  28.      0.   ]\n",
            "[ 2.    92.    76.    20.     0.    24.2    1.698 28.     0.   ]\n",
            "[  6.    183.     94.      0.      0.     40.8     1.461  45.      0.   ]\n",
            "[  0.     94.     70.     27.    115.     43.5     0.347  21.      0.   ]\n",
            "[  2.    108.     64.      0.      0.     30.8     0.158  21.      0.   ]\n",
            "[ 4.    90.    88.    47.    54.    37.7    0.362 29.     0.   ]\n",
            "[  0.    125.     68.      0.      0.     24.7     0.206  21.      0.   ]\n",
            "[  0.    132.     78.      0.      0.     32.4     0.393  21.      0.   ]\n",
            "[  5.    128.     80.      0.      0.     34.6     0.144  45.      0.   ]\n",
            "[ 4.    94.    65.    22.     0.    24.7    0.148 21.     0.   ]\n",
            "[  7.    114.     64.      0.      0.     27.4     0.732  34.      1.   ]\n",
            "[  0.    102.     78.     40.     90.     34.5     0.238  24.      0.   ]\n",
            "[  2.    111.     60.      0.      0.     26.2     0.343  23.      0.   ]\n",
            "[1.00e+00 1.28e+02 8.20e+01 1.70e+01 1.83e+02 2.75e+01 1.15e-01 2.20e+01\n",
            " 0.00e+00]\n",
            "[10.    92.    62.     0.     0.    25.9    0.167 31.     0.   ]\n",
            "[ 13.    104.     72.      0.      0.     31.2     0.465  38.      1.   ]\n",
            "[  5.    104.     74.      0.      0.     28.8     0.153  48.      0.   ]\n",
            "[ 2.    94.    76.    18.    66.    31.6    0.649 23.     0.   ]\n",
            "[ 7.    97.    76.    32.    91.    40.9    0.871 32.     1.   ]\n",
            "[  1.    100.     74.     12.     46.     19.5     0.149  28.      0.   ]\n",
            "[  0.    102.     86.     17.    105.     29.3     0.695  27.      0.   ]\n",
            "[  4.    128.     70.      0.      0.     34.3     0.303  24.      0.   ]\n",
            "[  6.    147.     80.      0.      0.     29.5     0.178  50.      1.   ]\n",
            "[ 4.   90.    0.    0.    0.   28.    0.61 31.    0.  ]\n",
            "[  3.   103.    72.    30.   152.    27.6    0.73  27.     0.  ]\n",
            "[2.00e+00 1.57e+02 7.40e+01 3.50e+01 4.40e+02 3.94e+01 1.34e-01 3.00e+01\n",
            " 0.00e+00]\n",
            "[  1.    167.     74.     17.    144.     23.4     0.447  33.      1.   ]\n",
            "[  0.    179.     50.     36.    159.     37.8     0.455  22.      1.   ]\n",
            "[ 11.   136.    84.    35.   130.    28.3    0.26  42.     1.  ]\n",
            "[  0.    107.     60.     25.      0.     26.4     0.133  23.      0.   ]\n",
            "[  1.     91.     54.     25.    100.     25.2     0.234  23.      0.   ]\n",
            "[  1.    117.     60.     23.    106.     33.8     0.466  27.      0.   ]\n",
            "[  5.    123.     74.     40.     77.     34.1     0.269  28.      0.   ]\n",
            "[  2.    120.     54.      0.      0.     26.8     0.455  27.      0.   ]\n",
            "[  1.    106.     70.     28.    135.     34.2     0.142  22.      0.   ]\n",
            "[2.00e+00 1.55e+02 5.20e+01 2.70e+01 5.40e+02 3.87e+01 2.40e-01 2.50e+01\n",
            " 1.00e+00]\n",
            "[  2.    101.     58.     35.     90.     21.8     0.155  22.      0.   ]\n",
            "[  1.    120.     80.     48.    200.     38.9     1.162  41.      0.   ]\n",
            "[ 11.   127.   106.     0.     0.    39.     0.19  51.     0.  ]\n",
            "[ 3.    80.    82.    31.    70.    34.2    1.292 27.     1.   ]\n",
            "[ 10.    162.     84.      0.      0.     27.7     0.182  54.      0.   ]\n",
            "[  1.    199.     76.     43.      0.     42.9     1.394  22.      1.   ]\n",
            "[8.00e+00 1.67e+02 1.06e+02 4.60e+01 2.31e+02 3.76e+01 1.65e-01 4.30e+01\n",
            " 1.00e+00]\n",
            "[  9.    145.     80.     46.    130.     37.9     0.637  40.      1.   ]\n",
            "[  6.    115.     60.     39.      0.     33.7     0.245  40.      1.   ]\n",
            "[  1.    112.     80.     45.    132.     34.8     0.217  24.      0.   ]\n",
            "[  4.    145.     82.     18.      0.     32.5     0.235  70.      1.   ]\n",
            "[ 10.    111.     70.     27.      0.     27.5     0.141  40.      1.   ]\n",
            "[  6.    98.    58.    33.   190.    34.     0.43  43.     0.  ]\n",
            "[  9.    154.     78.     30.    100.     30.9     0.164  45.      0.   ]\n",
            "[  6.    165.     68.     26.    168.     33.6     0.631  49.      0.   ]\n",
            "[ 1.    99.    58.    10.     0.    25.4    0.551 21.     0.   ]\n",
            "[ 10.     68.    106.     23.     49.     35.5     0.285  47.      0.   ]\n",
            "[  3.   123.   100.    35.   240.    57.3    0.88  22.     0.  ]\n",
            "[ 8.    91.    82.     0.     0.    35.6    0.587 68.     0.   ]\n",
            "[  6.    195.     70.      0.      0.     30.9     0.328  31.      1.   ]\n",
            "[  9.   156.    86.     0.     0.    24.8    0.23  53.     1.  ]\n",
            "[ 0.    93.    60.     0.     0.    35.3    0.263 25.     0.   ]\n",
            "[  3.    121.     52.      0.      0.     36.      0.127  25.      1.   ]\n",
            "[  2.    101.     58.     17.    265.     24.2     0.614  23.      0.   ]\n",
            "[ 2.    56.    56.    28.    45.    24.2    0.332 22.     0.   ]\n",
            "[  0.    162.     76.     36.      0.     49.6     0.364  26.      1.   ]\n",
            "[  0.     95.     64.     39.    105.     44.6     0.366  22.      0.   ]\n",
            "[  4.    125.     80.      0.      0.     32.3     0.536  27.      1.   ]\n",
            "[  5.   136.    82.     0.     0.     0.     0.64  69.     0.  ]\n",
            "[  2.    129.     74.     26.    205.     33.2     0.591  25.      0.   ]\n",
            "[  3.    130.     64.      0.      0.     23.1     0.314  22.      0.   ]\n",
            "[  1.    107.     50.     19.      0.     28.3     0.181  29.      0.   ]\n",
            "[  1.    140.     74.     26.    180.     24.1     0.828  23.      0.   ]\n",
            "[  1.    144.     82.     46.    180.     46.1     0.335  46.      1.   ]\n",
            "[  8.    107.     80.      0.      0.     24.6     0.856  34.      0.   ]\n",
            "[ 13.    158.    114.      0.      0.     42.3     0.257  44.      1.   ]\n",
            "[  2.    121.     70.     32.     95.     39.1     0.886  23.      0.   ]\n",
            "[  7.    129.     68.     49.    125.     38.5     0.439  43.      1.   ]\n",
            "[ 2.    90.    60.     0.     0.    23.5    0.191 25.     0.   ]\n",
            "[7.00e+00 1.42e+02 9.00e+01 2.40e+01 4.80e+02 3.04e+01 1.28e-01 4.30e+01\n",
            " 1.00e+00]\n",
            "[  3.    169.     74.     19.    125.     29.9     0.268  31.      1.   ]\n",
            "[ 0.    99.     0.     0.     0.    25.     0.253 22.     0.   ]\n",
            "[  4.    127.     88.     11.    155.     34.5     0.598  28.      0.   ]\n",
            "[  4.    118.     70.      0.      0.     44.5     0.904  26.      0.   ]\n",
            "[  2.    122.     76.     27.    200.     35.9     0.483  26.      0.   ]\n",
            "[  6.    125.     78.     31.      0.     27.6     0.565  49.      1.   ]\n",
            "[  1.    168.     88.     29.      0.     35.      0.905  52.      1.   ]\n",
            "[  2.    129.      0.      0.      0.     38.5     0.304  41.      0.   ]\n",
            "[  4.    110.     76.     20.    100.     28.4     0.118  27.      0.   ]\n",
            "[ 6.    80.    80.    36.     0.    39.8    0.177 28.     0.   ]\n",
            "[ 10.    115.      0.      0.      0.      0.      0.261  30.      1.   ]\n",
            "[2.00e+00 1.27e+02 4.60e+01 2.10e+01 3.35e+02 3.44e+01 1.76e-01 2.20e+01\n",
            " 0.00e+00]\n",
            "[9.00e+00 1.64e+02 7.80e+01 0.00e+00 0.00e+00 3.28e+01 1.48e-01 4.50e+01\n",
            " 1.00e+00]\n",
            "[  2.     93.     64.     32.    160.     38.      0.674  23.      1.   ]\n",
            "[3.00e+00 1.58e+02 6.40e+01 1.30e+01 3.87e+02 3.12e+01 2.95e-01 2.40e+01\n",
            " 0.00e+00]\n",
            "[  5.    126.     78.     27.     22.     29.6     0.439  40.      0.   ]\n",
            "[ 10.    129.     62.     36.      0.     41.2     0.441  38.      1.   ]\n",
            "[  0.    134.     58.     20.    291.     26.4     0.352  21.      0.   ]\n",
            "[  3.    102.     74.      0.      0.     29.5     0.121  32.      0.   ]\n",
            "[  7.    187.     50.     33.    392.     33.9     0.826  34.      1.   ]\n",
            "[  3.   173.    78.    39.   185.    33.8    0.97  31.     1.  ]\n",
            "[10.    94.    72.    18.     0.    23.1    0.595 56.     0.   ]\n",
            "[  1.    108.     60.     46.    178.     35.5     0.415  24.      0.   ]\n",
            "[ 5.    97.    76.    27.     0.    35.6    0.378 52.     1.   ]\n",
            "[ 4.    83.    86.    19.     0.    29.3    0.317 34.     0.   ]\n",
            "[  1.    114.     66.     36.    200.     38.1     0.289  21.      0.   ]\n",
            "[  1.    149.     68.     29.    127.     29.3     0.349  42.      1.   ]\n",
            "[  5.    117.     86.     30.    105.     39.1     0.251  42.      0.   ]\n",
            "[  1.    111.     94.      0.      0.     32.8     0.265  45.      0.   ]\n",
            "[  4.    112.     78.     40.      0.     39.4     0.236  38.      0.   ]\n",
            "[  1.    116.     78.     29.    180.     36.1     0.496  25.      0.   ]\n",
            "[  0.    141.     84.     26.      0.     32.4     0.433  22.      0.   ]\n",
            "[  2.    175.     88.      0.      0.     22.9     0.326  22.      0.   ]\n",
            "[ 2.    92.    52.     0.     0.    30.1    0.141 22.     0.   ]\n",
            "[  3.    130.     78.     23.     79.     28.4     0.323  34.      1.   ]\n",
            "[  8.    120.     86.      0.      0.     28.4     0.259  22.      1.   ]\n",
            "[  2.    174.     88.     37.    120.     44.5     0.646  24.      1.   ]\n",
            "[  2.    106.     56.     27.    165.     29.      0.426  22.      0.   ]\n",
            "[  2.   105.    75.     0.     0.    23.3    0.56  53.     0.  ]\n",
            "[ 4.    95.    60.    32.     0.    35.4    0.284 28.     0.   ]\n",
            "[  0.    126.     86.     27.    120.     27.4     0.515  21.      0.   ]\n",
            "[ 8.  65.  72.  23.   0.  32.   0.6 42.   0. ]\n",
            "[  2.     99.     60.     17.    160.     36.6     0.453  21.      0.   ]\n",
            "[  1.    102.     74.      0.      0.     39.5     0.293  42.      1.   ]\n",
            "[ 11.    120.     80.     37.    150.     42.3     0.785  48.      1.   ]\n",
            "[  3.  102.   44.   20.   94.   30.8   0.4  26.    0. ]\n",
            "[  1.    109.     58.     18.    116.     28.5     0.219  22.      0.   ]\n",
            "[  9.    140.     94.      0.      0.     32.7     0.734  45.      1.   ]\n",
            "[ 13.    153.     88.     37.    140.     40.6     1.174  39.      0.   ]\n",
            "[ 12.    100.     84.     33.    105.     30.      0.488  46.      0.   ]\n",
            "[  1.    147.     94.     41.      0.     49.3     0.358  27.      1.   ]\n",
            "[ 1.    81.    74.    41.    57.    46.3    1.096 32.     0.   ]\n",
            "[  3.    187.     70.     22.    200.     36.4     0.408  36.      1.   ]\n",
            "[  6.    162.     62.      0.      0.     24.3     0.178  50.      1.   ]\n",
            "[  4.    136.     70.      0.      0.     31.2     1.182  22.      1.   ]\n",
            "[  1.    121.     78.     39.     74.     39.      0.261  28.      0.   ]\n",
            "[  3.    108.     62.     24.      0.     26.      0.223  25.      0.   ]\n",
            "[0.00e+00 1.81e+02 8.80e+01 4.40e+01 5.10e+02 4.33e+01 2.22e-01 2.60e+01\n",
            " 1.00e+00]\n",
            "[  8.    154.     78.     32.      0.     32.4     0.443  45.      1.   ]\n",
            "[  1.    128.     88.     39.    110.     36.5     1.057  37.      1.   ]\n",
            "[  7.    137.     90.     41.      0.     32.      0.391  39.      0.   ]\n",
            "[  0.    123.     72.      0.      0.     36.3     0.258  52.      1.   ]\n",
            "[  1.    106.     76.      0.      0.     37.5     0.197  26.      0.   ]\n",
            "[  6.    190.     92.      0.      0.     35.5     0.278  66.      1.   ]\n",
            "[ 2.    88.    58.    26.    16.    28.4    0.766 22.     0.   ]\n",
            "[  9.    170.     74.     31.      0.     44.      0.403  43.      1.   ]\n",
            "[ 9.    89.    62.     0.     0.    22.5    0.142 33.     0.   ]\n",
            "[1.00e+01 1.01e+02 7.60e+01 4.80e+01 1.80e+02 3.29e+01 1.71e-01 6.30e+01\n",
            " 0.00e+00]\n",
            "[  2.   122.    70.    27.     0.    36.8    0.34  27.     0.  ]\n",
            "[  5.    121.     72.     23.    112.     26.2     0.245  30.      0.   ]\n",
            "[  1.    126.     60.      0.      0.     30.1     0.349  47.      1.   ]\n",
            "[ 1.    93.    70.    31.     0.    30.4    0.315 23.     0.   ]\n"
          ]
        }
      ],
      "source": [
        "import numpy\n",
        "filename ='indians-diabetes.data.csv'\n",
        "raw_data=open(filename,'r')\n",
        "data=numpy.loadtxt(raw_data,delimiter=\",\")\n",
        "print(\"numpy loadtxt:\",data.shape)\n",
        "raw_data.close()\n",
        "print(\"\\n\\n\\n\")\n",
        "for l in data:\n",
        "    print(l)\n"
      ]
    },
    {
      "cell_type": "code",
      "execution_count": 7,
      "metadata": {
        "colab": {
          "base_uri": "https://localhost:8080/"
        },
        "id": "4teci--CNNUI",
        "outputId": "e346ccc8-8d54-4f48-cd9e-3dac8859ba0f"
      },
      "outputs": [
        {
          "name": "stdout",
          "output_type": "stream",
          "text": [
            "[5.1 3.5 1.4 0.2 nan]\n",
            "[4.9 3.  1.4 0.2 nan]\n",
            "[4.7 3.2 1.3 0.2 nan]\n",
            "[4.6 3.1 1.5 0.2 nan]\n",
            "[5.  3.6 1.4 0.2 nan]\n",
            "[5.4 3.9 1.7 0.4 nan]\n",
            "[4.6 3.4 1.4 0.3 nan]\n",
            "[5.  3.4 1.5 0.2 nan]\n",
            "[4.4 2.9 1.4 0.2 nan]\n",
            "[4.9 3.1 1.5 0.1 nan]\n",
            "[5.4 3.7 1.5 0.2 nan]\n",
            "[4.8 3.4 1.6 0.2 nan]\n",
            "[4.8 3.  1.4 0.1 nan]\n",
            "[4.3 3.  1.1 0.1 nan]\n",
            "[5.8 4.  1.2 0.2 nan]\n",
            "[5.7 4.4 1.5 0.4 nan]\n",
            "[5.4 3.9 1.3 0.4 nan]\n",
            "[5.1 3.5 1.4 0.3 nan]\n",
            "[5.7 3.8 1.7 0.3 nan]\n",
            "[5.1 3.8 1.5 0.3 nan]\n",
            "[5.4 3.4 1.7 0.2 nan]\n",
            "[5.1 3.7 1.5 0.4 nan]\n",
            "[4.6 3.6 1.  0.2 nan]\n",
            "[5.1 3.3 1.7 0.5 nan]\n",
            "[4.8 3.4 1.9 0.2 nan]\n",
            "[5.  3.  1.6 0.2 nan]\n",
            "[5.  3.4 1.6 0.4 nan]\n",
            "[5.2 3.5 1.5 0.2 nan]\n",
            "[5.2 3.4 1.4 0.2 nan]\n",
            "[4.7 3.2 1.6 0.2 nan]\n",
            "[4.8 3.1 1.6 0.2 nan]\n",
            "[5.4 3.4 1.5 0.4 nan]\n",
            "[5.2 4.1 1.5 0.1 nan]\n",
            "[5.5 4.2 1.4 0.2 nan]\n",
            "[4.9 3.1 1.5 0.1 nan]\n",
            "[5.  3.2 1.2 0.2 nan]\n",
            "[5.5 3.5 1.3 0.2 nan]\n",
            "[4.9 3.1 1.5 0.1 nan]\n",
            "[4.4 3.  1.3 0.2 nan]\n",
            "[5.1 3.4 1.5 0.2 nan]\n",
            "[5.  3.5 1.3 0.3 nan]\n",
            "[4.5 2.3 1.3 0.3 nan]\n",
            "[4.4 3.2 1.3 0.2 nan]\n",
            "[5.  3.5 1.6 0.6 nan]\n",
            "[5.1 3.8 1.9 0.4 nan]\n",
            "[4.8 3.  1.4 0.3 nan]\n",
            "[5.1 3.8 1.6 0.2 nan]\n",
            "[4.6 3.2 1.4 0.2 nan]\n",
            "[5.3 3.7 1.5 0.2 nan]\n",
            "[5.  3.3 1.4 0.2 nan]\n",
            "[7.  3.2 4.7 1.4 nan]\n",
            "[6.4 3.2 4.5 1.5 nan]\n",
            "[6.9 3.1 4.9 1.5 nan]\n",
            "[5.5 2.3 4.  1.3 nan]\n",
            "[6.5 2.8 4.6 1.5 nan]\n",
            "[5.7 2.8 4.5 1.3 nan]\n",
            "[6.3 3.3 4.7 1.6 nan]\n",
            "[4.9 2.4 3.3 1.  nan]\n",
            "[6.6 2.9 4.6 1.3 nan]\n",
            "[5.2 2.7 3.9 1.4 nan]\n",
            "[5.  2.  3.5 1.  nan]\n",
            "[5.9 3.  4.2 1.5 nan]\n",
            "[6.  2.2 4.  1.  nan]\n",
            "[6.1 2.9 4.7 1.4 nan]\n",
            "[5.6 2.9 3.6 1.3 nan]\n",
            "[6.7 3.1 4.4 1.4 nan]\n",
            "[5.6 3.  4.5 1.5 nan]\n",
            "[5.8 2.7 4.1 1.  nan]\n",
            "[6.2 2.2 4.5 1.5 nan]\n",
            "[5.6 2.5 3.9 1.1 nan]\n",
            "[5.9 3.2 4.8 1.8 nan]\n",
            "[6.1 2.8 4.  1.3 nan]\n",
            "[6.3 2.5 4.9 1.5 nan]\n",
            "[6.1 2.8 4.7 1.2 nan]\n",
            "[6.4 2.9 4.3 1.3 nan]\n",
            "[6.6 3.  4.4 1.4 nan]\n",
            "[6.8 2.8 4.8 1.4 nan]\n",
            "[6.7 3.  5.  1.7 nan]\n",
            "[6.  2.9 4.5 1.5 nan]\n",
            "[5.7 2.6 3.5 1.  nan]\n",
            "[5.5 2.4 3.8 1.1 nan]\n",
            "[5.5 2.4 3.7 1.  nan]\n",
            "[5.8 2.7 3.9 1.2 nan]\n",
            "[6.  2.7 5.1 1.6 nan]\n",
            "[5.4 3.  4.5 1.5 nan]\n",
            "[6.  3.4 4.5 1.6 nan]\n",
            "[6.7 3.1 4.7 1.5 nan]\n",
            "[6.3 2.3 4.4 1.3 nan]\n",
            "[5.6 3.  4.1 1.3 nan]\n",
            "[5.5 2.5 4.  1.3 nan]\n",
            "[5.5 2.6 4.4 1.2 nan]\n",
            "[6.1 3.  4.6 1.4 nan]\n",
            "[5.8 2.6 4.  1.2 nan]\n",
            "[5.  2.3 3.3 1.  nan]\n",
            "[5.6 2.7 4.2 1.3 nan]\n",
            "[5.7 3.  4.2 1.2 nan]\n",
            "[5.7 2.9 4.2 1.3 nan]\n",
            "[6.2 2.9 4.3 1.3 nan]\n",
            "[5.1 2.5 3.  1.1 nan]\n",
            "[5.7 2.8 4.1 1.3 nan]\n",
            "[6.3 3.3 6.  2.5 nan]\n",
            "[5.8 2.7 5.1 1.9 nan]\n",
            "[7.1 3.  5.9 2.1 nan]\n",
            "[6.3 2.9 5.6 1.8 nan]\n",
            "[6.5 3.  5.8 2.2 nan]\n",
            "[7.6 3.  6.6 2.1 nan]\n",
            "[4.9 2.5 4.5 1.7 nan]\n",
            "[7.3 2.9 6.3 1.8 nan]\n",
            "[6.7 2.5 5.8 1.8 nan]\n",
            "[7.2 3.6 6.1 2.5 nan]\n",
            "[6.5 3.2 5.1 2.  nan]\n",
            "[6.4 2.7 5.3 1.9 nan]\n",
            "[6.8 3.  5.5 2.1 nan]\n",
            "[5.7 2.5 5.  2.  nan]\n",
            "[5.8 2.8 5.1 2.4 nan]\n",
            "[6.4 3.2 5.3 2.3 nan]\n",
            "[6.5 3.  5.5 1.8 nan]\n",
            "[7.7 3.8 6.7 2.2 nan]\n",
            "[7.7 2.6 6.9 2.3 nan]\n",
            "[6.  2.2 5.  1.5 nan]\n",
            "[6.9 3.2 5.7 2.3 nan]\n",
            "[5.6 2.8 4.9 2.  nan]\n",
            "[7.7 2.8 6.7 2.  nan]\n",
            "[6.3 2.7 4.9 1.8 nan]\n",
            "[6.7 3.3 5.7 2.1 nan]\n",
            "[7.2 3.2 6.  1.8 nan]\n",
            "[6.2 2.8 4.8 1.8 nan]\n",
            "[6.1 3.  4.9 1.8 nan]\n",
            "[6.4 2.8 5.6 2.1 nan]\n",
            "[7.2 3.  5.8 1.6 nan]\n",
            "[7.4 2.8 6.1 1.9 nan]\n",
            "[7.9 3.8 6.4 2.  nan]\n",
            "[6.4 2.8 5.6 2.2 nan]\n",
            "[6.3 2.8 5.1 1.5 nan]\n",
            "[6.1 2.6 5.6 1.4 nan]\n",
            "[7.7 3.  6.1 2.3 nan]\n",
            "[6.3 3.4 5.6 2.4 nan]\n",
            "[6.4 3.1 5.5 1.8 nan]\n",
            "[6.  3.  4.8 1.8 nan]\n",
            "[6.9 3.1 5.4 2.1 nan]\n",
            "[6.7 3.1 5.6 2.4 nan]\n",
            "[6.9 3.1 5.1 2.3 nan]\n",
            "[5.8 2.7 5.1 1.9 nan]\n",
            "[6.8 3.2 5.9 2.3 nan]\n",
            "[6.7 3.3 5.7 2.5 nan]\n",
            "[6.7 3.  5.2 2.3 nan]\n",
            "[6.3 2.5 5.  1.9 nan]\n",
            "[6.5 3.  5.2 2.  nan]\n",
            "[6.2 3.4 5.4 2.3 nan]\n",
            "[5.9 3.  5.1 1.8 nan]\n",
            "Shape of Data from Url :  (150, 5)\n"
          ]
        }
      ],
      "source": [
        "import numpy\n",
        "import urllib.request\n",
        "web_path=urllib.request.urlopen(\"https://goo.gl/QnHW4g\")\n",
        "dataset=numpy.genfromtxt(web_path,delimiter=\",\")\n",
        "\n",
        "#print(dataset)\n",
        "for l in dataset:\n",
        "    print(l)\n",
        "print(\"Shape of Data from Url : \",dataset.shape)"
      ]
    },
    {
      "cell_type": "markdown",
      "metadata": {
        "id": "6okhBt76m9r_"
      },
      "source": [
        "uploading  csv file from local drive"
      ]
    },
    {
      "cell_type": "code",
      "execution_count": 8,
      "metadata": {
        "colab": {
          "base_uri": "https://localhost:8080/"
        },
        "id": "0PNs_RQaOLPU",
        "outputId": "68bd12b9-9939-4beb-fae5-189241cc194f"
      },
      "outputs": [
        {
          "name": "stdout",
          "output_type": "stream",
          "text": [
            "pandas Data :  (768, 9)\n",
            "     preg  plas  pres  skin  test  mass   pedi  age  class\n",
            "0       6   148    72    35     0  33.6  0.627   50      1\n",
            "1       1    85    66    29     0  26.6  0.351   31      0\n",
            "2       8   183    64     0     0  23.3  0.672   32      1\n",
            "3       1    89    66    23    94  28.1  0.167   21      0\n",
            "4       0   137    40    35   168  43.1  2.288   33      1\n",
            "..    ...   ...   ...   ...   ...   ...    ...  ...    ...\n",
            "763    10   101    76    48   180  32.9  0.171   63      0\n",
            "764     2   122    70    27     0  36.8  0.340   27      0\n",
            "765     5   121    72    23   112  26.2  0.245   30      0\n",
            "766     1   126    60     0     0  30.1  0.349   47      1\n",
            "767     1    93    70    31     0  30.4  0.315   23      0\n",
            "\n",
            "[768 rows x 9 columns]\n",
            "\n",
            "\n",
            "\n",
            "<class 'pandas.core.frame.DataFrame'>\n",
            "<class 'int'>\n",
            "<class 'float'>\n",
            "<class 'str'>\n",
            "<class 'list'>\n",
            "<class 'tuple'>\n"
          ]
        }
      ],
      "source": [
        "import pandas\n",
        "filename=\"indians-diabetes.data.csv\"\n",
        "#meata data requierd in pandas-> heading\n",
        "hnames=['preg','plas','pres','skin','test','mass','pedi','age','class']\n",
        "dataframe=pandas.read_csv(filename,names=hnames)\n",
        "print(\"pandas Data : \", dataframe.shape)\n",
        "print(dataframe)\n",
        "print(\"\\n\\n\")\n",
        "print(type(dataframe))#tells the  datatype of any value\n",
        "#<class 'pandas.core.frame.DataFrame'>\n",
        "a=5\n",
        "print(type(a))\n",
        "\n",
        "a=1.25\n",
        "print(type(a))\n",
        "\n",
        "a=\"MMM\"\n",
        "print(type(a))\n",
        "\n",
        "a=[1,2,3,4,5]\n",
        "print(type(a))\n",
        "\n",
        "a=(1,2,3,4,5)\n",
        "print(type(a))"
      ]
    },
    {
      "cell_type": "code",
      "execution_count": 9,
      "metadata": {
        "colab": {
          "base_uri": "https://localhost:8080/"
        },
        "id": "zTngQjxxnf3x",
        "outputId": "228e0f26-c86b-479a-e294-65437f697b8a"
      },
      "outputs": [
        {
          "name": "stdout",
          "output_type": "stream",
          "text": [
            "(150, 5)\n",
            "     sepal-length  sepal-width  petal-length  petal-width           class\n",
            "0             5.1          3.5           1.4          0.2     Iris-setosa\n",
            "1             4.9          3.0           1.4          0.2     Iris-setosa\n",
            "2             4.7          3.2           1.3          0.2     Iris-setosa\n",
            "3             4.6          3.1           1.5          0.2     Iris-setosa\n",
            "4             5.0          3.6           1.4          0.2     Iris-setosa\n",
            "..            ...          ...           ...          ...             ...\n",
            "145           6.7          3.0           5.2          2.3  Iris-virginica\n",
            "146           6.3          2.5           5.0          1.9  Iris-virginica\n",
            "147           6.5          3.0           5.2          2.0  Iris-virginica\n",
            "148           6.2          3.4           5.4          2.3  Iris-virginica\n",
            "149           5.9          3.0           5.1          1.8  Iris-virginica\n",
            "\n",
            "[150 rows x 5 columns]\n",
            "Index(['sepal-length', 'sepal-width', 'petal-length', 'petal-width', 'class'], dtype='object')\n",
            "<generator object DataFrame.iterrows at 0x7f8af0612ed0>\n"
          ]
        }
      ],
      "source": [
        "import warnings\n",
        "warnings.filterwarnings(action='ignore')\n",
        "\n",
        "import pandas\n",
        "\n",
        "import urllib.request\n",
        "hnames=['sepal-length','sepal-width','petal-length','petal-width','class']\n",
        "\n",
        "#numpy cannot read text value but pandas can do it, means it can read any unstructured data.\n",
        "web_path=urllib.request.urlopen(\"https://goo.gl/QnHW4g\")\n",
        "\n",
        "dataframe=pandas.read_csv(web_path, names=hnames,delimiter=',')\n",
        "\n",
        "print(dataframe.shape)\n",
        "print(dataframe)\n",
        "print(dataframe.columns)\n",
        "print(dataframe.iterrows())\n"
      ]
    },
    {
      "cell_type": "code",
      "execution_count": 10,
      "metadata": {
        "colab": {
          "base_uri": "https://localhost:8080/"
        },
        "id": "uB1Etfpjn38o",
        "outputId": "a80a406d-3ede-4a28-cdda-fedf1351ec09"
      },
      "outputs": [
        {
          "name": "stdout",
          "output_type": "stream",
          "text": [
            "    preg  plas  pres  skin  test  mass   pedi  age  class\n",
            "0      6   148    72    35     0  33.6  0.627   50      1\n",
            "1      1    85    66    29     0  26.6  0.351   31      0\n",
            "2      8   183    64     0     0  23.3  0.672   32      1\n",
            "3      1    89    66    23    94  28.1  0.167   21      0\n",
            "4      0   137    40    35   168  43.1  2.288   33      1\n",
            "5      5   116    74     0     0  25.6  0.201   30      0\n",
            "6      3    78    50    32    88  31.0  0.248   26      1\n",
            "7     10   115     0     0     0  35.3  0.134   29      0\n",
            "8      2   197    70    45   543  30.5  0.158   53      1\n",
            "9      8   125    96     0     0   0.0  0.232   54      1\n",
            "10     4   110    92     0     0  37.6  0.191   30      0\n",
            "11    10   168    74     0     0  38.0  0.537   34      1\n",
            "12    10   139    80     0     0  27.1  1.441   57      0\n",
            "13     1   189    60    23   846  30.1  0.398   59      1\n",
            "14     5   166    72    19   175  25.8  0.587   51      1\n",
            "15     7   100     0     0     0  30.0  0.484   32      1\n",
            "16     0   118    84    47   230  45.8  0.551   31      1\n",
            "17     7   107    74     0     0  29.6  0.254   31      1\n",
            "18     1   103    30    38    83  43.3  0.183   33      0\n",
            "19     1   115    70    30    96  34.6  0.529   32      1\n",
            "-*--*--*--*--*--*--*--*--*--*--*--*--*--*--*--*--*--*--*--*-\n",
            "dataframe.shape: (768, 9)\n",
            "-*--*--*--*--*--*--*--*--*--*--*--*--*--*--*--*--*--*--*--*-\n",
            "\n",
            "class\n",
            "0    500\n",
            "1    268\n",
            "dtype: int64\n",
            "-*--*--*--*--*--*--*--*--*--*--*--*--*--*--*--*--*--*--*--*-\n",
            "preg       int64\n",
            "plas       int64\n",
            "pres       int64\n",
            "skin       int64\n",
            "test       int64\n",
            "mass     float64\n",
            "pedi     float64\n",
            "age        int64\n",
            "class      int64\n",
            "dtype: object\n",
            "-#--#--#--#--#--#--#--#--#--#--#--#--#--#--#--#--#--#--#--#-\n",
            "_-_-_-_-_-_-_-_-_-_-_-_-_-_-_-_-_-_-_-_-_-_-_-_-_-_-_-_-_-_-\n",
            "discription\n",
            "          preg    plas    pres    skin    test    mass    pedi     age   class\n",
            "count  768.00  768.00  768.00  768.00  768.00  768.00  768.00  768.00  768.00\n",
            "mean     3.85  120.89   69.11   20.54   79.80   31.99    0.47   33.24    0.35\n",
            "std      3.37   31.97   19.36   15.95  115.24    7.88    0.33   11.76    0.48\n",
            "min      0.00    0.00    0.00    0.00    0.00    0.00    0.08   21.00    0.00\n",
            "25%      1.00   99.00   62.00    0.00    0.00   27.30    0.24   24.00    0.00\n",
            "50%      3.00  117.00   72.00   23.00   30.50   32.00    0.37   29.00    0.00\n",
            "75%      6.00  140.25   80.00   32.00  127.25   36.60    0.63   41.00    1.00\n",
            "max     17.00  199.00  122.00   99.00  846.00   67.10    2.42   81.00    1.00\n",
            "------------------------------------------------------------\n",
            "\n",
            "class\n",
            "0    500\n",
            "1    268\n",
            "dtype: int64\n",
            "************************************************************\n",
            "       preg  plas  pres  skin  test  mass  pedi   age  class\n",
            "preg   1.00  0.13  0.14 -0.08 -0.07  0.02 -0.03  0.54   0.22\n",
            "plas   0.13  1.00  0.15  0.06  0.33  0.22  0.14  0.26   0.47\n",
            "pres   0.14  0.15  1.00  0.21  0.09  0.28  0.04  0.24   0.07\n",
            "skin  -0.08  0.06  0.21  1.00  0.44  0.39  0.18 -0.11   0.07\n",
            "test  -0.07  0.33  0.09  0.44  1.00  0.20  0.19 -0.04   0.13\n",
            "mass   0.02  0.22  0.28  0.39  0.20  1.00  0.14  0.04   0.29\n",
            "pedi  -0.03  0.14  0.04  0.18  0.19  0.14  1.00  0.03   0.17\n",
            "age    0.54  0.26  0.24 -0.11 -0.04  0.04  0.03  1.00   0.24\n",
            "class  0.22  0.47  0.07  0.07  0.13  0.29  0.17  0.24   1.00\n",
            "-*--*--*--*--*--*--*--*--*--*--*--*--*--*--*--*--*--*--*--*-\n",
            "<generator object DataFrame.iterrows at 0x7f8af06b2b50>\n"
          ]
        }
      ],
      "source": [
        "import pandas\n",
        "filename=\"indians-diabetes.data.csv\"\n",
        "\n",
        "hnames=['preg','plas','pres','skin','test','mass','pedi','age','class']\n",
        "\n",
        "dataframe= pandas.read_csv(filename,names=hnames)\n",
        "\n",
        "#Peek at your data\n",
        "#review the first 20     ->>(0-19)\n",
        "print(dataframe.head(20))\n",
        "print(\"-*-\"*20)\n",
        "\n",
        "#dimensions of your Data\n",
        "print(\"dataframe.shape:\",dataframe.shape)\n",
        "print(\"-*-\"*20)\n",
        "print()\n",
        "\n",
        "class_counts=dataframe.groupby('class').size()\n",
        "print(class_counts)\n",
        "print(\"-*-\"*20)\n",
        "\n",
        "print(dataframe.dtypes)\n",
        "print(\"-#-\"*20)\n",
        "\n",
        "pandas.set_option('precision',2)\n",
        "print(\"_-\"*30)\n",
        "\n",
        "print(\"discription\\n\",dataframe.describe())\n",
        "print(\"---\"*20)\n",
        "\n",
        "#class distribution(classification only)\n",
        "print()\n",
        "class_counts=dataframe.groupby('class').size()\n",
        "print(class_counts)\n",
        "print(\"*\"*60)\n",
        "\n",
        "correlations=dataframe.corr(method= 'pearson')\n",
        "print(correlations)\n",
        "print(\"-*-\"*20)\n",
        "print(dataframe.iterrows())\n"
      ]
    },
    {
      "cell_type": "code",
      "execution_count": 11,
      "metadata": {
        "colab": {
          "base_uri": "https://localhost:8080/",
          "height": 364
        },
        "id": "SOlGVDGxoUAQ",
        "outputId": "9b54ed30-a217-44b9-f18b-186979f15799"
      },
      "outputs": [
        {
          "name": "stdout",
          "output_type": "stream",
          "text": [
            "estimate estimated coefficents:\n",
            "\n",
            "slope m = 0.8505154639175257\n",
            "y-intercept c=  2.772680412371134\n",
            "y= 0.8505154639175257 *x+ 2.772680412371134\n"
          ]
        },
        {
          "data": {
            "image/png": "[encoded data removed]",
            "text/plain": [
              "<Figure size 432x288 with 1 Axes>"
            ]
          },
          "metadata": {
            "needs_background": "light"
          },
          "output_type": "display_data"
        }
      ],
      "source": [
        "import numpy as np\n",
        "import matplotlib.pyplot as plt\n",
        "def estimate_coef(x,y):\n",
        "    #number of observations/points\n",
        "    n=np.size(x)\n",
        "\n",
        "    # mean of x and y vector\n",
        "    m_x=np.mean(x)\n",
        "    m_y=np.mean(y)\n",
        "\n",
        "    # calculatin cross-deviation and deviation about\n",
        "    ss_xx=np.sum(x*y)-n*m_x*m_y\n",
        "    ss_xy=np.sum(x*x)-n*m_x*m_x\n",
        "\n",
        "\n",
        "    m=ss_xy/ss_xx\n",
        "    c=  m_y - m*m_x\n",
        "    return[m,c]      #hipothesis_parameters\n",
        "\n",
        "def plot_regression_line(x,y,b):\n",
        "    plt.scatter(x,y,color=\"m\",marker=\"o\",s=30)\n",
        "    y_pred=b[0]+b[1]*x\n",
        "\n",
        "    #plotting response vector\n",
        "    plt.scatter(x,y_pred,color=\"g\")\n",
        "    plt.plot(x,y_pred,color=\"b\")\n",
        "\n",
        "    #putting the regression line\n",
        "    plt.xlabel('----x--->')\n",
        "    plt.ylabel('----y---->')\n",
        "\n",
        "    #function to show plot\n",
        "    plt.show()\n",
        "\n",
        "def startAIAlgorithm():\n",
        "    #observations\n",
        "    x=np.array([0,1,2,3,4,5,6,7,8,9])\n",
        "    y=np.array([1,3,2,5,7,8,9,10,9,12])\n",
        "    #estimating_coefficents\n",
        "    m,c=estimate_coef(x,y)  #sender Values\n",
        "    print('estimate estimated coefficents:\\n')\n",
        "    print(\"slope m =\",m)\n",
        "    print('y-intercept c= ',c)\n",
        "    print(\"y=\",m,\"*x+\",c)\n",
        "    #plotting regression_line\n",
        "    plot_regression_line(x,y,[c,m])\n",
        "\n",
        "if __name__==\"__main__\":\n",
        "    startAIAlgorithm()\n"
      ]
    },
    {
      "cell_type": "code",
      "execution_count": 12,
      "metadata": {
        "colab": {
          "base_uri": "https://localhost:8080/"
        },
        "id": "5H-Jz1n7oflU",
        "outputId": "1b42fd20-99da-41cf-cae9-eb56bf462eca"
      },
      "outputs": [
        {
          "name": "stdout",
          "output_type": "stream",
          "text": [
            "list*4 [1, 2, 3, 1, 2, 3, 1, 2, 3, 1, 2, 3]\n",
            "[1 2 3]\n",
            "nparr*4= [ 4  8 12]\n",
            "nparr+4= [5 6 7]\n"
          ]
        }
      ],
      "source": [
        "\n",
        "list1=[1,2,3]\n",
        "\n",
        "#do not support operation operation broadcasting\n",
        "print(\"list*4\",list1*4)\n",
        "\n",
        "import numpy  as np\n",
        "nparr=np.array([1,2,3])\n",
        "print(nparr)\n",
        "print(\"nparr*4=\",nparr*4)\n",
        "print(\"nparr+4=\",nparr+4)"
      ]
    },
    {
      "cell_type": "code",
      "execution_count": 13,
      "metadata": {
        "colab": {
          "base_uri": "https://localhost:8080/"
        },
        "id": "tB1X7RO7o32i",
        "outputId": "5237e7eb-d896-44ee-b15f-79fa494fd544"
      },
      "outputs": [
        {
          "name": "stdout",
          "output_type": "stream",
          "text": [
            "<class 'int'>\n",
            "<class 'float'>\n",
            "<class 'numpy.ndarray'>\n",
            "nparr.dtype float64\n",
            "nparr.size= 3\n",
            "nparr.shape= (3,)\n"
          ]
        }
      ],
      "source": [
        "a=10\n",
        "print(type(a))\n",
        "\n",
        "a=12.5\n",
        "print(type(a))\n",
        "\n",
        "import numpy as np\n",
        "nparr=np.array([1,2.0,3])\n",
        "\n",
        "print(type(nparr))\n",
        "print(\"nparr.dtype\",nparr.dtype)\n",
        "\n",
        "print(\"nparr.size=\",nparr.size)#for one dementional\n",
        "print(\"nparr.shape=\",nparr.shape)#for others"
      ]
    },
    {
      "cell_type": "code",
      "execution_count": 14,
      "metadata": {
        "colab": {
          "base_uri": "https://localhost:8080/"
        },
        "id": "BsH3d0UzpJrE",
        "outputId": "42f85f6d-9d24-4f1c-a67f-3b4fa4e583aa"
      },
      "outputs": [
        {
          "name": "stdout",
          "output_type": "stream",
          "text": [
            "------------------------------------------------------------\n",
            "ddarr.ndim= 2\n",
            "ddarr.shape= (3, 3)\n",
            "ddarr.size= 9\n",
            "len(ddarr)= 3\n",
            "ddarr.dtype= object\n",
            "[[1 2 3]\n",
            " [4 5 6]\n",
            " [list([1, 2]) list([3, 4]) list([5, 6])]]\n",
            "8888888888888888888888888888888888888888888888888888888888888\n",
            "ddarr[0,1]= 2\n",
            "ddarr[0]= [1 2 3]\n",
            "ddarr[2,2] [5, 6]\n",
            "ddarr[:,0] [4 list([1, 2])]\n",
            "ddarr[1,:]= [4 5 6]\n",
            "ddarr[0:,2] [3 6 list([5, 6])]\n",
            "ddarr[0:2,0:3] \n",
            " [[6]\n",
            " [list([5, 6])]]\n",
            "len(ddarr)= 3\n"
          ]
        }
      ],
      "source": [
        "import numpy as np\n",
        "print(\"-\"*60)\n",
        "ddarr=np.array([[1,2,3],[4,5,6],[[1,2],[3,4],[5,6]]])\n",
        "\n",
        "print(\"ddarr.ndim=\",ddarr.ndim)\n",
        "\n",
        "print(\"ddarr.shape=\",ddarr.shape)#tuple wala array\n",
        "#ddarr.shape=(2L, 3L)\n",
        "print(\"ddarr.size=\" ,ddarr.size)#scalar value\n",
        "print(\"len(ddarr)=\",len(ddarr))\n",
        "\n",
        "print(\"ddarr.dtype=\",ddarr.dtype)\n",
        "\n",
        "print(ddarr)\n",
        "\n",
        "print(\"8888888888888888888888888888888888888888888888888888888888888\")\n",
        "print(\"ddarr[0,1]=\",ddarr[0,1])\n",
        "print(\"ddarr[0]=\",ddarr[0])\n",
        "print(\"ddarr[2,2]\",ddarr[2,2])\n",
        "\n",
        "print(\"ddarr[:,0]\",ddarr[1:,0])\n",
        "\n",
        "print(\"ddarr[1,:]=\",ddarr[1,:])\n",
        "print(\"ddarr[0:,2]\",ddarr[0:,2])\n",
        "print(\"ddarr[0:2,0:3]\",\"\\n\",ddarr[1:3,2:3])\n",
        "print(\"len(ddarr)=\",len(ddarr))"
      ]
    },
    {
      "cell_type": "code",
      "execution_count": 15,
      "metadata": {
        "colab": {
          "base_uri": "https://localhost:8080/"
        },
        "id": "9rwNstY3rJT1",
        "outputId": "1d528033-c64a-44f8-a590-5845eb55aae4"
      },
      "outputs": [
        {
          "name": "stdout",
          "output_type": "stream",
          "text": [
            "[[ 1  2]\n",
            " [ 3  4]\n",
            " [ 5  6]\n",
            " [ 7  8]\n",
            " [ 9 10]\n",
            " [11 12]\n",
            " [13 14]]\n",
            "shape (7, 2)\n",
            "ndim 2\n",
            "len(d1) 7\n",
            "d1[::2,0]= [ 1  5  9 13]\n",
            "d1[::2]=\n",
            " [[ 1  2]\n",
            " [ 5  6]\n",
            " [ 9 10]\n",
            " [13 14]]\n",
            "[ 4  6  8 10 12 14]\n"
          ]
        }
      ],
      "source": [
        "import numpy as np\n",
        "d1=np.array([[1,2],[3,4],[5,6],[7,8],[9,10],[11,12],[13,14]])\n",
        "print(d1)\n",
        "print(\"shape\",d1.shape)\n",
        "print('ndim',d1.ndim)\n",
        "print(\"len(d1)\",len(d1))\n",
        "\n",
        "print(\"d1[::2,0]=\",d1[::2,0])\n",
        "\n",
        "print(\"d1[::2]=\\n\",d1[::2])\n",
        "print(d1[1::,1])"
      ]
    },
    {
      "cell_type": "code",
      "execution_count": 16,
      "metadata": {
        "colab": {
          "base_uri": "https://localhost:8080/"
        },
        "id": "9xspsqsIpbSK",
        "outputId": "67346107-66a3-4e7c-bc09-f683c0a8db43"
      },
      "outputs": [
        {
          "name": "stdout",
          "output_type": "stream",
          "text": [
            "Zero field array zr=\n",
            " [[0. 0. 0. 0.]\n",
            " [0. 0. 0. 0.]\n",
            " [0. 0. 0. 0.]]\n",
            "1's field array ones=\n",
            " [[1. 1. 1. 1.]\n",
            " [1. 1. 1. 1.]\n",
            " [1. 1. 1. 1.]\n",
            " [1. 1. 1. 1.]]\n",
            "1's field array threes [[3. 3. 3. 3. 3.]\n",
            " [3. 3. 3. 3. 3.]\n",
            " [3. 3. 3. 3. 3.]\n",
            " [3. 3. 3. 3. 3.]\n",
            " [3. 3. 3. 3. 3.]]\n",
            "\n",
            "zeros field array zeros+4\n",
            " [[4. 4. 4. 4. 4. 4. 4. 4. 4. 4. 4. 4.]\n",
            " [4. 4. 4. 4. 4. 4. 4. 4. 4. 4. 4. 4.]\n",
            " [4. 4. 4. 4. 4. 4. 4. 4. 4. 4. 4. 4.]]\n",
            "float64\n",
            "[[4. 4. 4. 4.]\n",
            " [4. 4. 4. 4.]\n",
            " [4. 4. 4. 4.]\n",
            " [4. 4. 4. 4.]]\n",
            "float64\n",
            "ar= [1 2 3 4 5]\n",
            "after updating  [ 1  2  3 16  5]\n"
          ]
        }
      ],
      "source": [
        "import numpy as np\n",
        "zr=np.zeros([3,4])\n",
        "print(\"Zero field array zr=\\n\",zr)\n",
        "\n",
        "ar=np.ones([4,4])\n",
        "print(\"1's field array ones=\\n\",ar)\n",
        "\n",
        "arr=np.ones([5,5])\n",
        "print(\"1's field array threes\",arr*3)\n",
        "\n",
        "arrr=np.zeros([3,12])\n",
        "print(\"\\nzeros field array zeros+4\\n\",arrr+4)\n",
        "print(arrr.dtype)\n",
        "\n",
        "print(ar*4)\n",
        "print(ar.dtype)\n",
        "#we can create numpy array from range\n",
        "ar=np.arange(1,6)\n",
        "print(\"ar=\",ar)\n",
        "\n",
        "ar[3]=16\n",
        "print(\"after updating \",ar)\n"
      ]
    },
    {
      "cell_type": "code",
      "execution_count": 17,
      "metadata": {
        "colab": {
          "base_uri": "https://localhost:8080/"
        },
        "id": "AL7RLAJ1pfRX",
        "outputId": "6a9ecdb2-fbb9-4a94-b6ef-99889af993df"
      },
      "outputs": [
        {
          "name": "stdout",
          "output_type": "stream",
          "text": [
            "arr.sum() 183.0\n",
            "arr.std() 18.092931400595834\n",
            "arr.mean() 15.25\n",
            "arr.max() 55.0\n",
            "arr.min() 0.0\n",
            "arr.size 12\n",
            "arr.shape (2, 6)\n",
            "arr.nonzero() (array([0, 0, 0, 0, 0, 1, 1, 1, 1, 1, 1]), array([0, 1, 2, 4, 5, 0, 1, 2, 3, 4, 5]))\n",
            "arr.dtype= float64\n",
            "True\n",
            "False\n",
            "True\n",
            "True\n",
            "False\n",
            "True\n"
          ]
        }
      ],
      "source": [
        "import numpy as np\n",
        "arr=np.array([[11,22,33,0.,44,55],[1,2,3,4,5,3]])\n",
        "print(\"arr.sum()\",arr.sum())\n",
        "print(\"arr.std()\",arr.std())\n",
        "print(\"arr.mean()\",arr.mean())\n",
        "print(\"arr.max()\",arr.max())\n",
        "print(\"arr.min()\",arr.min())\n",
        "print('arr.size',arr.size)\n",
        "print(\"arr.shape\",arr.shape)\n",
        "\n",
        "\n",
        "#following will print index of nonzero\n",
        "print(\"arr.nonzero()\",arr.nonzero())\n",
        "print(\"arr.dtype=\",arr.dtype)\n",
        "\n",
        "#are all element greater than zero\n",
        "print(np.all([1,2,3,4]))#True\n",
        "print(np.all([1,2,0,3,4]))#False\n",
        "\n",
        "# is any element greater than zero\n",
        "print(np.any([1,2,3,4]))#True\n",
        "print(np.any([1,2,0,3,4]))#True\n",
        "print(np.any([0,0,0,0.,0]))#False\n",
        "print(np.any([0,0,0,0.,1]))#True"
      ]
    },
    {
      "cell_type": "code",
      "execution_count": 18,
      "metadata": {
        "colab": {
          "base_uri": "https://localhost:8080/"
        },
        "id": "Fmq7w3KlpjAS",
        "outputId": "bee4adaf-187b-4262-99b6-e4f1e49194b3"
      },
      "outputs": [
        {
          "name": "stdout",
          "output_type": "stream",
          "text": [
            "\n",
            "\n",
            "\n",
            "n1= [4 5 6]\n",
            "n2= [1 2 3]\n",
            "n1+n2= [5 7 9]\n",
            "n1-n2= [3 3 3]\n"
          ]
        }
      ],
      "source": [
        "import numpy as np\n",
        "n1=np.array([4,5,6])\n",
        "n2=np.array([1,2,3])\n",
        "\n",
        "print(\"\\n\\n\")\n",
        "print(\"n1=\",n1)#[4,5,6]\n",
        "print(\"n2=\",n2)#[1,2,3]\n",
        "print(\"n1+n2=\",n1+n2)\n",
        "print(\"n1-n2=\",n1-n2)\n",
        "\n",
        "n3=np.array([4,5,6,7])\n",
        "#print(n1+n3)"
      ]
    },
    {
      "cell_type": "code",
      "execution_count": 19,
      "metadata": {
        "colab": {
          "base_uri": "https://localhost:8080/"
        },
        "id": "JH_P7_FRpmnV",
        "outputId": "cf4b9747-922a-419b-9185-af16887bffc5"
      },
      "outputs": [
        {
          "name": "stdout",
          "output_type": "stream",
          "text": [
            "before: [ 10  -1   0  90 300   3  -6   2]\n",
            "[-6, -1, 0, 2, 3, 10, 90, 300]\n",
            "after: [ 10  -1   0  90 300   3  -6   2]\n",
            "None\n",
            "after n4.sort()= [ -6  -1   0   2   3  10  90 300]\n"
          ]
        }
      ],
      "source": [
        "import numpy as np\n",
        "n4=np.array([10,-1,0,90,300,3,-6,2])\n",
        "print(\"before:\",n4)\n",
        "print(sorted(n4))#external sorting does not effect original sorting,,,it gives new array\n",
        "print(\"after:\",n4)\n",
        "print(n4.sort())#In-place sorting\n",
        "print(\"after n4.sort()=\",n4 )"
      ]
    },
    {
      "cell_type": "code",
      "execution_count": 20,
      "metadata": {
        "colab": {
          "base_uri": "https://localhost:8080/"
        },
        "id": "hHrhRlYOpqfr",
        "outputId": "3574db74-12e4-4345-b0eb-9ed439d94433"
      },
      "outputs": [
        {
          "name": "stdout",
          "output_type": "stream",
          "text": [
            "n4= [777 555 222 111 999 666]\n",
            "n4.argsort(): [3 2 1 5 0 4]\n",
            "n4= [777 555 222 111 999 666]\n",
            "max: 999\n",
            "min 111\n",
            "[111 222 555]\n",
            "max: 999\n",
            "[111 222 555]\n",
            "111 222 555 666 777 999 [3 2 1 5 0 4]\n",
            "n4= [777 555 222 111 999 666]\n"
          ]
        }
      ],
      "source": [
        "import numpy as np\n",
        "n4=np.array([777,555,222,111,999,666])\n",
        "\n",
        "print(\"n4=\",n4)\n",
        "print(\"n4.argsort():\",n4.argsort())#[3 2 1 5 0 4]#external fun()\n",
        "print(\"n4=\",n4)\n",
        "\n",
        "indexarr=n4.argsort()\n",
        "print(\"max:\",n4[n4.argsort()[len(indexarr)-1]])\n",
        "print(\"min\",n4[indexarr[0]])\n",
        "print(n4[n4.argsort()[0:3]])\n",
        "print(\"max:\",n4[n4.argsort()[-1]])\n",
        "\n",
        "print(n4[indexarr[:3]])\n",
        "\n",
        "\n",
        "#trick one to print array insorted order\n",
        "for i in n4.argsort():\n",
        "    print(n4[i],end=\" \")\n",
        "\n",
        "#trick two to print array insorted order\n",
        "print(n4.argsort())\n",
        "print(\"n4=\",n4)"
      ]
    },
    {
      "cell_type": "code",
      "execution_count": 24,
      "metadata": {
        "colab": {
          "base_uri": "https://localhost:8080/"
        },
        "id": "OcikrSeFp17k",
        "outputId": "f90d0e24-b4dd-4371-f231-327de9d63206"
      },
      "outputs": [
        {
          "name": "stdout",
          "output_type": "stream",
          "text": [
            "a+1=  [2 3 4 5]\n",
            "a=  [1 2 3 4]\n",
            "a**2=  [ 1  4  9 16]\n",
            "[1 2 3 4]\n",
            "[2. 2. 2. 2.]\n",
            "a-b: [-1.  0.  1.  2.]\n",
            "a*b: [2. 4. 6. 8.]\n",
            "2.449489742783178\n",
            "[100 101 102 103 104 105 106 107 108 109]\n",
            "[10.         10.04987562 10.09950494 10.14889157 10.19803903 10.24695077\n",
            " 10.29563014 10.34408043 10.39230485 10.44030651]\n",
            "[ 2  3  6 13 28]\n"
          ]
        }
      ],
      "source": [
        "import numpy as np\n",
        "a=np.array([1,2,3,4])\n",
        "print('a+1= ',a+1)\n",
        "print(\"a= \",a)\n",
        "print(\"a**2= \",a**2)\n",
        "\n",
        "\n",
        "#all arithmatic operates elementwise:\n",
        "a=np.array([1,2,3,4])\n",
        "b=np.ones(4)+1\n",
        "print(a)\n",
        "print(b)\n",
        "print(\"a-b:\",a-b)\n",
        "print(\"a*b:\",a*b)\n",
        "\n",
        "print(6**(1/2))\n",
        "aa=np.arange(100,110);\n",
        "print(aa)\n",
        "print(aa**.5)\n",
        "j=np.arange(5)\n",
        "print(2**(j+1)-j)"
      ]
    },
    {
      "cell_type": "code",
      "execution_count": 25,
      "metadata": {
        "colab": {
          "base_uri": "https://localhost:8080/"
        },
        "id": "kCEJL9N8rntD",
        "outputId": "91096d50-fc74-417d-f452-b9df4c7389fe"
      },
      "outputs": [
        {
          "name": "stdout",
          "output_type": "stream",
          "text": [
            "na=\n",
            " [[1 2 3]\n",
            " [4 5 6]]\n",
            "na.transpose()=\n",
            " [[1 4]\n",
            " [2 5]\n",
            " [3 6]]\n",
            "na=\n",
            " [[1 2 3]\n",
            " [4 5 6]]\n",
            "np.eye=\n",
            " [[1. 0. 0. 0. 0. 0.]\n",
            " [0. 1. 0. 0. 0. 0.]\n",
            " [0. 0. 1. 0. 0. 0.]\n",
            " [0. 0. 0. 1. 0. 0.]\n",
            " [0. 0. 0. 0. 1. 0.]\n",
            " [0. 0. 0. 0. 0. 1.]]\n",
            "[[3. 3. 3.]\n",
            " [3. 3. 3.]\n",
            " [3. 3. 4.]]\n",
            "\n",
            "[[1. 0. 0.]\n",
            " [0. 1. 0.]\n",
            " [0. 0. 1.]]\n",
            "\n",
            "[[3. 3. 3.]\n",
            " [3. 3. 3.]\n",
            " [3. 3. 4.]]\n",
            "na=\n",
            " [[1 2]\n",
            " [5 6]]\n",
            "* 50\n",
            "np.dat(na,na\n",
            " [[11 14]\n",
            " [35 46]]\n"
          ]
        }
      ],
      "source": [
        "import numpy as np\n",
        "na = np.array([[1,2,3],[4,5,6]])\n",
        "print(\"na=\\n\",na)\n",
        "print(\"na.transpose()=\\n\",na.transpose())\n",
        "print(\"na=\\n\",na)\n",
        "\n",
        "print(\"np.eye=\\n\",np.eye(6))\n",
        "a=np.ones([3,3])\n",
        "a=a*3\n",
        "a[2,2]=4\n",
        "I=np.eye(3)\n",
        "b=np.dot(a,I)\n",
        "print(a)\n",
        "print()\n",
        "print(I)\n",
        "print()\n",
        "print(b)\n",
        "\n",
        "na=np.array([[1,2],[5,6]])\n",
        "print(\"na=\\n\",na)\n",
        "print(\"*\",50)\n",
        "print(\"np.dat(na,na\\n\",np.dot(na,na))\n"
      ]
    },
    {
      "cell_type": "code",
      "execution_count": 26,
      "metadata": {
        "colab": {
          "base_uri": "https://localhost:8080/"
        },
        "id": "NDB8UvITp5oy",
        "outputId": "20aad8e8-d327-42cc-9cc2-d029d4864203"
      },
      "outputs": [
        {
          "name": "stdout",
          "output_type": "stream",
          "text": [
            "-- element wise Comparisions:--\n",
            "np.array_equal(a,b): False\n",
            "np.array_equal(a,c): True\n"
          ]
        }
      ],
      "source": [
        "import numpy as np\n",
        "print(\"-- element wise Comparisions:--\")\n",
        "\n",
        "a=np.array([1,2,3,4])\n",
        "b=np.array([4,2,2,4])\n",
        "c=np.array([1,2,3,4])\n",
        "print(\"np.array_equal(a,b):\",np.array_equal(a,b))\n",
        "print(\"np.array_equal(a,c):\",np.array_equal(a,c))\n"
      ]
    },
    {
      "cell_type": "code",
      "execution_count": 27,
      "metadata": {
        "colab": {
          "base_uri": "https://localhost:8080/"
        },
        "id": "NGGcy-rkp9WB",
        "outputId": "13b8ba52-50f7-43de-f25c-ff820113c775"
      },
      "outputs": [
        {
          "name": "stdout",
          "output_type": "stream",
          "text": [
            "logical operations:\n",
            "a= [ True  True False False]\n",
            "b= [ True False  True False]\n",
            "[ True  True  True False]\n",
            "[ True False False False]\n"
          ]
        }
      ],
      "source": [
        "import numpy as np\n",
        "print(\"logical operations:\")\n",
        "a=np.array([1,1,0,0],dtype=bool)\n",
        "b=np.array([1,0,9,0],dtype=bool)\n",
        "print(\"a=\",a)\n",
        "print(\"b=\",b)\n",
        "print(np.logical_or(a,b))\n",
        "print(np.logical_and(a,b))"
      ]
    },
    {
      "cell_type": "code",
      "execution_count": 28,
      "metadata": {
        "colab": {
          "base_uri": "https://localhost:8080/"
        },
        "id": "b6Qu-5x0qA6H",
        "outputId": "e7e85d3c-13a1-4505-f51f-16f68eec7693"
      },
      "outputs": [
        {
          "name": "stdout",
          "output_type": "stream",
          "text": [
            "3.141592653589793\n",
            "[-5. -4. -3. -2. -1.  0.  1.  2.  3.  4.  5.]\n",
            "[-3.14159265 -3.11695271 -3.09231277 -3.06767283 -3.04303288 -3.01839294\n",
            " -2.993753   -2.96911306 -2.94447311 -2.91983317 -2.89519323 -2.87055329\n",
            " -2.84591335 -2.8212734  -2.79663346 -2.77199352 -2.74735358 -2.72271363\n",
            " -2.69807369 -2.67343375 -2.64879381 -2.62415386 -2.59951392 -2.57487398\n",
            " -2.55023404 -2.52559409 -2.50095415 -2.47631421 -2.45167427 -2.42703432\n",
            " -2.40239438 -2.37775444 -2.3531145  -2.32847456 -2.30383461 -2.27919467\n",
            " -2.25455473 -2.22991479 -2.20527484 -2.1806349  -2.15599496 -2.13135502\n",
            " -2.10671507 -2.08207513 -2.05743519 -2.03279525 -2.0081553  -1.98351536\n",
            " -1.95887542 -1.93423548 -1.90959553 -1.88495559 -1.86031565 -1.83567571\n",
            " -1.81103577 -1.78639582 -1.76175588 -1.73711594 -1.712476   -1.68783605\n",
            " -1.66319611 -1.63855617 -1.61391623 -1.58927628 -1.56463634 -1.5399964\n",
            " -1.51535646 -1.49071651 -1.46607657 -1.44143663 -1.41679669 -1.39215674\n",
            " -1.3675168  -1.34287686 -1.31823692 -1.29359698 -1.26895703 -1.24431709\n",
            " -1.21967715 -1.19503721 -1.17039726 -1.14575732 -1.12111738 -1.09647744\n",
            " -1.07183749 -1.04719755 -1.02255761 -0.99791767 -0.97327772 -0.94863778\n",
            " -0.92399784 -0.8993579  -0.87471795 -0.85007801 -0.82543807 -0.80079813\n",
            " -0.77615819 -0.75151824 -0.7268783  -0.70223836 -0.67759842 -0.65295847\n",
            " -0.62831853 -0.60367859 -0.57903865 -0.5543987  -0.52975876 -0.50511882\n",
            " -0.48047888 -0.45583893 -0.43119899 -0.40655905 -0.38191911 -0.35727916\n",
            " -0.33263922 -0.30799928 -0.28335934 -0.2587194  -0.23407945 -0.20943951\n",
            " -0.18479957 -0.16015963 -0.13551968 -0.11087974 -0.0862398  -0.06159986\n",
            " -0.03695991 -0.01231997  0.01231997  0.03695991  0.06159986  0.0862398\n",
            "  0.11087974  0.13551968  0.16015963  0.18479957  0.20943951  0.23407945\n",
            "  0.2587194   0.28335934  0.30799928  0.33263922  0.35727916  0.38191911\n",
            "  0.40655905  0.43119899  0.45583893  0.48047888  0.50511882  0.52975876\n",
            "  0.5543987   0.57903865  0.60367859  0.62831853  0.65295847  0.67759842\n",
            "  0.70223836  0.7268783   0.75151824  0.77615819  0.80079813  0.82543807\n",
            "  0.85007801  0.87471795  0.8993579   0.92399784  0.94863778  0.97327772\n",
            "  0.99791767  1.02255761  1.04719755  1.07183749  1.09647744  1.12111738\n",
            "  1.14575732  1.17039726  1.19503721  1.21967715  1.24431709  1.26895703\n",
            "  1.29359698  1.31823692  1.34287686  1.3675168   1.39215674  1.41679669\n",
            "  1.44143663  1.46607657  1.49071651  1.51535646  1.5399964   1.56463634\n",
            "  1.58927628  1.61391623  1.63855617  1.66319611  1.68783605  1.712476\n",
            "  1.73711594  1.76175588  1.78639582  1.81103577  1.83567571  1.86031565\n",
            "  1.88495559  1.90959553  1.93423548  1.95887542  1.98351536  2.0081553\n",
            "  2.03279525  2.05743519  2.08207513  2.10671507  2.13135502  2.15599496\n",
            "  2.1806349   2.20527484  2.22991479  2.25455473  2.27919467  2.30383461\n",
            "  2.32847456  2.3531145   2.37775444  2.40239438  2.42703432  2.45167427\n",
            "  2.47631421  2.50095415  2.52559409  2.55023404  2.57487398  2.59951392\n",
            "  2.62415386  2.64879381  2.67343375  2.69807369  2.72271363  2.74735358\n",
            "  2.77199352  2.79663346  2.8212734   2.84591335  2.87055329  2.89519323\n",
            "  2.91983317  2.94447311  2.96911306  2.993753    3.01839294  3.04303288\n",
            "  3.06767283  3.09231277  3.11695271  3.14159265]\n",
            "[1.         1.21666667 1.43333333 1.65       1.86666667 2.08333333\n",
            " 2.3       ]\n"
          ]
        }
      ],
      "source": [
        "import numpy as np\n",
        "print(np.pi)\n",
        "print(np.linspace(-5,5,11))\n",
        "print(np.linspace(-np.pi,np.pi,256))\n",
        "print(np.linspace(1,2.3,7))"
      ]
    },
    {
      "cell_type": "code",
      "execution_count": 29,
      "metadata": {
        "colab": {
          "base_uri": "https://localhost:8080/",
          "height": 282
        },
        "id": "KdCAtWPhqENN",
        "outputId": "3653bfbb-bbcf-4398-b5bb-8153d25047fe"
      },
      "outputs": [
        {
          "name": "stdout",
          "output_type": "stream",
          "text": [
            "_transcendental functions:__\n",
            "[ 0.          0.84147098  0.90929743  0.14112001 -0.7568025  -0.95892427]\n",
            "[      -inf 0.         0.69314718 1.09861229 1.38629436 1.60943791]\n",
            "[  1.           2.71828183   7.3890561   20.08553692  54.59815003\n",
            " 148.4131591 ]\n"
          ]
        },
        {
          "ename": "ValueError",
          "evalue": "ignored",
          "output_type": "error",
          "traceback": [
            "\u001b[0;31m---------------------------------------------------------------------------\u001b[0m",
            "\u001b[0;31mValueError\u001b[0m                                Traceback (most recent call last)",
            "\u001b[0;32m<ipython-input-29-dcc4477b8cd9>\u001b[0m in \u001b[0;36m<module>\u001b[0;34m()\u001b[0m\n\u001b[1;32m     10\u001b[0m \u001b[0;31m#shape mismatches :error\u001b[0m\u001b[0;34m\u001b[0m\u001b[0;34m\u001b[0m\u001b[0;34m\u001b[0m\u001b[0m\n\u001b[1;32m     11\u001b[0m \u001b[0ma\u001b[0m\u001b[0;34m=\u001b[0m\u001b[0mnp\u001b[0m\u001b[0;34m.\u001b[0m\u001b[0marange\u001b[0m\u001b[0;34m(\u001b[0m\u001b[0;36m4\u001b[0m\u001b[0;34m)\u001b[0m\u001b[0;34m\u001b[0m\u001b[0;34m\u001b[0m\u001b[0m\n\u001b[0;32m---> 12\u001b[0;31m \u001b[0mprint\u001b[0m\u001b[0;34m(\u001b[0m\u001b[0ma\u001b[0m\u001b[0;34m+\u001b[0m\u001b[0mnp\u001b[0m\u001b[0;34m.\u001b[0m\u001b[0marray\u001b[0m\u001b[0;34m(\u001b[0m\u001b[0;34m[\u001b[0m\u001b[0;36m1\u001b[0m\u001b[0;34m,\u001b[0m\u001b[0;36m2\u001b[0m\u001b[0;34m]\u001b[0m\u001b[0;34m)\u001b[0m\u001b[0;34m)\u001b[0m\u001b[0;34m\u001b[0m\u001b[0;34m\u001b[0m\u001b[0m\n\u001b[0m",
            "\u001b[0;31mValueError\u001b[0m: operands could not be broadcast together with shapes (4,) (2,) "
          ]
        }
      ],
      "source": [
        "import numpy as np\n",
        "print(\"_transcendental functions:__\")\n",
        "a=np.arange(0,6)\n",
        "\n",
        "print(np.sin(a))\n",
        "print(np.log(a))\n",
        "print(np.exp(a))\n",
        "\n",
        "\n",
        "#shape mismatches :error\n",
        "a=np.arange(4)\n",
        "print(a+np.array([1,2]))  ##will give erroe"
      ]
    },
    {
      "cell_type": "code",
      "execution_count": 30,
      "metadata": {
        "colab": {
          "base_uri": "https://localhost:8080/"
        },
        "id": "OG-jR20hqHfk",
        "outputId": "35a17340-3ba6-48c2-896c-2ad6d6b1b8f2"
      },
      "outputs": [
        {
          "name": "stdout",
          "output_type": "stream",
          "text": [
            "np.sum(x): 10\n",
            "x.sum(): 10\n",
            "__Sum by rows and by columns:__\n",
            "x=\n",
            " [[1 2]\n",
            " [3 4]]\n",
            "10\n",
            "[4 6]\n",
            "4 6 \n",
            "\n",
            "\n",
            "3 [3 4]\n"
          ]
        }
      ],
      "source": [
        "#basic reductions\n",
        "#----------------------\n",
        "#computing sums\n",
        "\n",
        "import numpy as np\n",
        "x=np.array([1,2,3,4])\n",
        "\n",
        "print(\"np.sum(x):\",np.sum(x))\n",
        "print(\"x.sum():\",x.sum())\n",
        "\n",
        "print(\"__Sum by rows and by columns:__\")\n",
        "\n",
        "x=np.array([[1,2],[3,4]])\n",
        "print(\"x=\\n\",x)\n",
        "\n",
        "#aaray([[1,2],\n",
        "#       [3,4]])\n",
        "print(x.sum())\n",
        "print(x.sum(axis=0))#columns\n",
        "\n",
        "print(x[:,0].sum(),x[:,1].sum(),\"\\n\\n\")\n",
        "\n",
        "print(x[0,:].sum(),x[1,:])\n",
        "#import matplolib.pyplot as plt\n",
        "#def estimate_coef(X,y):\n",
        "    #number of"
      ]
    },
    {
      "cell_type": "code",
      "execution_count": 31,
      "metadata": {
        "colab": {
          "base_uri": "https://localhost:8080/"
        },
        "id": "mWLq8orYqMJP",
        "outputId": "01500c98-6df0-4112-8f50-e9fd00e86d72"
      },
      "outputs": [
        {
          "name": "stdout",
          "output_type": "stream",
          "text": [
            "(768, 9)\n",
            "276660.701\n"
          ]
        }
      ],
      "source": [
        "import numpy as np\n",
        "filename=\"indians-diabetes.data.csv\"\n",
        "data=np.loadtxt(filename,delimiter=\",\")\n",
        "print(data.shape)\n",
        "\n",
        "\n",
        "\n",
        "i=np.arange(0,9)\n",
        "print(data[:,i].sum())"
      ]
    },
    {
      "cell_type": "code",
      "execution_count": 32,
      "metadata": {
        "colab": {
          "base_uri": "https://localhost:8080/"
        },
        "id": "Nr1brt06r5yG",
        "outputId": "6dadd80a-b23a-4e2f-a23d-2aa01f64733b"
      },
      "outputs": [
        {
          "name": "stdout",
          "output_type": "stream",
          "text": [
            "mean of x = 1.8\n",
            "x.mean() 1.8\n",
            "np.madian(x) 2.0\n",
            "x.std() 0.7483314773547883\n"
          ]
        }
      ],
      "source": [
        "import numpy as np\n",
        "x=np.array([1,2,3,2,1])\n",
        "m_x=np.mean(x)\n",
        "print(\"mean of x =\",m_x)\n",
        "print(\"x.mean()\",x.mean())\n",
        "print(\"np.madian(x)\",np.median(x))##median can not be calculated internally\n",
        "print(\"x.std()\",x.std())\n",
        "\n"
      ]
    },
    {
      "cell_type": "code",
      "execution_count": 33,
      "metadata": {
        "colab": {
          "base_uri": "https://localhost:8080/",
          "height": 279
        },
        "id": "pNdgqQOhqQPZ",
        "outputId": "f04b597f-e01c-4c22-b3ad-c8a17778bb77"
      },
      "outputs": [
        {
          "data": {
            "image/png": "[encoded data removed]",
            "text/plain": [
              "<Figure size 432x288 with 1 Axes>"
            ]
          },
          "metadata": {
            "needs_background": "light"
          },
          "output_type": "display_data"
        }
      ],
      "source": [
        "import matplotlib.pyplot as plt\n",
        "plt.plot([1,2,3,4],[1,2,3,4])##x-coordinate and y-coordinate\n",
        "\n",
        "plt.xlabel(\"---indexes----->\")\n",
        "plt.ylabel(\"---some numbers----->\")\n",
        "plt.show()"
      ]
    },
    {
      "cell_type": "code",
      "execution_count": 34,
      "metadata": {
        "colab": {
          "base_uri": "https://localhost:8080/",
          "height": 279
        },
        "id": "uc3ZkeIYqUsQ",
        "outputId": "107b562a-b8b0-4787-d655-bd240e933dcc"
      },
      "outputs": [
        {
          "data": {
            "image/png": "[encoded data removed]",
            "text/plain": [
              "<Figure size 432x288 with 1 Axes>"
            ]
          },
          "metadata": {
            "needs_background": "light"
          },
          "output_type": "display_data"
        }
      ],
      "source": [
        "import matplotlib.pyplot as plt\n",
        "plt.plot([1,2,3,4],[1,4,9,16],'o')\n",
        "plt.xlabel(\"---some numbers---->\")\n",
        "plt.ylabel(\"---quared--->\")\n",
        "plt.show()\n"
      ]
    },
    {
      "cell_type": "code",
      "execution_count": 35,
      "metadata": {
        "colab": {
          "base_uri": "https://localhost:8080/",
          "height": 279
        },
        "id": "M9q6bAy4qXx3",
        "outputId": "9229e147-e07d-4f03-9c6f-cb0b61c349d1"
      },
      "outputs": [
        {
          "data": {
            "image/png": "[encoded data removed]",
            "text/plain": [
              "<Figure size 432x288 with 1 Axes>"
            ]
          },
          "metadata": {
            "needs_background": "light"
          },
          "output_type": "display_data"
        }
      ],
      "source": [
        "import matplotlib.pyplot as plt\n",
        "\n",
        "#plt.plot([1,2], [2,2],'bo-')\n",
        "#plt.plot([1,2], [4,4])\n",
        "#plt.plot([1,2], [6,6])\n",
        "#plt.plot([1,1],[2,6],'ro-')\n",
        "#plt.plot([2,2],[2,6])\n",
        "plt.plot([1,1,4,4,1,1,4,4],[5,8,8,5,5,1,1,5],\"D\")\n",
        "plt.plot([1,1,4,4,1,1,4,4],[5,8,8,5,5,1,1,5],\"m-\")\n",
        "plt.xlabel(\"---some numbers---->\")\n",
        "plt.ylabel(\"---quared--->\")\n",
        "plt.show()\n"
      ]
    },
    {
      "cell_type": "code",
      "execution_count": 36,
      "metadata": {
        "colab": {
          "base_uri": "https://localhost:8080/",
          "height": 279
        },
        "id": "LvuOO4EBqbNp",
        "outputId": "1734d7c0-4506-43b7-f1ed-ecb353d984ff"
      },
      "outputs": [
        {
          "data": {
            "image/png": "[encoded data removed]",
            "text/plain": [
              "<Figure size 432x288 with 1 Axes>"
            ]
          },
          "metadata": {
            "needs_background": "light"
          },
          "output_type": "display_data"
        }
      ],
      "source": [
        "import matplotlib.pyplot as plt\n",
        "#  b-=blue Silid Line\n",
        "#  ro=Red Circle Dot\n",
        "plt.plot([1,2,3,4], [1,4,9,16],'bo-')\n",
        "plt.xlabel(\"---some numbers---->\")\n",
        "plt.ylabel(\"---quared--->\")\n",
        "plt.axis([0,5,0,17])\n",
        "plt.show()\n"
      ]
    },
    {
      "cell_type": "code",
      "execution_count": 37,
      "metadata": {
        "colab": {
          "base_uri": "https://localhost:8080/",
          "height": 265
        },
        "id": "6f1DhkmVqhWB",
        "outputId": "89d09328-ca5b-4a75-8249-dc271ef91939"
      },
      "outputs": [
        {
          "data": {
            "image/png": "[encoded data removed]",
            "text/plain": [
              "<Figure size 432x288 with 1 Axes>"
            ]
          },
          "metadata": {
            "needs_background": "light"
          },
          "output_type": "display_data"
        }
      ],
      "source": [
        "import matplotlib.pyplot as plt\n",
        "plt.plot([1,2,3,4,5],[1,2,3,4,5],'go',label='line 1', linewidth=2)\n",
        "plt.plot([1,2,3,4,5],[1,4,9,16,25],'rs--',label='line 2',linewidth=4)\n",
        "\n",
        "plt.axis([0,6,0,26])\n",
        "plt.legend(loc='upper right')\n",
        "plt.show()\n"
      ]
    },
    {
      "cell_type": "code",
      "execution_count": 38,
      "metadata": {
        "colab": {
          "base_uri": "https://localhost:8080/",
          "height": 265
        },
        "id": "5hzvHUTrqmZa",
        "outputId": "c13ef694-6f45-4800-d405-cb63857d66e9"
      },
      "outputs": [
        {
          "data": {
            "image/png": "[encoded data removed]",
            "text/plain": [
              "<Figure size 432x288 with 1 Axes>"
            ]
          },
          "metadata": {
            "needs_background": "light"
          },
          "output_type": "display_data"
        }
      ],
      "source": [
        "import matplotlib.pyplot as plt\n",
        "x1=[1,2,3]\n",
        "y1=[1,2,3]\n",
        "\n",
        "x2=[1,2,3]\n",
        "y2=[1,4,9]\n",
        "\n",
        "plt.plot(x1,y1,'mo-',x2,y2,'rd-',linewidth=3)\n",
        "plt.show()"
      ]
    },
    {
      "cell_type": "code",
      "execution_count": 39,
      "metadata": {
        "colab": {
          "base_uri": "https://localhost:8080/",
          "height": 299
        },
        "id": "KuY8KIJEqp83",
        "outputId": "d431788d-4456-4aaa-93af-34346ff69f86"
      },
      "outputs": [
        {
          "data": {
            "image/png": "[encoded data removed]",
            "text/plain": [
              "<Figure size 432x288 with 1 Axes>"
            ]
          },
          "metadata": {
            "needs_background": "light"
          },
          "output_type": "display_data"
        }
      ],
      "source": [
        "import matplotlib.pyplot as plt\n",
        "x=[2,3,4,5,6,7]\n",
        "y=[4,9,16,25,36,49]\n",
        "\n",
        "plt.plot(x,y,marker='o',markerfacecolor='red',markersize=15,linestyle='dashed',color='blue')\n",
        "\n",
        "plt.title(\"number with squared values\")\n",
        "plt.xlabel('----Numbers--->',fontsize=14,color='red')\n",
        "\n",
        "plt.ylabel('----squared--->',fontsize=14,color='blue')\n",
        "plt.axis([1,8,3,50])\n",
        "plt.grid(True)\n",
        "plt.annotate('square of 5',xytext=(3,40),xy=(5,25),arrowprops=dict(facecolor='black',shrink=.1))\n",
        "plt.annotate('aaaaaaaaaaa',xytext=(2,30),xy=(4,16),arrowprops=dict(facecolor='blue',shrink=.1))\n",
        "plt.annotate('bbbbbbbbbbb',xytext=(1,25),xy=(2,6),arrowprops=dict(facecolor='blue',shrink=.1))\n",
        "plt.annotate('aaaccccccccc',xytext=(3,35),xy=(3,16),arrowprops=dict(facecolor='blue',shrink=.1))\n",
        "\n",
        "\n",
        "plt.show()"
      ]
    },
    {
      "cell_type": "code",
      "execution_count": 40,
      "metadata": {
        "colab": {
          "base_uri": "https://localhost:8080/",
          "height": 529
        },
        "id": "6bOuKcwoqtyv",
        "outputId": "6d2674d1-4871-437e-d3ac-1876407c5560"
      },
      "outputs": [
        {
          "data": {
            "image/png": "[encoded data removed]",
            "text/plain": [
              "<Figure size 432x288 with 3 Axes>"
            ]
          },
          "metadata": {
            "needs_background": "light"
          },
          "output_type": "display_data"
        },
        {
          "data": {
            "image/png": "[encoded data removed]",
            "text/plain": [
              "<Figure size 432x288 with 1 Axes>"
            ]
          },
          "metadata": {
            "needs_background": "light"
          },
          "output_type": "display_data"
        }
      ],
      "source": [
        "import warnings\n",
        "warnings.filterwarnings(action=\"ignore\")\n",
        "\n",
        "import matplotlib.pyplot as plt\n",
        "plt.figure(1)\n",
        "plt.subplot(311)\n",
        "plt.plot([1,2,3])\n",
        "\n",
        "plt.subplot(312)\n",
        "plt.plot([4,5,6])\n",
        "\n",
        "plt.subplot(313)\n",
        "plt.plot([7,8,9])\n",
        "\n",
        "\n",
        "plt.figure(2)\n",
        "plt.plot([11,12,13])\n",
        "\n",
        "plt.figure(1)\n",
        "plt.subplot(311)\n",
        "plt.title('Easy as 1,2,3')\n",
        "plt.show()\n"
      ]
    },
    {
      "cell_type": "code",
      "execution_count": 41,
      "metadata": {
        "colab": {
          "base_uri": "https://localhost:8080/",
          "height": 688
        },
        "id": "eJRMQg3gqxMI",
        "outputId": "67c44857-3320-4804-b745-68c3386ad92b"
      },
      "outputs": [
        {
          "name": "stdout",
          "output_type": "stream",
          "text": [
            "[[  6.    148.     72.    ...   0.627  50.      1.   ]\n",
            " [  1.     85.     66.    ...   0.351  31.      0.   ]\n",
            " [  8.    183.     64.    ...   0.672  32.      1.   ]\n",
            " ...\n",
            " [  5.    121.     72.    ...   0.245  30.      0.   ]\n",
            " [  1.    126.     60.    ...   0.349  47.      1.   ]\n",
            " [  1.     93.     70.    ...   0.315  23.      0.   ]]\n"
          ]
        },
        {
          "data": {
            "image/png": "[encoded data removed]",
            "text/plain": [
              "<Figure size 432x288 with 1 Axes>"
            ]
          },
          "metadata": {
            "needs_background": "light"
          },
          "output_type": "display_data"
        },
        {
          "data": {
            "application/vnd.google.colaboratory.intrinsic+json": {
              "type": "string"
            },
            "text/plain": [
              "'import matplotlib.pyplot as plt \\nimport numpy as np \\n\\nfilename=open(\"asd\",\\'r\\')\\ndata=np.loadtxt(filename,delimiter=\\'pawan\\')\\nprint(data)\\nar1=data[0:,0]\\nar2=data[0:,2]\\nar3=data[0:,8]\\nplt.plot(ar1,ar2,\\'r-\\',ar2,ar3,\\'d-\\')\\n'"
            ]
          },
          "execution_count": 41,
          "metadata": {},
          "output_type": "execute_result"
        },
        {
          "data": {
            "image/png": "[encoded data removed]",
            "text/plain": [
              "<Figure size 432x288 with 1 Axes>"
            ]
          },
          "metadata": {
            "needs_background": "light"
          },
          "output_type": "display_data"
        }
      ],
      "source": [
        "import matplotlib.pyplot as plt\n",
        "import numpy as np\n",
        "filename=open(\"indians-diabetes.data.csv\", 'r')\n",
        "raw_data=np.loadtxt(filename, delimiter=',')\n",
        "print(raw_data)\n",
        "ar1=raw_data[:,0]\n",
        "ar2=raw_data[:,2]\n",
        "ar3=raw_data[:,7]\n",
        "ar4=raw_data[:,3]\n",
        "plt.ylabel('-------skin------>',fontsize=14,color='red')\n",
        "\n",
        "plt.xlabel('-------age------->',fontsize=13,color='blue')\n",
        "\n",
        "#plt.plot(ar1,ar3,'ro',ar2,ar3,'bd')\n",
        "plt.plot(ar4,ar3,'y*')\n",
        "#plt.plot(ar2,ar3,'bo')\n",
        "plt.show()\n",
        "plt.axis([1,8,3,50])\n",
        "plt.grid(True)\n",
        "\n",
        "\n",
        "'''import matplotlib.pyplot as plt \n",
        "import numpy as np \n",
        "\n",
        "filename=open(\"asd\",'r')\n",
        "data=np.loadtxt(filename,delimiter='pawan')\n",
        "print(data)\n",
        "ar1=data[0:,0]\n",
        "ar2=data[0:,2]\n",
        "ar3=data[0:,8]\n",
        "plt.plot(ar1,ar2,'r-',ar2,ar3,'d-')\n",
        "'''"
      ]
    },
    {
      "cell_type": "code",
      "execution_count": 42,
      "metadata": {
        "colab": {
          "base_uri": "https://localhost:8080/",
          "height": 333
        },
        "id": "AqGKdkg9q1Os",
        "outputId": "fc5fa8ab-9531-4e5a-9281-f15ab132b7f6"
      },
      "outputs": [
        {
          "name": "stdout",
          "output_type": "stream",
          "text": [
            "[0.  0.2 0.4 0.6 0.8 1.  1.2 1.4 1.6 1.8 2.  2.2 2.4 2.6 2.8 3.  3.2 3.4\n",
            " 3.6 3.8 4.  4.2 4.4 4.6 4.8]\n",
            "[0.  0.5 1.  1.5 2.  2.5 3.  3.5 4.  4.5 5.  5.5 6.  6.5 7.  7.5 8.  8.5\n",
            " 9.  9.5]\n"
          ]
        },
        {
          "data": {
            "image/png": "[encoded data removed]",
            "text/plain": [
              "<Figure size 432x288 with 1 Axes>"
            ]
          },
          "metadata": {
            "needs_background": "light"
          },
          "output_type": "display_data"
        }
      ],
      "source": [
        "import matplotlib.pyplot as plt\n",
        "import numpy as np\n",
        "#evenly sampled time at 200ms intervals\n",
        "t=np.arange(0.0,5.0,0.2)\n",
        "print(t)\n",
        "p=np.arange(0,10,.5);\n",
        "print(p);\n",
        "#red dases blue squares and green triangle\n",
        "plt.plot(t,t,'r*-',t,t+3,'b-',t,t+3,'ys',t,t+6,'r-',markersize=5)\n",
        "plt.show()\n"
      ]
    },
    {
      "cell_type": "code",
      "execution_count": 43,
      "metadata": {
        "colab": {
          "base_uri": "https://localhost:8080/",
          "height": 1000
        },
        "id": "5ZE9-3JLq1Th",
        "outputId": "62e5a66d-0cfe-428c-df57-50d29ea22231"
      },
      "outputs": [
        {
          "data": {
            "image/png": "[encoded data removed]",
            "text/plain": [
              "<Figure size 432x288 with 1 Axes>"
            ]
          },
          "metadata": {
            "needs_background": "light"
          },
          "output_type": "display_data"
        },
        {
          "data": {
            "image/png": "[encoded data removed]",
            "text/plain": [
              "<Figure size 432x288 with 1 Axes>"
            ]
          },
          "metadata": {
            "needs_background": "light"
          },
          "output_type": "display_data"
        },
        {
          "data": {
            "image/png": "[encoded data removed]",
            "text/plain": [
              "<Figure size 432x288 with 1 Axes>"
            ]
          },
          "metadata": {
            "needs_background": "light"
          },
          "output_type": "display_data"
        },
        {
          "data": {
            "image/png": "[encoded data removed]",
            "text/plain": [
              "<Figure size 432x288 with 3 Axes>"
            ]
          },
          "metadata": {
            "needs_background": "light"
          },
          "output_type": "display_data"
        }
      ],
      "source": [
        "import warnings\n",
        "warnings.filterwarnings(action=\"ignore\")\n",
        "\n",
        "import matplotlib.pyplot as plt\n",
        "import numpy as np\n",
        "\n",
        "a=np.arange(1,10,1)\n",
        "b=np.arange(2,20,2)\n",
        "plt.figure(1)\n",
        "\n",
        "plt.plot(a*a*a,b)\n",
        "\n",
        "plt.figure(2)\n",
        "plt.plot(a,b)\n",
        "plt.figure(3)\n",
        "plt.plot(a,b*b*b)\n",
        "plt.figure(4)\n",
        "plt.subplot(311)\n",
        "plt.plot(np.arange(1,100,20),np.arange(3,300,60))\n",
        "plt.subplot(312)\n",
        "plt.plot([1,2,3,4],[1,3,5,4])\n",
        "plt.subplot(313)\n",
        "plt.plot([1,4,2,5],[2,6,3,4])\n",
        "\n",
        "plt.show()\n",
        "\n"
      ]
    },
    {
      "cell_type": "code",
      "execution_count": 44,
      "metadata": {
        "colab": {
          "base_uri": "https://localhost:8080/",
          "height": 996
        },
        "id": "WVCxmw2vsLOK",
        "outputId": "7180972c-4f51-4757-f5e7-bc51dfcb404f"
      },
      "outputs": [
        {
          "name": "stdout",
          "output_type": "stream",
          "text": [
            "X= [-3.14159265 -3.11695271 -3.09231277 -3.06767283 -3.04303288 -3.01839294\n",
            " -2.993753   -2.96911306 -2.94447311 -2.91983317 -2.89519323 -2.87055329\n",
            " -2.84591335 -2.8212734  -2.79663346 -2.77199352 -2.74735358 -2.72271363\n",
            " -2.69807369 -2.67343375 -2.64879381 -2.62415386 -2.59951392 -2.57487398\n",
            " -2.55023404 -2.52559409 -2.50095415 -2.47631421 -2.45167427 -2.42703432\n",
            " -2.40239438 -2.37775444 -2.3531145  -2.32847456 -2.30383461 -2.27919467\n",
            " -2.25455473 -2.22991479 -2.20527484 -2.1806349  -2.15599496 -2.13135502\n",
            " -2.10671507 -2.08207513 -2.05743519 -2.03279525 -2.0081553  -1.98351536\n",
            " -1.95887542 -1.93423548 -1.90959553 -1.88495559 -1.86031565 -1.83567571\n",
            " -1.81103577 -1.78639582 -1.76175588 -1.73711594 -1.712476   -1.68783605\n",
            " -1.66319611 -1.63855617 -1.61391623 -1.58927628 -1.56463634 -1.5399964\n",
            " -1.51535646 -1.49071651 -1.46607657 -1.44143663 -1.41679669 -1.39215674\n",
            " -1.3675168  -1.34287686 -1.31823692 -1.29359698 -1.26895703 -1.24431709\n",
            " -1.21967715 -1.19503721 -1.17039726 -1.14575732 -1.12111738 -1.09647744\n",
            " -1.07183749 -1.04719755 -1.02255761 -0.99791767 -0.97327772 -0.94863778\n",
            " -0.92399784 -0.8993579  -0.87471795 -0.85007801 -0.82543807 -0.80079813\n",
            " -0.77615819 -0.75151824 -0.7268783  -0.70223836 -0.67759842 -0.65295847\n",
            " -0.62831853 -0.60367859 -0.57903865 -0.5543987  -0.52975876 -0.50511882\n",
            " -0.48047888 -0.45583893 -0.43119899 -0.40655905 -0.38191911 -0.35727916\n",
            " -0.33263922 -0.30799928 -0.28335934 -0.2587194  -0.23407945 -0.20943951\n",
            " -0.18479957 -0.16015963 -0.13551968 -0.11087974 -0.0862398  -0.06159986\n",
            " -0.03695991 -0.01231997  0.01231997  0.03695991  0.06159986  0.0862398\n",
            "  0.11087974  0.13551968  0.16015963  0.18479957  0.20943951  0.23407945\n",
            "  0.2587194   0.28335934  0.30799928  0.33263922  0.35727916  0.38191911\n",
            "  0.40655905  0.43119899  0.45583893  0.48047888  0.50511882  0.52975876\n",
            "  0.5543987   0.57903865  0.60367859  0.62831853  0.65295847  0.67759842\n",
            "  0.70223836  0.7268783   0.75151824  0.77615819  0.80079813  0.82543807\n",
            "  0.85007801  0.87471795  0.8993579   0.92399784  0.94863778  0.97327772\n",
            "  0.99791767  1.02255761  1.04719755  1.07183749  1.09647744  1.12111738\n",
            "  1.14575732  1.17039726  1.19503721  1.21967715  1.24431709  1.26895703\n",
            "  1.29359698  1.31823692  1.34287686  1.3675168   1.39215674  1.41679669\n",
            "  1.44143663  1.46607657  1.49071651  1.51535646  1.5399964   1.56463634\n",
            "  1.58927628  1.61391623  1.63855617  1.66319611  1.68783605  1.712476\n",
            "  1.73711594  1.76175588  1.78639582  1.81103577  1.83567571  1.86031565\n",
            "  1.88495559  1.90959553  1.93423548  1.95887542  1.98351536  2.0081553\n",
            "  2.03279525  2.05743519  2.08207513  2.10671507  2.13135502  2.15599496\n",
            "  2.1806349   2.20527484  2.22991479  2.25455473  2.27919467  2.30383461\n",
            "  2.32847456  2.3531145   2.37775444  2.40239438  2.42703432  2.45167427\n",
            "  2.47631421  2.50095415  2.52559409  2.55023404  2.57487398  2.59951392\n",
            "  2.62415386  2.64879381  2.67343375  2.69807369  2.72271363  2.74735358\n",
            "  2.77199352  2.79663346  2.8212734   2.84591335  2.87055329  2.89519323\n",
            "  2.91983317  2.94447311  2.96911306  2.993753    3.01839294  3.04303288\n",
            "  3.06767283  3.09231277  3.11695271  3.14159265]\n"
          ]
        },
        {
          "data": {
            "image/png": "[encoded data removed]",
            "text/plain": [
              "<Figure size 432x288 with 1 Axes>"
            ]
          },
          "metadata": {
            "needs_background": "light"
          },
          "output_type": "display_data"
        }
      ],
      "source": [
        "import numpy as np\n",
        "import math\n",
        "import matplotlib.pyplot as plt\n",
        "a=np.linspace(-np.pi,np.pi,256,endpoint=True)\n",
        "print(\"X=\",a)\n",
        "plt.plot(a,np.sin(a))\n",
        "plt.plot(a,np.cos(a))\n",
        "plt.show()"
      ]
    },
    {
      "cell_type": "code",
      "execution_count": 45,
      "metadata": {
        "colab": {
          "base_uri": "https://localhost:8080/",
          "height": 417
        },
        "id": "gA_Cw1I7sQ1t",
        "outputId": "b17b9ed7-c749-4a0c-ae16-d7757c054fa5"
      },
      "outputs": [
        {
          "data": {
            "image/png": "[encoded data removed]",
            "text/plain": [
              "<Figure size 640x480 with 1 Axes>"
            ]
          },
          "metadata": {
            "needs_background": "light"
          },
          "output_type": "display_data"
        }
      ],
      "source": [
        "import numpy as np\n",
        "from matplotlib import pyplot as plt\n",
        "#create a figure of size\n",
        "plt.figure(figsize=(8,6),dpi=80)\n",
        "\n",
        "x=np.linspace(-np.pi,np.pi,256,endpoint=True)\n",
        "s=np.sin(x)\n",
        "c=np.cos(x)\n",
        "\n",
        "\n",
        "plt.plot(x,s,color=\"red\",linewidth=5.0,linestyle=\"--\",label=\"sine curve\")\n",
        "\n",
        "#plot cosine with a blue continuous line of width 5 (pixels\n",
        "plt.plot(x,c,color=\"blue\",linewidth=7.0,linestyle=\"-\",label=\"cosine curve\")\n",
        "\n",
        "#location of legends\n",
        "plt.legend(loc='upper left')\n",
        "\n",
        "#set x limits\n",
        "plt.xlim(-4.0,4.0)\n",
        "#set x ticks\n",
        "plt.xticks(np.linspace(-4,4,9,endpoint=True))\n",
        "\n",
        "#set y limits\n",
        "plt.ylim(-1.0,1.0)\n",
        "#set y ticks\n",
        "plt.yticks(np.linspace(-1,1,9,endpoint=True))\n",
        "plt.grid()\n",
        "plt.show()\n",
        "\n"
      ]
    },
    {
      "cell_type": "code",
      "execution_count": 46,
      "metadata": {
        "colab": {
          "base_uri": "https://localhost:8080/",
          "height": 295
        },
        "id": "aHmHF_h1sT-M",
        "outputId": "89fb9af7-bb5e-4130-9d01-b69f93a8d75d"
      },
      "outputs": [
        {
          "data": {
            "image/png": "[encoded data removed]",
            "text/plain": [
              "<Figure size 432x288 with 1 Axes>"
            ]
          },
          "metadata": {
            "needs_background": "light"
          },
          "output_type": "display_data"
        }
      ],
      "source": [
        "import matplotlib.pyplot as plt\n",
        "\n",
        "\n",
        "x1=[1,3,4,5,6,7,9]\n",
        "y1=[4,7,2,4,7,8,3]\n",
        "\n",
        "x2=[2,4,6,8,10]\n",
        "y2=[5,6,2,6,2]\n",
        "\n",
        "plt.bar(x1,y1,label=\"Blue Bar\", color='b')\n",
        "plt.bar(x2,y2,label=\"red bar\",color='r')\n",
        "\n",
        "plt.plot(x1,y1)\n",
        "\n",
        "plt.xlabel(\"bar number\")\n",
        "plt.ylabel(\"bar hight\")\n",
        "plt.title(\"bar chart example\")\n",
        "plt.legend()\n",
        "plt.show()\n",
        "\n"
      ]
    },
    {
      "cell_type": "code",
      "execution_count": 47,
      "metadata": {
        "colab": {
          "base_uri": "https://localhost:8080/",
          "height": 1000
        },
        "id": "-O03zxWSsXo-",
        "outputId": "5d2e4233-0b2c-4901-e6b7-1b5ad00183ec"
      },
      "outputs": [
        {
          "name": "stdout",
          "output_type": "stream",
          "text": [
            "n= [5.94327338 4.39706209 4.80238939 3.68448749 3.98252608 7.01944678\n",
            " 5.32410059 4.61862599 3.58094903 4.89494165 5.617261   3.73625808\n",
            " 3.18094176 2.98549422 4.73046752 3.416413   5.74804453 4.17333202\n",
            " 4.49997196 3.662311   4.51206284 3.51694152 4.74571382 4.53548722\n",
            " 5.4733092  4.63182006 5.82963106 5.08117356 3.83939422 5.55368376\n",
            " 6.53579598 4.82811065 4.99786571 5.57648087 4.97017558 5.90745045\n",
            " 5.48349337 4.71598896 4.29555182 4.91397599 3.93248332 3.95600645\n",
            " 5.812127   7.09820059 4.58317232 4.77183073 6.4897071  6.07892129\n",
            " 4.0218861  5.55303147 3.91116216 4.48721235 5.73857698 4.669348\n",
            " 5.83655535 4.46329848 5.35912733 4.70218941 3.59906316 4.96172389\n",
            " 6.3512011  5.52594014 4.00071409 5.0253045  4.9468097  5.53190452\n",
            " 4.09057166 5.12617449 4.56369222 5.04023732 5.76454063 3.39994452\n",
            " 4.81810223 5.04855311 5.14858171 4.63663032 4.6806041  3.64303369\n",
            " 4.3454112  3.66081301 3.41864825 4.1427371  5.51418317 4.6533136\n",
            " 6.25355528 4.66659533 5.61237952 4.45556039 7.31476884 4.43240613\n",
            " 3.9909294  5.07380249 6.35919191 4.87242963 6.28820377 6.42828516\n",
            " 3.93244638 5.9931128  3.1188043  3.92825614 3.88931905 4.38043705\n",
            " 2.64361545 5.82664532 4.30594672 5.75740713 4.50883302 4.10012406\n",
            " 4.6930021  5.24392161 4.66025857 5.46336108 5.75845346 4.25348269\n",
            " 3.23020403 5.3908965  3.82019868 5.44344575 6.03520767 6.48390004\n",
            " 4.25946399 4.93534424 6.06308638 3.14118228 6.28166757 3.6728362\n",
            " 4.16669834 5.14710616 4.07471391 3.30611817 5.8488017  5.65885695\n",
            " 5.04458057 3.73931618 5.36423241 4.73360606 5.02003728 4.90816536\n",
            " 4.21969793 4.00364474 5.46215053 4.56827741 6.65325179 3.54572233\n",
            " 4.05351956 6.02705222 5.16134349 5.58969041 3.71642834 6.54619509\n",
            " 5.90759844 5.14573485 5.29053115 3.63786457 5.16904687 5.21485073\n",
            " 6.16698913 5.7984636  4.42212288 4.61857504 6.34604878 5.54837219\n",
            " 5.25227211 5.66078881 3.15285669 4.40602179 4.99657035 4.66198074\n",
            " 3.5280386  4.13638941 5.48263835 3.7642502  4.56207935 4.30994589\n",
            " 4.31058088 3.62042023 4.74568159 4.1701755  4.45080035 5.02158584\n",
            " 4.57270534 5.22515262 5.98134341 5.08884974 3.56739157 4.70863066\n",
            " 5.17937687 6.0912998  5.01293924 6.14747106 4.72248213 4.2331337\n",
            " 3.73254332 5.04808603 4.18829344 5.39767962 4.41000616 4.5330265\n",
            " 4.35864661 5.8909539  4.95057978 5.22069317 3.41477609 5.12009862\n",
            " 5.00050269 5.13684708 5.1796242  5.46938087 4.48956485 3.78905225\n",
            " 6.42905512 5.28730839 4.0513591  3.88610516 4.6901442  4.79627992\n",
            " 4.86816316 3.16682428 2.95850988 5.44886473 3.81766788 5.21743289\n",
            " 4.96111665 5.42555052 3.35723658 5.89625556 4.75041029 4.61054248\n",
            " 4.67594175 5.46570398 5.65959573 4.80449545 5.63793747 4.08470769\n",
            " 5.55271937 5.95058637 4.80714271 3.94363196 4.71231308 4.92958894\n",
            " 6.97224041 4.37924809 4.08757164 5.14653391 5.45506235 4.14081718\n",
            " 6.07748106 6.58368737 4.43924654 5.4452559  4.77134773 3.8389416\n",
            " 4.81830086 4.500587   4.48813012 4.8495852  3.19473542 5.44807456\n",
            " 5.61970199 5.7966059  3.05463933 3.90026884 5.57436433 4.39674321\n",
            " 5.33776143 3.98278345 4.03276574 3.60420481 5.62037549 5.91838108\n",
            " 7.16433375 6.74192844 3.12666385 4.98603661 5.94334171 4.61613588\n",
            " 5.55524158 4.96421272 4.26150789 6.17321992 5.4161119  5.22980805\n",
            " 5.00789474 5.60608526 4.63804959 5.95655917 4.82112761 4.69247\n",
            " 4.94442137 5.11222451 5.17866414 6.20696773 4.35283883 3.52261691\n",
            " 3.96263614 4.63785831 6.88661148 3.80733983 4.43965728 5.29374352\n",
            " 6.78181975 4.09902947 6.33287093 4.94943814 4.7952304  6.80662371\n",
            " 4.92343569 3.9936844  5.51956114 3.1167165  4.89070963 4.89330824\n",
            " 5.81100199 5.59491491 5.56384259 5.10664069 5.08652909 3.35447723\n",
            " 6.25582493 3.31762783 6.26052474 5.57335068 3.15180833 4.10261754\n",
            " 3.89066864 4.75558169 6.0468132  5.30444386 3.20086121 5.08383098\n",
            " 5.40617405 4.49594682 5.42267047 4.02908537 5.11582781 4.7830727\n",
            " 5.15653261 4.32916093 4.79044433 4.54873718 4.02243568 4.43763345\n",
            " 5.4989316  5.34883708 5.77841073 5.05547572 4.57103524 4.63682249\n",
            " 4.10590338 5.22983578 5.63472869 5.84245827 5.80738865 5.87777431\n",
            " 4.26676591 5.47697935 5.25160619 5.03193178 3.83190702 4.51899686\n",
            " 5.07181399 4.73278997 5.26434306 3.75012948 6.19967293 3.59477301\n",
            " 3.96102211 5.8478246  6.11451499 4.84008241 4.58428012 4.47372564\n",
            " 5.43122165 6.32091469 4.9107141  3.74231166 4.67035607 6.19934363\n",
            " 4.82824259 5.79548149 5.31951188 5.47186963 3.51412557 4.15328545\n",
            " 5.95701444 5.05812048 4.97314198 4.14227079 4.06892801 3.8642846\n",
            " 6.03125532 6.51779029 4.20332316 5.01611974 5.39721477 4.61501777\n",
            " 6.63066642 4.55565585 3.44227445 6.24566779 4.25228886 4.9798225\n",
            " 5.99634165 4.68535608 5.47106616 5.79589659 5.78985589 4.12182853\n",
            " 4.17929225 5.89955525 2.99484685 4.95727325 3.83726738 5.33466501\n",
            " 5.60838802 6.15751492 5.83386908 6.93184481 3.03882405 5.56162697\n",
            " 3.57410648 4.24188239 5.40877541 5.24533894 6.0742964  5.54485742\n",
            " 7.57309821 4.49629266 5.75283346 5.7063101  6.33589138 6.03464316\n",
            " 6.01608993 4.50133997 5.87271208 6.11733736 3.35887807 3.96466504\n",
            " 5.42922509 5.33496464 5.30567292 5.81836154 4.2346438  5.46760443\n",
            " 3.72194111 4.44612026 3.57021126 5.67699254 5.79479941 3.74591159\n",
            " 4.92212188 4.02905504 3.23175727 3.62624261 4.79614393 5.79795216\n",
            " 6.14366751 4.05702793 5.17072168 5.69509602 2.18962234 4.34780078\n",
            " 5.29266995 5.85852297 4.57210579 3.775399   6.40002841 4.30464355\n",
            " 4.65492195 3.78604181 4.17305895 5.87792841 3.53787741 4.44194973\n",
            " 5.31672245 5.18945383 5.58112747 4.58588579 4.36500962 4.79144862\n",
            " 3.22522116 6.4327779  5.70561172 6.4950413  5.62760976 4.05375115\n",
            " 4.29003041 3.19769077 4.12768979 6.16579195 5.88936392 5.98864444\n",
            " 5.840698   5.34086292 4.08371945 6.01848154 6.67619804 4.99664326\n",
            " 3.98272386 3.86623708 3.63316444 5.53003733 6.07013552 3.28713297\n",
            " 3.60623009 5.90338321 5.02968714 5.07348593 4.1653534  5.71831163\n",
            " 4.40670865 4.15592503 4.91468513 5.29242515 5.57246031 6.0089539\n",
            " 5.51669876 4.57083079 5.56316684 3.62977985 4.30719159 5.94945392\n",
            " 5.23647971 6.2774495  3.56630212 4.94522348 6.86754815 4.77316049\n",
            " 5.11960555 6.46986562 5.04575484 5.20128051 5.35569631 5.47438789\n",
            " 3.99155434 3.59581146 4.54889336 4.47899161 4.6457866  5.65702653\n",
            " 5.47741281 5.82047003 5.19228257 5.09565695 4.06878937 4.45404448\n",
            " 5.07713268 4.02418871 4.37294665 5.25176796 4.28231956 4.53033913\n",
            " 4.16329662 4.8041481  6.04613871 3.22098716 4.85392101 4.17461309\n",
            " 3.8090109  4.87443427 4.25001243 3.50212038 4.73472364 4.79728576\n",
            " 6.12735155 5.3019561  3.24185047 4.41664322 6.03992707 6.65650184\n",
            " 4.21190522 5.0715155  3.92258947 5.94955937 2.55716669 6.07945783\n",
            " 5.10235053 3.45540689 4.78998054 4.77977128 3.19117444 6.58944503\n",
            " 5.87567802 4.15963112 6.67260805 5.37862081 3.78659791 6.66037582\n",
            " 5.73036368 3.55544394 4.19199714 6.8242585  5.85479269 5.54907787\n",
            " 5.29099443 4.92540578 2.40041249 4.6392548  3.5590544  3.37650265\n",
            " 4.96353762 4.73213323 5.00112733 5.42035546 4.02780578 6.72283725\n",
            " 5.64469683 4.77914509 5.76217068 6.28214583 5.80967749 7.30110356\n",
            " 7.24844688 3.87150057 4.10929247 5.14024087 5.35481151 4.95662549\n",
            " 5.3708688  3.78740166 5.42047464 4.59764849 5.86885548 4.72745721\n",
            " 5.22864619 4.37618987 5.07145016 4.39294473 5.56742657 4.56613407\n",
            " 4.42889873 4.37805033 6.80352399 4.38371287 3.38156331 5.17582774\n",
            " 5.77185679 4.36058423 5.08989212 5.2071579  2.79889785 5.10987384\n",
            " 5.94716667 5.53028421 4.44191601 7.03377789 5.51336917 4.29140354\n",
            " 4.30394689 5.91007865 6.62671203 4.7336751  3.58664434 5.25114347\n",
            " 3.15982446 6.70517945 6.03690884 4.77721713 5.67193163 3.94818455\n",
            " 5.41066493 3.52949699 4.94654202 5.89749362 3.92104229 6.7549082\n",
            " 4.39499852 5.49240483 5.61852714 4.38703927 4.57348309 5.30293959\n",
            " 5.11592847 5.97039449 5.99857173 3.13509927 3.75373058 5.0881892\n",
            " 5.06882662 6.01097293 3.17074311 2.95380918 5.63091031 4.51544059\n",
            " 4.6714166  4.83438418 4.3630226  5.02646929 6.19369204 5.07506593\n",
            " 4.30792119 4.36396911 6.44618037 4.59487567 5.89299631 4.75376\n",
            " 4.58248581 4.92064755 5.41663182 5.41119082 4.35158122 5.37811727\n",
            " 4.92264117 5.6543241  6.71622983 4.73306461 5.54041739 6.14496209\n",
            " 4.45228572 4.51266119 4.80925287 5.20401461 4.63501394 4.7021286\n",
            " 5.28307243 5.04264234 6.35103176 4.19159411 5.30748943 5.71232289\n",
            " 5.5975514  4.70707664 4.02017278 6.06871182 5.16037646 4.65354283\n",
            " 5.73224863 5.72677897 5.88275522 4.20833295 4.93810175 8.11119952\n",
            " 4.12514171 6.02491459 5.9213803  2.82106369 6.37451139 4.30779155\n",
            " 3.93607797 4.80243077 4.07090604 6.6202594  3.59862831 4.3979041\n",
            " 4.52124337 3.6602201  4.80030585 5.09739088 5.74428561 3.55984462\n",
            " 4.39605937 6.037598   6.44114498 5.53166947 5.02974423 3.56961141\n",
            " 5.41680076 5.58758594 3.62207268 4.79439424 6.78407451 7.52602215\n",
            " 4.91122067 4.57861622 3.47549317 4.43360142 4.82624999 5.70469728\n",
            " 5.33275529 5.91135696 5.27956937 5.91946598 2.70185882 4.59679067\n",
            " 4.02151452 5.93767429 6.99234104 6.09537483 5.96700893 5.04604414\n",
            " 6.69981015 3.93104174 7.59062396 5.35427202 3.37564547 4.66641696\n",
            " 4.5812825  3.85838938 6.87263793 3.67518892 6.0697987  5.46785855\n",
            " 4.4851462  4.2967098  3.21153523 4.6610066  4.23787698 4.02870486\n",
            " 4.92346914 3.34124722 5.69903078 3.34710489 5.38525573 6.05305279\n",
            " 5.20087759 5.23072132 3.54797456 3.85419683 3.33546449 5.27606928\n",
            " 6.09146404 6.384955   4.65708095 4.76538173 4.14024592 3.09774676\n",
            " 5.71150033 5.09655807 6.29661269 5.02492055 4.71756459 5.57553532\n",
            " 4.13089906 4.99531293 3.47997251 4.43255419 3.69193979 5.00093269\n",
            " 5.37275278 4.07874616 4.2442993  5.55233515 5.43422146 4.09967838\n",
            " 3.52094771 4.77296772 5.63635337 4.18631974 3.4632384  6.36025935\n",
            " 5.95544167 4.83876856 4.39610659 5.59671342 5.41950287 5.73826655\n",
            " 4.63596764 4.30268677 3.57231272 4.60768033 3.52232864 5.17961166\n",
            " 7.77674081 5.05018112 6.07758827 6.16936726 3.59175797 5.93401801\n",
            " 4.5782393  5.66047263 4.59363029 4.82418508 3.55700753 5.31283467\n",
            " 4.22396413 3.13831046 6.96806636 6.3375679  5.53815127 5.07174231\n",
            " 7.0952452  3.31223871 5.31206869 4.94260423 4.84031001 3.31270276\n",
            " 4.90858516 4.51494079 5.09916362 4.58708744 2.74189347 6.10329262\n",
            " 4.62776677 3.33821073 3.92928036 4.36789832 7.93911235 5.70171962\n",
            " 5.48738914 5.95137787 4.39253051 5.56098635 5.5430632  4.70509607\n",
            " 5.4503632  5.08057803 5.64139101 5.61294848 3.70461601 5.97333673\n",
            " 4.68736088 5.2482669  4.99424027 6.848198   5.22708599 4.15184385\n",
            " 4.10097541 4.82207488 5.02851144 6.73269357 6.73497887 5.32917712\n",
            " 4.36460709 5.15329808 5.8382452  6.18083137 5.32879711 5.00842892\n",
            " 5.10483365 4.02733971 5.3996892  3.63914775 5.78011498 3.57621387\n",
            " 6.03279396 4.30752279 5.4414325  5.97046651 3.54529429 3.53773203\n",
            " 2.75238805 3.1975925  4.14381272 5.67063557 5.10558985 5.89196399\n",
            " 5.43439281 2.79224146 4.83140596 4.73890523 5.16954366 5.91128107\n",
            " 5.04979231 3.83747476 5.51835423 5.34380659 3.83600483 4.7022641\n",
            " 5.11905232 3.81593778 4.23314308 4.61418153 4.13313006 4.39279564\n",
            " 6.65772782 5.29057549 5.04863377 5.87753737 4.26961028 3.87876445\n",
            " 7.34172566 5.20042331 3.42314127 5.22478494 4.92151631 4.33934204\n",
            " 3.62224272 2.61791948 4.53077228 4.97815622 6.13087895 4.72385459\n",
            " 5.45781913 5.01701453 4.01385564 4.73975705 6.35966456 6.46765807\n",
            " 4.8880153  5.19018172 6.27048335 5.5977804  2.62204064 5.60752298\n",
            " 4.50244964 5.27944973 6.37973181 4.2809661  5.31201667 3.77421696\n",
            " 5.5322429  4.37869911 7.83349966 4.33337373 4.25671622 4.62167118\n",
            " 5.1338616  3.66024881 6.36078961 3.99971834]\n",
            "m= [0, 1, 2, 3, 4, 5, 6, 7, 8, 9, 10, 11, 12, 13, 14, 15, 16, 17, 18, 19, 20, 21, 22, 23, 24, 25, 26, 27, 28, 29, 30, 31, 32, 33, 34, 35, 36, 37, 38, 39, 40, 41, 42, 43, 44, 45, 46, 47, 48, 49, 50, 51, 52, 53, 54, 55, 56, 57, 58, 59, 60, 61, 62, 63, 64, 65, 66, 67, 68, 69, 70, 71, 72, 73, 74, 75, 76, 77, 78, 79, 80, 81, 82, 83, 84, 85, 86, 87, 88, 89, 90, 91, 92, 93, 94, 95, 96, 97, 98, 99, 100, 101, 102, 103, 104, 105, 106, 107, 108, 109, 110, 111, 112, 113, 114, 115, 116, 117, 118, 119, 120, 121, 122, 123, 124, 125, 126, 127, 128, 129, 130, 131, 132, 133, 134, 135, 136, 137, 138, 139, 140, 141, 142, 143, 144, 145, 146, 147, 148, 149, 150, 151, 152, 153, 154, 155, 156, 157, 158, 159, 160, 161, 162, 163, 164, 165, 166, 167, 168, 169, 170, 171, 172, 173, 174, 175, 176, 177, 178, 179, 180, 181, 182, 183, 184, 185, 186, 187, 188, 189, 190, 191, 192, 193, 194, 195, 196, 197, 198, 199, 200, 201, 202, 203, 204, 205, 206, 207, 208, 209, 210, 211, 212, 213, 214, 215, 216, 217, 218, 219, 220, 221, 222, 223, 224, 225, 226, 227, 228, 229, 230, 231, 232, 233, 234, 235, 236, 237, 238, 239, 240, 241, 242, 243, 244, 245, 246, 247, 248, 249, 250, 251, 252, 253, 254, 255, 256, 257, 258, 259, 260, 261, 262, 263, 264, 265, 266, 267, 268, 269, 270, 271, 272, 273, 274, 275, 276, 277, 278, 279, 280, 281, 282, 283, 284, 285, 286, 287, 288, 289, 290, 291, 292, 293, 294, 295, 296, 297, 298, 299, 300, 301, 302, 303, 304, 305, 306, 307, 308, 309, 310, 311, 312, 313, 314, 315, 316, 317, 318, 319, 320, 321, 322, 323, 324, 325, 326, 327, 328, 329, 330, 331, 332, 333, 334, 335, 336, 337, 338, 339, 340, 341, 342, 343, 344, 345, 346, 347, 348, 349, 350, 351, 352, 353, 354, 355, 356, 357, 358, 359, 360, 361, 362, 363, 364, 365, 366, 367, 368, 369, 370, 371, 372, 373, 374, 375, 376, 377, 378, 379, 380, 381, 382, 383, 384, 385, 386, 387, 388, 389, 390, 391, 392, 393, 394, 395, 396, 397, 398, 399, 400, 401, 402, 403, 404, 405, 406, 407, 408, 409, 410, 411, 412, 413, 414, 415, 416, 417, 418, 419, 420, 421, 422, 423, 424, 425, 426, 427, 428, 429, 430, 431, 432, 433, 434, 435, 436, 437, 438, 439, 440, 441, 442, 443, 444, 445, 446, 447, 448, 449, 450, 451, 452, 453, 454, 455, 456, 457, 458, 459, 460, 461, 462, 463, 464, 465, 466, 467, 468, 469, 470, 471, 472, 473, 474, 475, 476, 477, 478, 479, 480, 481, 482, 483, 484, 485, 486, 487, 488, 489, 490, 491, 492, 493, 494, 495, 496, 497, 498, 499, 500, 501, 502, 503, 504, 505, 506, 507, 508, 509, 510, 511, 512, 513, 514, 515, 516, 517, 518, 519, 520, 521, 522, 523, 524, 525, 526, 527, 528, 529, 530, 531, 532, 533, 534, 535, 536, 537, 538, 539, 540, 541, 542, 543, 544, 545, 546, 547, 548, 549, 550, 551, 552, 553, 554, 555, 556, 557, 558, 559, 560, 561, 562, 563, 564, 565, 566, 567, 568, 569, 570, 571, 572, 573, 574, 575, 576, 577, 578, 579, 580, 581, 582, 583, 584, 585, 586, 587, 588, 589, 590, 591, 592, 593, 594, 595, 596, 597, 598, 599, 600, 601, 602, 603, 604, 605, 606, 607, 608, 609, 610, 611, 612, 613, 614, 615, 616, 617, 618, 619, 620, 621, 622, 623, 624, 625, 626, 627, 628, 629, 630, 631, 632, 633, 634, 635, 636, 637, 638, 639, 640, 641, 642, 643, 644, 645, 646, 647, 648, 649, 650, 651, 652, 653, 654, 655, 656, 657, 658, 659, 660, 661, 662, 663, 664, 665, 666, 667, 668, 669, 670, 671, 672, 673, 674, 675, 676, 677, 678, 679, 680, 681, 682, 683, 684, 685, 686, 687, 688, 689, 690, 691, 692, 693, 694, 695, 696, 697, 698, 699, 700, 701, 702, 703, 704, 705, 706, 707, 708, 709, 710, 711, 712, 713, 714, 715, 716, 717, 718, 719, 720, 721, 722, 723, 724, 725, 726, 727, 728, 729, 730, 731, 732, 733, 734, 735, 736, 737, 738, 739, 740, 741, 742, 743, 744, 745, 746, 747, 748, 749, 750, 751, 752, 753, 754, 755, 756, 757, 758, 759, 760, 761, 762, 763, 764, 765, 766, 767, 768, 769, 770, 771, 772, 773, 774, 775, 776, 777, 778, 779, 780, 781, 782, 783, 784, 785, 786, 787, 788, 789, 790, 791, 792, 793, 794, 795, 796, 797, 798, 799, 800, 801, 802, 803, 804, 805, 806, 807, 808, 809, 810, 811, 812, 813, 814, 815, 816, 817, 818, 819, 820, 821, 822, 823, 824, 825, 826, 827, 828, 829, 830, 831, 832, 833, 834, 835, 836, 837, 838, 839, 840, 841, 842, 843, 844, 845, 846, 847, 848, 849, 850, 851, 852, 853, 854, 855, 856, 857, 858, 859, 860, 861, 862, 863, 864, 865, 866, 867, 868, 869, 870, 871, 872, 873, 874, 875, 876, 877, 878, 879, 880, 881, 882, 883, 884, 885, 886, 887, 888, 889, 890, 891, 892, 893, 894, 895, 896, 897, 898, 899, 900, 901, 902, 903, 904, 905, 906, 907, 908, 909, 910, 911, 912, 913, 914, 915, 916, 917, 918, 919, 920, 921, 922, 923, 924, 925, 926, 927, 928, 929, 930, 931, 932, 933, 934, 935, 936, 937, 938, 939, 940, 941, 942, 943, 944, 945, 946, 947, 948, 949, 950, 951, 952, 953, 954, 955, 956, 957, 958, 959, 960, 961, 962, 963, 964, 965, 966, 967, 968, 969, 970, 971, 972, 973, 974, 975, 976, 977, 978, 979, 980, 981, 982, 983, 984, 985, 986, 987, 988, 989, 990, 991, 992, 993, 994, 995, 996, 997, 998, 999]\n",
            "[0, 1, 2, 3, 4, 5, 6, 7, 8, 9, 10, 11, 12, 13, 14, 15, 16, 17, 18, 19, 20, 21, 22, 23, 24, 25, 26, 27, 28, 29, 30, 31, 32, 33, 34, 35, 36, 37, 38, 39, 40, 41, 42, 43, 44, 45, 46, 47, 48, 49, 50, 51, 52, 53, 54, 55, 56, 57, 58, 59, 60, 61, 62, 63, 64, 65, 66, 67, 68, 69, 70, 71, 72, 73, 74, 75, 76, 77, 78, 79, 80, 81, 82, 83, 84, 85, 86, 87, 88, 89, 90, 91, 92, 93, 94, 95, 96, 97, 98, 99, 100, 101, 102, 103, 104, 105, 106, 107, 108, 109, 110, 111, 112, 113, 114, 115, 116, 117, 118, 119, 120, 121, 122, 123, 124, 125, 126, 127, 128, 129, 130, 131, 132, 133, 134, 135, 136, 137, 138, 139, 140, 141, 142, 143, 144, 145, 146, 147, 148, 149, 150, 151, 152, 153, 154, 155, 156, 157, 158, 159, 160, 161, 162, 163, 164, 165, 166, 167, 168, 169, 170, 171, 172, 173, 174, 175, 176, 177, 178, 179, 180, 181, 182, 183, 184, 185, 186, 187, 188, 189, 190, 191, 192, 193, 194, 195, 196, 197, 198, 199, 200, 201, 202, 203, 204, 205, 206, 207, 208, 209, 210, 211, 212, 213, 214, 215, 216, 217, 218, 219, 220, 221, 222, 223, 224, 225, 226, 227, 228, 229, 230, 231, 232, 233, 234, 235, 236, 237, 238, 239, 240, 241, 242, 243, 244, 245, 246, 247, 248, 249, 250, 251, 252, 253, 254, 255, 256, 257, 258, 259, 260, 261, 262, 263, 264, 265, 266, 267, 268, 269, 270, 271, 272, 273, 274, 275, 276, 277, 278, 279, 280, 281, 282, 283, 284, 285, 286, 287, 288, 289, 290, 291, 292, 293, 294, 295, 296, 297, 298, 299, 300, 301, 302, 303, 304, 305, 306, 307, 308, 309, 310, 311, 312, 313, 314, 315, 316, 317, 318, 319, 320, 321, 322, 323, 324, 325, 326, 327, 328, 329, 330, 331, 332, 333, 334, 335, 336, 337, 338, 339, 340, 341, 342, 343, 344, 345, 346, 347, 348, 349, 350, 351, 352, 353, 354, 355, 356, 357, 358, 359, 360, 361, 362, 363, 364, 365, 366, 367, 368, 369, 370, 371, 372, 373, 374, 375, 376, 377, 378, 379, 380, 381, 382, 383, 384, 385, 386, 387, 388, 389, 390, 391, 392, 393, 394, 395, 396, 397, 398, 399, 400, 401, 402, 403, 404, 405, 406, 407, 408, 409, 410, 411, 412, 413, 414, 415, 416, 417, 418, 419, 420, 421, 422, 423, 424, 425, 426, 427, 428, 429, 430, 431, 432, 433, 434, 435, 436, 437, 438, 439, 440, 441, 442, 443, 444, 445, 446, 447, 448, 449, 450, 451, 452, 453, 454, 455, 456, 457, 458, 459, 460, 461, 462, 463, 464, 465, 466, 467, 468, 469, 470, 471, 472, 473, 474, 475, 476, 477, 478, 479, 480, 481, 482, 483, 484, 485, 486, 487, 488, 489, 490, 491, 492, 493, 494, 495, 496, 497, 498, 499, 500, 501, 502, 503, 504, 505, 506, 507, 508, 509, 510, 511, 512, 513, 514, 515, 516, 517, 518, 519, 520, 521, 522, 523, 524, 525, 526, 527, 528, 529, 530, 531, 532, 533, 534, 535, 536, 537, 538, 539, 540, 541, 542, 543, 544, 545, 546, 547, 548, 549, 550, 551, 552, 553, 554, 555, 556, 557, 558, 559, 560, 561, 562, 563, 564, 565, 566, 567, 568, 569, 570, 571, 572, 573, 574, 575, 576, 577, 578, 579, 580, 581, 582, 583, 584, 585, 586, 587, 588, 589, 590, 591, 592, 593, 594, 595, 596, 597, 598, 599, 600, 601, 602, 603, 604, 605, 606, 607, 608, 609, 610, 611, 612, 613, 614, 615, 616, 617, 618, 619, 620, 621, 622, 623, 624, 625, 626, 627, 628, 629, 630, 631, 632, 633, 634, 635, 636, 637, 638, 639, 640, 641, 642, 643, 644, 645, 646, 647, 648, 649, 650, 651, 652, 653, 654, 655, 656, 657, 658, 659, 660, 661, 662, 663, 664, 665, 666, 667, 668, 669, 670, 671, 672, 673, 674, 675, 676, 677, 678, 679, 680, 681, 682, 683, 684, 685, 686, 687, 688, 689, 690, 691, 692, 693, 694, 695, 696, 697, 698, 699, 700, 701, 702, 703, 704, 705, 706, 707, 708, 709, 710, 711, 712, 713, 714, 715, 716, 717, 718, 719, 720, 721, 722, 723, 724, 725, 726, 727, 728, 729, 730, 731, 732, 733, 734, 735, 736, 737, 738, 739, 740, 741, 742, 743, 744, 745, 746, 747, 748, 749, 750, 751, 752, 753, 754, 755, 756, 757, 758, 759, 760, 761, 762, 763, 764, 765, 766, 767, 768, 769, 770, 771, 772, 773, 774, 775, 776, 777, 778, 779, 780, 781, 782, 783, 784, 785, 786, 787, 788, 789, 790, 791, 792, 793, 794, 795, 796, 797, 798, 799, 800, 801, 802, 803, 804, 805, 806, 807, 808, 809, 810, 811, 812, 813, 814, 815, 816, 817, 818, 819, 820, 821, 822, 823, 824, 825, 826, 827, 828, 829, 830, 831, 832, 833, 834, 835, 836, 837, 838, 839, 840, 841, 842, 843, 844, 845, 846, 847, 848, 849, 850, 851, 852, 853, 854, 855, 856, 857, 858, 859, 860, 861, 862, 863, 864, 865, 866, 867, 868, 869, 870, 871, 872, 873, 874, 875, 876, 877, 878, 879, 880, 881, 882, 883, 884, 885, 886, 887, 888, 889, 890, 891, 892, 893, 894, 895, 896, 897, 898, 899, 900, 901, 902, 903, 904, 905, 906, 907, 908, 909, 910, 911, 912, 913, 914, 915, 916, 917, 918, 919, 920, 921, 922, 923, 924, 925, 926, 927, 928, 929, 930, 931, 932, 933, 934, 935, 936, 937, 938, 939, 940, 941, 942, 943, 944, 945, 946, 947, 948, 949, 950, 951, 952, 953, 954, 955, 956, 957, 958, 959, 960, 961, 962, 963, 964, 965, 966, 967, 968, 969, 970, 971, 972, 973, 974, 975, 976, 977, 978, 979, 980, 981, 982, 983, 984, 985, 986, 987, 988, 989, 990, 991, 992, 993, 994, 995, 996, 997, 998, 999] [5.94327338 4.39706209 4.80238939 3.68448749 3.98252608 7.01944678\n",
            " 5.32410059 4.61862599 3.58094903 4.89494165 5.617261   3.73625808\n",
            " 3.18094176 2.98549422 4.73046752 3.416413   5.74804453 4.17333202\n",
            " 4.49997196 3.662311   4.51206284 3.51694152 4.74571382 4.53548722\n",
            " 5.4733092  4.63182006 5.82963106 5.08117356 3.83939422 5.55368376\n",
            " 6.53579598 4.82811065 4.99786571 5.57648087 4.97017558 5.90745045\n",
            " 5.48349337 4.71598896 4.29555182 4.91397599 3.93248332 3.95600645\n",
            " 5.812127   7.09820059 4.58317232 4.77183073 6.4897071  6.07892129\n",
            " 4.0218861  5.55303147 3.91116216 4.48721235 5.73857698 4.669348\n",
            " 5.83655535 4.46329848 5.35912733 4.70218941 3.59906316 4.96172389\n",
            " 6.3512011  5.52594014 4.00071409 5.0253045  4.9468097  5.53190452\n",
            " 4.09057166 5.12617449 4.56369222 5.04023732 5.76454063 3.39994452\n",
            " 4.81810223 5.04855311 5.14858171 4.63663032 4.6806041  3.64303369\n",
            " 4.3454112  3.66081301 3.41864825 4.1427371  5.51418317 4.6533136\n",
            " 6.25355528 4.66659533 5.61237952 4.45556039 7.31476884 4.43240613\n",
            " 3.9909294  5.07380249 6.35919191 4.87242963 6.28820377 6.42828516\n",
            " 3.93244638 5.9931128  3.1188043  3.92825614 3.88931905 4.38043705\n",
            " 2.64361545 5.82664532 4.30594672 5.75740713 4.50883302 4.10012406\n",
            " 4.6930021  5.24392161 4.66025857 5.46336108 5.75845346 4.25348269\n",
            " 3.23020403 5.3908965  3.82019868 5.44344575 6.03520767 6.48390004\n",
            " 4.25946399 4.93534424 6.06308638 3.14118228 6.28166757 3.6728362\n",
            " 4.16669834 5.14710616 4.07471391 3.30611817 5.8488017  5.65885695\n",
            " 5.04458057 3.73931618 5.36423241 4.73360606 5.02003728 4.90816536\n",
            " 4.21969793 4.00364474 5.46215053 4.56827741 6.65325179 3.54572233\n",
            " 4.05351956 6.02705222 5.16134349 5.58969041 3.71642834 6.54619509\n",
            " 5.90759844 5.14573485 5.29053115 3.63786457 5.16904687 5.21485073\n",
            " 6.16698913 5.7984636  4.42212288 4.61857504 6.34604878 5.54837219\n",
            " 5.25227211 5.66078881 3.15285669 4.40602179 4.99657035 4.66198074\n",
            " 3.5280386  4.13638941 5.48263835 3.7642502  4.56207935 4.30994589\n",
            " 4.31058088 3.62042023 4.74568159 4.1701755  4.45080035 5.02158584\n",
            " 4.57270534 5.22515262 5.98134341 5.08884974 3.56739157 4.70863066\n",
            " 5.17937687 6.0912998  5.01293924 6.14747106 4.72248213 4.2331337\n",
            " 3.73254332 5.04808603 4.18829344 5.39767962 4.41000616 4.5330265\n",
            " 4.35864661 5.8909539  4.95057978 5.22069317 3.41477609 5.12009862\n",
            " 5.00050269 5.13684708 5.1796242  5.46938087 4.48956485 3.78905225\n",
            " 6.42905512 5.28730839 4.0513591  3.88610516 4.6901442  4.79627992\n",
            " 4.86816316 3.16682428 2.95850988 5.44886473 3.81766788 5.21743289\n",
            " 4.96111665 5.42555052 3.35723658 5.89625556 4.75041029 4.61054248\n",
            " 4.67594175 5.46570398 5.65959573 4.80449545 5.63793747 4.08470769\n",
            " 5.55271937 5.95058637 4.80714271 3.94363196 4.71231308 4.92958894\n",
            " 6.97224041 4.37924809 4.08757164 5.14653391 5.45506235 4.14081718\n",
            " 6.07748106 6.58368737 4.43924654 5.4452559  4.77134773 3.8389416\n",
            " 4.81830086 4.500587   4.48813012 4.8495852  3.19473542 5.44807456\n",
            " 5.61970199 5.7966059  3.05463933 3.90026884 5.57436433 4.39674321\n",
            " 5.33776143 3.98278345 4.03276574 3.60420481 5.62037549 5.91838108\n",
            " 7.16433375 6.74192844 3.12666385 4.98603661 5.94334171 4.61613588\n",
            " 5.55524158 4.96421272 4.26150789 6.17321992 5.4161119  5.22980805\n",
            " 5.00789474 5.60608526 4.63804959 5.95655917 4.82112761 4.69247\n",
            " 4.94442137 5.11222451 5.17866414 6.20696773 4.35283883 3.52261691\n",
            " 3.96263614 4.63785831 6.88661148 3.80733983 4.43965728 5.29374352\n",
            " 6.78181975 4.09902947 6.33287093 4.94943814 4.7952304  6.80662371\n",
            " 4.92343569 3.9936844  5.51956114 3.1167165  4.89070963 4.89330824\n",
            " 5.81100199 5.59491491 5.56384259 5.10664069 5.08652909 3.35447723\n",
            " 6.25582493 3.31762783 6.26052474 5.57335068 3.15180833 4.10261754\n",
            " 3.89066864 4.75558169 6.0468132  5.30444386 3.20086121 5.08383098\n",
            " 5.40617405 4.49594682 5.42267047 4.02908537 5.11582781 4.7830727\n",
            " 5.15653261 4.32916093 4.79044433 4.54873718 4.02243568 4.43763345\n",
            " 5.4989316  5.34883708 5.77841073 5.05547572 4.57103524 4.63682249\n",
            " 4.10590338 5.22983578 5.63472869 5.84245827 5.80738865 5.87777431\n",
            " 4.26676591 5.47697935 5.25160619 5.03193178 3.83190702 4.51899686\n",
            " 5.07181399 4.73278997 5.26434306 3.75012948 6.19967293 3.59477301\n",
            " 3.96102211 5.8478246  6.11451499 4.84008241 4.58428012 4.47372564\n",
            " 5.43122165 6.32091469 4.9107141  3.74231166 4.67035607 6.19934363\n",
            " 4.82824259 5.79548149 5.31951188 5.47186963 3.51412557 4.15328545\n",
            " 5.95701444 5.05812048 4.97314198 4.14227079 4.06892801 3.8642846\n",
            " 6.03125532 6.51779029 4.20332316 5.01611974 5.39721477 4.61501777\n",
            " 6.63066642 4.55565585 3.44227445 6.24566779 4.25228886 4.9798225\n",
            " 5.99634165 4.68535608 5.47106616 5.79589659 5.78985589 4.12182853\n",
            " 4.17929225 5.89955525 2.99484685 4.95727325 3.83726738 5.33466501\n",
            " 5.60838802 6.15751492 5.83386908 6.93184481 3.03882405 5.56162697\n",
            " 3.57410648 4.24188239 5.40877541 5.24533894 6.0742964  5.54485742\n",
            " 7.57309821 4.49629266 5.75283346 5.7063101  6.33589138 6.03464316\n",
            " 6.01608993 4.50133997 5.87271208 6.11733736 3.35887807 3.96466504\n",
            " 5.42922509 5.33496464 5.30567292 5.81836154 4.2346438  5.46760443\n",
            " 3.72194111 4.44612026 3.57021126 5.67699254 5.79479941 3.74591159\n",
            " 4.92212188 4.02905504 3.23175727 3.62624261 4.79614393 5.79795216\n",
            " 6.14366751 4.05702793 5.17072168 5.69509602 2.18962234 4.34780078\n",
            " 5.29266995 5.85852297 4.57210579 3.775399   6.40002841 4.30464355\n",
            " 4.65492195 3.78604181 4.17305895 5.87792841 3.53787741 4.44194973\n",
            " 5.31672245 5.18945383 5.58112747 4.58588579 4.36500962 4.79144862\n",
            " 3.22522116 6.4327779  5.70561172 6.4950413  5.62760976 4.05375115\n",
            " 4.29003041 3.19769077 4.12768979 6.16579195 5.88936392 5.98864444\n",
            " 5.840698   5.34086292 4.08371945 6.01848154 6.67619804 4.99664326\n",
            " 3.98272386 3.86623708 3.63316444 5.53003733 6.07013552 3.28713297\n",
            " 3.60623009 5.90338321 5.02968714 5.07348593 4.1653534  5.71831163\n",
            " 4.40670865 4.15592503 4.91468513 5.29242515 5.57246031 6.0089539\n",
            " 5.51669876 4.57083079 5.56316684 3.62977985 4.30719159 5.94945392\n",
            " 5.23647971 6.2774495  3.56630212 4.94522348 6.86754815 4.77316049\n",
            " 5.11960555 6.46986562 5.04575484 5.20128051 5.35569631 5.47438789\n",
            " 3.99155434 3.59581146 4.54889336 4.47899161 4.6457866  5.65702653\n",
            " 5.47741281 5.82047003 5.19228257 5.09565695 4.06878937 4.45404448\n",
            " 5.07713268 4.02418871 4.37294665 5.25176796 4.28231956 4.53033913\n",
            " 4.16329662 4.8041481  6.04613871 3.22098716 4.85392101 4.17461309\n",
            " 3.8090109  4.87443427 4.25001243 3.50212038 4.73472364 4.79728576\n",
            " 6.12735155 5.3019561  3.24185047 4.41664322 6.03992707 6.65650184\n",
            " 4.21190522 5.0715155  3.92258947 5.94955937 2.55716669 6.07945783\n",
            " 5.10235053 3.45540689 4.78998054 4.77977128 3.19117444 6.58944503\n",
            " 5.87567802 4.15963112 6.67260805 5.37862081 3.78659791 6.66037582\n",
            " 5.73036368 3.55544394 4.19199714 6.8242585  5.85479269 5.54907787\n",
            " 5.29099443 4.92540578 2.40041249 4.6392548  3.5590544  3.37650265\n",
            " 4.96353762 4.73213323 5.00112733 5.42035546 4.02780578 6.72283725\n",
            " 5.64469683 4.77914509 5.76217068 6.28214583 5.80967749 7.30110356\n",
            " 7.24844688 3.87150057 4.10929247 5.14024087 5.35481151 4.95662549\n",
            " 5.3708688  3.78740166 5.42047464 4.59764849 5.86885548 4.72745721\n",
            " 5.22864619 4.37618987 5.07145016 4.39294473 5.56742657 4.56613407\n",
            " 4.42889873 4.37805033 6.80352399 4.38371287 3.38156331 5.17582774\n",
            " 5.77185679 4.36058423 5.08989212 5.2071579  2.79889785 5.10987384\n",
            " 5.94716667 5.53028421 4.44191601 7.03377789 5.51336917 4.29140354\n",
            " 4.30394689 5.91007865 6.62671203 4.7336751  3.58664434 5.25114347\n",
            " 3.15982446 6.70517945 6.03690884 4.77721713 5.67193163 3.94818455\n",
            " 5.41066493 3.52949699 4.94654202 5.89749362 3.92104229 6.7549082\n",
            " 4.39499852 5.49240483 5.61852714 4.38703927 4.57348309 5.30293959\n",
            " 5.11592847 5.97039449 5.99857173 3.13509927 3.75373058 5.0881892\n",
            " 5.06882662 6.01097293 3.17074311 2.95380918 5.63091031 4.51544059\n",
            " 4.6714166  4.83438418 4.3630226  5.02646929 6.19369204 5.07506593\n",
            " 4.30792119 4.36396911 6.44618037 4.59487567 5.89299631 4.75376\n",
            " 4.58248581 4.92064755 5.41663182 5.41119082 4.35158122 5.37811727\n",
            " 4.92264117 5.6543241  6.71622983 4.73306461 5.54041739 6.14496209\n",
            " 4.45228572 4.51266119 4.80925287 5.20401461 4.63501394 4.7021286\n",
            " 5.28307243 5.04264234 6.35103176 4.19159411 5.30748943 5.71232289\n",
            " 5.5975514  4.70707664 4.02017278 6.06871182 5.16037646 4.65354283\n",
            " 5.73224863 5.72677897 5.88275522 4.20833295 4.93810175 8.11119952\n",
            " 4.12514171 6.02491459 5.9213803  2.82106369 6.37451139 4.30779155\n",
            " 3.93607797 4.80243077 4.07090604 6.6202594  3.59862831 4.3979041\n",
            " 4.52124337 3.6602201  4.80030585 5.09739088 5.74428561 3.55984462\n",
            " 4.39605937 6.037598   6.44114498 5.53166947 5.02974423 3.56961141\n",
            " 5.41680076 5.58758594 3.62207268 4.79439424 6.78407451 7.52602215\n",
            " 4.91122067 4.57861622 3.47549317 4.43360142 4.82624999 5.70469728\n",
            " 5.33275529 5.91135696 5.27956937 5.91946598 2.70185882 4.59679067\n",
            " 4.02151452 5.93767429 6.99234104 6.09537483 5.96700893 5.04604414\n",
            " 6.69981015 3.93104174 7.59062396 5.35427202 3.37564547 4.66641696\n",
            " 4.5812825  3.85838938 6.87263793 3.67518892 6.0697987  5.46785855\n",
            " 4.4851462  4.2967098  3.21153523 4.6610066  4.23787698 4.02870486\n",
            " 4.92346914 3.34124722 5.69903078 3.34710489 5.38525573 6.05305279\n",
            " 5.20087759 5.23072132 3.54797456 3.85419683 3.33546449 5.27606928\n",
            " 6.09146404 6.384955   4.65708095 4.76538173 4.14024592 3.09774676\n",
            " 5.71150033 5.09655807 6.29661269 5.02492055 4.71756459 5.57553532\n",
            " 4.13089906 4.99531293 3.47997251 4.43255419 3.69193979 5.00093269\n",
            " 5.37275278 4.07874616 4.2442993  5.55233515 5.43422146 4.09967838\n",
            " 3.52094771 4.77296772 5.63635337 4.18631974 3.4632384  6.36025935\n",
            " 5.95544167 4.83876856 4.39610659 5.59671342 5.41950287 5.73826655\n",
            " 4.63596764 4.30268677 3.57231272 4.60768033 3.52232864 5.17961166\n",
            " 7.77674081 5.05018112 6.07758827 6.16936726 3.59175797 5.93401801\n",
            " 4.5782393  5.66047263 4.59363029 4.82418508 3.55700753 5.31283467\n",
            " 4.22396413 3.13831046 6.96806636 6.3375679  5.53815127 5.07174231\n",
            " 7.0952452  3.31223871 5.31206869 4.94260423 4.84031001 3.31270276\n",
            " 4.90858516 4.51494079 5.09916362 4.58708744 2.74189347 6.10329262\n",
            " 4.62776677 3.33821073 3.92928036 4.36789832 7.93911235 5.70171962\n",
            " 5.48738914 5.95137787 4.39253051 5.56098635 5.5430632  4.70509607\n",
            " 5.4503632  5.08057803 5.64139101 5.61294848 3.70461601 5.97333673\n",
            " 4.68736088 5.2482669  4.99424027 6.848198   5.22708599 4.15184385\n",
            " 4.10097541 4.82207488 5.02851144 6.73269357 6.73497887 5.32917712\n",
            " 4.36460709 5.15329808 5.8382452  6.18083137 5.32879711 5.00842892\n",
            " 5.10483365 4.02733971 5.3996892  3.63914775 5.78011498 3.57621387\n",
            " 6.03279396 4.30752279 5.4414325  5.97046651 3.54529429 3.53773203\n",
            " 2.75238805 3.1975925  4.14381272 5.67063557 5.10558985 5.89196399\n",
            " 5.43439281 2.79224146 4.83140596 4.73890523 5.16954366 5.91128107\n",
            " 5.04979231 3.83747476 5.51835423 5.34380659 3.83600483 4.7022641\n",
            " 5.11905232 3.81593778 4.23314308 4.61418153 4.13313006 4.39279564\n",
            " 6.65772782 5.29057549 5.04863377 5.87753737 4.26961028 3.87876445\n",
            " 7.34172566 5.20042331 3.42314127 5.22478494 4.92151631 4.33934204\n",
            " 3.62224272 2.61791948 4.53077228 4.97815622 6.13087895 4.72385459\n",
            " 5.45781913 5.01701453 4.01385564 4.73975705 6.35966456 6.46765807\n",
            " 4.8880153  5.19018172 6.27048335 5.5977804  2.62204064 5.60752298\n",
            " 4.50244964 5.27944973 6.37973181 4.2809661  5.31201667 3.77421696\n",
            " 5.5322429  4.37869911 7.83349966 4.33337373 4.25671622 4.62167118\n",
            " 5.1338616  3.66024881 6.36078961 3.99971834]\n"
          ]
        },
        {
          "data": {
            "image/png": "[encoded data removed]",
            "text/plain": [
              "<Figure size 432x288 with 1 Axes>"
            ]
          },
          "metadata": {
            "needs_background": "light"
          },
          "output_type": "display_data"
        },
        {
          "data": {
            "image/png": "[encoded data removed]",
            "text/plain": [
              "<Figure size 432x288 with 1 Axes>"
            ]
          },
          "metadata": {
            "needs_background": "light"
          },
          "output_type": "display_data"
        }
      ],
      "source": [
        "import numpy as np\n",
        "import matplotlib.pyplot as plt\n",
        "\n",
        "n=5+np.random.randn(1000)\n",
        "print(\"n=\",n)\n",
        "\n",
        "#m=[m for m in range (len(n))]\n",
        "\n",
        "m=list(range(len(n)))\n",
        "print(\"m=\",m)\n",
        "print(m,n)\n",
        "plt.bar(m,n)\n",
        "plt.title(\"raw data\")\n",
        "plt.show()\n",
        "\n",
        "plt.hist(n,bins=2)\n",
        "plt.title(\"histogram\")\n",
        "plt.show()"
      ]
    },
    {
      "cell_type": "code",
      "execution_count": 48,
      "metadata": {
        "colab": {
          "base_uri": "https://localhost:8080/"
        },
        "id": "-hWaK-21scC4",
        "outputId": "7a74f620-f45c-4492-c780-075446569c75"
      },
      "outputs": [
        {
          "name": "stdout",
          "output_type": "stream",
          "text": [
            "[ 1.27259165 -0.13593193  1.33276825 -0.55019152  0.61596413 -0.2553478\n",
            " -1.8000309  -0.50954205  0.98127671  0.22781151]\n",
            "[6.27259165 4.86406807 6.33276825 4.44980848 5.61596413 4.7446522\n",
            " 3.1999691  4.49045795 5.98127671 5.22781151]\n"
          ]
        }
      ],
      "source": [
        "import numpy as np\n",
        "x=np.random.randn(10)\n",
        "print(x)\n",
        "print(x+5)\n"
      ]
    },
    {
      "cell_type": "code",
      "execution_count": 49,
      "metadata": {
        "colab": {
          "base_uri": "https://localhost:8080/",
          "height": 281
        },
        "id": "Bu31IQGxsfZY",
        "outputId": "36dbff60-4262-4308-b66d-b336b1b7b359"
      },
      "outputs": [
        {
          "data": {
            "image/png": "[encoded data removed]",
            "text/plain": [
              "<Figure size 432x288 with 1 Axes>"
            ]
          },
          "metadata": {
            "needs_background": "light"
          },
          "output_type": "display_data"
        }
      ],
      "source": [
        "import matplotlib.pyplot as plt\n",
        "x1=[2,3,4]\n",
        "y1=[5,5,5]\n",
        "\n",
        "x2=[1,2,3,4,5]\n",
        "y2=[2,3,2,3,4]\n",
        "y3=[6,8,7,8,7]\n",
        "\n",
        "plt.scatter(x1,y1)\n",
        "\n",
        "plt.scatter(x2,y2,marker='v',color='r')\n",
        "plt.scatter(x2,y3,marker='^',color='m')\n",
        "\n",
        "plt.title('scatter plot Example')\n",
        "plt.show()"
      ]
    },
    {
      "cell_type": "code",
      "execution_count": 50,
      "metadata": {
        "colab": {
          "base_uri": "https://localhost:8080/",
          "height": 281
        },
        "id": "O-kH0xNSsibm",
        "outputId": "eb7223a0-6231-465c-daf4-ba0bbdbd1c22"
      },
      "outputs": [
        {
          "data": {
            "image/png": "[encoded data removed]",
            "text/plain": [
              "<Figure size 432x288 with 1 Axes>"
            ]
          },
          "metadata": {
            "needs_background": "light"
          },
          "output_type": "display_data"
        }
      ],
      "source": [
        "import matplotlib.pyplot as plt\n",
        "\n",
        "idxes=[1,2,3,4,5,6,7,8,9]\n",
        "arr1=[23,40,28,43,8,44,43,18,17]\n",
        "arr2=[17,30,22,14,17,17,29,22,30]\n",
        "arr3=[15,31,18,22,18,19,13,32,39]\n",
        "\n",
        "#adding legend for stack plots is tricky.\n",
        "plt.plot([],[],color='r',label='D 1')\n",
        "plt.plot([],[],color='g',label='D 2')\n",
        "plt.plot([],[],color='b',label='D 3')\n",
        "plt.stackplot(idxes,arr1,arr2,arr3,colors=['r','g','b'])\n",
        "plt.grid()\n",
        "plt.title('stack plot example')\n",
        "plt.legend(loc='upper center')\n",
        "plt.show()"
      ]
    },
    {
      "cell_type": "code",
      "execution_count": 51,
      "metadata": {
        "colab": {
          "base_uri": "https://localhost:8080/",
          "height": 264
        },
        "id": "fiYxmNWusjhS",
        "outputId": "9428798d-9c23-4a3b-e75e-a6d07059eb12"
      },
      "outputs": [
        {
          "data": {
            "image/png": "[encoded data removed]",
            "text/plain": [
              "<Figure size 432x288 with 1 Axes>"
            ]
          },
          "metadata": {},
          "output_type": "display_data"
        }
      ],
      "source": [
        "import matplotlib.pyplot as plt\n",
        "\n",
        "labels ='S1','S2','S3','S4',\n",
        "#sections=[30,50,20]\n",
        "#colors=['c','g','r']\n",
        "\n",
        "sections=[205,40,1000,2000]\n",
        "colors=['c','g','r','b']\n",
        "\n",
        "plt.pie(sections,colors=colors ,labels=labels,startangle=90,explode=(-0.3,0,0,0),autopct='%-10.2f%%')\n",
        "#plt.axis('equal')\n",
        "plt.title('pie chart example')\n",
        "plt.show()"
      ]
    },
    {
      "cell_type": "code",
      "execution_count": 52,
      "metadata": {
        "colab": {
          "base_uri": "https://localhost:8080/",
          "height": 297
        },
        "id": "7pFjeZEmsnDo",
        "outputId": "e39d21e3-6b5f-4a75-dd07-80b418435d9e"
      },
      "outputs": [
        {
          "data": {
            "image/png": "[encoded data removed]",
            "text/plain": [
              "<Figure size 432x288 with 1 Axes>"
            ]
          },
          "metadata": {
            "needs_background": "light"
          },
          "output_type": "display_data"
        }
      ],
      "source": [
        "from  matplotlib import pyplot as plt\n",
        "import numpy as np\n",
        "from mpl_toolkits.mplot3d import axes3d\n",
        "\n",
        "fig=plt.figure()\n",
        "ax= fig.add_subplot(111,projection='3d')\n",
        "\n",
        "x1=[1,2,3,4,5,6,7,8,9,10]\n",
        "y1=np.random.randint(10,size=10)\n",
        "z1=np.random.randint(10,size=10)\n",
        "x2=[-1,-2,-3,-4,-5,-6,-7,-8,-9,-10]\n",
        "y2=np.random.randint(-10,0,size=10)\n",
        "z2=np.random.randint(10,size=10)\n",
        "\n",
        "ax.scatter(x1,y1,z1,c='b',marker='o',label='blue')\n",
        "ax.scatter(x2,y2,z2,c='r',marker='D',label='green')\n",
        "\n",
        "ax.set_xlabel('x axis')\n",
        "ax.set_ylabel('y axis')\n",
        "ax.set_zlabel(\"z axis\")\n",
        "plt.title(\"3d scatter plot example hahaha\")\n",
        "plt.legend()\n",
        "plt.tight_layout()\n",
        "plt.show()\n",
        "\n"
      ]
    },
    {
      "cell_type": "code",
      "execution_count": 53,
      "metadata": {
        "colab": {
          "base_uri": "https://localhost:8080/"
        },
        "id": "7IETOHwhssx2",
        "outputId": "0cbb7fd6-3925-4f71-b8e9-2c3df071b7c0"
      },
      "outputs": [
        {
          "name": "stdout",
          "output_type": "stream",
          "text": [
            "[3 8 6 3 2 2 9 1 8 9]\n",
            "<class 'numpy.ndarray'>\n",
            "[ -5 -30  -7 -16 -20  -6  -2  -4 -28 -29]\n"
          ]
        }
      ],
      "source": [
        "import numpy as np\n",
        "\n",
        "a=np.random.randint(10,size=10)\n",
        "print(a)\n",
        "print(type(a))\n",
        "b=np.random.randint(-30,0,size=10)\n",
        "print(b)"
      ]
    },
    {
      "cell_type": "code",
      "execution_count": 54,
      "metadata": {
        "colab": {
          "base_uri": "https://localhost:8080/",
          "height": 297
        },
        "id": "k8qQVarIsuT4",
        "outputId": "e48d49c8-9960-4e7a-d935-4c01c94a9679"
      },
      "outputs": [
        {
          "data": {
            "image/png": "[encoded data removed]",
            "text/plain": [
              "<Figure size 432x288 with 1 Axes>"
            ]
          },
          "metadata": {
            "needs_background": "light"
          },
          "output_type": "display_data"
        }
      ],
      "source": [
        "#3d bar plots\n",
        "import  matplotlib.pyplot as plt\n",
        "import numpy as np\n",
        "import mpl_toolkits.mplot3d.axes3d\n",
        "\n",
        "fig=plt.figure()\n",
        "ax=fig.add_subplot(111,projection='3d')\n",
        "\n",
        "x=np.arange(1,11)\n",
        "y=np.random.randint(10,size=10)\n",
        "z=np.zeros(10)\n",
        "#z=np.random.randint(10,size=10)\n",
        "\n",
        "dx=[1,1,.5,1,2,3,1,1,1,1]\n",
        "dy=np.ones(10)\n",
        "dz=np.arange(1,11,1)\n",
        "\n",
        "ax.bar3d(x,y,z,dx,dy,dz,color=['g','r','b','c','y','m','b','m','c','y'])\n",
        "\n",
        "ax.set_xlabel('x axis')\n",
        "ax.set_ylabel('y axis')\n",
        "ax.set_zlabel('z axis')\n",
        "plt.title(\"3d bar chart example\")\n",
        "plt.tight_layout()\n",
        "plt.show()\n",
        "\n"
      ]
    },
    {
      "cell_type": "code",
      "execution_count": 57,
      "metadata": {
        "colab": {
          "base_uri": "https://localhost:8080/",
          "height": 503
        },
        "id": "yn3L6RLjsxbF",
        "outputId": "333942e7-fe7c-49f0-d867-b0f4f2b7c1fc"
      },
      "outputs": [
        {
          "name": "stdout",
          "output_type": "stream",
          "text": [
            "   square_feet  price\n",
            "0          150   6450\n",
            "1          200   7450\n",
            "2          250   8450\n",
            "3          300   9450\n",
            "4          350  11450\n",
            "5          400  15450\n",
            "6          600  18450\n",
            "area: [[150.0], [200.0], [250.0], [300.0], [350.0], [400.0], [600.0]]\n",
            "price:= [6450.0, 7450.0, 8450.0, 9450.0, 11450.0, 15450.0, 18450.0]\n",
            "output form machine= [21915.42553191]\n"
          ]
        },
        {
          "data": {
            "image/png": "[encoded data removed]",
            "text/plain": [
              "<Figure size 432x288 with 1 Axes>"
            ]
          },
          "metadata": {
            "needs_background": "light"
          },
          "output_type": "display_data"
        },
        {
          "name": "stdout",
          "output_type": "stream",
          "text": [
            "intercept value= 1771.8085106382969\n",
            "coefficent [28.77659574]\n",
            "predicted house price value [21915.42553191]\n"
          ]
        }
      ],
      "source": [
        "import pandas as  pd\n",
        "import matplotlib.pyplot as plt\n",
        "\n",
        "from sklearn.linear_model import LinearRegression\n",
        "\n",
        "import warnings\n",
        "warnings.filterwarnings(action='ignore')\n",
        "\n",
        "#function to get data\n",
        "def get_data(file_name):\n",
        "    dataframe=pd.read_csv(file_name)\n",
        "    print(dataframe)\n",
        "    x_parameters=[]\n",
        "    y_parameters=[]\n",
        "    for single_square_feet,single_price_value in zip(dataframe['square_feet'],dataframe['price']):\n",
        "        x_parameters.append([float(single_square_feet)])\n",
        "        y_parameters.append(float(single_price_value))\n",
        "    return x_parameters,y_parameters\n",
        "\n",
        "#Function for fitting data to linear model\n",
        "def linear_model_main(x_parameters,y_parameters,quest_value):\n",
        "    #create linear LinearRegression objects\n",
        "    regr=LinearRegression()\n",
        "    print(\"area:\",x_parameters)\n",
        "    print(\"price:=\",y_parameters)\n",
        "    regr.fit(x_parameters,y_parameters)\n",
        "    predicted_ans=regr.predict([[quest_value]])\n",
        "    predictions={}\n",
        "    predictions['coefficent']=regr.coef_\n",
        "    predictions['intercept']=regr.intercept_\n",
        "    predictions['predicted_ans']=predicted_ans\n",
        "    print(\"output form machine=\",predicted_ans)\n",
        "\n",
        "    plt.scatter(x_parameters,y_parameters,color='m',marker='o',s=30)\n",
        "\n",
        "    all_predicted_Y=regr.predict(x_parameters)\n",
        "    plt.scatter(x_parameters,all_predicted_Y,color='b')\n",
        "\n",
        "    plt.plot(x_parameters,all_predicted_Y,color='r')\n",
        "    plt.scatter(quest_value,predicted_ans,color='g')\n",
        "    plt.show()\n",
        "    return predictions\n",
        "\n",
        "if __name__==\"__main__\":\n",
        "    x,y=get_data('LR_House_price.csv')\n",
        "    question_value=700#this is a ques.\n",
        "    result=linear_model_main(x,y,question_value)\n",
        "    print(\"intercept value=\",result['intercept'])\n",
        "    print(\"coefficent\",result['coefficent'])\n",
        "\n",
        "    print(\"predicted house price value\",result['predicted_ans'])\n",
        "\n",
        "\n"
      ]
    },
    {
      "cell_type": "code",
      "execution_count": 58,
      "metadata": {
        "colab": {
          "base_uri": "https://localhost:8080/",
          "height": 519
        },
        "id": "kX8cnkAVs2q7",
        "outputId": "bf31ec47-62f6-421d-8dd4-b4b83ab76745"
      },
      "outputs": [
        {
          "name": "stdout",
          "output_type": "stream",
          "text": [
            "     preg  plas  pres  skin  test  mass  pedi  age  class\n",
            "0       6   148    72    35     0  33.6  0.63   50      1\n",
            "1       1    85    66    29     0  26.6  0.35   31      0\n",
            "2       8   183    64     0     0  23.3  0.67   32      1\n",
            "3       1    89    66    23    94  28.1  0.17   21      0\n",
            "4       0   137    40    35   168  43.1  2.29   33      1\n",
            "..    ...   ...   ...   ...   ...   ...   ...  ...    ...\n",
            "763    10   101    76    48   180  32.9  0.17   63      0\n",
            "764     2   122    70    27     0  36.8  0.34   27      0\n",
            "765     5   121    72    23   112  26.2  0.24   30      0\n",
            "766     1   126    60     0     0  30.1  0.35   47      1\n",
            "767     1    93    70    31     0  30.4  0.32   23      0\n",
            "\n",
            "[768 rows x 9 columns]\n"
          ]
        },
        {
          "data": {
            "image/png": "[encoded data removed]",
            "text/plain": [
              "<Figure size 432x288 with 9 Axes>"
            ]
          },
          "metadata": {
            "needs_background": "light"
          },
          "output_type": "display_data"
        }
      ],
      "source": [
        "from matplotlib import pyplot as plt\n",
        "import pandas\n",
        "\n",
        "filename=\"indians-diabetes.data.csv\"\n",
        "\n",
        "hnames=['preg','plas','pres','skin','test','mass','pedi','age','class']\n",
        "\n",
        "dataframe= pandas.read_csv(filename,names=hnames)\n",
        "\n",
        "df=pandas.read_csv(filename, names=hnames)\n",
        "\n",
        "print(df)\n",
        "df.hist()\n",
        "plt.show()\n",
        "\n",
        "\n"
      ]
    },
    {
      "cell_type": "code",
      "execution_count": 59,
      "metadata": {
        "colab": {
          "base_uri": "https://localhost:8080/",
          "height": 265
        },
        "id": "eWleBdU_s57g",
        "outputId": "3594feac-ad08-4197-b433-ec0cbbee8825"
      },
      "outputs": [
        {
          "data": {
            "image/png": "[encoded data removed]",
            "text/plain": [
              "<Figure size 432x288 with 9 Axes>"
            ]
          },
          "metadata": {
            "needs_background": "light"
          },
          "output_type": "display_data"
        }
      ],
      "source": [
        "from matplotlib import pyplot as plt\n",
        "import pandas\n",
        "\n",
        "filename=\"indians-diabetes.data.csv\"\n",
        "\n",
        "headingnames=['preg','plas','pres','skin','test','mass','pedi','age','class']\n",
        "\n",
        "dataframe= pandas.read_csv(filename,names=headingnames)\n",
        "\n",
        "dataframe.plot(kind='density',subplots= True,layout=(3,3),sharex=False)\n",
        "plt.show()"
      ]
    },
    {
      "cell_type": "code",
      "execution_count": 60,
      "metadata": {
        "colab": {
          "base_uri": "https://localhost:8080/",
          "height": 267
        },
        "id": "a7gMmmWls9X5",
        "outputId": "39d79f0f-4a61-4617-c3c9-af39bb73ba19"
      },
      "outputs": [
        {
          "data": {
            "image/png": "[encoded data removed]",
            "text/plain": [
              "<Figure size 432x288 with 9 Axes>"
            ]
          },
          "metadata": {
            "needs_background": "light"
          },
          "output_type": "display_data"
        }
      ],
      "source": [
        "from matplotlib import pyplot as plt\n",
        "import pandas\n",
        "\n",
        "filename=\"indians-diabetes.data.csv\"\n",
        "\n",
        "headingnames=['preg','plas','pres','skin','test','mass','pedi','age','class']\n",
        "\n",
        "dataframe= pandas.read_csv(filename,names=headingnames)\n",
        "\n",
        "dataframe.plot(kind='box',subplots=True,layout=(3,3),sharex=False,sharey=False)\n",
        "plt.show()"
      ]
    },
    {
      "cell_type": "code",
      "execution_count": 65,
      "metadata": {
        "colab": {
          "base_uri": "https://localhost:8080/",
          "height": 441
        },
        "id": "9PgVCQ5Ts-kO",
        "outputId": "0e83edbd-a18c-453b-851c-f69917cd11c6"
      },
      "outputs": [
        {
          "name": "stdout",
          "output_type": "stream",
          "text": [
            "       preg  plas  pres  skin  test  mass  pedi   age  class\n",
            "preg   1.00  0.13  0.14 -0.08 -0.07  0.02 -0.03  0.54   0.22\n",
            "plas   0.13  1.00  0.15  0.06  0.33  0.22  0.14  0.26   0.47\n",
            "pres   0.14  0.15  1.00  0.21  0.09  0.28  0.04  0.24   0.07\n",
            "skin  -0.08  0.06  0.21  1.00  0.44  0.39  0.18 -0.11   0.07\n",
            "test  -0.07  0.33  0.09  0.44  1.00  0.20  0.19 -0.04   0.13\n",
            "mass   0.02  0.22  0.28  0.39  0.20  1.00  0.14  0.04   0.29\n",
            "pedi  -0.03  0.14  0.04  0.18  0.19  0.14  1.00  0.03   0.17\n",
            "age    0.54  0.26  0.24 -0.11 -0.04  0.04  0.03  1.00   0.24\n",
            "class  0.22  0.47  0.07  0.07  0.13  0.29  0.17  0.24   1.00\n"
          ]
        },
        {
          "data": {
            "image/png": "[encoded data removed]",
            "text/plain": [
              "<Figure size 432x288 with 2 Axes>"
            ]
          },
          "metadata": {
            "needs_background": "light"
          },
          "output_type": "display_data"
        }
      ],
      "source": [
        "import warnings\n",
        "warnings.filterwarnings(action=\"ignore\")\n",
        "\n",
        "from matplotlib import pyplot as plt\n",
        "import pandas as pd\n",
        "import numpy\n",
        "pd.set_option('display.width',1000)\n",
        "pd.set_option('display.max_column',9)\n",
        "\n",
        "hnames=['preg','plas','pres','skin','test','mass','pedi','age','class']\n",
        "\n",
        "dtaframe=pd.read_csv('indians-diabetes.data.csv',names=hnames)\n",
        "correlations=dtaframe.corr()\n",
        "print(correlations)\n",
        "#plot correlation matrix\n",
        "fig=plt.figure()\n",
        "#Follwing will add matrix and side bar in entire area\n",
        "subFig=fig.add_subplot(111)\n",
        "cax=subFig.matshow(correlations,vmin=-1,vmax=1)\n",
        "fig.colorbar(cax)\n",
        "#________________________\n",
        "ticks=numpy.arange(0,9)\n",
        "subFig.set_xticks(ticks)\n",
        "subFig.set_yticks(ticks)\n",
        "# subFig.set_xticklables(hnames)\n",
        "# subFig.set_yticklables(hnames)\n",
        "#---------------------------------\n",
        "plt.show()\n",
        "\n",
        "\n"
      ]
    },
    {
      "cell_type": "code",
      "execution_count": 66,
      "metadata": {
        "colab": {
          "base_uri": "https://localhost:8080/",
          "height": 284
        },
        "id": "RyHNO3mMtPR7",
        "outputId": "278a5e60-0464-47ec-90dd-efd652bac476"
      },
      "outputs": [
        {
          "data": {
            "image/png": "[encoded data removed]",
            "text/plain": [
              "<Figure size 432x288 with 81 Axes>"
            ]
          },
          "metadata": {
            "needs_background": "light"
          },
          "output_type": "display_data"
        }
      ],
      "source": [
        "from matplotlib import pyplot as plt\n",
        "from pandas import read_csv\n",
        "#import pandas\n",
        "from pandas.plotting import scatter_matrix\n",
        "\n",
        "import warnings\n",
        "warnings.filterwarnings(action=\"ignore\")\n",
        "\n",
        "hnames=['preg','plas','pras','skin','test','mass','pedi','age','class']\n",
        "dataframe=read_csv(\"indians-diabetes.data.csv\",names=hnames)\n",
        "\n",
        "scatter_matrix(dataframe)\n",
        "plt.show()"
      ]
    },
    {
      "cell_type": "code",
      "execution_count": 68,
      "metadata": {
        "colab": {
          "base_uri": "https://localhost:8080/"
        },
        "id": "X1ZmYv93tUi9",
        "outputId": "c8d5651e-bc63-4a1e-c59b-3a1c735d4ff1"
      },
      "outputs": [
        {
          "name": "stdout",
          "output_type": "stream",
          "text": [
            "[[2.41 3.97 3.36 2.41 1.   3.   1.94 2.93]\n",
            " [1.24 2.71 3.16 2.17 1.   2.59 1.47 1.67]\n",
            " [2.88 4.68 3.1  1.   1.   2.39 2.01 1.73]\n",
            " [1.24 2.79 3.16 1.93 1.44 2.68 1.15 1.  ]\n",
            " [1.   3.75 2.31 2.41 1.79 3.57 4.77 1.8 ]\n",
            " [2.18 3.33 3.43 1.   1.   2.53 1.21 1.6 ]\n",
            " [1.71 2.57 2.64 2.29 1.42 2.85 1.29 1.33]\n",
            " [3.35 3.31 1.   1.   1.   3.1  1.1  1.53]\n",
            " [1.47 4.96 3.3  2.82 3.57 2.82 1.14 3.13]\n",
            " [2.88 3.51 4.15 1.   1.   1.   1.26 3.2 ]\n",
            " [1.94 3.21 4.02 1.   1.   3.24 1.19 1.6 ]\n",
            " [3.35 4.38 3.43 1.   1.   3.27 1.78 1.87]\n",
            " [3.35 3.79 3.62 1.   1.   2.62 3.33 3.4 ]\n",
            " [1.24 4.8  2.97 1.93 5.   2.79 1.55 3.53]\n",
            " [2.18 4.34 3.36 1.77 1.83 2.54 1.87 3.  ]\n",
            " [2.65 3.01 1.   1.   1.   2.79 1.69 1.73]\n",
            " [1.   3.37 3.75 2.9  2.09 3.73 1.81 1.67]\n",
            " [2.65 3.15 3.43 1.   1.   2.76 1.3  1.67]\n",
            " [1.24 3.07 1.98 2.54 1.39 3.58 1.18 1.8 ]\n",
            " [1.24 3.31 3.3  2.21 1.45 3.06 1.77 1.73]\n",
            " [1.71 3.53 3.89 2.66 2.11 3.34 2.07 1.4 ]\n",
            " [2.88 2.99 3.75 1.   1.   3.11 1.53 2.93]\n",
            " [2.65 4.94 3.95 1.   1.   3.37 1.64 2.33]\n",
            " [3.12 3.39 3.62 2.41 1.   2.73 1.32 1.53]\n",
            " [3.59 3.87 4.08 2.33 1.69 3.18 1.3  3.  ]\n",
            " [3.35 3.51 3.3  2.05 1.54 2.85 1.22 2.33]\n",
            " [2.65 3.95 3.49 1.   1.   3.35 1.31 2.47]\n",
            " [1.24 2.95 3.16 1.61 1.66 2.38 1.7  1.07]\n",
            " [4.06 3.91 3.69 1.77 1.52 2.32 1.29 3.4 ]\n",
            " [2.18 3.35 4.02 1.   1.   3.03 1.44 2.13]]\n"
          ]
        }
      ],
      "source": [
        "import pandas as pd\n",
        "from numpy import set_printoptions\n",
        "from sklearn.preprocessing import MinMaxScaler\n",
        "\n",
        "filename=\"indians-diabetes.data.csv\"\n",
        "\n",
        "hnames=['preg','plas','pres','skin','test','mass','pedi','age','class']\n",
        "\n",
        "dataframe= pd.read_csv(filename,names=hnames)\n",
        "\n",
        "array=dataframe.values\n",
        "#separate array into input and output components\n",
        "X=array[0:,0:8]\n",
        "Y=array[0:,8]\n",
        "scaler=MinMaxScaler(feature_range=(1,5))\n",
        "\n",
        "#first method\n",
        "rescaledX=scaler.fit_transform(X)\n",
        "#summarize transformed dataframe\n",
        "set_printoptions(precision=2)\n",
        "\n",
        "print(rescaledX[:30,:])"
      ]
    },
    {
      "cell_type": "code",
      "execution_count": 69,
      "metadata": {
        "colab": {
          "base_uri": "https://localhost:8080/"
        },
        "id": "sNOoR9IgtVyv",
        "outputId": "f0f7e209-800f-4f4b-e6e0-a582c8b66fe8"
      },
      "outputs": [
        {
          "name": "stdout",
          "output_type": "stream",
          "text": [
            "[[ 0.64  0.85  0.15  0.91 -0.69  0.2   0.47  1.43]\n",
            " [-0.84 -1.12 -0.16  0.53 -0.69 -0.68 -0.37 -0.19]\n",
            " [ 1.23  1.94 -0.26 -1.29 -0.69 -1.1   0.6  -0.11]\n",
            " [-0.84 -1.   -0.16  0.15  0.12 -0.49 -0.92 -1.04]\n",
            " [-1.14  0.5  -1.5   0.91  0.77  1.41  5.48 -0.02]\n",
            " [ 0.34 -0.15  0.25 -1.29 -0.69 -0.81 -0.82 -0.28]\n",
            " [-0.25 -1.34 -0.99  0.72  0.07 -0.13 -0.68 -0.62]\n",
            " [ 1.83 -0.18 -3.57 -1.29 -0.69  0.42 -1.02 -0.36]\n",
            " [-0.55  2.38  0.05  1.53  4.02 -0.19 -0.95  1.68]\n",
            " [ 1.23  0.13  1.39 -1.29 -0.69 -4.06 -0.72  1.77]\n",
            " [ 0.05 -0.34  1.18 -1.29 -0.69  0.71 -0.85 -0.28]\n",
            " [ 1.83  1.47  0.25 -1.29 -0.69  0.76  0.2   0.06]\n",
            " [ 1.83  0.57  0.56 -1.29 -0.69 -0.62  2.93  2.02]\n",
            " [-0.84  2.13 -0.47  0.15  6.65 -0.24 -0.22  2.19]\n",
            " [ 0.34  1.41  0.15 -0.1   0.83 -0.79  0.35  1.51]\n",
            " [ 0.94 -0.65 -3.57 -1.29 -0.69 -0.25  0.04 -0.11]\n",
            " [-1.14 -0.09  0.77  1.66  1.3   1.75  0.24 -0.19]\n",
            " [ 0.94 -0.43  0.25 -1.29 -0.69 -0.3  -0.66 -0.19]\n",
            " [-0.84 -0.56 -2.02  1.1   0.03  1.44 -0.87 -0.02]\n",
            " [-0.84 -0.18  0.05  0.59  0.14  0.33  0.17 -0.11]\n",
            " [-0.25  0.16  0.98  1.28  1.35  0.93  0.7  -0.53]\n",
            " [ 1.23 -0.69  0.77 -1.29 -0.69  0.43 -0.25  1.43]\n",
            " [ 0.94  2.35  1.08 -1.29 -0.69  0.99 -0.06  0.66]\n",
            " [ 1.53 -0.06  0.56  0.91 -0.69 -0.38 -0.63 -0.36]\n",
            " [ 2.12  0.69  1.29  0.78  0.57  0.58 -0.66  1.51]\n",
            " [ 1.83  0.13  0.05  0.34  0.31 -0.11 -0.81  0.66]\n",
            " [ 0.94  0.82  0.36 -1.29 -0.69  0.94 -0.65  0.83]\n",
            " [-0.84 -0.75 -0.16 -0.35  0.52 -1.12  0.05 -0.96]\n",
            " [ 2.72  0.75  0.67 -0.1   0.26 -1.24 -0.69  2.02]\n",
            " [ 0.34 -0.12  1.18 -1.29 -0.69  0.27 -0.41  0.4 ]]\n",
            "\n",
            "\n",
            "Mean of First coloum\n",
            "-6.47630097698008e-17\n"
          ]
        }
      ],
      "source": [
        "#standardiz the data#\n",
        "#convert into guassian distribution\n",
        "from numpy import set_printoptions\n",
        "from sklearn.preprocessing import StandardScaler\n",
        "from pandas import read_csv\n",
        "import pandas as pd\n",
        "import numpy as np\n",
        "filename=\"indians-diabetes.data.csv\"\n",
        "\n",
        "hnames=['preg','plas','pres','skin','test','mass','pedi','age','class']\n",
        "\n",
        "dataframe= pd.read_csv(filename,names=hnames)\n",
        "\n",
        "array=dataframe.values\n",
        "\n",
        "X=array[:,0:8]\n",
        "Y=array[:,8]\n",
        "\n",
        "scalar=StandardScaler()\n",
        "rescaledX=scalar.fit_transform(X)\n",
        "\n",
        "print(rescaledX[:30,:])\n",
        "\n",
        "\n",
        "print(\"\\n\\nMean of First coloum\")\n",
        "print(np.mean(rescaledX[:,0]))"
      ]
    },
    {
      "cell_type": "code",
      "execution_count": 70,
      "metadata": {
        "colab": {
          "base_uri": "https://localhost:8080/"
        },
        "id": "rLRtgi4LtZrE",
        "outputId": "c27f34af-e64f-40d5-e3ba-5f1fb4030765"
      },
      "outputs": [
        {
          "name": "stdout",
          "output_type": "stream",
          "text": [
            "[[0. 1. 1. 1. 0. 1. 0. 1.]\n",
            " [0. 1. 1. 1. 0. 1. 0. 1.]\n",
            " [1. 1. 1. 0. 0. 1. 0. 1.]\n",
            " [0. 1. 1. 1. 1. 1. 0. 1.]\n",
            " [0. 1. 1. 1. 1. 1. 0. 1.]\n",
            " [0. 1. 1. 0. 0. 1. 0. 1.]\n",
            " [0. 1. 1. 1. 1. 1. 0. 1.]\n",
            " [1. 1. 0. 0. 0. 1. 0. 1.]\n",
            " [0. 1. 1. 1. 1. 1. 0. 1.]\n",
            " [1. 1. 1. 0. 0. 0. 0. 1.]\n",
            " [0. 1. 1. 0. 0. 1. 0. 1.]\n",
            " [1. 1. 1. 0. 0. 1. 0. 1.]\n",
            " [1. 1. 1. 0. 0. 1. 0. 1.]\n",
            " [0. 1. 1. 1. 1. 1. 0. 1.]\n",
            " [0. 1. 1. 1. 1. 1. 0. 1.]\n",
            " [1. 1. 0. 0. 0. 1. 0. 1.]\n",
            " [0. 1. 1. 1. 1. 1. 0. 1.]\n",
            " [1. 1. 1. 0. 0. 1. 0. 1.]\n",
            " [0. 1. 1. 1. 1. 1. 0. 1.]\n",
            " [0. 1. 1. 1. 1. 1. 0. 1.]\n",
            " [0. 1. 1. 1. 1. 1. 0. 1.]\n",
            " [1. 1. 1. 0. 0. 1. 0. 1.]\n",
            " [1. 1. 1. 0. 0. 1. 0. 1.]\n",
            " [1. 1. 1. 1. 0. 1. 0. 1.]\n",
            " [1. 1. 1. 1. 1. 1. 0. 1.]\n",
            " [1. 1. 1. 1. 1. 1. 0. 1.]\n",
            " [1. 1. 1. 0. 0. 1. 0. 1.]\n",
            " [0. 1. 1. 1. 1. 1. 0. 1.]\n",
            " [1. 1. 1. 1. 1. 1. 0. 1.]\n",
            " [0. 1. 1. 0. 0. 1. 0. 1.]]\n"
          ]
        }
      ],
      "source": [
        "#binarised\n",
        "from sklearn.preprocessing import Binarizer\n",
        "from pandas import read_csv\n",
        "import numpy as np\n",
        "import pandas as pd\n",
        "\n",
        "filename=\"indians-diabetes.data.csv\"\n",
        "hnames=['preg','plas','pres','skin','test','mass','pedi','age','class']\n",
        "\n",
        "dataframe= pd.read_csv(filename,names=hnames)\n",
        "\n",
        "array=dataframe.values\n",
        "#separate into input and output components\n",
        "X=array[:,0:8]\n",
        "Y=array[:,8]\n",
        "\n",
        "binarizer=Binarizer(threshold=6)\n",
        "\n",
        "binaryX=binarizer.fit_transform(X)\n",
        "#summarize transform data\n",
        "print(binaryX[0:30,:])"
      ]
    },
    {
      "cell_type": "code",
      "execution_count": 78,
      "metadata": {
        "colab": {
          "base_uri": "https://localhost:8080/"
        },
        "id": "7WTKb9-ltfCT",
        "outputId": "91adfec4-0640-45c5-e6b4-b4bf3961b1c3"
      },
      "outputs": [
        {
          "name": "stdout",
          "output_type": "stream",
          "text": [
            "[[3.36e-02 8.28e-01 4.03e-01 1.96e-01 0.00e+00 1.88e-01 3.51e-03 2.80e-01]\n",
            " [8.42e-03 7.16e-01 5.56e-01 2.44e-01 0.00e+00 2.24e-01 2.96e-03 2.61e-01]\n",
            " [4.04e-02 9.24e-01 3.23e-01 0.00e+00 0.00e+00 1.18e-01 3.39e-03 1.62e-01]\n",
            " [6.61e-03 5.88e-01 4.36e-01 1.52e-01 6.22e-01 1.86e-01 1.10e-03 1.39e-01]\n",
            " [0.00e+00 5.96e-01 1.74e-01 1.52e-01 7.31e-01 1.88e-01 9.96e-03 1.44e-01]\n",
            " [3.49e-02 8.10e-01 5.17e-01 0.00e+00 0.00e+00 1.79e-01 1.40e-03 2.09e-01]\n",
            " [2.18e-02 5.66e-01 3.63e-01 2.32e-01 6.38e-01 2.25e-01 1.80e-03 1.89e-01]\n",
            " [8.06e-02 9.26e-01 0.00e+00 0.00e+00 0.00e+00 2.84e-01 1.08e-03 2.34e-01]\n",
            " [3.41e-03 3.36e-01 1.19e-01 7.67e-02 9.25e-01 5.20e-02 2.69e-04 9.03e-02]\n",
            " [4.80e-02 7.49e-01 5.76e-01 0.00e+00 0.00e+00 0.00e+00 1.39e-03 3.24e-01]\n",
            " [2.64e-02 7.27e-01 6.08e-01 0.00e+00 0.00e+00 2.49e-01 1.26e-03 1.98e-01]\n",
            " [5.24e-02 8.81e-01 3.88e-01 0.00e+00 0.00e+00 1.99e-01 2.81e-03 1.78e-01]\n",
            " [5.79e-02 8.05e-01 4.63e-01 0.00e+00 0.00e+00 1.57e-01 8.35e-03 3.30e-01]\n",
            " [1.15e-03 2.17e-01 6.88e-02 2.64e-02 9.70e-01 3.45e-02 4.57e-04 6.77e-02]\n",
            " [1.93e-02 6.41e-01 2.78e-01 7.34e-02 6.76e-01 9.97e-02 2.27e-03 1.97e-01]\n",
            " [6.40e-02 9.14e-01 0.00e+00 0.00e+00 0.00e+00 2.74e-01 4.42e-03 2.92e-01]\n",
            " [0.00e+00 4.19e-01 2.99e-01 1.67e-01 8.18e-01 1.63e-01 1.96e-03 1.10e-01]\n",
            " [5.10e-02 7.80e-01 5.40e-01 0.00e+00 0.00e+00 2.16e-01 1.85e-03 2.26e-01]\n",
            " [6.62e-03 6.82e-01 1.99e-01 2.52e-01 5.50e-01 2.87e-01 1.21e-03 2.19e-01]\n",
            " [5.73e-03 6.59e-01 4.01e-01 1.72e-01 5.50e-01 1.98e-01 3.03e-03 1.83e-01]\n",
            " [1.04e-02 4.38e-01 3.06e-01 1.42e-01 8.17e-01 1.37e-01 2.45e-03 9.38e-02]\n",
            " [5.56e-02 6.89e-01 5.84e-01 0.00e+00 0.00e+00 2.46e-01 2.70e-03 3.48e-01]\n",
            " [3.14e-02 8.78e-01 4.03e-01 0.00e+00 0.00e+00 1.78e-01 2.02e-03 1.84e-01]\n",
            " [5.86e-02 7.75e-01 5.21e-01 2.28e-01 0.00e+00 1.89e-01 1.71e-03 1.89e-01]\n",
            " [4.66e-02 6.06e-01 3.98e-01 1.40e-01 6.18e-01 1.55e-01 1.08e-03 2.16e-01]\n",
            " [5.19e-02 6.48e-01 3.63e-01 1.35e-01 5.96e-01 1.61e-01 1.06e-03 2.13e-01]\n",
            " [3.99e-02 8.37e-01 4.33e-01 0.00e+00 0.00e+00 2.24e-01 1.46e-03 2.45e-01]\n",
            " [5.37e-03 5.21e-01 3.55e-01 8.06e-02 7.52e-01 1.25e-01 2.62e-03 1.18e-01]\n",
            " [6.19e-02 6.90e-01 3.90e-01 9.05e-02 5.24e-01 1.06e-01 1.17e-03 2.71e-01]\n",
            " [3.18e-02 7.43e-01 5.84e-01 0.00e+00 0.00e+00 2.17e-01 2.14e-03 2.41e-01]]\n"
          ]
        }
      ],
      "source": [
        "#normalize the data\n",
        "from sklearn.preprocessing import Normalizer\n",
        "from pandas import read_csv\n",
        "from numpy import set_printoptions\n",
        "import pandas as pd\n",
        "import numpy as np\n",
        "filename=\"indians-diabetes.data.csv\"\n",
        "\n",
        "hnames=['preg','plas','pres','skin','test','mass','pedi','age','class']\n",
        "\n",
        "dataframe= pd.read_csv(filename,names=hnames)\n",
        "\n",
        "array=dataframe.values\n",
        "\n",
        "X=array[:,0:8]\n",
        "Y=array[:,8]\n",
        "\n",
        "scalar=Normalizer()\n",
        "rescaledX=scalar.fit_transform(X)\n",
        "\n",
        "print(rescaledX[:30,:])\n",
        "set_printoptions(precision=2)\n",
        "# print(normalisedX[0:30,:])"
      ]
    },
    {
      "cell_type": "code",
      "execution_count": 79,
      "metadata": {
        "colab": {
          "base_uri": "https://localhost:8080/"
        },
        "id": "KCPvrU3atgWL",
        "outputId": "cbb121bd-c4fb-4a05-fda9-6922ddd48568"
      },
      "outputs": [
        {
          "name": "stdout",
          "output_type": "stream",
          "text": [
            "Accuracy =78.740157%\n"
          ]
        }
      ],
      "source": [
        "import pandas as pd\n",
        "import warnings\n",
        "warnings.filterwarnings(action=\"ignore\")\n",
        "from sklearn.model_selection import train_test_split\n",
        "from sklearn.linear_model import LogisticRegression\n",
        "filename=\"indians-diabetes.data.csv\"\n",
        "hnames=['preg','plas','pres','skin','test','mass','pedi','age','class']\n",
        "dataframe= pd.read_csv(filename,names=hnames)\n",
        "array=dataframe.values\n",
        "#separate into input and output components\n",
        "X=array[:,0:8]\n",
        "Y=array[:,8]\n",
        "test_data_size=0.33\n",
        "seed=7\n",
        "X_train,X_test,Y_train,Y_test= train_test_split(X,Y,test_size=test_data_size,random_state=seed)\n",
        "\n",
        "model=LogisticRegression()\n",
        "model.fit(X_train,Y_train)\n",
        "result=model.score(X_test,Y_test)\n",
        "print(\"Accuracy =%f%%\"%(result*100))\n"
      ]
    },
    {
      "cell_type": "code",
      "execution_count": 80,
      "metadata": {
        "colab": {
          "base_uri": "https://localhost:8080/"
        },
        "id": "xrlC0OqItkCw",
        "outputId": "dcff89dd-124e-4242-8606-552eedea8ee2"
      },
      "outputs": [
        {
          "name": "stdout",
          "output_type": "stream",
          "text": [
            "result: [0.7  0.83 0.77 0.69 0.79 0.74 0.86 0.82 0.74 0.8 ]\n",
            "accuracy:77.343%\n",
            "Std.Deviation=5.337\n"
          ]
        }
      ],
      "source": [
        "import pandas as pd\n",
        "import warnings\n",
        "warnings.filterwarnings(action='ignore')\n",
        "from sklearn.model_selection import KFold\n",
        "from sklearn.model_selection import cross_val_score\n",
        "from sklearn.linear_model import LogisticRegression\n",
        "filename=\"indians-diabetes.data.csv\"\n",
        "hnames=['preg','plas','pres','skin','test',\"mass\",'b','class','s']\n",
        "dataframe=pd.read_csv(filename,names=hnames)\n",
        "array= dataframe.values\n",
        "X=array[:, 0:8]\n",
        "Y=array[:,8]\n",
        "model=LogisticRegression()\n",
        "\n",
        "num_folds=10\n",
        "kfold=KFold(n_splits=num_folds)\n",
        "results=cross_val_score(model,X,Y,cv=kfold)\n",
        "\n",
        "print(\"result:\",results)\n",
        "print(\"accuracy:%.3f%%\"%(results.mean()*100.0))\n",
        "print(\"Std.Deviation=%.3f\"%(results.std()*100))"
      ]
    },
    {
      "cell_type": "code",
      "execution_count": 81,
      "metadata": {
        "colab": {
          "base_uri": "https://localhost:8080/"
        },
        "id": "YF8fOJrOtq8c",
        "outputId": "10cc4db3-e3c9-47d6-9f82-d2d98b3ce48f"
      },
      "outputs": [
        {
          "name": "stdout",
          "output_type": "stream",
          "text": [
            "results: [1. 1. 1. 1. 1. 1. 0. 0. 1. 0. 1. 1. 0. 1. 1. 0. 0. 0. 1. 0. 1. 1. 1. 0.\n",
            " 1. 0. 1. 1. 0. 1. 1. 1. 1. 1. 1. 1. 0. 0. 0. 1. 0. 0. 1. 1. 0. 1. 1. 1.\n",
            " 0. 1. 1. 1. 1. 1. 0. 1. 1. 1. 0. 1. 1. 0. 1. 1. 0. 1. 0. 0. 1. 1. 0. 1.\n",
            " 1. 1. 1. 1. 1. 1. 1. 1. 1. 1. 1. 1. 1. 1. 1. 1. 1. 1. 1. 1. 1. 0. 1. 1.\n",
            " 1. 1. 1. 0. 1. 1. 1. 1. 1. 1. 1. 1. 1. 0. 1. 1. 1. 1. 1. 1. 0. 1. 1. 1.\n",
            " 1. 1. 1. 1. 0. 0. 1. 1. 0. 0. 1. 1. 1. 1. 1. 1. 1. 1. 1. 1. 1. 1. 1. 0.\n",
            " 1. 1. 1. 1. 0. 1. 1. 1. 1. 0. 1. 1. 1. 1. 1. 1. 1. 1. 1. 1. 0. 0. 1. 1.\n",
            " 1. 1. 0. 1. 1. 1. 1. 1. 1. 1. 0. 1. 1. 1. 1. 1. 1. 1. 1. 0. 0. 0. 1. 1.\n",
            " 1. 1. 1. 1. 1. 0. 0. 0. 1. 1. 1. 1. 1. 1. 1. 1. 1. 1. 1. 0. 0. 0. 0. 1.\n",
            " 0. 1. 0. 0. 1. 1. 1. 0. 1. 1. 1. 1. 0. 1. 1. 1. 1. 1. 1. 1. 1. 1. 1. 1.\n",
            " 1. 1. 0. 0. 1. 1. 1. 0. 1. 1. 1. 1. 1. 1. 0. 0. 1. 1. 0. 1. 0. 1. 1. 0.\n",
            " 0. 1. 1. 0. 1. 1. 1. 1. 1. 1. 1. 1. 0. 1. 1. 1. 0. 0. 1. 1. 0. 1. 0. 0.\n",
            " 1. 1. 1. 0. 1. 0. 1. 0. 0. 1. 0. 1. 1. 0. 1. 1. 1. 1. 1. 1. 0. 0. 1. 1.\n",
            " 0. 1. 1. 1. 1. 1. 1. 1. 1. 0. 0. 1. 1. 1. 0. 0. 0. 1. 0. 1. 1. 1. 1. 0.\n",
            " 0. 0. 1. 1. 1. 1. 1. 1. 1. 0. 1. 1. 1. 0. 1. 1. 1. 1. 1. 1. 0. 1. 1. 1.\n",
            " 1. 0. 1. 1. 1. 1. 0. 1. 1. 0. 1. 1. 1. 1. 1. 1. 1. 1. 1. 1. 1. 1. 1. 1.\n",
            " 1. 1. 0. 0. 1. 1. 1. 1. 1. 1. 1. 1. 1. 0. 1. 1. 0. 1. 0. 1. 1. 0. 0. 1.\n",
            " 1. 1. 1. 1. 0. 1. 0. 0. 1. 1. 1. 0. 1. 1. 1. 1. 1. 1. 1. 1. 1. 0. 1. 1.\n",
            " 1. 1. 1. 1. 0. 1. 1. 1. 1. 1. 1. 0. 0. 1. 1. 1. 0. 1. 1. 0. 1. 1. 1. 1.\n",
            " 1. 1. 1. 1. 1. 1. 1. 1. 1. 1. 1. 1. 0. 0. 0. 1. 1. 1. 1. 1. 0. 1. 1. 1.\n",
            " 1. 1. 1. 1. 1. 0. 1. 0. 1. 0. 1. 1. 1. 1. 1. 0. 1. 1. 1. 0. 1. 1. 0. 1.\n",
            " 1. 1. 1. 1. 1. 1. 0. 1. 1. 1. 1. 1. 1. 0. 1. 1. 1. 1. 1. 1. 1. 1. 1. 1.\n",
            " 1. 1. 1. 1. 1. 1. 1. 1. 1. 1. 1. 0. 0. 0. 0. 1. 1. 1. 1. 1. 0. 0. 1. 1.\n",
            " 1. 1. 1. 1. 1. 1. 0. 1. 0. 1. 1. 1. 1. 1. 1. 1. 1. 0. 1. 1. 1. 1. 1. 1.\n",
            " 1. 0. 1. 1. 1. 1. 1. 1. 0. 1. 1. 1. 1. 1. 1. 1. 0. 1. 1. 1. 1. 1. 1. 1.\n",
            " 1. 1. 1. 1. 1. 1. 1. 1. 1. 1. 1. 1. 1. 1. 1. 1. 1. 1. 1. 0. 1. 1. 0. 1.\n",
            " 1. 1. 1. 1. 1. 1. 0. 1. 1. 1. 1. 0. 1. 1. 0. 1. 1. 1. 0. 1. 1. 1. 0. 1.\n",
            " 0. 1. 1. 1. 1. 1. 1. 1. 1. 0. 0. 0. 0. 1. 1. 1. 0. 1. 1. 0. 1. 0. 0. 1.\n",
            " 1. 0. 1. 1. 1. 1. 0. 1. 1. 1. 1. 0. 1. 1. 1. 1. 1. 1. 1. 1. 1. 1. 1. 0.\n",
            " 1. 1. 1. 0. 1. 0. 1. 0. 1. 1. 0. 1. 1. 0. 1. 1. 1. 1. 1. 1. 1. 1. 1. 0.\n",
            " 1. 1. 0. 1. 1. 1. 1. 1. 1. 1. 0. 0. 1. 1. 1. 1. 1. 1. 1. 0. 1. 1. 1. 1.\n",
            " 0. 1. 1. 1. 1. 1. 1. 1. 1. 1. 1. 0. 1. 0. 1. 1. 1. 1. 1. 1. 1. 1. 0. 1.]\n",
            "results.size: 768\n",
            "sum of positive results:598\n",
            "accuracy=78%\n"
          ]
        }
      ],
      "source": [
        "#logistic LogisticRegression\n",
        "#LeaveOneOut  technique\n",
        "import pandas as pd\n",
        "import warnings\n",
        "warnings.filterwarnings(action=\"ignore\")\n",
        "from sklearn.model_selection import LeaveOneOut\n",
        "from sklearn.model_selection import cross_val_score\n",
        "from sklearn.linear_model import LogisticRegression\n",
        "filename=\"indians-diabetes.data.csv\"\n",
        "names=['preg','plas','pres','skin','test','mass','pedi','age','class']\n",
        "dataframe= pd.read_csv(filename,names=names)\n",
        "array=dataframe.values\n",
        "#separate into input and output components\n",
        "X=array[:,0:8]\n",
        "Y=array[:,8]\n",
        "loocv=LeaveOneOut()\n",
        "model=LogisticRegression()\n",
        "results=cross_val_score(model,X,Y,cv=loocv)\n",
        "\n",
        "print(\"results:\",results)\n",
        "print(\"results.size:\",results.size)\n",
        "\n",
        "print(\"sum of positive results:%i\"%(results.sum()))\n",
        "\n",
        "print(\"accuracy=%2.f%%\"%(results.sum()*100/results.size))\n"
      ]
    },
    {
      "cell_type": "code",
      "execution_count": 82,
      "metadata": {
        "colab": {
          "base_uri": "https://localhost:8080/",
          "height": 425
        },
        "id": "eN90DxIAtucs",
        "outputId": "d3adca60-29ee-47c0-9670-3b659c5cade7"
      },
      "outputs": [
        {
          "ename": "AttributeError",
          "evalue": "ignored",
          "output_type": "error",
          "traceback": [
            "\u001b[0;31m---------------------------------------------------------------------------\u001b[0m",
            "\u001b[0;31mEmpty\u001b[0m                                     Traceback (most recent call last)",
            "\u001b[0;32m/usr/local/lib/python3.7/dist-packages/joblib/parallel.py\u001b[0m in \u001b[0;36mdispatch_one_batch\u001b[0;34m(self, iterator)\u001b[0m\n\u001b[1;32m    821\u001b[0m             \u001b[0;32mtry\u001b[0m\u001b[0;34m:\u001b[0m\u001b[0;34m\u001b[0m\u001b[0;34m\u001b[0m\u001b[0m\n\u001b[0;32m--> 822\u001b[0;31m                 \u001b[0mtasks\u001b[0m \u001b[0;34m=\u001b[0m \u001b[0mself\u001b[0m\u001b[0;34m.\u001b[0m\u001b[0m_ready_batches\u001b[0m\u001b[0;34m.\u001b[0m\u001b[0mget\u001b[0m\u001b[0;34m(\u001b[0m\u001b[0mblock\u001b[0m\u001b[0;34m=\u001b[0m\u001b[0;32mFalse\u001b[0m\u001b[0;34m)\u001b[0m\u001b[0;34m\u001b[0m\u001b[0;34m\u001b[0m\u001b[0m\n\u001b[0m\u001b[1;32m    823\u001b[0m             \u001b[0;32mexcept\u001b[0m \u001b[0mqueue\u001b[0m\u001b[0;34m.\u001b[0m\u001b[0mEmpty\u001b[0m\u001b[0;34m:\u001b[0m\u001b[0;34m\u001b[0m\u001b[0;34m\u001b[0m\u001b[0m\n",
            "\u001b[0;32m/usr/lib/python3.7/queue.py\u001b[0m in \u001b[0;36mget\u001b[0;34m(self, block, timeout)\u001b[0m\n\u001b[1;32m    166\u001b[0m                 \u001b[0;32mif\u001b[0m \u001b[0;32mnot\u001b[0m \u001b[0mself\u001b[0m\u001b[0;34m.\u001b[0m\u001b[0m_qsize\u001b[0m\u001b[0;34m(\u001b[0m\u001b[0;34m)\u001b[0m\u001b[0;34m:\u001b[0m\u001b[0;34m\u001b[0m\u001b[0;34m\u001b[0m\u001b[0m\n\u001b[0;32m--> 167\u001b[0;31m                     \u001b[0;32mraise\u001b[0m \u001b[0mEmpty\u001b[0m\u001b[0;34m\u001b[0m\u001b[0;34m\u001b[0m\u001b[0m\n\u001b[0m\u001b[1;32m    168\u001b[0m             \u001b[0;32melif\u001b[0m \u001b[0mtimeout\u001b[0m \u001b[0;32mis\u001b[0m \u001b[0;32mNone\u001b[0m\u001b[0;34m:\u001b[0m\u001b[0;34m\u001b[0m\u001b[0;34m\u001b[0m\u001b[0m\n",
            "\u001b[0;31mEmpty\u001b[0m: ",
            "\nDuring handling of the above exception, another exception occurred:\n",
            "\u001b[0;31mAttributeError\u001b[0m                            Traceback (most recent call last)",
            "\u001b[0;32m<ipython-input-82-8d9cbe7eaf85>\u001b[0m in \u001b[0;36m<module>\u001b[0;34m()\u001b[0m\n\u001b[1;32m     19\u001b[0m \u001b[0;34m\u001b[0m\u001b[0m\n\u001b[1;32m     20\u001b[0m \u001b[0mmodel\u001b[0m\u001b[0;34m=\u001b[0m\u001b[0mLogisticRegression\u001b[0m\u001b[0;34m(\u001b[0m\u001b[0;34m)\u001b[0m\u001b[0;34m\u001b[0m\u001b[0;34m\u001b[0m\u001b[0m\n\u001b[0;32m---> 21\u001b[0;31m \u001b[0mresults\u001b[0m\u001b[0;34m=\u001b[0m\u001b[0mcross_val_score\u001b[0m\u001b[0;34m(\u001b[0m\u001b[0mmodel\u001b[0m\u001b[0;34m,\u001b[0m\u001b[0mX\u001b[0m\u001b[0;34m,\u001b[0m\u001b[0mY\u001b[0m\u001b[0;34m,\u001b[0m\u001b[0mcv\u001b[0m\u001b[0;34m=\u001b[0m\u001b[0mShuffleSplit\u001b[0m\u001b[0;34m)\u001b[0m\u001b[0;34m\u001b[0m\u001b[0;34m\u001b[0m\u001b[0m\n\u001b[0m\u001b[1;32m     22\u001b[0m \u001b[0;34m\u001b[0m\u001b[0m\n\u001b[1;32m     23\u001b[0m \u001b[0mprint\u001b[0m\u001b[0;34m(\u001b[0m\u001b[0;34m\"results:\"\u001b[0m\u001b[0;34m,\u001b[0m\u001b[0mresults\u001b[0m\u001b[0;34m)\u001b[0m\u001b[0;34m\u001b[0m\u001b[0;34m\u001b[0m\u001b[0m\n",
            "\u001b[0;32m/usr/local/lib/python3.7/dist-packages/sklearn/model_selection/_validation.py\u001b[0m in \u001b[0;36mcross_val_score\u001b[0;34m(estimator, X, y, groups, scoring, cv, n_jobs, verbose, fit_params, pre_dispatch, error_score)\u001b[0m\n\u001b[1;32m    518\u001b[0m         \u001b[0mfit_params\u001b[0m\u001b[0;34m=\u001b[0m\u001b[0mfit_params\u001b[0m\u001b[0;34m,\u001b[0m\u001b[0;34m\u001b[0m\u001b[0;34m\u001b[0m\u001b[0m\n\u001b[1;32m    519\u001b[0m         \u001b[0mpre_dispatch\u001b[0m\u001b[0;34m=\u001b[0m\u001b[0mpre_dispatch\u001b[0m\u001b[0;34m,\u001b[0m\u001b[0;34m\u001b[0m\u001b[0;34m\u001b[0m\u001b[0m\n\u001b[0;32m--> 520\u001b[0;31m         \u001b[0merror_score\u001b[0m\u001b[0;34m=\u001b[0m\u001b[0merror_score\u001b[0m\u001b[0;34m,\u001b[0m\u001b[0;34m\u001b[0m\u001b[0;34m\u001b[0m\u001b[0m\n\u001b[0m\u001b[1;32m    521\u001b[0m     )\n\u001b[1;32m    522\u001b[0m     \u001b[0;32mreturn\u001b[0m \u001b[0mcv_results\u001b[0m\u001b[0;34m[\u001b[0m\u001b[0;34m\"test_score\"\u001b[0m\u001b[0;34m]\u001b[0m\u001b[0;34m\u001b[0m\u001b[0;34m\u001b[0m\u001b[0m\n",
            "\u001b[0;32m/usr/local/lib/python3.7/dist-packages/sklearn/model_selection/_validation.py\u001b[0m in \u001b[0;36mcross_validate\u001b[0;34m(estimator, X, y, groups, scoring, cv, n_jobs, verbose, fit_params, pre_dispatch, return_train_score, return_estimator, error_score)\u001b[0m\n\u001b[1;32m    281\u001b[0m             \u001b[0merror_score\u001b[0m\u001b[0;34m=\u001b[0m\u001b[0merror_score\u001b[0m\u001b[0;34m,\u001b[0m\u001b[0;34m\u001b[0m\u001b[0;34m\u001b[0m\u001b[0m\n\u001b[1;32m    282\u001b[0m         )\n\u001b[0;32m--> 283\u001b[0;31m         \u001b[0;32mfor\u001b[0m \u001b[0mtrain\u001b[0m\u001b[0;34m,\u001b[0m \u001b[0mtest\u001b[0m \u001b[0;32min\u001b[0m \u001b[0mcv\u001b[0m\u001b[0;34m.\u001b[0m\u001b[0msplit\u001b[0m\u001b[0;34m(\u001b[0m\u001b[0mX\u001b[0m\u001b[0;34m,\u001b[0m \u001b[0my\u001b[0m\u001b[0;34m,\u001b[0m \u001b[0mgroups\u001b[0m\u001b[0;34m)\u001b[0m\u001b[0;34m\u001b[0m\u001b[0;34m\u001b[0m\u001b[0m\n\u001b[0m\u001b[1;32m    284\u001b[0m     )\n\u001b[1;32m    285\u001b[0m \u001b[0;34m\u001b[0m\u001b[0m\n",
            "\u001b[0;32m/usr/local/lib/python3.7/dist-packages/joblib/parallel.py\u001b[0m in \u001b[0;36m__call__\u001b[0;34m(self, iterable)\u001b[0m\n\u001b[1;32m   1041\u001b[0m             \u001b[0;31m# remaining jobs.\u001b[0m\u001b[0;34m\u001b[0m\u001b[0;34m\u001b[0m\u001b[0;34m\u001b[0m\u001b[0m\n\u001b[1;32m   1042\u001b[0m             \u001b[0mself\u001b[0m\u001b[0;34m.\u001b[0m\u001b[0m_iterating\u001b[0m \u001b[0;34m=\u001b[0m \u001b[0;32mFalse\u001b[0m\u001b[0;34m\u001b[0m\u001b[0;34m\u001b[0m\u001b[0m\n\u001b[0;32m-> 1043\u001b[0;31m             \u001b[0;32mif\u001b[0m \u001b[0mself\u001b[0m\u001b[0;34m.\u001b[0m\u001b[0mdispatch_one_batch\u001b[0m\u001b[0;34m(\u001b[0m\u001b[0miterator\u001b[0m\u001b[0;34m)\u001b[0m\u001b[0;34m:\u001b[0m\u001b[0;34m\u001b[0m\u001b[0;34m\u001b[0m\u001b[0m\n\u001b[0m\u001b[1;32m   1044\u001b[0m                 \u001b[0mself\u001b[0m\u001b[0;34m.\u001b[0m\u001b[0m_iterating\u001b[0m \u001b[0;34m=\u001b[0m \u001b[0mself\u001b[0m\u001b[0;34m.\u001b[0m\u001b[0m_original_iterator\u001b[0m \u001b[0;32mis\u001b[0m \u001b[0;32mnot\u001b[0m \u001b[0;32mNone\u001b[0m\u001b[0;34m\u001b[0m\u001b[0;34m\u001b[0m\u001b[0m\n\u001b[1;32m   1045\u001b[0m \u001b[0;34m\u001b[0m\u001b[0m\n",
            "\u001b[0;32m/usr/local/lib/python3.7/dist-packages/joblib/parallel.py\u001b[0m in \u001b[0;36mdispatch_one_batch\u001b[0;34m(self, iterator)\u001b[0m\n\u001b[1;32m    831\u001b[0m                 \u001b[0mbig_batch_size\u001b[0m \u001b[0;34m=\u001b[0m \u001b[0mbatch_size\u001b[0m \u001b[0;34m*\u001b[0m \u001b[0mn_jobs\u001b[0m\u001b[0;34m\u001b[0m\u001b[0;34m\u001b[0m\u001b[0m\n\u001b[1;32m    832\u001b[0m \u001b[0;34m\u001b[0m\u001b[0m\n\u001b[0;32m--> 833\u001b[0;31m                 \u001b[0mislice\u001b[0m \u001b[0;34m=\u001b[0m \u001b[0mlist\u001b[0m\u001b[0;34m(\u001b[0m\u001b[0mitertools\u001b[0m\u001b[0;34m.\u001b[0m\u001b[0mislice\u001b[0m\u001b[0;34m(\u001b[0m\u001b[0miterator\u001b[0m\u001b[0;34m,\u001b[0m \u001b[0mbig_batch_size\u001b[0m\u001b[0;34m)\u001b[0m\u001b[0;34m)\u001b[0m\u001b[0;34m\u001b[0m\u001b[0;34m\u001b[0m\u001b[0m\n\u001b[0m\u001b[1;32m    834\u001b[0m                 \u001b[0;32mif\u001b[0m \u001b[0mlen\u001b[0m\u001b[0;34m(\u001b[0m\u001b[0mislice\u001b[0m\u001b[0;34m)\u001b[0m \u001b[0;34m==\u001b[0m \u001b[0;36m0\u001b[0m\u001b[0;34m:\u001b[0m\u001b[0;34m\u001b[0m\u001b[0;34m\u001b[0m\u001b[0m\n\u001b[1;32m    835\u001b[0m                     \u001b[0;32mreturn\u001b[0m \u001b[0;32mFalse\u001b[0m\u001b[0;34m\u001b[0m\u001b[0;34m\u001b[0m\u001b[0m\n",
            "\u001b[0;32m/usr/local/lib/python3.7/dist-packages/sklearn/model_selection/_validation.py\u001b[0m in \u001b[0;36m<genexpr>\u001b[0;34m(.0)\u001b[0m\n\u001b[1;32m    266\u001b[0m     \u001b[0mparallel\u001b[0m \u001b[0;34m=\u001b[0m \u001b[0mParallel\u001b[0m\u001b[0;34m(\u001b[0m\u001b[0mn_jobs\u001b[0m\u001b[0;34m=\u001b[0m\u001b[0mn_jobs\u001b[0m\u001b[0;34m,\u001b[0m \u001b[0mverbose\u001b[0m\u001b[0;34m=\u001b[0m\u001b[0mverbose\u001b[0m\u001b[0;34m,\u001b[0m \u001b[0mpre_dispatch\u001b[0m\u001b[0;34m=\u001b[0m\u001b[0mpre_dispatch\u001b[0m\u001b[0;34m)\u001b[0m\u001b[0;34m\u001b[0m\u001b[0;34m\u001b[0m\u001b[0m\n\u001b[1;32m    267\u001b[0m     results = parallel(\n\u001b[0;32m--> 268\u001b[0;31m         delayed(_fit_and_score)(\n\u001b[0m\u001b[1;32m    269\u001b[0m             \u001b[0mclone\u001b[0m\u001b[0;34m(\u001b[0m\u001b[0mestimator\u001b[0m\u001b[0;34m)\u001b[0m\u001b[0;34m,\u001b[0m\u001b[0;34m\u001b[0m\u001b[0;34m\u001b[0m\u001b[0m\n\u001b[1;32m    270\u001b[0m             \u001b[0mX\u001b[0m\u001b[0;34m,\u001b[0m\u001b[0;34m\u001b[0m\u001b[0;34m\u001b[0m\u001b[0m\n",
            "\u001b[0;32m/usr/local/lib/python3.7/dist-packages/sklearn/model_selection/_split.py\u001b[0m in \u001b[0;36msplit\u001b[0;34m(self, X, y, groups)\u001b[0m\n\u001b[1;32m   1598\u001b[0m         \"\"\"\n\u001b[1;32m   1599\u001b[0m         \u001b[0mX\u001b[0m\u001b[0;34m,\u001b[0m \u001b[0my\u001b[0m\u001b[0;34m,\u001b[0m \u001b[0mgroups\u001b[0m \u001b[0;34m=\u001b[0m \u001b[0mindexable\u001b[0m\u001b[0;34m(\u001b[0m\u001b[0mX\u001b[0m\u001b[0;34m,\u001b[0m \u001b[0my\u001b[0m\u001b[0;34m,\u001b[0m \u001b[0mgroups\u001b[0m\u001b[0;34m)\u001b[0m\u001b[0;34m\u001b[0m\u001b[0;34m\u001b[0m\u001b[0m\n\u001b[0;32m-> 1600\u001b[0;31m         \u001b[0;32mfor\u001b[0m \u001b[0mtrain\u001b[0m\u001b[0;34m,\u001b[0m \u001b[0mtest\u001b[0m \u001b[0;32min\u001b[0m \u001b[0mself\u001b[0m\u001b[0;34m.\u001b[0m\u001b[0m_iter_indices\u001b[0m\u001b[0;34m(\u001b[0m\u001b[0mX\u001b[0m\u001b[0;34m,\u001b[0m \u001b[0my\u001b[0m\u001b[0;34m,\u001b[0m \u001b[0mgroups\u001b[0m\u001b[0;34m)\u001b[0m\u001b[0;34m:\u001b[0m\u001b[0;34m\u001b[0m\u001b[0;34m\u001b[0m\u001b[0m\n\u001b[0m\u001b[1;32m   1601\u001b[0m             \u001b[0;32myield\u001b[0m \u001b[0mtrain\u001b[0m\u001b[0;34m,\u001b[0m \u001b[0mtest\u001b[0m\u001b[0;34m\u001b[0m\u001b[0;34m\u001b[0m\u001b[0m\n\u001b[1;32m   1602\u001b[0m \u001b[0;34m\u001b[0m\u001b[0m\n",
            "\u001b[0;31mAttributeError\u001b[0m: 'numpy.ndarray' object has no attribute '_iter_indices'"
          ]
        }
      ],
      "source": [
        "#\n",
        "import warnings\n",
        "warnings.filterwarnings(action=\"ignore\")\n",
        "import numpy as np\n",
        "import pandas as pd\n",
        "from sklearn.model_selection import ShuffleSplit\n",
        "\n",
        "from sklearn.model_selection import cross_val_score\n",
        "from sklearn.linear_model import LogisticRegression\n",
        "filename='indians-diabetes.data.csv'\n",
        "names=['preg','plas',\"a\",'s','d','e','p','es',\"sd\"]\n",
        "dataframe=pd.read_csv(filename,names=names)\n",
        "array=dataframe.values\n",
        "X=array[:,0:8]\n",
        "Y=array[:,8]\n",
        "test_data_size=0.33\n",
        "no_of_repetitions=4\n",
        "shufflesplit=ShuffleSplit(n_splits=no_of_repetitions,test_size=test_data_size)\n",
        "\n",
        "model=LogisticRegression()\n",
        "results=cross_val_score(model,X,Y,cv=ShuffleSplit)\n",
        "\n",
        "print(\"results:\",results)\n",
        "print(\"results.size:\",results.size)\n",
        "\n",
        "print(\"sum of positive results:%i\"%(results.sum()))\n",
        "\n",
        "print(\"accuracy=%2.f%%\"%(results.sum()*100/results.size))"
      ]
    },
    {
      "cell_type": "code",
      "execution_count": 83,
      "metadata": {
        "colab": {
          "base_uri": "https://localhost:8080/"
        },
        "id": "EAk8XeAktxr1",
        "outputId": "0d6a5281-8951-45e6-acbe-781b98580358"
      },
      "outputs": [
        {
          "name": "stdout",
          "output_type": "stream",
          "text": [
            "accuracy :77.343(5.337)\n"
          ]
        }
      ],
      "source": [
        "import pandas as pd\n",
        "import warnings\n",
        "warnings.filterwarnings(action='ignore')\n",
        "from sklearn.model_selection import KFold\n",
        "from sklearn.model_selection import cross_val_score\n",
        "from sklearn.linear_model import LogisticRegression\n",
        "filename=\"indians-diabetes.data.csv\"\n",
        "hnames=['preg','plas','pres','skin','test',\"mass\",'b','class','s']\n",
        "dataframe=pd.read_csv(filename,names=hnames)\n",
        "array= dataframe.values\n",
        "X=array[:, 0:8]\n",
        "Y=array[:,8]\n",
        "model=LogisticRegression()\n",
        "\n",
        "kfolds=10\n",
        "kfold=KFold(n_splits=kfolds)\n",
        "results=cross_val_score(model,X,Y,cv=kfold)\n",
        "\n",
        "scoringMethod=\"accuracy\"\n",
        "results=cross_val_score(model,X,Y,cv=kfold,scoring=scoringMethod)\n",
        "\n",
        "print(\"accuracy :%.3f(%.3f)\"%(results.mean()*100,results.std()*100))\n",
        "\n"
      ]
    },
    {
      "cell_type": "code",
      "execution_count": 84,
      "metadata": {
        "colab": {
          "base_uri": "https://localhost:8080/"
        },
        "id": "C6dkM56ct2uY",
        "outputId": "8e6b3a77-fe7c-4b68-9b0a-56e677f09cbd"
      },
      "outputs": [
        {
          "name": "stdout",
          "output_type": "stream",
          "text": [
            "accuracy :-0.486(0.064)\n"
          ]
        }
      ],
      "source": [
        "import pandas as pd\n",
        "import warnings\n",
        "warnings.filterwarnings(action='ignore')\n",
        "from sklearn.model_selection import KFold\n",
        "from sklearn.model_selection import cross_val_score\n",
        "from sklearn.linear_model import LogisticRegression\n",
        "filename=\"indians-diabetes.data.csv\"\n",
        "hnames=['preg','plas','pres','skin','test',\"mass\",'b','class','s']\n",
        "dataframe=pd.read_csv(filename,names=hnames)\n",
        "array= dataframe.values\n",
        "X=array[:, 0:8]\n",
        "Y=array[:,8]\n",
        "model=LogisticRegression()\n",
        "\n",
        "kfolds=10\n",
        "kfold=KFold(n_splits=kfolds)\n",
        "results=cross_val_score(model,X,Y,cv=kfold)\n",
        "\n",
        "scoringMethod='neg_log_loss'    #\"accuracy\"\n",
        "results=cross_val_score(model,X,Y,cv=kfold,scoring=scoringMethod)\n",
        "\n",
        "print(\"accuracy :%.3f(%.3f)\"%(results.mean(),results.std()))\n",
        "\n"
      ]
    },
    {
      "cell_type": "code",
      "execution_count": null,
      "metadata": {
        "id": "E1vqsjKxt6iX"
      },
      "outputs": [],
      "source": [
        "import pandas as pd\n",
        "import warnings\n",
        "warnings.filterwarnings(action='ignore')\n",
        "from sklearn.model_selection import train_test_split\n",
        "from sklearn.metrics import confusion_matrix\n",
        "from sklearn.linear_model import LogisticRegression\n",
        "filename=\"indians-diabetes.data.csv\"\n",
        "hnames=['preg','plas','pres','skin','test',\"mass\",'b','class','s']\n",
        "dataframe=pd.read_csv(filename,names=hnames)\n",
        "array= dataframe.values\n",
        "X=array[:, 0:8]\n",
        "Y=array[:,8]\n",
        "test_size=0.33\n",
        "seed=7\n",
        "X_train,X_test,Y_train,Y_test=train_test_split(X,Y,test_size,random_state=seed)\n",
        "\n",
        "model=LogisticRegression()\n",
        "model.fit(X_train,Y_train)\n",
        "\n",
        "predicted=model.predict(X_test)\n",
        "matrix=confusion_matrix(Y_test,predicted)\n",
        "\n",
        "print(matrix)"
      ]
    },
    {
      "cell_type": "code",
      "execution_count": 86,
      "metadata": {
        "colab": {
          "base_uri": "https://localhost:8080/"
        },
        "id": "H2gfjOPst-8W",
        "outputId": "a169e992-eb04-4d07-8ce5-07033e7d9103"
      },
      "outputs": [
        {
          "name": "stdout",
          "output_type": "stream",
          "text": [
            "              precision    recall  f1-score   support\n",
            "\n",
            "         0.0       0.81      0.88      0.84       162\n",
            "         1.0       0.74      0.63      0.68        92\n",
            "\n",
            "    accuracy                           0.79       254\n",
            "   macro avg       0.78      0.75      0.76       254\n",
            "weighted avg       0.78      0.79      0.78       254\n",
            "\n"
          ]
        }
      ],
      "source": [
        "import pandas as pd\n",
        "import warnings\n",
        "warnings.filterwarnings(action='ignore')\n",
        "from sklearn.model_selection import train_test_split\n",
        "from sklearn.metrics import classification_report\n",
        "from sklearn.linear_model import LogisticRegression\n",
        "filename=\"indians-diabetes.data.csv\"\n",
        "hnames=['preg','plas','pres','skin','test',\"mass\",'b','class','s']\n",
        "dataframe=pd.read_csv(filename,names=hnames)\n",
        "array= dataframe.values\n",
        "X=array[:, 0:8]\n",
        "Y=array[:,8]\n",
        "test_size=0.33\n",
        "seed=7\n",
        "X_train,X_test,Y_train,Y_test=train_test_split(X,Y,test_size=test_size, random_state=seed)\n",
        "\n",
        "model=LogisticRegression()\n",
        "model.fit(X_train,Y_train)\n",
        "\n",
        "predicted=model.predict(X_test)\n",
        "matrix=classification_report(Y_test,predicted)\n",
        "\n",
        "print(matrix)"
      ]
    },
    {
      "cell_type": "code",
      "execution_count": 87,
      "metadata": {
        "colab": {
          "base_uri": "https://localhost:8080/"
        },
        "id": "lLC9bbLPuDd5",
        "outputId": "ede2d4f5-0286-4ba8-ec01-79734a34c8ce"
      },
      "outputs": [
        {
          "name": "stdout",
          "output_type": "stream",
          "text": [
            "[-2.21 -2.9  -2.79 -4.6  -4.11 -3.56 -2.67 -9.66 -5.02 -2.54]\n",
            "MAE: -4.005(2.084)\n"
          ]
        }
      ],
      "source": [
        "from pandas import  read_csv\n",
        "from sklearn.model_selection import KFold\n",
        "from sklearn.model_selection import cross_val_score\n",
        "from sklearn.linear_model import LinearRegression\n",
        "\n",
        "filename='housing.csv'\n",
        "hnames=['a','s','d','f','g','h','j','k','l','10','11','12','13','14']\n",
        "dataframe=read_csv(filename,names=hnames)\n",
        "array=dataframe.values\n",
        "x=array[:,0:13]\n",
        "y=array[:,13]\n",
        "\n",
        "kfold=KFold(n_splits=10)\n",
        "model=LinearRegression()\n",
        "\n",
        "scoringMethod='neg_mean_absolute_error'\n",
        "results=cross_val_score(model,x,y,cv=kfold,scoring=scoringMethod)\n",
        "\n",
        "print(results)\n",
        "print(\"MAE: %.3f(%.3f)\"%(results.mean(),results.std()))\n"
      ]
    },
    {
      "cell_type": "code",
      "execution_count": 88,
      "metadata": {
        "colab": {
          "base_uri": "https://localhost:8080/"
        },
        "id": "XjnJhYp1uHD4",
        "outputId": "4c4157bd-a6b5-4c0d-9254-5ea77dc5d328"
      },
      "outputs": [
        {
          "name": "stdout",
          "output_type": "stream",
          "text": [
            "[ 0.73  0.47 -1.01  0.64  0.55  0.74  0.38 -0.13 -0.77  0.42]\n",
            "r^2: 0.203\n"
          ]
        }
      ],
      "source": [
        "from pandas import  read_csv\n",
        "from sklearn.model_selection import KFold\n",
        "from sklearn.model_selection import cross_val_score\n",
        "from sklearn.linear_model import LinearRegression\n",
        "\n",
        "filename='housing.csv'\n",
        "hnames=['a','s','d','f','g','h','j','k','l','10','11','12','13','14']\n",
        "dataframe=read_csv(filename,names=hnames)\n",
        "array=dataframe.values\n",
        "x=array[:,0:13]\n",
        "y=array[:,13]\n",
        "\n",
        "kfold=KFold(n_splits=10)\n",
        "model=LinearRegression()\n",
        "scoringMethod='r2'\n",
        "results=cross_val_score(model,x,y,cv=kfold,scoring=scoringMethod)\n",
        "\n",
        "print(results)\n",
        "print(\"r^2: %.3f\"%results.mean())\n"
      ]
    },
    {
      "cell_type": "code",
      "execution_count": 89,
      "metadata": {
        "colab": {
          "base_uri": "https://localhost:8080/"
        },
        "id": "L04e1ikIuKqs",
        "outputId": "aaac5a4b-a007-4f52-cb91-39c6ff97ca21"
      },
      "outputs": [
        {
          "name": "stdout",
          "output_type": "stream",
          "text": [
            "validation score of LogisticRegression: 0.773427887901572\n",
            "validation score of Linear discriminant analysis 0.773462064251538\n",
            "validation score for kNN 0.7265550239234451\n",
            "validation score for GaussianNB: 0.7551777170198223\n",
            "validation for CART decision tree: 0.6886876281613123\n",
            "validation score for SVM: 0.7604237867395763\n"
          ]
        }
      ],
      "source": [
        "import warnings\n",
        "warnings.filterwarnings(action=\"ignore\")\n",
        "import pandas as pd\n",
        "from sklearn.model_selection import KFold\n",
        "from sklearn.model_selection import cross_val_score\n",
        "filename=('indians-diabetes.data.csv')\n",
        "headingnames=['1','2','3','4','5','6','7','8','9']\n",
        "dataframe=pd.read_csv(filename,names=headingnames)\n",
        "array=dataframe.values\n",
        "x=array[:,0:8]\n",
        "y=array[:,8]\n",
        "\n",
        "kfold=KFold(n_splits=10)\n",
        "\n",
        "#spot checkings for logistic regression\n",
        "#===================================================================================================\n",
        "from sklearn.linear_model import LogisticRegression\n",
        "model=LogisticRegression()\n",
        "results=cross_val_score(model,x,y,cv=kfold)\n",
        "print(\"validation score of LogisticRegression:\",results.mean())\n",
        "\n",
        "#2===================================================================================================\n",
        "from sklearn.discriminant_analysis import LinearDiscriminantAnalysis\n",
        "model=LinearDiscriminantAnalysis()\n",
        "results=cross_val_score(model,x,y,cv=kfold)\n",
        "print(\"validation score of Linear discriminant analysis\",results.mean())\n",
        "#  3  ====================================================================================\n",
        "from sklearn.neighbors import KNeighborsClassifier\n",
        "model=KNeighborsClassifier()\n",
        "results=cross_val_score(model,x,y,cv=kfold)\n",
        "print(\"validation score for kNN\",results.mean())\n",
        "\n",
        "\n",
        "\n",
        "##  4  +++++++++++++++++++++++++++++++++++++++++++++++++++++++++++++++++++++++++++++++++++\n",
        "from sklearn.naive_bayes import GaussianNB\n",
        "model=GaussianNB()\n",
        "results=cross_val_score(model,x,y,cv=kfold)\n",
        "print(\"validation score for GaussianNB:\",results.mean())\n",
        "\n",
        "#5spot checking for classification\n",
        "\n",
        "from sklearn.tree import DecisionTreeClassifier\n",
        "model=DecisionTreeClassifier()\n",
        "results=cross_val_score(model,x,y,cv=kfold)\n",
        "print(\"validation for CART decision tree:\",results.mean())\n",
        "\n",
        "#6)sopt cheking for support vector machines(svm)\n",
        "#---------------------------------------------------------------------------\n",
        "\n",
        "from sklearn.svm import SVC\n",
        "model=SVC()\n",
        "results=cross_val_score(model,x,y,cv=kfold)\n",
        "print(\"validation score for SVM:\", results.mean())\n",
        "\n",
        "\n"
      ]
    },
    {
      "cell_type": "code",
      "execution_count": 90,
      "metadata": {
        "colab": {
          "base_uri": "https://localhost:8080/"
        },
        "id": "-8JujdjyuLk9",
        "outputId": "6de0eb5c-f3ba-46f7-e14f-356a5f17939d"
      },
      "outputs": [
        {
          "name": "stdout",
          "output_type": "stream",
          "text": [
            "0     1.0\n",
            "1     3.0\n",
            "2     NaN\n",
            "3    15.0\n",
            "4     7.0\n",
            "5     8.0\n",
            "dtype: float64\n",
            "DatetimeIndex(['2019-01-31', '2019-02-28', '2019-03-31', '2019-04-30', '2019-05-31', '2019-06-30'], dtype='datetime64[ns]', freq='M')\n",
            "2019-01-31 00:00:00\n",
            "[[-0.32  0.94 -0.18  0.52]\n",
            " [ 0.2   0.38 -0.46  0.36]\n",
            " [-0.22  1.77  0.23 -0.89]\n",
            " [-0.44 -1.37  0.14 -1.39]\n",
            " [-1.05 -1.45 -0.73 -2.04]\n",
            " [ 0.91 -0.65 -1.43  0.57]]\n",
            "               A     B     C     D\n",
            "2019-01-31 -2.04  0.76 -3.24  1.01\n",
            "2019-02-28 -0.49 -1.06  1.12 -1.06\n",
            "2019-03-31 -1.53 -0.22  0.41 -0.25\n",
            "2019-04-30 -0.32 -0.81  0.59 -0.72\n",
            "2019-05-31  0.66  0.73  0.76 -0.31\n",
            "2019-06-30  0.46  0.18 -1.39 -1.86\n",
            "_______________________________________\n",
            "headings  Index(['A', 'B', 'C', 'D'], dtype='object')\n",
            "----------------------------------------\n",
            "row headings in dataframe DatetimeIndex(['2019-01-31', '2019-02-28', '2019-03-31', '2019-04-30', '2019-05-31', '2019-06-30'], dtype='datetime64[ns]', freq='M')\n",
            "[[-2.04  0.76 -3.24  1.01]\n",
            " [-0.49 -1.06  1.12 -1.06]\n",
            " [-1.53 -0.22  0.41 -0.25]\n",
            " [-0.32 -0.81  0.59 -0.72]\n",
            " [ 0.66  0.73  0.76 -0.31]\n",
            " [ 0.46  0.18 -1.39 -1.86]]\n",
            "               A     B     C     D  E   f\n",
            "2019-01-31 -2.04  0.76 -3.24  1.01  0  10\n",
            "2019-02-28 -0.49 -1.06  1.12 -1.06  0   0\n",
            "2019-03-31 -1.53 -0.22  0.41 -0.25  0   0\n",
            "2019-04-30 -0.32 -0.81  0.59 -0.72  0   0\n",
            "2019-05-31  0.66  0.73  0.76 -0.31  1  10\n",
            "2019-06-30  0.46  0.18 -1.39 -1.86  1   0\n",
            "A    float64\n",
            "B    float64\n",
            "C    float64\n",
            "D    float64\n",
            "E      int64\n",
            "f      int64\n",
            "dtype: object\n",
            "df.head(5)                A     B     C     D  E   f\n",
            "2019-01-31 -2.04  0.76 -3.24  1.01  0  10\n",
            "2019-02-28 -0.49 -1.06  1.12 -1.06  0   0\n",
            "2019-03-31 -1.53 -0.22  0.41 -0.25  0   0\n",
            "2019-04-30 -0.32 -0.81  0.59 -0.72  0   0\n",
            "2019-05-31  0.66  0.73  0.76 -0.31  1  10\n",
            "df.tail()                A     B     C     D  E   f\n",
            "2019-02-28 -0.49 -1.06  1.12 -1.06  0   0\n",
            "2019-03-31 -1.53 -0.22  0.41 -0.25  0   0\n",
            "2019-04-30 -0.32 -0.81  0.59 -0.72  0   0\n",
            "2019-05-31  0.66  0.73  0.76 -0.31  1  10\n",
            "2019-06-30  0.46  0.18 -1.39 -1.86  1   0\n",
            "df.sample()                A     B     C     D  E  f\n",
            "2019-02-28 -0.49 -1.06  1.12 -1.06  0  0\n",
            "df.describe()           A     B     C     D     E      f\n",
            "count  6.00  6.00  6.00  6.00  6.00   6.00\n",
            "mean  -0.55 -0.07 -0.29 -0.53  0.33   3.33\n",
            "std    1.07  0.77  1.69  0.96  0.52   5.16\n",
            "min   -2.04 -1.06 -3.24 -1.86  0.00   0.00\n",
            "25%   -1.27 -0.66 -0.94 -0.97  0.00   0.00\n",
            "50%   -0.40 -0.02  0.50 -0.52  0.00   0.00\n",
            "75%    0.26  0.59  0.72 -0.26  0.75   7.50\n",
            "max    0.66  0.76  1.12  1.01  1.00  10.00\n",
            "          A     B     C     D     E      f\n",
            "count  6.00  6.00  6.00  6.00  6.00   6.00\n",
            "mean  -0.55 -0.07 -0.29 -0.53  0.33   3.33\n",
            "std    1.07  0.77  1.69  0.96  0.52   5.16\n",
            "min   -2.04 -1.06 -3.24 -1.86  0.00   0.00\n",
            "25%   -1.27 -0.66 -0.94 -0.97  0.00   0.00\n",
            "50%   -0.40 -0.02  0.50 -0.52  0.00   0.00\n",
            "75%    0.26  0.59  0.72 -0.26  0.75   7.50\n",
            "max    0.66  0.76  1.12  1.01  1.00  10.00\n",
            "original values : \n",
            "                A     B     C     D  E   f\n",
            "2019-01-31 -2.04  0.76 -3.24  1.01  0  10\n",
            "2019-02-28 -0.49 -1.06  1.12 -1.06  0   0\n",
            "2019-03-31 -1.53 -0.22  0.41 -0.25  0   0\n",
            "2019-04-30 -0.32 -0.81  0.59 -0.72  0   0\n",
            "2019-05-31  0.66  0.73  0.76 -0.31  1  10\n",
            "2019-06-30  0.46  0.18 -1.39 -1.86  1   0\n",
            "sorted vales:\n",
            "\n",
            "               A     B     C     D  E   f\n",
            "2019-02-28 -0.49 -1.06  1.12 -1.06  0   0\n",
            "2019-04-30 -0.32 -0.81  0.59 -0.72  0   0\n",
            "2019-03-31 -1.53 -0.22  0.41 -0.25  0   0\n",
            "2019-06-30  0.46  0.18 -1.39 -1.86  1   0\n",
            "2019-05-31  0.66  0.73  0.76 -0.31  1  10\n",
            "2019-01-31 -2.04  0.76 -3.24  1.01  0  10\n",
            "               A     B     C     D  E\n",
            "2019-01-31 -2.04  0.76 -3.24  1.01  0\n",
            "2019-02-28 -0.49 -1.06  1.12 -1.06  0\n",
            "2019-03-31 -1.53 -0.22  0.41 -0.25  0\n",
            "2019-04-30 -0.32 -0.81  0.59 -0.72  0\n",
            "2019-05-31  0.66  0.73  0.76 -0.31  1\n",
            "2019-06-30  0.46  0.18 -1.39 -1.86  1\n"
          ]
        }
      ],
      "source": [
        "import numpy as np\n",
        "import pandas as pd\n",
        "s=pd.Series([1,3,np.nan,15,7,8])\n",
        "print(s)\n",
        "\n",
        "#\n",
        "dates=pd.date_range('20190101',periods=6,freq=\"M\")\n",
        "print(dates)\n",
        "print(dates[0])\n",
        "\n",
        "print(np.random.randn(6,4))\n",
        "\n",
        "df=pd.DataFrame(np.random.randn(6,4),index=dates,columns=['A','B','C',\"D\"])\n",
        "\n",
        "print(df)\n",
        "print('_______________________________________')\n",
        "print('headings ',df.columns)\n",
        "print(\"----------------------------------------\")\n",
        "print('row headings in dataframe',df.index)\n",
        "print(df.values)\n",
        "# featureEngineering & featurElimination\n",
        "df['E']=df['A'].apply(lambda x: 1 if (x>0) else 0)\n",
        "df['f']=df['B'].apply(lambda x: 10 if (x>.6)else 0)\n",
        "#df['G']=df['c'].apply(lambda z: 12 if (z<.3)else 2)\n",
        "print(df)\n",
        "\n",
        "print(df.dtypes)\n",
        "print('df.head(5)',df.head())\n",
        "print('df.tail()',df.tail())\n",
        "print('df.sample()',df.sample())\n",
        "print('df.describe()',df.describe())#does not print the report of extra columns\n",
        "print(df.describe(include=\"all\"))\n",
        "print(\"original values : \\n\",df)\n",
        "print('sorted vales:\\n')\n",
        "\n",
        "print(df.sort_values(by='B',ascending=True))\n",
        "\n",
        "del(df[\"f\"])\n",
        "print(df)"
      ]
    },
    {
      "cell_type": "code",
      "execution_count": 91,
      "metadata": {
        "colab": {
          "base_uri": "https://localhost:8080/",
          "height": 364
        },
        "id": "MYcqKUcUuSwc",
        "outputId": "1b2ad208-b577-43e4-f1db-06514dac524b"
      },
      "outputs": [
        {
          "data": {
            "image/png": "[encoded data removed]",
            "text/plain": [
              "<Figure size 432x288 with 1 Axes>"
            ]
          },
          "metadata": {
            "needs_background": "light"
          },
          "output_type": "display_data"
        },
        {
          "data": {
            "image/png": "[encoded data removed]",
            "text/plain": [
              "<Figure size 432x288 with 1 Axes>"
            ]
          },
          "metadata": {
            "needs_background": "light"
          },
          "output_type": "display_data"
        }
      ],
      "source": [
        "import matplotlib.pyplot as plt\n",
        "indxs=[1,2,3,4,5,6,7]\n",
        "arr1=[2,3,2,5,2,2,6]\n",
        "arr2=[4,5,3,6,2,8,0]\n",
        "r=1234567.2325565442\n",
        "plt.figure(1)\n",
        "plt.stackplot(indxs,arr1,arr2)\n",
        "plt.show()\n",
        "plt.figure(2)\n",
        "plt.subplot(311)\n",
        "plt.bar([1,2,3],[3,2,1])\n",
        "plt.subplot(321)\n",
        "plt.show()"
      ]
    }
  ],
  "metadata": {
    "colab": {
      "collapsed_sections": [],
      "name": "machine learning notebook",
      "provenance": []
    },
    "kernelspec": {
      "display_name": "Python 3",
      "name": "python3"
    },
    "language_info": {
      "name": "python"
    }
  },
  "nbformat": 4,
  "nbformat_minor": 0
}
