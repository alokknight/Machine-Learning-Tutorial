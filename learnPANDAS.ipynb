{
 "cells": [
  {
   "cell_type": "markdown",
   "metadata": {},
   "source": [
    "## uploading  csv file from local drive"
   ]
  },
  {
   "cell_type": "code",
   "execution_count": 1,
   "metadata": {},
   "outputs": [
    {
     "name": "stdout",
     "output_type": "stream",
     "text": [
      "pandas Data :  (768, 9)\n",
      "     preg  plas  pres  skin  test  mass   pedi  age  class\n",
      "0       6   148    72    35     0  33.6  0.627   50      1\n",
      "1       1    85    66    29     0  26.6  0.351   31      0\n",
      "2       8   183    64     0     0  23.3  0.672   32      1\n",
      "3       1    89    66    23    94  28.1  0.167   21      0\n",
      "4       0   137    40    35   168  43.1  2.288   33      1\n",
      "..    ...   ...   ...   ...   ...   ...    ...  ...    ...\n",
      "763    10   101    76    48   180  32.9  0.171   63      0\n",
      "764     2   122    70    27     0  36.8  0.340   27      0\n",
      "765     5   121    72    23   112  26.2  0.245   30      0\n",
      "766     1   126    60     0     0  30.1  0.349   47      1\n",
      "767     1    93    70    31     0  30.4  0.315   23      0\n",
      "\n",
      "[768 rows x 9 columns]\n",
      "\n",
      "\n",
      "\n",
      "<class 'pandas.core.frame.DataFrame'>\n",
      "<class 'int'>\n",
      "<class 'float'>\n",
      "<class 'str'>\n",
      "<class 'list'>\n",
      "<class 'tuple'>\n"
     ]
    }
   ],
   "source": [
    "import pandas\n",
    "filename=\"indians-diabetes.data.csv\"\n",
    "#meata data requierd in pandas-> heading\n",
    "hnames=['preg','plas','pres','skin','test','mass','pedi','age','class']\n",
    "dataframe=pandas.read_csv(filename,names=hnames)\n",
    "print(\"pandas Data : \", dataframe.shape)\n",
    "print(dataframe)\n",
    "print(\"\\n\\n\")\n",
    "print(type(dataframe))  #tells the  datatype of any value\n",
    "#<class 'pandas.core.frame.DataFrame'>\n",
    "a=5\n",
    "print(type(a))\n",
    "\n",
    "a=1.25\n",
    "print(type(a))\n",
    "\n",
    "a=\"MMM\"\n",
    "print(type(a))\n",
    "\n",
    "a=[1,2,3,4,5]\n",
    "print(type(a))\n",
    "\n",
    "a=(1,2,3,4,5)\n",
    "print(type(a))"
   ]
  },
  {
   "cell_type": "markdown",
   "metadata": {},
   "source": [
    "NOTE-numpy cannot read text value but pandas can do it, means it can read any unstructured data."
   ]
  },
  {
   "cell_type": "code",
   "execution_count": 2,
   "metadata": {},
   "outputs": [
    {
     "name": "stdout",
     "output_type": "stream",
     "text": [
      "(150, 5)\n",
      "     sepal-length  sepal-width  petal-length  petal-width           class\n",
      "0             5.1          3.5           1.4          0.2     Iris-setosa\n",
      "1             4.9          3.0           1.4          0.2     Iris-setosa\n",
      "2             4.7          3.2           1.3          0.2     Iris-setosa\n",
      "3             4.6          3.1           1.5          0.2     Iris-setosa\n",
      "4             5.0          3.6           1.4          0.2     Iris-setosa\n",
      "..            ...          ...           ...          ...             ...\n",
      "145           6.7          3.0           5.2          2.3  Iris-virginica\n",
      "146           6.3          2.5           5.0          1.9  Iris-virginica\n",
      "147           6.5          3.0           5.2          2.0  Iris-virginica\n",
      "148           6.2          3.4           5.4          2.3  Iris-virginica\n",
      "149           5.9          3.0           5.1          1.8  Iris-virginica\n",
      "\n",
      "[150 rows x 5 columns]\n",
      "Index(['sepal-length', 'sepal-width', 'petal-length', 'petal-width', 'class'], dtype='object')\n",
      "<generator object DataFrame.iterrows at 0x000002485C9072E0>\n"
     ]
    }
   ],
   "source": [
    "import warnings\n",
    "warnings.filterwarnings(action='ignore')\n",
    "\n",
    "import pandas\n",
    "\n",
    "import urllib.request\n",
    "hnames=['sepal-length','sepal-width','petal-length','petal-width','class']\n",
    "\n",
    "#numpy cannot read text value but pandas can do it, means it can read any unstructured data.\n",
    "web_path=urllib.request.urlopen(\"https://goo.gl/QnHW4g\")\n",
    "\n",
    "dataframe=pandas.read_csv(web_path, names=hnames,delimiter=',')\n",
    "\n",
    "print(dataframe.shape)\n",
    "print(dataframe)\n",
    "print(dataframe.columns)\n",
    "print(dataframe.iterrows())\n"
   ]
  },
  {
   "cell_type": "code",
   "execution_count": 3,
   "metadata": {},
   "outputs": [
    {
     "name": "stdout",
     "output_type": "stream",
     "text": [
      "    preg  plas  pres  skin  test  mass   pedi  age  class\n",
      "0      6   148    72    35     0  33.6  0.627   50      1\n",
      "1      1    85    66    29     0  26.6  0.351   31      0\n",
      "2      8   183    64     0     0  23.3  0.672   32      1\n",
      "3      1    89    66    23    94  28.1  0.167   21      0\n",
      "4      0   137    40    35   168  43.1  2.288   33      1\n",
      "5      5   116    74     0     0  25.6  0.201   30      0\n",
      "6      3    78    50    32    88  31.0  0.248   26      1\n",
      "7     10   115     0     0     0  35.3  0.134   29      0\n",
      "8      2   197    70    45   543  30.5  0.158   53      1\n",
      "9      8   125    96     0     0   0.0  0.232   54      1\n",
      "10     4   110    92     0     0  37.6  0.191   30      0\n",
      "11    10   168    74     0     0  38.0  0.537   34      1\n",
      "12    10   139    80     0     0  27.1  1.441   57      0\n",
      "13     1   189    60    23   846  30.1  0.398   59      1\n",
      "14     5   166    72    19   175  25.8  0.587   51      1\n",
      "15     7   100     0     0     0  30.0  0.484   32      1\n",
      "16     0   118    84    47   230  45.8  0.551   31      1\n",
      "17     7   107    74     0     0  29.6  0.254   31      1\n",
      "18     1   103    30    38    83  43.3  0.183   33      0\n",
      "19     1   115    70    30    96  34.6  0.529   32      1\n",
      "------------------------------------------------------------\n",
      "dataframe.shape: (768, 9)\n",
      "-*--*--*--*--*--*--*--*--*--*--*--*--*--*--*--*--*--*--*--*-\n",
      "\n",
      "class\n",
      "0    500\n",
      "1    268\n",
      "dtype: int64\n",
      "-**-**-**-**-**-**-**-**-**-**-**-**-**-**-**-**-**-**-**-**\n",
      "preg       int64\n",
      "plas       int64\n",
      "pres       int64\n",
      "skin       int64\n",
      "test       int64\n",
      "mass     float64\n",
      "pedi     float64\n",
      "age        int64\n",
      "class      int64\n",
      "dtype: object\n",
      "-#--#--#--#--#--#--#--#--#--#--#--#--#--#--#--#--#--#--#--#-\n",
      "_-_-_-_-_-_-_-_-_-_-_-_-_-_-_-_-_-_-_-_-_-_-_-_-_-_-_-_-_-_-\n",
      "discription\n",
      "          preg    plas    pres    skin    test    mass    pedi     age   class\n",
      "count  768.00  768.00  768.00  768.00  768.00  768.00  768.00  768.00  768.00\n",
      "mean     3.85  120.89   69.11   20.54   79.80   31.99    0.47   33.24    0.35\n",
      "std      3.37   31.97   19.36   15.95  115.24    7.88    0.33   11.76    0.48\n",
      "min      0.00    0.00    0.00    0.00    0.00    0.00    0.08   21.00    0.00\n",
      "25%      1.00   99.00   62.00    0.00    0.00   27.30    0.24   24.00    0.00\n",
      "50%      3.00  117.00   72.00   23.00   30.50   32.00    0.37   29.00    0.00\n",
      "75%      6.00  140.25   80.00   32.00  127.25   36.60    0.63   41.00    1.00\n",
      "max     17.00  199.00  122.00   99.00  846.00   67.10    2.42   81.00    1.00\n",
      "------------------------------------------------------------\n",
      "\n",
      "class\n",
      "0    500\n",
      "1    268\n",
      "dtype: int64\n",
      "************************************************************\n",
      "       preg  plas  pres  skin  test  mass  pedi   age  class\n",
      "preg   1.00  0.13  0.14 -0.08 -0.07  0.02 -0.03  0.54   0.22\n",
      "plas   0.13  1.00  0.15  0.06  0.33  0.22  0.14  0.26   0.47\n",
      "pres   0.14  0.15  1.00  0.21  0.09  0.28  0.04  0.24   0.07\n",
      "skin  -0.08  0.06  0.21  1.00  0.44  0.39  0.18 -0.11   0.07\n",
      "test  -0.07  0.33  0.09  0.44  1.00  0.20  0.19 -0.04   0.13\n",
      "mass   0.02  0.22  0.28  0.39  0.20  1.00  0.14  0.04   0.29\n",
      "pedi  -0.03  0.14  0.04  0.18  0.19  0.14  1.00  0.03   0.17\n",
      "age    0.54  0.26  0.24 -0.11 -0.04  0.04  0.03  1.00   0.24\n",
      "class  0.22  0.47  0.07  0.07  0.13  0.29  0.17  0.24   1.00\n",
      "-*--*--*--*--*--*--*--*--*--*--*--*--*--*--*--*--*--*--*--*-\n",
      "<generator object DataFrame.iterrows at 0x000002485C907510>\n"
     ]
    }
   ],
   "source": [
    "import pandas\n",
    "filename=\"indians-diabetes.data.csv\"\n",
    "\n",
    "hnames=['preg','plas','pres','skin','test','mass','pedi','age','class']\n",
    "\n",
    "dataframe= pandas.read_csv(filename,names=hnames)\n",
    "\n",
    "#Peek at your data\n",
    "#review the first 20     ->>(0-19)\n",
    "print(dataframe.head(20))\n",
    "print(\"---\"*20)\n",
    "\n",
    "#dimensions of your Data\n",
    "print(\"dataframe.shape:\",dataframe.shape)\n",
    "print(\"-*-\"*20)\n",
    "print()\n",
    "\n",
    "class_counts=dataframe.groupby('class').size()\n",
    "print(class_counts)\n",
    "print(\"-**\"*20)\n",
    "\n",
    "print(dataframe.dtypes)\n",
    "print(\"-#-\"*20)\n",
    "\n",
    "pandas.set_option('precision',2)\n",
    "print(\"_-\"*30)\n",
    "\n",
    "print(\"discription\\n\",dataframe.describe())\n",
    "print(\"---\"*20)\n",
    "\n",
    "#class distribution(classification only)\n",
    "print()\n",
    "class_counts=dataframe.groupby('class').size()\n",
    "print(class_counts)\n",
    "print(\"*\"*60)\n",
    "\n",
    "correlations=dataframe.corr(method= 'pearson')\n",
    "print(correlations)\n",
    "print(\"-*-\"*20)\n",
    "print(dataframe.iterrows())\n"
   ]
  },
  {
   "cell_type": "code",
   "execution_count": 5,
   "metadata": {},
   "outputs": [
    {
     "name": "stdout",
     "output_type": "stream",
     "text": [
      "   square_feet  price\n",
      "0          150   6450\n",
      "1          200   7450\n",
      "2          250   8450\n",
      "3          300   9450\n",
      "4          350  11450\n",
      "5          400  15450\n",
      "6          600  18450\n",
      "area: [[150.0], [200.0], [250.0], [300.0], [350.0], [400.0], [600.0]]\n",
      "price:= [6450.0, 7450.0, 8450.0, 9450.0, 11450.0, 15450.0, 18450.0]\n",
      "output form machine= [21915.42553191]\n"
     ]
    },
    {
     "data": {
      "image/png": "[encoded data removed]",
      "text/plain": [
       "<Figure size 432x288 with 1 Axes>"
      ]
     },
     "metadata": {
      "needs_background": "light"
     },
     "output_type": "display_data"
    },
    {
     "name": "stdout",
     "output_type": "stream",
     "text": [
      "intercept value= 1771.8085106382969\n",
      "coefficent [28.77659574]\n",
      "predicted house price value [21915.42553191]\n"
     ]
    }
   ],
   "source": [
    "import pandas as  pd\n",
    "import matplotlib.pyplot as plt\n",
    "\n",
    "from sklearn.linear_model import LinearRegression\n",
    "\n",
    "import warnings\n",
    "warnings.filterwarnings(action='ignore')\n",
    "\n",
    "#function to get data\n",
    "def get_data(file_name):\n",
    "    dataframe=pd.read_csv(file_name)\n",
    "    print(dataframe)\n",
    "    x_parameters=[]\n",
    "    y_parameters=[]\n",
    "    for single_square_feet,single_price_value in zip(dataframe['square_feet'],dataframe['price']):\n",
    "        x_parameters.append([float(single_square_feet)])\n",
    "        y_parameters.append(float(single_price_value))\n",
    "    return x_parameters,y_parameters\n",
    "\n",
    "#Function for fitting data to linear model\n",
    "def linear_model_main(x_parameters,y_parameters,quest_value):\n",
    "    #create linear LinearRegression objects\n",
    "    regr=LinearRegression()\n",
    "    print(\"area:\",x_parameters)\n",
    "    print(\"price:=\",y_parameters)\n",
    "    regr.fit(x_parameters,y_parameters)\n",
    "    predicted_ans=regr.predict([[quest_value]])\n",
    "    predictions={}\n",
    "    predictions['coefficent']=regr.coef_\n",
    "    predictions['intercept']=regr.intercept_\n",
    "    predictions['predicted_ans']=predicted_ans\n",
    "    print(\"output form machine=\",predicted_ans)\n",
    "\n",
    "    plt.scatter(x_parameters,y_parameters,color='m',marker='o',s=30)\n",
    "\n",
    "    all_predicted_Y=regr.predict(x_parameters)\n",
    "    plt.scatter(x_parameters,all_predicted_Y,color='b')\n",
    "\n",
    "    plt.plot(x_parameters,all_predicted_Y,color='r')\n",
    "    plt.scatter(quest_value,predicted_ans,color='g')\n",
    "    plt.show()\n",
    "    return predictions\n",
    "\n",
    "if __name__==\"__main__\":\n",
    "    x,y=get_data('LR_House_price.csv')\n",
    "    question_value=700#this is a ques.\n",
    "    result=linear_model_main(x,y,question_value)\n",
    "    print(\"intercept value=\",result['intercept'])\n",
    "    print(\"coefficent\",result['coefficent'])\n",
    "\n",
    "    print(\"predicted house price value\",result['predicted_ans'])\n",
    "\n",
    "\n"
   ]
  },
  {
   "cell_type": "code",
   "execution_count": 6,
   "metadata": {},
   "outputs": [
    {
     "name": "stdout",
     "output_type": "stream",
     "text": [
      "     preg  plas  pres  skin  test  mass  pedi  age  class\n",
      "0       6   148    72    35     0  33.6  0.63   50      1\n",
      "1       1    85    66    29     0  26.6  0.35   31      0\n",
      "2       8   183    64     0     0  23.3  0.67   32      1\n",
      "3       1    89    66    23    94  28.1  0.17   21      0\n",
      "4       0   137    40    35   168  43.1  2.29   33      1\n",
      "..    ...   ...   ...   ...   ...   ...   ...  ...    ...\n",
      "763    10   101    76    48   180  32.9  0.17   63      0\n",
      "764     2   122    70    27     0  36.8  0.34   27      0\n",
      "765     5   121    72    23   112  26.2  0.24   30      0\n",
      "766     1   126    60     0     0  30.1  0.35   47      1\n",
      "767     1    93    70    31     0  30.4  0.32   23      0\n",
      "\n",
      "[768 rows x 9 columns]\n"
     ]
    },
    {
     "data": {
      "image/png": "[encoded data removed]",
      "text/plain": [
       "<Figure size 432x288 with 9 Axes>"
      ]
     },
     "metadata": {
      "needs_background": "light"
     },
     "output_type": "display_data"
    }
   ],
   "source": [
    "from matplotlib import pyplot as plt\n",
    "import pandas\n",
    "\n",
    "filename=\"indians-diabetes.data.csv\"\n",
    "\n",
    "hnames=['preg','plas','pres','skin','test','mass','pedi','age','class']\n",
    "\n",
    "dataframe= pandas.read_csv(filename,names=hnames)\n",
    "\n",
    "df=pandas.read_csv(filename, names=hnames)\n",
    "\n",
    "print(df)\n",
    "df.hist()\n",
    "plt.show()\n",
    "\n",
    "\n"
   ]
  },
  {
   "cell_type": "code",
   "execution_count": 7,
   "metadata": {},
   "outputs": [
    {
     "data": {
      "image/png": "[encoded data removed]",
      "text/plain": [
       "<Figure size 432x288 with 9 Axes>"
      ]
     },
     "metadata": {
      "needs_background": "light"
     },
     "output_type": "display_data"
    }
   ],
   "source": [
    "from matplotlib import pyplot as plt\n",
    "import pandas\n",
    "\n",
    "filename=\"indians-diabetes.data.csv\"\n",
    "\n",
    "headingnames=['preg','plas','pres','skin','test','mass','pedi','age','class']\n",
    "\n",
    "dataframe= pandas.read_csv(filename,names=headingnames)\n",
    "\n",
    "dataframe.plot(kind='density',subplots= True,layout=(3,3),sharex=False)\n",
    "plt.show()"
   ]
  },
  {
   "cell_type": "code",
   "execution_count": 8,
   "metadata": {},
   "outputs": [
    {
     "data": {
      "image/png": "[encoded data removed]",
      "text/plain": [
       "<Figure size 432x288 with 9 Axes>"
      ]
     },
     "metadata": {
      "needs_background": "light"
     },
     "output_type": "display_data"
    }
   ],
   "source": [
    "from matplotlib import pyplot as plt\n",
    "import pandas\n",
    "\n",
    "filename=\"indians-diabetes.data.csv\"\n",
    "\n",
    "headingnames=['preg','plas','pres','skin','test','mass','pedi','age','class']\n",
    "\n",
    "dataframe= pandas.read_csv(filename,names=headingnames)\n",
    "\n",
    "dataframe.plot(kind='box',subplots=True,layout=(3,3),sharex=False,sharey=False)\n",
    "plt.show()"
   ]
  },
  {
   "cell_type": "code",
   "execution_count": 9,
   "metadata": {},
   "outputs": [
    {
     "name": "stdout",
     "output_type": "stream",
     "text": [
      "       preg  plas  pres  skin  test  mass  pedi   age  class\n",
      "preg   1.00  0.13  0.14 -0.08 -0.07  0.02 -0.03  0.54   0.22\n",
      "plas   0.13  1.00  0.15  0.06  0.33  0.22  0.14  0.26   0.47\n",
      "pres   0.14  0.15  1.00  0.21  0.09  0.28  0.04  0.24   0.07\n",
      "skin  -0.08  0.06  0.21  1.00  0.44  0.39  0.18 -0.11   0.07\n",
      "test  -0.07  0.33  0.09  0.44  1.00  0.20  0.19 -0.04   0.13\n",
      "mass   0.02  0.22  0.28  0.39  0.20  1.00  0.14  0.04   0.29\n",
      "pedi  -0.03  0.14  0.04  0.18  0.19  0.14  1.00  0.03   0.17\n",
      "age    0.54  0.26  0.24 -0.11 -0.04  0.04  0.03  1.00   0.24\n",
      "class  0.22  0.47  0.07  0.07  0.13  0.29  0.17  0.24   1.00\n"
     ]
    },
    {
     "data": {
      "image/png": "[encoded data removed]",
      "text/plain": [
       "<Figure size 432x288 with 2 Axes>"
      ]
     },
     "metadata": {
      "needs_background": "light"
     },
     "output_type": "display_data"
    }
   ],
   "source": [
    "import warnings\n",
    "warnings.filterwarnings(action=\"ignore\")\n",
    "\n",
    "from matplotlib import pyplot as plt\n",
    "import pandas as pd\n",
    "import numpy\n",
    "pd.set_option('display.width',1000)\n",
    "pd.set_option('display.max_column',9)\n",
    "\n",
    "hnames=['preg','plas','pres','skin','test','mass','pedi','age','class']\n",
    "\n",
    "dtaframe=pd.read_csv('indians-diabetes.data.csv',names=hnames)\n",
    "correlations=dtaframe.corr()\n",
    "print(correlations)\n",
    "#plot correlation matrix\n",
    "fig=plt.figure()\n",
    "#Follwing will add matrix and side bar in entire area\n",
    "subFig=fig.add_subplot(111)\n",
    "cax=subFig.matshow(correlations,vmin=-1,vmax=1)\n",
    "fig.colorbar(cax)\n",
    "#________________________\n",
    "ticks=numpy.arange(0,9)\n",
    "subFig.set_xticks(ticks)\n",
    "subFig.set_yticks(ticks)\n",
    "# subFig.set_xticklables(hnames)\n",
    "# subFig.set_yticklables(hnames)\n",
    "#---------------------------------\n",
    "plt.show()\n",
    "\n",
    "\n"
   ]
  },
  {
   "cell_type": "code",
   "execution_count": 10,
   "metadata": {},
   "outputs": [
    {
     "name": "stdout",
     "output_type": "stream",
     "text": [
      "[[2.41 3.97 3.36 2.41 1.   3.   1.94 2.93]\n",
      " [1.24 2.71 3.16 2.17 1.   2.59 1.47 1.67]\n",
      " [2.88 4.68 3.1  1.   1.   2.39 2.01 1.73]\n",
      " [1.24 2.79 3.16 1.93 1.44 2.68 1.15 1.  ]\n",
      " [1.   3.75 2.31 2.41 1.79 3.57 4.77 1.8 ]\n",
      " [2.18 3.33 3.43 1.   1.   2.53 1.21 1.6 ]\n",
      " [1.71 2.57 2.64 2.29 1.42 2.85 1.29 1.33]\n",
      " [3.35 3.31 1.   1.   1.   3.1  1.1  1.53]\n",
      " [1.47 4.96 3.3  2.82 3.57 2.82 1.14 3.13]\n",
      " [2.88 3.51 4.15 1.   1.   1.   1.26 3.2 ]\n",
      " [1.94 3.21 4.02 1.   1.   3.24 1.19 1.6 ]\n",
      " [3.35 4.38 3.43 1.   1.   3.27 1.78 1.87]\n",
      " [3.35 3.79 3.62 1.   1.   2.62 3.33 3.4 ]\n",
      " [1.24 4.8  2.97 1.93 5.   2.79 1.55 3.53]\n",
      " [2.18 4.34 3.36 1.77 1.83 2.54 1.87 3.  ]\n",
      " [2.65 3.01 1.   1.   1.   2.79 1.69 1.73]\n",
      " [1.   3.37 3.75 2.9  2.09 3.73 1.81 1.67]\n",
      " [2.65 3.15 3.43 1.   1.   2.76 1.3  1.67]\n",
      " [1.24 3.07 1.98 2.54 1.39 3.58 1.18 1.8 ]\n",
      " [1.24 3.31 3.3  2.21 1.45 3.06 1.77 1.73]\n",
      " [1.71 3.53 3.89 2.66 2.11 3.34 2.07 1.4 ]\n",
      " [2.88 2.99 3.75 1.   1.   3.11 1.53 2.93]\n",
      " [2.65 4.94 3.95 1.   1.   3.37 1.64 2.33]\n",
      " [3.12 3.39 3.62 2.41 1.   2.73 1.32 1.53]\n",
      " [3.59 3.87 4.08 2.33 1.69 3.18 1.3  3.  ]\n",
      " [3.35 3.51 3.3  2.05 1.54 2.85 1.22 2.33]\n",
      " [2.65 3.95 3.49 1.   1.   3.35 1.31 2.47]\n",
      " [1.24 2.95 3.16 1.61 1.66 2.38 1.7  1.07]\n",
      " [4.06 3.91 3.69 1.77 1.52 2.32 1.29 3.4 ]\n",
      " [2.18 3.35 4.02 1.   1.   3.03 1.44 2.13]]\n"
     ]
    }
   ],
   "source": [
    "import pandas as pd\n",
    "from numpy import set_printoptions\n",
    "from sklearn.preprocessing import MinMaxScaler\n",
    "\n",
    "filename=\"indians-diabetes.data.csv\"\n",
    "\n",
    "hnames=['preg','plas','pres','skin','test','mass','pedi','age','class']\n",
    "\n",
    "dataframe= pd.read_csv(filename,names=hnames)\n",
    "\n",
    "array=dataframe.values\n",
    "#separate array into input and output components\n",
    "X=array[0:,0:8]\n",
    "Y=array[0:,8]\n",
    "scaler=MinMaxScaler(feature_range=(1,5))\n",
    "\n",
    "#first method\n",
    "rescaledX=scaler.fit_transform(X)\n",
    "#summarize transformed dataframe\n",
    "set_printoptions(precision=2)\n",
    "\n",
    "print(rescaledX[:30,:])"
   ]
  },
  {
   "cell_type": "code",
   "execution_count": 11,
   "metadata": {},
   "outputs": [
    {
     "name": "stdout",
     "output_type": "stream",
     "text": [
      "0     1.0\n",
      "1     3.0\n",
      "2     NaN\n",
      "3    15.0\n",
      "4     7.0\n",
      "5     8.0\n",
      "dtype: float64\n",
      "DatetimeIndex(['2019-01-31', '2019-02-28', '2019-03-31', '2019-04-30', '2019-05-31', '2019-06-30'], dtype='datetime64[ns]', freq='M')\n",
      "2019-01-31 00:00:00\n",
      "[[-1.05 -0.25  0.89  1.01]\n",
      " [ 0.02 -1.03 -0.2  -0.54]\n",
      " [ 0.21 -1.49  0.27 -1.15]\n",
      " [ 0.08  0.3  -0.51 -0.85]\n",
      " [ 0.8   1.5   0.01  0.14]\n",
      " [ 1.29 -0.26  0.99 -0.87]]\n",
      "               A     B     C     D\n",
      "2019-01-31  0.81  1.08  0.89  1.45\n",
      "2019-02-28  0.67  1.66 -0.50  1.50\n",
      "2019-03-31  1.64  1.29 -0.38  0.08\n",
      "2019-04-30  0.56 -0.67  1.00  0.91\n",
      "2019-05-31 -1.05 -1.29 -0.16  1.87\n",
      "2019-06-30 -0.02  0.52  0.53  0.63\n",
      "_______________________________________\n",
      "headings  Index(['A', 'B', 'C', 'D'], dtype='object')\n",
      "----------------------------------------\n",
      "row headings in dataframe DatetimeIndex(['2019-01-31', '2019-02-28', '2019-03-31', '2019-04-30', '2019-05-31', '2019-06-30'], dtype='datetime64[ns]', freq='M')\n",
      "[[ 0.81  1.08  0.89  1.45]\n",
      " [ 0.67  1.66 -0.5   1.5 ]\n",
      " [ 1.64  1.29 -0.38  0.08]\n",
      " [ 0.56 -0.67  1.    0.91]\n",
      " [-1.05 -1.29 -0.16  1.87]\n",
      " [-0.02  0.52  0.53  0.63]]\n",
      "               A     B     C     D  E   f\n",
      "2019-01-31  0.81  1.08  0.89  1.45  1  10\n",
      "2019-02-28  0.67  1.66 -0.50  1.50  1  10\n",
      "2019-03-31  1.64  1.29 -0.38  0.08  1  10\n",
      "2019-04-30  0.56 -0.67  1.00  0.91  1   0\n",
      "2019-05-31 -1.05 -1.29 -0.16  1.87  0   0\n",
      "2019-06-30 -0.02  0.52  0.53  0.63  0   0\n",
      "A    float64\n",
      "B    float64\n",
      "C    float64\n",
      "D    float64\n",
      "E      int64\n",
      "f      int64\n",
      "dtype: object\n",
      "df.head(5)                A     B     C     D  E   f\n",
      "2019-01-31  0.81  1.08  0.89  1.45  1  10\n",
      "2019-02-28  0.67  1.66 -0.50  1.50  1  10\n",
      "2019-03-31  1.64  1.29 -0.38  0.08  1  10\n",
      "2019-04-30  0.56 -0.67  1.00  0.91  1   0\n",
      "2019-05-31 -1.05 -1.29 -0.16  1.87  0   0\n",
      "df.tail()                A     B     C     D  E   f\n",
      "2019-02-28  0.67  1.66 -0.50  1.50  1  10\n",
      "2019-03-31  1.64  1.29 -0.38  0.08  1  10\n",
      "2019-04-30  0.56 -0.67  1.00  0.91  1   0\n",
      "2019-05-31 -1.05 -1.29 -0.16  1.87  0   0\n",
      "2019-06-30 -0.02  0.52  0.53  0.63  0   0\n",
      "df.sample()                A     B     C     D  E  f\n",
      "2019-06-30 -0.02  0.52  0.53  0.63  0  0\n",
      "df.describe()           A     B     C     D     E      f\n",
      "count  6.00  6.00  6.00  6.00  6.00   6.00\n",
      "mean   0.43  0.43  0.23  1.07  0.67   5.00\n",
      "std    0.90  1.17  0.66  0.66  0.52   5.48\n",
      "min   -1.05 -1.29 -0.50  0.08  0.00   0.00\n",
      "25%    0.12 -0.38 -0.32  0.70  0.25   0.00\n",
      "50%    0.61  0.80  0.18  1.18  1.00   5.00\n",
      "75%    0.77  1.24  0.80  1.49  1.00  10.00\n",
      "max    1.64  1.66  1.00  1.87  1.00  10.00\n",
      "          A     B     C     D     E      f\n",
      "count  6.00  6.00  6.00  6.00  6.00   6.00\n",
      "mean   0.43  0.43  0.23  1.07  0.67   5.00\n",
      "std    0.90  1.17  0.66  0.66  0.52   5.48\n",
      "min   -1.05 -1.29 -0.50  0.08  0.00   0.00\n",
      "25%    0.12 -0.38 -0.32  0.70  0.25   0.00\n",
      "50%    0.61  0.80  0.18  1.18  1.00   5.00\n",
      "75%    0.77  1.24  0.80  1.49  1.00  10.00\n",
      "max    1.64  1.66  1.00  1.87  1.00  10.00\n",
      "original values : \n",
      "                A     B     C     D  E   f\n",
      "2019-01-31  0.81  1.08  0.89  1.45  1  10\n",
      "2019-02-28  0.67  1.66 -0.50  1.50  1  10\n",
      "2019-03-31  1.64  1.29 -0.38  0.08  1  10\n",
      "2019-04-30  0.56 -0.67  1.00  0.91  1   0\n",
      "2019-05-31 -1.05 -1.29 -0.16  1.87  0   0\n",
      "2019-06-30 -0.02  0.52  0.53  0.63  0   0\n",
      "sorted vales:\n",
      "\n",
      "               A     B     C     D  E   f\n",
      "2019-05-31 -1.05 -1.29 -0.16  1.87  0   0\n",
      "2019-04-30  0.56 -0.67  1.00  0.91  1   0\n",
      "2019-06-30 -0.02  0.52  0.53  0.63  0   0\n",
      "2019-01-31  0.81  1.08  0.89  1.45  1  10\n",
      "2019-03-31  1.64  1.29 -0.38  0.08  1  10\n",
      "2019-02-28  0.67  1.66 -0.50  1.50  1  10\n",
      "               A     B     C     D  E\n",
      "2019-01-31  0.81  1.08  0.89  1.45  1\n",
      "2019-02-28  0.67  1.66 -0.50  1.50  1\n",
      "2019-03-31  1.64  1.29 -0.38  0.08  1\n",
      "2019-04-30  0.56 -0.67  1.00  0.91  1\n",
      "2019-05-31 -1.05 -1.29 -0.16  1.87  0\n",
      "2019-06-30 -0.02  0.52  0.53  0.63  0\n"
     ]
    }
   ],
   "source": [
    "import numpy as np\n",
    "import pandas as pd\n",
    "s=pd.Series([1,3,np.nan,15,7,8])\n",
    "print(s)\n",
    "\n",
    "#\n",
    "dates=pd.date_range('20190101',periods=6,freq=\"M\")\n",
    "print(dates)\n",
    "print(dates[0])\n",
    "\n",
    "print(np.random.randn(6,4))\n",
    "\n",
    "df=pd.DataFrame(np.random.randn(6,4),index=dates,columns=['A','B','C',\"D\"])\n",
    "\n",
    "print(df)\n",
    "print('_______________________________________')\n",
    "print('headings ',df.columns)\n",
    "print(\"----------------------------------------\")\n",
    "print('row headings in dataframe',df.index)\n",
    "print(df.values)\n",
    "# featureEngineering & featurElimination\n",
    "df['E']=df['A'].apply(lambda x: 1 if (x>0) else 0)\n",
    "df['f']=df['B'].apply(lambda x: 10 if (x>.6)else 0)\n",
    "#df['G']=df['c'].apply(lambda z: 12 if (z<.3)else 2)\n",
    "print(df)\n",
    "\n",
    "print(df.dtypes)\n",
    "print('df.head(5)',df.head())\n",
    "print('df.tail()',df.tail())\n",
    "print('df.sample()',df.sample())\n",
    "print('df.describe()',df.describe())#does not print the report of extra columns\n",
    "print(df.describe(include=\"all\"))\n",
    "print(\"original values : \\n\",df)\n",
    "print('sorted vales:\\n')\n",
    "\n",
    "print(df.sort_values(by='B',ascending=True))\n",
    "\n",
    "del(df[\"f\"])\n",
    "print(df)"
   ]
  },
  {
   "cell_type": "code",
   "execution_count": null,
   "metadata": {},
   "outputs": [],
   "source": []
  }
 ],
 "metadata": {
  "interpreter": {
   "hash": "b3ba2566441a7c06988d0923437866b63cedc61552a5af99d1f4fb67d367b25f"
  },
  "kernelspec": {
   "display_name": "Python 3.8.8 64-bit ('base': conda)",
   "language": "python",
   "name": "python3"
  },
  "language_info": {
   "codemirror_mode": {
    "name": "ipython",
    "version": 3
   },
   "file_extension": ".py",
   "mimetype": "text/x-python",
   "name": "python",
   "nbconvert_exporter": "python",
   "pygments_lexer": "ipython3",
   "version": "3.8.8"
  },
  "orig_nbformat": 4
 },
 "nbformat": 4,
 "nbformat_minor": 2
}
